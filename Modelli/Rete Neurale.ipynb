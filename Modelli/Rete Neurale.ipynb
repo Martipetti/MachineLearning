{
  "nbformat": 4,
  "nbformat_minor": 0,
  "metadata": {
    "colab": {
      "provenance": [],
      "authorship_tag": "ABX9TyPZ/L7wQoaH3F3gomAf2Dza",
      "include_colab_link": true
    },
    "kernelspec": {
      "name": "python3",
      "display_name": "Python 3"
    },
    "language_info": {
      "name": "python"
    }
  },
  "cells": [
    {
      "cell_type": "markdown",
      "metadata": {
        "id": "view-in-github",
        "colab_type": "text"
      },
      "source": [
        "<a href=\"https://colab.research.google.com/github/Martipetti/MachineLearning/blob/develop-martipetti/Modelli/Rete%20Neurale.ipynb\" target=\"_parent\"><img src=\"https://colab.research.google.com/assets/colab-badge.svg\" alt=\"Open In Colab\"/></a>"
      ]
    },
    {
      "cell_type": "markdown",
      "source": [
        "# Neural Network"
      ],
      "metadata": {
        "id": "kJmRNKAHmLTR"
      }
    },
    {
      "cell_type": "code",
      "execution_count": 118,
      "metadata": {
        "id": "VNlvHA9smANn"
      },
      "outputs": [],
      "source": [
        "import pandas as pd\n",
        "import numpy as np\n",
        "import seaborn as sns\n",
        "import keras\n",
        "from keras.models import Sequential\n",
        "from keras.layers import Dense\n",
        "from sklearn.utils import shuffle\n",
        "from sklearn.model_selection import GridSearchCV\n",
        "from sklearn.preprocessing import LabelEncoder\n",
        "from sklearn.decomposition import PCA\n",
        "from sklearn.preprocessing import StandardScaler\n",
        "from sklearn.metrics import confusion_matrix, accuracy_score\n",
        "import matplotlib.pyplot as plt\n",
        "from sklearn.model_selection import train_test_split\n",
        "from itertools import product"
      ]
    },
    {
      "cell_type": "markdown",
      "source": [
        "Download the data"
      ],
      "metadata": {
        "id": "kpByNVQfOXk8"
      }
    },
    {
      "cell_type": "code",
      "source": [
        "link = 'http://tennis-data.co.uk/2023/2023.xlsx'\n",
        "totalData = pd.read_excel(link)"
      ],
      "metadata": {
        "id": "ZRYI62wSmJTT"
      },
      "execution_count": 119,
      "outputs": []
    },
    {
      "cell_type": "markdown",
      "source": [
        "Removing null value"
      ],
      "metadata": {
        "id": "NuP0SXIeLaqZ"
      }
    },
    {
      "cell_type": "code",
      "source": [
        "for column in totalData:\n",
        "  totalData.dropna(subset=[column], inplace=True)"
      ],
      "metadata": {
        "id": "wvARdicGLZ6b"
      },
      "execution_count": 120,
      "outputs": []
    },
    {
      "cell_type": "markdown",
      "source": [
        "Cleaning DataSet"
      ],
      "metadata": {
        "id": "TdCageKCmlqc"
      }
    },
    {
      "cell_type": "code",
      "source": [
        "totalData = totalData[totalData['Series'] == 'Grand Slam']"
      ],
      "metadata": {
        "id": "umm3aRJrwCBC"
      },
      "execution_count": 121,
      "outputs": []
    },
    {
      "cell_type": "code",
      "source": [
        "trainingSet = totalData[[\"Tournament\", \"Surface\", \"Round\", \"Winner\", \"Loser\", \"WRank\", \"LRank\", \"B365W\", \"B365L\", \"PSW\", \"PSL\"]]"
      ],
      "metadata": {
        "id": "9j4rM7vBwQtg"
      },
      "execution_count": 122,
      "outputs": []
    },
    {
      "cell_type": "code",
      "source": [
        "trainingSet.reset_index(drop=True, inplace=True)\n",
        "trainingSet.index = range(1, len(trainingSet) + 1)"
      ],
      "metadata": {
        "id": "sKWT9uSd0lKI"
      },
      "execution_count": 123,
      "outputs": []
    },
    {
      "cell_type": "code",
      "source": [
        "nuovi_nomi_colonne = [\"Tournament\",\"Surface\", \"Round\", \"Player1\", \"Player2\", \"Rank1\", \"Rank2\", \"B1\", \"B2\", \"PS1\", \"PS2\"]\n",
        "trainingSet.columns = nuovi_nomi_colonne"
      ],
      "metadata": {
        "id": "e3fqfA201hR-"
      },
      "execution_count": 124,
      "outputs": []
    },
    {
      "cell_type": "code",
      "source": [
        "trainingSet[\"target\"] = 0"
      ],
      "metadata": {
        "id": "BwgFng9O2XoQ",
        "outputId": "8abce787-4ab7-488e-9c29-cfcf7eb68e20",
        "colab": {
          "base_uri": "https://localhost:8080/"
        }
      },
      "execution_count": 125,
      "outputs": [
        {
          "output_type": "stream",
          "name": "stderr",
          "text": [
            "<ipython-input-125-60ba1f42b5c8>:1: SettingWithCopyWarning: \n",
            "A value is trying to be set on a copy of a slice from a DataFrame.\n",
            "Try using .loc[row_indexer,col_indexer] = value instead\n",
            "\n",
            "See the caveats in the documentation: https://pandas.pydata.org/pandas-docs/stable/user_guide/indexing.html#returning-a-view-versus-a-copy\n",
            "  trainingSet[\"target\"] = 0\n"
          ]
        }
      ]
    },
    {
      "cell_type": "markdown",
      "source": [
        "Mapping string to integer"
      ],
      "metadata": {
        "id": "UFY29Wi6PZg3"
      }
    },
    {
      "cell_type": "code",
      "source": [
        "trainingSet[\"Tournament\"] = trainingSet[\"Tournament\"].astype(\"category\")\n",
        "trainingSet[\"Surface\"] = trainingSet[\"Surface\"].astype(\"category\")\n",
        "trainingSet[\"Round\"] = trainingSet[\"Round\"].astype(\"category\")\n",
        "trainingSet[\"Player1\"] = trainingSet[\"Player1\"].astype(\"category\")\n",
        "trainingSet[\"Player2\"] = trainingSet[\"Player2\"].astype(\"category\")"
      ],
      "metadata": {
        "id": "K_1SYnkX2rX1",
        "outputId": "48ce03b4-6ce3-443d-d1e0-0803689bd33e",
        "colab": {
          "base_uri": "https://localhost:8080/"
        }
      },
      "execution_count": 126,
      "outputs": [
        {
          "output_type": "stream",
          "name": "stderr",
          "text": [
            "<ipython-input-126-1d9e29e86b61>:1: SettingWithCopyWarning: \n",
            "A value is trying to be set on a copy of a slice from a DataFrame.\n",
            "Try using .loc[row_indexer,col_indexer] = value instead\n",
            "\n",
            "See the caveats in the documentation: https://pandas.pydata.org/pandas-docs/stable/user_guide/indexing.html#returning-a-view-versus-a-copy\n",
            "  trainingSet[\"Tournament\"] = trainingSet[\"Tournament\"].astype(\"category\")\n",
            "<ipython-input-126-1d9e29e86b61>:2: SettingWithCopyWarning: \n",
            "A value is trying to be set on a copy of a slice from a DataFrame.\n",
            "Try using .loc[row_indexer,col_indexer] = value instead\n",
            "\n",
            "See the caveats in the documentation: https://pandas.pydata.org/pandas-docs/stable/user_guide/indexing.html#returning-a-view-versus-a-copy\n",
            "  trainingSet[\"Surface\"] = trainingSet[\"Surface\"].astype(\"category\")\n",
            "<ipython-input-126-1d9e29e86b61>:3: SettingWithCopyWarning: \n",
            "A value is trying to be set on a copy of a slice from a DataFrame.\n",
            "Try using .loc[row_indexer,col_indexer] = value instead\n",
            "\n",
            "See the caveats in the documentation: https://pandas.pydata.org/pandas-docs/stable/user_guide/indexing.html#returning-a-view-versus-a-copy\n",
            "  trainingSet[\"Round\"] = trainingSet[\"Round\"].astype(\"category\")\n",
            "<ipython-input-126-1d9e29e86b61>:4: SettingWithCopyWarning: \n",
            "A value is trying to be set on a copy of a slice from a DataFrame.\n",
            "Try using .loc[row_indexer,col_indexer] = value instead\n",
            "\n",
            "See the caveats in the documentation: https://pandas.pydata.org/pandas-docs/stable/user_guide/indexing.html#returning-a-view-versus-a-copy\n",
            "  trainingSet[\"Player1\"] = trainingSet[\"Player1\"].astype(\"category\")\n",
            "<ipython-input-126-1d9e29e86b61>:5: SettingWithCopyWarning: \n",
            "A value is trying to be set on a copy of a slice from a DataFrame.\n",
            "Try using .loc[row_indexer,col_indexer] = value instead\n",
            "\n",
            "See the caveats in the documentation: https://pandas.pydata.org/pandas-docs/stable/user_guide/indexing.html#returning-a-view-versus-a-copy\n",
            "  trainingSet[\"Player2\"] = trainingSet[\"Player2\"].astype(\"category\")\n"
          ]
        }
      ]
    },
    {
      "cell_type": "code",
      "source": [
        "trainingSet.dtypes"
      ],
      "metadata": {
        "colab": {
          "base_uri": "https://localhost:8080/"
        },
        "id": "Amtt9jIN3wTy",
        "outputId": "2de8dce0-206c-4a86-8e3e-1341d6a5c15e"
      },
      "execution_count": 127,
      "outputs": [
        {
          "output_type": "execute_result",
          "data": {
            "text/plain": [
              "Tournament    category\n",
              "Surface       category\n",
              "Round         category\n",
              "Player1       category\n",
              "Player2       category\n",
              "Rank1          float64\n",
              "Rank2          float64\n",
              "B1             float64\n",
              "B2             float64\n",
              "PS1            float64\n",
              "PS2            float64\n",
              "target           int64\n",
              "dtype: object"
            ]
          },
          "metadata": {},
          "execution_count": 127
        }
      ]
    },
    {
      "cell_type": "code",
      "source": [
        "label_encoder = LabelEncoder()\n",
        "trainingSet[\"Tournament\"] = label_encoder.fit_transform(trainingSet[\"Tournament\"])\n",
        "trainingSet[\"Surface\"] = label_encoder.fit_transform(trainingSet[\"Surface\"])\n",
        "trainingSet[\"Round\"] = label_encoder.fit_transform(trainingSet[\"Round\"])"
      ],
      "metadata": {
        "id": "gSksSsvl4kQY",
        "outputId": "f828caa3-7f8c-4695-80b6-f770ce909028",
        "colab": {
          "base_uri": "https://localhost:8080/"
        }
      },
      "execution_count": 128,
      "outputs": [
        {
          "output_type": "stream",
          "name": "stderr",
          "text": [
            "<ipython-input-128-be19e985f5d6>:2: SettingWithCopyWarning: \n",
            "A value is trying to be set on a copy of a slice from a DataFrame.\n",
            "Try using .loc[row_indexer,col_indexer] = value instead\n",
            "\n",
            "See the caveats in the documentation: https://pandas.pydata.org/pandas-docs/stable/user_guide/indexing.html#returning-a-view-versus-a-copy\n",
            "  trainingSet[\"Tournament\"] = label_encoder.fit_transform(trainingSet[\"Tournament\"])\n",
            "<ipython-input-128-be19e985f5d6>:3: SettingWithCopyWarning: \n",
            "A value is trying to be set on a copy of a slice from a DataFrame.\n",
            "Try using .loc[row_indexer,col_indexer] = value instead\n",
            "\n",
            "See the caveats in the documentation: https://pandas.pydata.org/pandas-docs/stable/user_guide/indexing.html#returning-a-view-versus-a-copy\n",
            "  trainingSet[\"Surface\"] = label_encoder.fit_transform(trainingSet[\"Surface\"])\n",
            "<ipython-input-128-be19e985f5d6>:4: SettingWithCopyWarning: \n",
            "A value is trying to be set on a copy of a slice from a DataFrame.\n",
            "Try using .loc[row_indexer,col_indexer] = value instead\n",
            "\n",
            "See the caveats in the documentation: https://pandas.pydata.org/pandas-docs/stable/user_guide/indexing.html#returning-a-view-versus-a-copy\n",
            "  trainingSet[\"Round\"] = label_encoder.fit_transform(trainingSet[\"Round\"])\n"
          ]
        }
      ]
    },
    {
      "cell_type": "code",
      "source": [
        "label_encoder = LabelEncoder()\n",
        "label_encoder.fit(trainingSet[\"Player2\"].append(trainingSet[\"Player1\"]))\n",
        "tmp_1 = label_encoder.transform(trainingSet[\"Player1\"])\n",
        "tmp_2 = label_encoder.transform(trainingSet[\"Player2\"])\n",
        "trainingSet[\"Player1Code\"], trainingSet[\"Player2Code\"] = tmp_1, tmp_2"
      ],
      "metadata": {
        "colab": {
          "base_uri": "https://localhost:8080/"
        },
        "id": "wfWUjcerOJI5",
        "outputId": "1c4e4a00-0b14-4b33-96c5-04ce4c773f47"
      },
      "execution_count": 129,
      "outputs": [
        {
          "output_type": "stream",
          "name": "stderr",
          "text": [
            "<ipython-input-129-98cfb96ab1d4>:2: FutureWarning: The series.append method is deprecated and will be removed from pandas in a future version. Use pandas.concat instead.\n",
            "  label_encoder.fit(trainingSet[\"Player2\"].append(trainingSet[\"Player1\"]))\n",
            "<ipython-input-129-98cfb96ab1d4>:5: SettingWithCopyWarning: \n",
            "A value is trying to be set on a copy of a slice from a DataFrame.\n",
            "Try using .loc[row_indexer,col_indexer] = value instead\n",
            "\n",
            "See the caveats in the documentation: https://pandas.pydata.org/pandas-docs/stable/user_guide/indexing.html#returning-a-view-versus-a-copy\n",
            "  trainingSet[\"Player1Code\"], trainingSet[\"Player2Code\"] = tmp_1, tmp_2\n",
            "<ipython-input-129-98cfb96ab1d4>:5: SettingWithCopyWarning: \n",
            "A value is trying to be set on a copy of a slice from a DataFrame.\n",
            "Try using .loc[row_indexer,col_indexer] = value instead\n",
            "\n",
            "See the caveats in the documentation: https://pandas.pydata.org/pandas-docs/stable/user_guide/indexing.html#returning-a-view-versus-a-copy\n",
            "  trainingSet[\"Player1Code\"], trainingSet[\"Player2Code\"] = tmp_1, tmp_2\n"
          ]
        }
      ]
    },
    {
      "cell_type": "markdown",
      "source": [
        "Mixing the player to avoid the pattern with the winner on the first columns and the loser on the second one"
      ],
      "metadata": {
        "id": "wmRDn1GlPdUD"
      }
    },
    {
      "cell_type": "code",
      "source": [
        "trainingSet"
      ],
      "metadata": {
        "colab": {
          "base_uri": "https://localhost:8080/",
          "height": 419
        },
        "id": "YNQbwwB9LAsz",
        "outputId": "c135cfea-d83e-4e91-c257-80a85960cd9b"
      },
      "execution_count": 130,
      "outputs": [
        {
          "output_type": "execute_result",
          "data": {
            "text/plain": [
              "     Tournament  Surface  Round       Player1       Player2  Rank1  Rank2  \\\n",
              "1             0        2      0     Moutet C.         Wu Y.   62.0  114.0   \n",
              "2             0        2      0   Mcdonald M.  Nakashima B.   65.0   49.0   \n",
              "3             0        2      0    Millman J.  Huesler M.A.  140.0   51.0   \n",
              "4             0        2      0    Eubanks C.     Kwon S.W.  116.0   52.0   \n",
              "5             0        2      0  Fucsovics M.      Coria F.   78.0   76.0   \n",
              "..          ...      ...    ...           ...           ...    ...    ...   \n",
              "96            2        2      1       Mmoh M.      Isner J.   89.0  157.0   \n",
              "97            2        2      1    Arnaldi M.       Fils A.   61.0   48.0   \n",
              "98            2        2      2   Stricker D.      Bonzi B.  128.0  108.0   \n",
              "99            2        2      2   Djokovic N.      Djere L.    2.0   38.0   \n",
              "100           2        2      3     Zverev A.     Sinner J.   12.0    6.0   \n",
              "\n",
              "       B1     B2   PS1    PS2  target  Player1Code  Player2Code  \n",
              "1    2.38   1.57  2.40   1.65       0           64          106  \n",
              "2    2.50   1.53  2.59   1.56       0           57           68  \n",
              "3    2.20   1.67  2.25   1.72       0           59           41  \n",
              "4    2.38   1.57  2.65   1.55       0           27           51  \n",
              "5    1.14   5.50  1.17   5.96       0           31           16  \n",
              "..    ...    ...   ...    ...     ...          ...          ...  \n",
              "96   1.80   2.00  1.83   2.09       0           60           44  \n",
              "97   2.30   1.62  2.54   1.58       0            2           28  \n",
              "98   1.67   2.20  1.66   2.38       0           90            8  \n",
              "99   1.01  26.00  1.02  30.68       0           24           23  \n",
              "100  2.38   1.57  2.69   1.53       0          111           88  \n",
              "\n",
              "[100 rows x 14 columns]"
            ],
            "text/html": [
              "\n",
              "  <div id=\"df-628e49c9-ccd5-4590-8b69-a84d5b41cd83\" class=\"colab-df-container\">\n",
              "    <div>\n",
              "<style scoped>\n",
              "    .dataframe tbody tr th:only-of-type {\n",
              "        vertical-align: middle;\n",
              "    }\n",
              "\n",
              "    .dataframe tbody tr th {\n",
              "        vertical-align: top;\n",
              "    }\n",
              "\n",
              "    .dataframe thead th {\n",
              "        text-align: right;\n",
              "    }\n",
              "</style>\n",
              "<table border=\"1\" class=\"dataframe\">\n",
              "  <thead>\n",
              "    <tr style=\"text-align: right;\">\n",
              "      <th></th>\n",
              "      <th>Tournament</th>\n",
              "      <th>Surface</th>\n",
              "      <th>Round</th>\n",
              "      <th>Player1</th>\n",
              "      <th>Player2</th>\n",
              "      <th>Rank1</th>\n",
              "      <th>Rank2</th>\n",
              "      <th>B1</th>\n",
              "      <th>B2</th>\n",
              "      <th>PS1</th>\n",
              "      <th>PS2</th>\n",
              "      <th>target</th>\n",
              "      <th>Player1Code</th>\n",
              "      <th>Player2Code</th>\n",
              "    </tr>\n",
              "  </thead>\n",
              "  <tbody>\n",
              "    <tr>\n",
              "      <th>1</th>\n",
              "      <td>0</td>\n",
              "      <td>2</td>\n",
              "      <td>0</td>\n",
              "      <td>Moutet C.</td>\n",
              "      <td>Wu Y.</td>\n",
              "      <td>62.0</td>\n",
              "      <td>114.0</td>\n",
              "      <td>2.38</td>\n",
              "      <td>1.57</td>\n",
              "      <td>2.40</td>\n",
              "      <td>1.65</td>\n",
              "      <td>0</td>\n",
              "      <td>64</td>\n",
              "      <td>106</td>\n",
              "    </tr>\n",
              "    <tr>\n",
              "      <th>2</th>\n",
              "      <td>0</td>\n",
              "      <td>2</td>\n",
              "      <td>0</td>\n",
              "      <td>Mcdonald M.</td>\n",
              "      <td>Nakashima B.</td>\n",
              "      <td>65.0</td>\n",
              "      <td>49.0</td>\n",
              "      <td>2.50</td>\n",
              "      <td>1.53</td>\n",
              "      <td>2.59</td>\n",
              "      <td>1.56</td>\n",
              "      <td>0</td>\n",
              "      <td>57</td>\n",
              "      <td>68</td>\n",
              "    </tr>\n",
              "    <tr>\n",
              "      <th>3</th>\n",
              "      <td>0</td>\n",
              "      <td>2</td>\n",
              "      <td>0</td>\n",
              "      <td>Millman J.</td>\n",
              "      <td>Huesler M.A.</td>\n",
              "      <td>140.0</td>\n",
              "      <td>51.0</td>\n",
              "      <td>2.20</td>\n",
              "      <td>1.67</td>\n",
              "      <td>2.25</td>\n",
              "      <td>1.72</td>\n",
              "      <td>0</td>\n",
              "      <td>59</td>\n",
              "      <td>41</td>\n",
              "    </tr>\n",
              "    <tr>\n",
              "      <th>4</th>\n",
              "      <td>0</td>\n",
              "      <td>2</td>\n",
              "      <td>0</td>\n",
              "      <td>Eubanks C.</td>\n",
              "      <td>Kwon S.W.</td>\n",
              "      <td>116.0</td>\n",
              "      <td>52.0</td>\n",
              "      <td>2.38</td>\n",
              "      <td>1.57</td>\n",
              "      <td>2.65</td>\n",
              "      <td>1.55</td>\n",
              "      <td>0</td>\n",
              "      <td>27</td>\n",
              "      <td>51</td>\n",
              "    </tr>\n",
              "    <tr>\n",
              "      <th>5</th>\n",
              "      <td>0</td>\n",
              "      <td>2</td>\n",
              "      <td>0</td>\n",
              "      <td>Fucsovics M.</td>\n",
              "      <td>Coria F.</td>\n",
              "      <td>78.0</td>\n",
              "      <td>76.0</td>\n",
              "      <td>1.14</td>\n",
              "      <td>5.50</td>\n",
              "      <td>1.17</td>\n",
              "      <td>5.96</td>\n",
              "      <td>0</td>\n",
              "      <td>31</td>\n",
              "      <td>16</td>\n",
              "    </tr>\n",
              "    <tr>\n",
              "      <th>...</th>\n",
              "      <td>...</td>\n",
              "      <td>...</td>\n",
              "      <td>...</td>\n",
              "      <td>...</td>\n",
              "      <td>...</td>\n",
              "      <td>...</td>\n",
              "      <td>...</td>\n",
              "      <td>...</td>\n",
              "      <td>...</td>\n",
              "      <td>...</td>\n",
              "      <td>...</td>\n",
              "      <td>...</td>\n",
              "      <td>...</td>\n",
              "      <td>...</td>\n",
              "    </tr>\n",
              "    <tr>\n",
              "      <th>96</th>\n",
              "      <td>2</td>\n",
              "      <td>2</td>\n",
              "      <td>1</td>\n",
              "      <td>Mmoh M.</td>\n",
              "      <td>Isner J.</td>\n",
              "      <td>89.0</td>\n",
              "      <td>157.0</td>\n",
              "      <td>1.80</td>\n",
              "      <td>2.00</td>\n",
              "      <td>1.83</td>\n",
              "      <td>2.09</td>\n",
              "      <td>0</td>\n",
              "      <td>60</td>\n",
              "      <td>44</td>\n",
              "    </tr>\n",
              "    <tr>\n",
              "      <th>97</th>\n",
              "      <td>2</td>\n",
              "      <td>2</td>\n",
              "      <td>1</td>\n",
              "      <td>Arnaldi M.</td>\n",
              "      <td>Fils A.</td>\n",
              "      <td>61.0</td>\n",
              "      <td>48.0</td>\n",
              "      <td>2.30</td>\n",
              "      <td>1.62</td>\n",
              "      <td>2.54</td>\n",
              "      <td>1.58</td>\n",
              "      <td>0</td>\n",
              "      <td>2</td>\n",
              "      <td>28</td>\n",
              "    </tr>\n",
              "    <tr>\n",
              "      <th>98</th>\n",
              "      <td>2</td>\n",
              "      <td>2</td>\n",
              "      <td>2</td>\n",
              "      <td>Stricker D.</td>\n",
              "      <td>Bonzi B.</td>\n",
              "      <td>128.0</td>\n",
              "      <td>108.0</td>\n",
              "      <td>1.67</td>\n",
              "      <td>2.20</td>\n",
              "      <td>1.66</td>\n",
              "      <td>2.38</td>\n",
              "      <td>0</td>\n",
              "      <td>90</td>\n",
              "      <td>8</td>\n",
              "    </tr>\n",
              "    <tr>\n",
              "      <th>99</th>\n",
              "      <td>2</td>\n",
              "      <td>2</td>\n",
              "      <td>2</td>\n",
              "      <td>Djokovic N.</td>\n",
              "      <td>Djere L.</td>\n",
              "      <td>2.0</td>\n",
              "      <td>38.0</td>\n",
              "      <td>1.01</td>\n",
              "      <td>26.00</td>\n",
              "      <td>1.02</td>\n",
              "      <td>30.68</td>\n",
              "      <td>0</td>\n",
              "      <td>24</td>\n",
              "      <td>23</td>\n",
              "    </tr>\n",
              "    <tr>\n",
              "      <th>100</th>\n",
              "      <td>2</td>\n",
              "      <td>2</td>\n",
              "      <td>3</td>\n",
              "      <td>Zverev A.</td>\n",
              "      <td>Sinner J.</td>\n",
              "      <td>12.0</td>\n",
              "      <td>6.0</td>\n",
              "      <td>2.38</td>\n",
              "      <td>1.57</td>\n",
              "      <td>2.69</td>\n",
              "      <td>1.53</td>\n",
              "      <td>0</td>\n",
              "      <td>111</td>\n",
              "      <td>88</td>\n",
              "    </tr>\n",
              "  </tbody>\n",
              "</table>\n",
              "<p>100 rows × 14 columns</p>\n",
              "</div>\n",
              "    <div class=\"colab-df-buttons\">\n",
              "\n",
              "  <div class=\"colab-df-container\">\n",
              "    <button class=\"colab-df-convert\" onclick=\"convertToInteractive('df-628e49c9-ccd5-4590-8b69-a84d5b41cd83')\"\n",
              "            title=\"Convert this dataframe to an interactive table.\"\n",
              "            style=\"display:none;\">\n",
              "\n",
              "  <svg xmlns=\"http://www.w3.org/2000/svg\" height=\"24px\" viewBox=\"0 -960 960 960\">\n",
              "    <path d=\"M120-120v-720h720v720H120Zm60-500h600v-160H180v160Zm220 220h160v-160H400v160Zm0 220h160v-160H400v160ZM180-400h160v-160H180v160Zm440 0h160v-160H620v160ZM180-180h160v-160H180v160Zm440 0h160v-160H620v160Z\"/>\n",
              "  </svg>\n",
              "    </button>\n",
              "\n",
              "  <style>\n",
              "    .colab-df-container {\n",
              "      display:flex;\n",
              "      gap: 12px;\n",
              "    }\n",
              "\n",
              "    .colab-df-convert {\n",
              "      background-color: #E8F0FE;\n",
              "      border: none;\n",
              "      border-radius: 50%;\n",
              "      cursor: pointer;\n",
              "      display: none;\n",
              "      fill: #1967D2;\n",
              "      height: 32px;\n",
              "      padding: 0 0 0 0;\n",
              "      width: 32px;\n",
              "    }\n",
              "\n",
              "    .colab-df-convert:hover {\n",
              "      background-color: #E2EBFA;\n",
              "      box-shadow: 0px 1px 2px rgba(60, 64, 67, 0.3), 0px 1px 3px 1px rgba(60, 64, 67, 0.15);\n",
              "      fill: #174EA6;\n",
              "    }\n",
              "\n",
              "    .colab-df-buttons div {\n",
              "      margin-bottom: 4px;\n",
              "    }\n",
              "\n",
              "    [theme=dark] .colab-df-convert {\n",
              "      background-color: #3B4455;\n",
              "      fill: #D2E3FC;\n",
              "    }\n",
              "\n",
              "    [theme=dark] .colab-df-convert:hover {\n",
              "      background-color: #434B5C;\n",
              "      box-shadow: 0px 1px 3px 1px rgba(0, 0, 0, 0.15);\n",
              "      filter: drop-shadow(0px 1px 2px rgba(0, 0, 0, 0.3));\n",
              "      fill: #FFFFFF;\n",
              "    }\n",
              "  </style>\n",
              "\n",
              "    <script>\n",
              "      const buttonEl =\n",
              "        document.querySelector('#df-628e49c9-ccd5-4590-8b69-a84d5b41cd83 button.colab-df-convert');\n",
              "      buttonEl.style.display =\n",
              "        google.colab.kernel.accessAllowed ? 'block' : 'none';\n",
              "\n",
              "      async function convertToInteractive(key) {\n",
              "        const element = document.querySelector('#df-628e49c9-ccd5-4590-8b69-a84d5b41cd83');\n",
              "        const dataTable =\n",
              "          await google.colab.kernel.invokeFunction('convertToInteractive',\n",
              "                                                    [key], {});\n",
              "        if (!dataTable) return;\n",
              "\n",
              "        const docLinkHtml = 'Like what you see? Visit the ' +\n",
              "          '<a target=\"_blank\" href=https://colab.research.google.com/notebooks/data_table.ipynb>data table notebook</a>'\n",
              "          + ' to learn more about interactive tables.';\n",
              "        element.innerHTML = '';\n",
              "        dataTable['output_type'] = 'display_data';\n",
              "        await google.colab.output.renderOutput(dataTable, element);\n",
              "        const docLink = document.createElement('div');\n",
              "        docLink.innerHTML = docLinkHtml;\n",
              "        element.appendChild(docLink);\n",
              "      }\n",
              "    </script>\n",
              "  </div>\n",
              "\n",
              "\n",
              "<div id=\"df-ebd3c7d7-df2c-4a65-b5f7-72fd9cd5e4f2\">\n",
              "  <button class=\"colab-df-quickchart\" onclick=\"quickchart('df-ebd3c7d7-df2c-4a65-b5f7-72fd9cd5e4f2')\"\n",
              "            title=\"Suggest charts\"\n",
              "            style=\"display:none;\">\n",
              "\n",
              "<svg xmlns=\"http://www.w3.org/2000/svg\" height=\"24px\"viewBox=\"0 0 24 24\"\n",
              "     width=\"24px\">\n",
              "    <g>\n",
              "        <path d=\"M19 3H5c-1.1 0-2 .9-2 2v14c0 1.1.9 2 2 2h14c1.1 0 2-.9 2-2V5c0-1.1-.9-2-2-2zM9 17H7v-7h2v7zm4 0h-2V7h2v10zm4 0h-2v-4h2v4z\"/>\n",
              "    </g>\n",
              "</svg>\n",
              "  </button>\n",
              "\n",
              "<style>\n",
              "  .colab-df-quickchart {\n",
              "      --bg-color: #E8F0FE;\n",
              "      --fill-color: #1967D2;\n",
              "      --hover-bg-color: #E2EBFA;\n",
              "      --hover-fill-color: #174EA6;\n",
              "      --disabled-fill-color: #AAA;\n",
              "      --disabled-bg-color: #DDD;\n",
              "  }\n",
              "\n",
              "  [theme=dark] .colab-df-quickchart {\n",
              "      --bg-color: #3B4455;\n",
              "      --fill-color: #D2E3FC;\n",
              "      --hover-bg-color: #434B5C;\n",
              "      --hover-fill-color: #FFFFFF;\n",
              "      --disabled-bg-color: #3B4455;\n",
              "      --disabled-fill-color: #666;\n",
              "  }\n",
              "\n",
              "  .colab-df-quickchart {\n",
              "    background-color: var(--bg-color);\n",
              "    border: none;\n",
              "    border-radius: 50%;\n",
              "    cursor: pointer;\n",
              "    display: none;\n",
              "    fill: var(--fill-color);\n",
              "    height: 32px;\n",
              "    padding: 0;\n",
              "    width: 32px;\n",
              "  }\n",
              "\n",
              "  .colab-df-quickchart:hover {\n",
              "    background-color: var(--hover-bg-color);\n",
              "    box-shadow: 0 1px 2px rgba(60, 64, 67, 0.3), 0 1px 3px 1px rgba(60, 64, 67, 0.15);\n",
              "    fill: var(--button-hover-fill-color);\n",
              "  }\n",
              "\n",
              "  .colab-df-quickchart-complete:disabled,\n",
              "  .colab-df-quickchart-complete:disabled:hover {\n",
              "    background-color: var(--disabled-bg-color);\n",
              "    fill: var(--disabled-fill-color);\n",
              "    box-shadow: none;\n",
              "  }\n",
              "\n",
              "  .colab-df-spinner {\n",
              "    border: 2px solid var(--fill-color);\n",
              "    border-color: transparent;\n",
              "    border-bottom-color: var(--fill-color);\n",
              "    animation:\n",
              "      spin 1s steps(1) infinite;\n",
              "  }\n",
              "\n",
              "  @keyframes spin {\n",
              "    0% {\n",
              "      border-color: transparent;\n",
              "      border-bottom-color: var(--fill-color);\n",
              "      border-left-color: var(--fill-color);\n",
              "    }\n",
              "    20% {\n",
              "      border-color: transparent;\n",
              "      border-left-color: var(--fill-color);\n",
              "      border-top-color: var(--fill-color);\n",
              "    }\n",
              "    30% {\n",
              "      border-color: transparent;\n",
              "      border-left-color: var(--fill-color);\n",
              "      border-top-color: var(--fill-color);\n",
              "      border-right-color: var(--fill-color);\n",
              "    }\n",
              "    40% {\n",
              "      border-color: transparent;\n",
              "      border-right-color: var(--fill-color);\n",
              "      border-top-color: var(--fill-color);\n",
              "    }\n",
              "    60% {\n",
              "      border-color: transparent;\n",
              "      border-right-color: var(--fill-color);\n",
              "    }\n",
              "    80% {\n",
              "      border-color: transparent;\n",
              "      border-right-color: var(--fill-color);\n",
              "      border-bottom-color: var(--fill-color);\n",
              "    }\n",
              "    90% {\n",
              "      border-color: transparent;\n",
              "      border-bottom-color: var(--fill-color);\n",
              "    }\n",
              "  }\n",
              "</style>\n",
              "\n",
              "  <script>\n",
              "    async function quickchart(key) {\n",
              "      const quickchartButtonEl =\n",
              "        document.querySelector('#' + key + ' button');\n",
              "      quickchartButtonEl.disabled = true;  // To prevent multiple clicks.\n",
              "      quickchartButtonEl.classList.add('colab-df-spinner');\n",
              "      try {\n",
              "        const charts = await google.colab.kernel.invokeFunction(\n",
              "            'suggestCharts', [key], {});\n",
              "      } catch (error) {\n",
              "        console.error('Error during call to suggestCharts:', error);\n",
              "      }\n",
              "      quickchartButtonEl.classList.remove('colab-df-spinner');\n",
              "      quickchartButtonEl.classList.add('colab-df-quickchart-complete');\n",
              "    }\n",
              "    (() => {\n",
              "      let quickchartButtonEl =\n",
              "        document.querySelector('#df-ebd3c7d7-df2c-4a65-b5f7-72fd9cd5e4f2 button');\n",
              "      quickchartButtonEl.style.display =\n",
              "        google.colab.kernel.accessAllowed ? 'block' : 'none';\n",
              "    })();\n",
              "  </script>\n",
              "</div>\n",
              "    </div>\n",
              "  </div>\n"
            ]
          },
          "metadata": {},
          "execution_count": 130
        }
      ]
    },
    {
      "cell_type": "code",
      "source": [
        "swap_rows = trainingSet.index[::2]\n",
        "\n",
        "df_swapped = trainingSet.loc[swap_rows]\n",
        "df_swapped['Player1Code'], df_swapped['Player2Code'] = df_swapped['Player2Code'], df_swapped['Player1Code']\n",
        "df_swapped['target'] = 1\n",
        "df_swapped['Rank1'], df_swapped['Rank2'] = df_swapped['Rank2'], df_swapped['Rank1']\n",
        "df_swapped['B1'], df_swapped['B2'] = df_swapped['B2'], df_swapped['B1']\n",
        "df_swapped['PS1'], df_swapped['PS2'] = df_swapped['PS2'], df_swapped['PS1']\n",
        "\n",
        "trainingSet = pd.concat([trainingSet.loc[~trainingSet.index.isin(swap_rows)], df_swapped])"
      ],
      "metadata": {
        "id": "0NUGPyS-LHNX"
      },
      "execution_count": 131,
      "outputs": []
    },
    {
      "cell_type": "code",
      "source": [
        "trainingSet = trainingSet.drop([\"Player1\", \"Player2\"], axis=1)"
      ],
      "metadata": {
        "id": "MLcgGAt2U2XN"
      },
      "execution_count": 132,
      "outputs": []
    },
    {
      "cell_type": "markdown",
      "source": [
        "Scaling and splitting the data and rename the data set"
      ],
      "metadata": {
        "id": "xz0MLFEAUbzL"
      }
    },
    {
      "cell_type": "code",
      "source": [
        "trainingSet = shuffle(trainingSet)"
      ],
      "metadata": {
        "id": "sITOQbj7Y3D-"
      },
      "execution_count": 133,
      "outputs": []
    },
    {
      "cell_type": "code",
      "source": [
        "X_train = trainingSet[trainingSet[\"Tournament\"] != 3]\n",
        "X_test = trainingSet[trainingSet[\"Tournament\"] == 3]"
      ],
      "metadata": {
        "id": "sjj5sibHYPYv"
      },
      "execution_count": 134,
      "outputs": []
    },
    {
      "cell_type": "code",
      "source": [
        "y_train = X_train[\"target\"]\n",
        "y_test = X_test[\"target\"]"
      ],
      "metadata": {
        "id": "EcSQSCApYTgT"
      },
      "execution_count": 135,
      "outputs": []
    },
    {
      "cell_type": "code",
      "source": [
        "X_train = X_train.drop(columns=[\"target\"])\n",
        "X_test = X_test.drop(columns=[\"target\"])"
      ],
      "metadata": {
        "id": "4B0837eUZxTQ"
      },
      "execution_count": 136,
      "outputs": []
    },
    {
      "cell_type": "code",
      "source": [
        "standardScaler = StandardScaler()\n",
        "X_train = pd.DataFrame(standardScaler.fit_transform(X_train), columns = X_train.columns)\n",
        "X_test = pd.DataFrame(standardScaler.fit_transform(X_test), columns = X_test.columns)"
      ],
      "metadata": {
        "id": "M1uzxlaaFnbf"
      },
      "execution_count": 137,
      "outputs": []
    },
    {
      "cell_type": "code",
      "source": [
        "y_train = keras.utils.to_categorical(y_train)\n",
        "y_test = keras.utils.to_categorical(y_test)"
      ],
      "metadata": {
        "id": "mcKsWxstggzs"
      },
      "execution_count": 138,
      "outputs": []
    },
    {
      "cell_type": "markdown",
      "source": [
        "Creating the neural network model"
      ],
      "metadata": {
        "id": "_nB6HvFka5Hm"
      }
    },
    {
      "cell_type": "code",
      "source": [
        "model = Sequential([\n",
        "    Dense(units=56, input_shape=(11,), activation='relu'),\n",
        "    Dense(units=112, activation='relu'),\n",
        "    Dense(units=2, activation='softmax')\n",
        "])"
      ],
      "metadata": {
        "id": "IUYlsiX4Qlmn"
      },
      "execution_count": 139,
      "outputs": []
    },
    {
      "cell_type": "code",
      "source": [
        "model.compile(loss='categorical_crossentropy', optimizer='adam', metrics=['accuracy'])"
      ],
      "metadata": {
        "id": "l3O6wMoGavx8"
      },
      "execution_count": 140,
      "outputs": []
    },
    {
      "cell_type": "code",
      "source": [
        "model.fit(x=X_train, y=y_train, epochs=10, batch_size=50, verbose=1, validation_split=0.1)"
      ],
      "metadata": {
        "colab": {
          "base_uri": "https://localhost:8080/"
        },
        "id": "zsB03-YPbidM",
        "outputId": "b0dec197-a5af-420b-e33b-f6e0d6347bee"
      },
      "execution_count": 141,
      "outputs": [
        {
          "output_type": "stream",
          "name": "stdout",
          "text": [
            "Epoch 1/10\n",
            "2/2 [==============================] - 1s 319ms/step - loss: 0.7368 - accuracy: 0.4648 - val_loss: 0.7622 - val_accuracy: 0.5000\n",
            "Epoch 2/10\n",
            "2/2 [==============================] - 0s 66ms/step - loss: 0.6974 - accuracy: 0.5211 - val_loss: 0.7610 - val_accuracy: 0.6250\n",
            "Epoch 3/10\n",
            "2/2 [==============================] - 0s 66ms/step - loss: 0.6774 - accuracy: 0.6056 - val_loss: 0.7664 - val_accuracy: 0.3750\n",
            "Epoch 4/10\n",
            "2/2 [==============================] - 0s 66ms/step - loss: 0.6622 - accuracy: 0.6197 - val_loss: 0.7696 - val_accuracy: 0.3750\n",
            "Epoch 5/10\n",
            "2/2 [==============================] - 0s 73ms/step - loss: 0.6499 - accuracy: 0.6197 - val_loss: 0.7666 - val_accuracy: 0.3750\n",
            "Epoch 6/10\n",
            "2/2 [==============================] - 0s 50ms/step - loss: 0.6392 - accuracy: 0.6338 - val_loss: 0.7614 - val_accuracy: 0.3750\n",
            "Epoch 7/10\n",
            "2/2 [==============================] - 0s 64ms/step - loss: 0.6293 - accuracy: 0.6761 - val_loss: 0.7561 - val_accuracy: 0.3750\n",
            "Epoch 8/10\n",
            "2/2 [==============================] - 0s 65ms/step - loss: 0.6180 - accuracy: 0.7042 - val_loss: 0.7489 - val_accuracy: 0.3750\n",
            "Epoch 9/10\n",
            "2/2 [==============================] - 0s 51ms/step - loss: 0.6104 - accuracy: 0.7324 - val_loss: 0.7424 - val_accuracy: 0.3750\n",
            "Epoch 10/10\n",
            "2/2 [==============================] - 0s 65ms/step - loss: 0.6018 - accuracy: 0.7606 - val_loss: 0.7402 - val_accuracy: 0.3750\n"
          ]
        },
        {
          "output_type": "execute_result",
          "data": {
            "text/plain": [
              "<keras.src.callbacks.History at 0x7c7ba7f95960>"
            ]
          },
          "metadata": {},
          "execution_count": 141
        }
      ]
    },
    {
      "cell_type": "code",
      "source": [
        "y_pred = model.predict(X_test)"
      ],
      "metadata": {
        "colab": {
          "base_uri": "https://localhost:8080/"
        },
        "id": "yJy8XkC0aS5X",
        "outputId": "06170b29-43ba-41f1-b4d2-e8708abfbe2b"
      },
      "execution_count": 142,
      "outputs": [
        {
          "output_type": "stream",
          "name": "stdout",
          "text": [
            "1/1 [==============================] - 0s 93ms/step\n"
          ]
        }
      ]
    },
    {
      "cell_type": "code",
      "source": [
        "def correctValue(pred):\n",
        "  for i in range(pred.shape[0]):\n",
        "    value = pred[i]\n",
        "    if (value[0]>value[1]):\n",
        "      pred[i] = [1,0]\n",
        "    else:\n",
        "      pred[i] = [0,1]\n",
        "  return pred"
      ],
      "metadata": {
        "id": "XaYEbGndQ9uw"
      },
      "execution_count": 143,
      "outputs": []
    },
    {
      "cell_type": "code",
      "source": [
        "y_pred"
      ],
      "metadata": {
        "colab": {
          "base_uri": "https://localhost:8080/"
        },
        "id": "XulcvzY-Zkzk",
        "outputId": "71d62dd7-020c-47ef-8cbc-608739797e27"
      },
      "execution_count": 144,
      "outputs": [
        {
          "output_type": "execute_result",
          "data": {
            "text/plain": [
              "array([[0.19893576, 0.8010642 ],\n",
              "       [0.4221007 , 0.5778994 ],\n",
              "       [0.5511284 , 0.4488716 ],\n",
              "       [0.5106324 , 0.4893676 ],\n",
              "       [0.49397475, 0.50602525],\n",
              "       [0.47782218, 0.5221778 ],\n",
              "       [0.529228  , 0.47077194],\n",
              "       [0.5115026 , 0.48849726],\n",
              "       [0.44041064, 0.55958945],\n",
              "       [0.584496  , 0.41550392],\n",
              "       [0.5048082 , 0.49519175],\n",
              "       [0.4822589 , 0.517741  ],\n",
              "       [0.38969636, 0.6103035 ],\n",
              "       [0.5322138 , 0.46778622],\n",
              "       [0.45608023, 0.54391974],\n",
              "       [0.36757818, 0.63242185],\n",
              "       [0.42606345, 0.5739366 ],\n",
              "       [0.51822674, 0.48177326],\n",
              "       [0.5472954 , 0.45270458],\n",
              "       [0.51205   , 0.48795003],\n",
              "       [0.4066555 , 0.5933445 ]], dtype=float32)"
            ]
          },
          "metadata": {},
          "execution_count": 144
        }
      ]
    },
    {
      "cell_type": "code",
      "source": [
        "score = model.evaluate(X_test, y_test, verbose=0)\n",
        "print('Test loss:', score[0])\n",
        "print('Test accuracy:', score[1])"
      ],
      "metadata": {
        "colab": {
          "base_uri": "https://localhost:8080/"
        },
        "id": "enpN9QTkR53C",
        "outputId": "3895c537-6cd9-4dbe-84ae-92bf34675357"
      },
      "execution_count": 145,
      "outputs": [
        {
          "output_type": "stream",
          "name": "stdout",
          "text": [
            "Test loss: 0.6561774015426636\n",
            "Test accuracy: 0.4761904776096344\n"
          ]
        }
      ]
    },
    {
      "cell_type": "code",
      "source": [
        "score\n",
        "print('Test loss:', score[0])\n",
        "print('Test accuracy:', score[1])"
      ],
      "metadata": {
        "colab": {
          "base_uri": "https://localhost:8080/"
        },
        "id": "BJwJF4JuVMVR",
        "outputId": "c9562abb-83ca-4fdb-f042-711d2b4c8252"
      },
      "execution_count": 146,
      "outputs": [
        {
          "output_type": "stream",
          "name": "stdout",
          "text": [
            "Test loss: 0.6561774015426636\n",
            "Test accuracy: 0.4761904776096344\n"
          ]
        }
      ]
    },
    {
      "cell_type": "code",
      "source": [
        "y_pred"
      ],
      "metadata": {
        "colab": {
          "base_uri": "https://localhost:8080/"
        },
        "id": "WRTsA3c0RCeU",
        "outputId": "e3614e8d-7cf0-451d-ed2e-552f9c37b4a1"
      },
      "execution_count": 147,
      "outputs": [
        {
          "output_type": "execute_result",
          "data": {
            "text/plain": [
              "array([[0.19893576, 0.8010642 ],\n",
              "       [0.4221007 , 0.5778994 ],\n",
              "       [0.5511284 , 0.4488716 ],\n",
              "       [0.5106324 , 0.4893676 ],\n",
              "       [0.49397475, 0.50602525],\n",
              "       [0.47782218, 0.5221778 ],\n",
              "       [0.529228  , 0.47077194],\n",
              "       [0.5115026 , 0.48849726],\n",
              "       [0.44041064, 0.55958945],\n",
              "       [0.584496  , 0.41550392],\n",
              "       [0.5048082 , 0.49519175],\n",
              "       [0.4822589 , 0.517741  ],\n",
              "       [0.38969636, 0.6103035 ],\n",
              "       [0.5322138 , 0.46778622],\n",
              "       [0.45608023, 0.54391974],\n",
              "       [0.36757818, 0.63242185],\n",
              "       [0.42606345, 0.5739366 ],\n",
              "       [0.51822674, 0.48177326],\n",
              "       [0.5472954 , 0.45270458],\n",
              "       [0.51205   , 0.48795003],\n",
              "       [0.4066555 , 0.5933445 ]], dtype=float32)"
            ]
          },
          "metadata": {},
          "execution_count": 147
        }
      ]
    },
    {
      "cell_type": "code",
      "source": [
        "y_pred = correctPrediction(y_pred)"
      ],
      "metadata": {
        "id": "yeqP-c0SbUWx"
      },
      "execution_count": 148,
      "outputs": []
    },
    {
      "cell_type": "code",
      "source": [
        "y_test_first = np.array([tmp[0] for tmp in y_test])"
      ],
      "metadata": {
        "id": "kj_fT3YdRLs1"
      },
      "execution_count": 149,
      "outputs": []
    },
    {
      "cell_type": "code",
      "source": [
        "y_pred_first = np.array([tmp[0] for tmp in y_pred])"
      ],
      "metadata": {
        "id": "1S8Ezki-5Deh"
      },
      "execution_count": 150,
      "outputs": []
    },
    {
      "cell_type": "code",
      "source": [
        "def firstValue(pred):\n",
        "  return np.array([tmp[0] for tmp in pred])"
      ],
      "metadata": {
        "id": "pBcaBzqCam18"
      },
      "execution_count": 151,
      "outputs": []
    },
    {
      "cell_type": "code",
      "source": [
        "conf_matrix = confusion_matrix(y_test_first, y_pred_first, labels=None, sample_weight=None)\n",
        "sns.heatmap(conf_matrix, annot=True, fmt=\"d\", cmap=\"Blues\", annot_kws={\"size\": 16})\n",
        "plt.xlabel('Predicted labels')\n",
        "plt.ylabel('True labels')\n",
        "plt.title('Confusion Matrix')\n",
        "plt.show()"
      ],
      "metadata": {
        "id": "2eqPVOQhb16A",
        "outputId": "523edb85-f624-4493-ff99-f4dcce27c681",
        "colab": {
          "base_uri": "https://localhost:8080/",
          "height": 472
        }
      },
      "execution_count": 152,
      "outputs": [
        {
          "output_type": "display_data",
          "data": {
            "text/plain": [
              "<Figure size 640x480 with 2 Axes>"
            ],
            "image/png": "[encoded data removed]"
          },
          "metadata": {}
        }
      ]
    },
    {
      "cell_type": "code",
      "source": [
        "\n",
        "# Define the neural network model\n",
        "def create_model(optimizer='adam', loss='binary_crossentropy', firstLayer=11, secondLayer=11):\n",
        "    model = Sequential()\n",
        "    model.add(Dense(56, input_dim=11, activation='relu'))\n",
        "    model.add(Dense(112, activation='relu'))\n",
        "    model.add(Dense(2, activation='softmax'))\n",
        "    model.compile(loss=loss, optimizer=optimizer, metrics=['accuracy'])\n",
        "    return model\n",
        "\n",
        "\n",
        "# Define the hyperparameter grid\n",
        "param_grid = {'batch_size': [10, 20, 40],\n",
        "              'epochs': [10, 20, 40, 50, 100],\n",
        "              'optimizer': ['adam', 'rmsprop'],\n",
        "              'loss': ['binary_crossentropy','categorical_crossentropy', 'hinge'],\n",
        "              'firstLayer': [11, 22, 32, 44],\n",
        "              'secondLayer': [22, 44, 88]}\n",
        "\n",
        "\n",
        "# Initialize the best accuracy and the best hyperparameters\n",
        "best_accuracy = 0\n",
        "best_params = {}\n",
        "\n",
        "# Loop over the hyperparameter grid\n",
        "for params in product(*param_grid.values()):\n",
        "    # Create the neural network model with the current hyperparameters\n",
        "    model = create_model(params[2], params[3], params[4], params[5])\n",
        "\n",
        "    # Train the model\n",
        "    model.fit(X_train, y_train, batch_size=params[0], epochs=params[1], verbose=0)\n",
        "\n",
        "    # Evaluate the model on the testing set\n",
        "    y_pred = model.predict(X_test)\n",
        "    y_pred = correctValue(y_pred)\n",
        "    accuracy = accuracy_score(y_test, y_pred)\n",
        "\n",
        "    print(\"Hyperparameters: \", best_params)\n",
        "    print(\"Accuracy: \", best_accuracy)\n",
        "    print(\"--------------------------------------\")\n",
        "\n",
        "    # Update the best accuracy and the best hyperparameters\n",
        "    if accuracy > best_accuracy:\n",
        "        best_accuracy = accuracy\n",
        "        best_params = params\n",
        "\n",
        "# Print the best hyperparameters\n",
        "print(\"Best hyperparameters: \", best_params)\n",
        "print(\"Best accuracy: \", best_accuracy)"
      ],
      "metadata": {
        "colab": {
          "base_uri": "https://localhost:8080/"
        },
        "id": "8gUM3OnLWDMv",
        "outputId": "6a83aea6-e9c0-4c09-a8c3-f870e9a48925"
      },
      "execution_count": null,
      "outputs": [
        {
          "output_type": "stream",
          "name": "stdout",
          "text": [
            "1/1 [==============================] - 0s 56ms/step\n",
            "Hyperparameters:  {}\n",
            "Accuracy:  0\n",
            "--------------------------------------\n",
            "1/1 [==============================] - 0s 58ms/step\n",
            "Hyperparameters:  (10, 10, 'adam', 'binary_crossentropy', 11, 22)\n",
            "Accuracy:  0.5714285714285714\n",
            "--------------------------------------\n",
            "1/1 [==============================] - 0s 68ms/step\n",
            "Hyperparameters:  (10, 10, 'adam', 'binary_crossentropy', 11, 44)\n",
            "Accuracy:  0.6190476190476191\n",
            "--------------------------------------\n",
            "1/1 [==============================] - 0s 61ms/step\n",
            "Hyperparameters:  (10, 10, 'adam', 'binary_crossentropy', 11, 44)\n",
            "Accuracy:  0.6190476190476191\n",
            "--------------------------------------\n",
            "1/1 [==============================] - 0s 59ms/step\n",
            "Hyperparameters:  (10, 10, 'adam', 'binary_crossentropy', 11, 44)\n",
            "Accuracy:  0.6190476190476191\n",
            "--------------------------------------\n",
            "1/1 [==============================] - 0s 57ms/step\n",
            "Hyperparameters:  (10, 10, 'adam', 'binary_crossentropy', 22, 44)\n",
            "Accuracy:  0.6666666666666666\n",
            "--------------------------------------\n",
            "1/1 [==============================] - 0s 88ms/step\n",
            "Hyperparameters:  (10, 10, 'adam', 'binary_crossentropy', 22, 44)\n",
            "Accuracy:  0.6666666666666666\n",
            "--------------------------------------\n",
            "1/1 [==============================] - 0s 62ms/step\n",
            "Hyperparameters:  (10, 10, 'adam', 'binary_crossentropy', 22, 44)\n",
            "Accuracy:  0.6666666666666666\n",
            "--------------------------------------\n",
            "1/1 [==============================] - 0s 70ms/step\n",
            "Hyperparameters:  (10, 10, 'adam', 'binary_crossentropy', 22, 44)\n",
            "Accuracy:  0.6666666666666666\n",
            "--------------------------------------\n",
            "1/1 [==============================] - 0s 60ms/step\n",
            "Hyperparameters:  (10, 10, 'adam', 'binary_crossentropy', 22, 44)\n",
            "Accuracy:  0.6666666666666666\n",
            "--------------------------------------\n",
            "1/1 [==============================] - 0s 59ms/step\n",
            "Hyperparameters:  (10, 10, 'adam', 'binary_crossentropy', 22, 44)\n",
            "Accuracy:  0.6666666666666666\n",
            "--------------------------------------\n",
            "1/1 [==============================] - 0s 61ms/step\n",
            "Hyperparameters:  (10, 10, 'adam', 'binary_crossentropy', 22, 44)\n",
            "Accuracy:  0.6666666666666666\n",
            "--------------------------------------\n",
            "1/1 [==============================] - 0s 60ms/step\n",
            "Hyperparameters:  (10, 10, 'adam', 'binary_crossentropy', 22, 44)\n",
            "Accuracy:  0.6666666666666666\n",
            "--------------------------------------\n",
            "1/1 [==============================] - 0s 60ms/step\n",
            "Hyperparameters:  (10, 10, 'adam', 'binary_crossentropy', 22, 44)\n",
            "Accuracy:  0.6666666666666666\n",
            "--------------------------------------\n",
            "1/1 [==============================] - 0s 67ms/step\n",
            "Hyperparameters:  (10, 10, 'adam', 'binary_crossentropy', 22, 44)\n",
            "Accuracy:  0.6666666666666666\n",
            "--------------------------------------\n",
            "1/1 [==============================] - 0s 87ms/step\n",
            "Hyperparameters:  (10, 10, 'adam', 'binary_crossentropy', 22, 44)\n",
            "Accuracy:  0.6666666666666666\n",
            "--------------------------------------\n",
            "1/1 [==============================] - 0s 90ms/step\n",
            "Hyperparameters:  (10, 10, 'adam', 'binary_crossentropy', 22, 44)\n",
            "Accuracy:  0.6666666666666666\n",
            "--------------------------------------\n",
            "1/1 [==============================] - 0s 59ms/step\n",
            "Hyperparameters:  (10, 10, 'adam', 'binary_crossentropy', 22, 44)\n",
            "Accuracy:  0.6666666666666666\n",
            "--------------------------------------\n",
            "1/1 [==============================] - 0s 58ms/step\n",
            "Hyperparameters:  (10, 10, 'adam', 'binary_crossentropy', 22, 44)\n",
            "Accuracy:  0.6666666666666666\n",
            "--------------------------------------\n",
            "1/1 [==============================] - 0s 59ms/step\n",
            "Hyperparameters:  (10, 10, 'adam', 'binary_crossentropy', 22, 44)\n",
            "Accuracy:  0.6666666666666666\n",
            "--------------------------------------\n",
            "1/1 [==============================] - 0s 57ms/step\n",
            "Hyperparameters:  (10, 10, 'adam', 'binary_crossentropy', 22, 44)\n",
            "Accuracy:  0.6666666666666666\n",
            "--------------------------------------\n",
            "1/1 [==============================] - 0s 64ms/step\n",
            "Hyperparameters:  (10, 10, 'adam', 'binary_crossentropy', 22, 44)\n",
            "Accuracy:  0.6666666666666666\n",
            "--------------------------------------\n",
            "1/1 [==============================] - 0s 58ms/step\n",
            "Hyperparameters:  (10, 10, 'adam', 'binary_crossentropy', 22, 44)\n",
            "Accuracy:  0.6666666666666666\n",
            "--------------------------------------\n",
            "1/1 [==============================] - 0s 63ms/step\n",
            "Hyperparameters:  (10, 10, 'adam', 'binary_crossentropy', 22, 44)\n",
            "Accuracy:  0.6666666666666666\n",
            "--------------------------------------\n",
            "1/1 [==============================] - 0s 61ms/step\n",
            "Hyperparameters:  (10, 10, 'adam', 'binary_crossentropy', 22, 44)\n",
            "Accuracy:  0.6666666666666666\n",
            "--------------------------------------\n",
            "1/1 [==============================] - 0s 89ms/step\n",
            "Hyperparameters:  (10, 10, 'adam', 'binary_crossentropy', 22, 44)\n",
            "Accuracy:  0.6666666666666666\n",
            "--------------------------------------\n",
            "1/1 [==============================] - 0s 70ms/step\n",
            "Hyperparameters:  (10, 10, 'adam', 'binary_crossentropy', 22, 44)\n",
            "Accuracy:  0.6666666666666666\n",
            "--------------------------------------\n",
            "1/1 [==============================] - 0s 62ms/step\n",
            "Hyperparameters:  (10, 10, 'adam', 'binary_crossentropy', 22, 44)\n",
            "Accuracy:  0.6666666666666666\n",
            "--------------------------------------\n",
            "1/1 [==============================] - 0s 64ms/step\n",
            "Hyperparameters:  (10, 10, 'adam', 'binary_crossentropy', 22, 44)\n",
            "Accuracy:  0.6666666666666666\n",
            "--------------------------------------\n",
            "1/1 [==============================] - 0s 59ms/step\n",
            "Hyperparameters:  (10, 10, 'adam', 'binary_crossentropy', 22, 44)\n",
            "Accuracy:  0.6666666666666666\n",
            "--------------------------------------\n",
            "1/1 [==============================] - 0s 72ms/step\n",
            "Hyperparameters:  (10, 10, 'adam', 'binary_crossentropy', 22, 44)\n",
            "Accuracy:  0.6666666666666666\n",
            "--------------------------------------\n",
            "1/1 [==============================] - 0s 63ms/step\n",
            "Hyperparameters:  (10, 10, 'adam', 'binary_crossentropy', 22, 44)\n",
            "Accuracy:  0.6666666666666666\n",
            "--------------------------------------\n",
            "1/1 [==============================] - 0s 60ms/step\n",
            "Hyperparameters:  (10, 10, 'adam', 'binary_crossentropy', 22, 44)\n",
            "Accuracy:  0.6666666666666666\n",
            "--------------------------------------\n",
            "1/1 [==============================] - 0s 59ms/step\n",
            "Hyperparameters:  (10, 10, 'adam', 'binary_crossentropy', 22, 44)\n",
            "Accuracy:  0.6666666666666666\n",
            "--------------------------------------\n",
            "1/1 [==============================] - 0s 56ms/step\n",
            "Hyperparameters:  (10, 10, 'adam', 'binary_crossentropy', 22, 44)\n",
            "Accuracy:  0.6666666666666666\n",
            "--------------------------------------\n",
            "1/1 [==============================] - 0s 98ms/step\n",
            "Hyperparameters:  (10, 10, 'adam', 'binary_crossentropy', 22, 44)\n",
            "Accuracy:  0.6666666666666666\n",
            "--------------------------------------\n",
            "1/1 [==============================] - 0s 58ms/step\n",
            "Hyperparameters:  (10, 10, 'adam', 'binary_crossentropy', 22, 44)\n",
            "Accuracy:  0.6666666666666666\n",
            "--------------------------------------\n",
            "1/1 [==============================] - 0s 64ms/step\n",
            "Hyperparameters:  (10, 10, 'adam', 'binary_crossentropy', 22, 44)\n",
            "Accuracy:  0.6666666666666666\n",
            "--------------------------------------\n",
            "1/1 [==============================] - 0s 61ms/step\n",
            "Hyperparameters:  (10, 10, 'adam', 'binary_crossentropy', 22, 44)\n",
            "Accuracy:  0.6666666666666666\n",
            "--------------------------------------\n"
          ]
        }
      ]
    },
    {
      "cell_type": "code",
      "source": [],
      "metadata": {
        "id": "QwgknOQiimQv"
      },
      "execution_count": null,
      "outputs": []
    }
  ]
}