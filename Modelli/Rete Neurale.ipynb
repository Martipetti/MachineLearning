{
  "nbformat": 4,
  "nbformat_minor": 0,
  "metadata": {
    "colab": {
      "provenance": [],
      "authorship_tag": "ABX9TyP8HdkBEHFlOr9a1bpzraee",
      "include_colab_link": true
    },
    "kernelspec": {
      "name": "python3",
      "display_name": "Python 3"
    },
    "language_info": {
      "name": "python"
    }
  },
  "cells": [
    {
      "cell_type": "markdown",
      "metadata": {
        "id": "view-in-github",
        "colab_type": "text"
      },
      "source": [
        "<a href=\"https://colab.research.google.com/github/Martipetti/MachineLearning/blob/develop-martipetti/Modelli/Rete%20Neurale.ipynb\" target=\"_parent\"><img src=\"https://colab.research.google.com/assets/colab-badge.svg\" alt=\"Open In Colab\"/></a>"
      ]
    },
    {
      "cell_type": "markdown",
      "source": [
        "# Neural Network"
      ],
      "metadata": {
        "id": "kJmRNKAHmLTR"
      }
    },
    {
      "cell_type": "code",
      "execution_count": 119,
      "metadata": {
        "id": "VNlvHA9smANn"
      },
      "outputs": [],
      "source": [
        "import pandas as pd\n",
        "import numpy as np\n",
        "import seaborn as sns\n",
        "import keras\n",
        "from keras.models import Sequential\n",
        "from keras.layers import Dense\n",
        "from sklearn.utils import shuffle\n",
        "from sklearn.model_selection import GridSearchCV\n",
        "from sklearn.preprocessing import LabelEncoder\n",
        "from sklearn.decomposition import PCA\n",
        "from sklearn.preprocessing import StandardScaler\n",
        "from sklearn.metrics import confusion_matrix, accuracy_score\n",
        "import matplotlib.pyplot as plt\n",
        "from sklearn.model_selection import train_test_split\n",
        "from itertools import product"
      ]
    },
    {
      "cell_type": "markdown",
      "source": [
        "Download the data"
      ],
      "metadata": {
        "id": "kpByNVQfOXk8"
      }
    },
    {
      "cell_type": "code",
      "source": [
        "link = 'http://tennis-data.co.uk/2023/2023.xlsx'\n",
        "totalData = pd.read_excel(link)"
      ],
      "metadata": {
        "id": "ZRYI62wSmJTT"
      },
      "execution_count": 120,
      "outputs": []
    },
    {
      "cell_type": "code",
      "source": [
        "df_clean = totalData.dropna()\n",
        "\n",
        "# Print the number of rows in the original and cleaned DataFrames\n",
        "print(\"Original DataFrame has %d rows\" % totalData.shape[0])\n",
        "print(\"Cleaned DataFrame has %d rows\" % df_clean.shape[0])"
      ],
      "metadata": {
        "id": "7-F6-DaTnzM7",
        "outputId": "c1234401-7188-4f13-b467-82f587def4b0",
        "colab": {
          "base_uri": "https://localhost:8080/"
        }
      },
      "execution_count": 116,
      "outputs": [
        {
          "output_type": "stream",
          "name": "stdout",
          "text": [
            "Original DataFrame has 2703 rows\n",
            "Cleaned DataFrame has 100 rows\n"
          ]
        }
      ]
    },
    {
      "cell_type": "markdown",
      "source": [
        "Removing null value"
      ],
      "metadata": {
        "id": "NuP0SXIeLaqZ"
      }
    },
    {
      "cell_type": "code",
      "source": [
        "for column in totalData:\n",
        "  totalData.dropna(subset=[column], inplace=True)"
      ],
      "metadata": {
        "id": "wvARdicGLZ6b"
      },
      "execution_count": 109,
      "outputs": []
    },
    {
      "cell_type": "code",
      "source": [
        "totalData.shape"
      ],
      "metadata": {
        "id": "y9Zq3-tylwe-",
        "outputId": "3b28d671-e25e-4e09-c8a5-b459fd6650b9",
        "colab": {
          "base_uri": "https://localhost:8080/"
        }
      },
      "execution_count": 111,
      "outputs": [
        {
          "output_type": "execute_result",
          "data": {
            "text/plain": [
              "(2703, 36)"
            ]
          },
          "metadata": {},
          "execution_count": 111
        }
      ]
    },
    {
      "cell_type": "markdown",
      "source": [
        "Cleaning DataSet"
      ],
      "metadata": {
        "id": "TdCageKCmlqc"
      }
    },
    {
      "cell_type": "code",
      "source": [
        "totalData.dropna(inplace=True)\n",
        "totalData.shape"
      ],
      "metadata": {
        "id": "vVBLgGmYjn5a",
        "outputId": "5371580e-23d3-48e9-be4e-b44876d365e0",
        "colab": {
          "base_uri": "https://localhost:8080/"
        }
      },
      "execution_count": 112,
      "outputs": [
        {
          "output_type": "execute_result",
          "data": {
            "text/plain": [
              "(100, 36)"
            ]
          },
          "metadata": {},
          "execution_count": 112
        }
      ]
    },
    {
      "cell_type": "code",
      "source": [
        "totalData"
      ],
      "metadata": {
        "id": "wdVak5szoYM4",
        "outputId": "a7cd8a02-a80a-4377-9e6a-e09c2b74a412",
        "colab": {
          "base_uri": "https://localhost:8080/",
          "height": 689
        }
      },
      "execution_count": 118,
      "outputs": [
        {
          "output_type": "execute_result",
          "data": {
            "text/plain": [
              "      ATP   Location       Tournament       Date      Series    Court Surface  \\\n",
              "112     5  Melbourne  Australian Open 2023-01-16  Grand Slam  Outdoor    Hard   \n",
              "113     5  Melbourne  Australian Open 2023-01-16  Grand Slam  Outdoor    Hard   \n",
              "114     5  Melbourne  Australian Open 2023-01-16  Grand Slam  Outdoor    Hard   \n",
              "115     5  Melbourne  Australian Open 2023-01-16  Grand Slam  Outdoor    Hard   \n",
              "116     5  Melbourne  Australian Open 2023-01-16  Grand Slam  Outdoor    Hard   \n",
              "...   ...        ...              ...        ...         ...      ...     ...   \n",
              "2220   51   New York          US Open 2023-09-06  Grand Slam  Outdoor    Hard   \n",
              "2221   51   New York          US Open 2023-09-07  Grand Slam  Outdoor    Hard   \n",
              "2222   51   New York          US Open 2023-09-08  Grand Slam  Outdoor    Hard   \n",
              "2223   51   New York          US Open 2023-09-09  Grand Slam  Outdoor    Hard   \n",
              "2224   51   New York          US Open 2023-09-10  Grand Slam  Outdoor    Hard   \n",
              "\n",
              "              Round  Best of                Winner  ... Lsets    Comment  \\\n",
              "112       1st Round        5             Moutet C.  ...   2.0  Completed   \n",
              "113       1st Round        5           Watanuki Y.  ...   0.0  Completed   \n",
              "114       1st Round        5  Van De Zandschulp B.  ...   1.0  Completed   \n",
              "115       1st Round        5         Etcheverry T.  ...   1.0  Completed   \n",
              "116       1st Round        5             Sinner J.  ...   0.0  Completed   \n",
              "...             ...      ...                   ...  ...   ...        ...   \n",
              "2220  Quarterfinals        5           Medvedev D.  ...   0.0  Completed   \n",
              "2221  Quarterfinals        5            Alcaraz C.  ...   0.0  Completed   \n",
              "2222     Semifinals        5           Djokovic N.  ...   0.0  Completed   \n",
              "2223     Semifinals        5           Medvedev D.  ...   1.0  Completed   \n",
              "2224      The Final        5           Djokovic N.  ...   0.0  Completed   \n",
              "\n",
              "      B365W  B365L   PSW    PSL  MaxW   MaxL  AvgW   AvgL  \n",
              "112    2.38   1.57  2.40   1.65  2.40   1.66  2.33   1.61  \n",
              "113    2.30   1.62  2.18   1.77  2.45   1.77  2.28   1.64  \n",
              "114    1.36   3.20  1.47   2.91  1.52   3.30  1.39   3.03  \n",
              "115    2.30   1.62  2.43   1.63  2.55   1.67  2.36   1.60  \n",
              "116    1.06  10.00  1.05  15.72  1.07  15.72  1.05  11.18  \n",
              "...     ...    ...   ...    ...   ...    ...   ...    ...  \n",
              "2220   1.36   3.20  1.39   3.30  1.40   3.55  1.36   3.22  \n",
              "2221   1.20   4.50  1.22   4.90  1.22   5.00  1.21   4.54  \n",
              "2222   1.06  10.00  1.09   9.76  1.09  11.60  1.07   8.69  \n",
              "2223   4.33   1.22  4.13   1.28  4.50   1.30  4.13   1.25  \n",
              "2224   1.44   2.88  1.46   2.95  1.50   3.10  1.44   2.86  \n",
              "\n",
              "[508 rows x 36 columns]"
            ],
            "text/html": [
              "\n",
              "  <div id=\"df-c9d4b897-834f-41e5-b8a8-d18b8f68861c\" class=\"colab-df-container\">\n",
              "    <div>\n",
              "<style scoped>\n",
              "    .dataframe tbody tr th:only-of-type {\n",
              "        vertical-align: middle;\n",
              "    }\n",
              "\n",
              "    .dataframe tbody tr th {\n",
              "        vertical-align: top;\n",
              "    }\n",
              "\n",
              "    .dataframe thead th {\n",
              "        text-align: right;\n",
              "    }\n",
              "</style>\n",
              "<table border=\"1\" class=\"dataframe\">\n",
              "  <thead>\n",
              "    <tr style=\"text-align: right;\">\n",
              "      <th></th>\n",
              "      <th>ATP</th>\n",
              "      <th>Location</th>\n",
              "      <th>Tournament</th>\n",
              "      <th>Date</th>\n",
              "      <th>Series</th>\n",
              "      <th>Court</th>\n",
              "      <th>Surface</th>\n",
              "      <th>Round</th>\n",
              "      <th>Best of</th>\n",
              "      <th>Winner</th>\n",
              "      <th>...</th>\n",
              "      <th>Lsets</th>\n",
              "      <th>Comment</th>\n",
              "      <th>B365W</th>\n",
              "      <th>B365L</th>\n",
              "      <th>PSW</th>\n",
              "      <th>PSL</th>\n",
              "      <th>MaxW</th>\n",
              "      <th>MaxL</th>\n",
              "      <th>AvgW</th>\n",
              "      <th>AvgL</th>\n",
              "    </tr>\n",
              "  </thead>\n",
              "  <tbody>\n",
              "    <tr>\n",
              "      <th>112</th>\n",
              "      <td>5</td>\n",
              "      <td>Melbourne</td>\n",
              "      <td>Australian Open</td>\n",
              "      <td>2023-01-16</td>\n",
              "      <td>Grand Slam</td>\n",
              "      <td>Outdoor</td>\n",
              "      <td>Hard</td>\n",
              "      <td>1st Round</td>\n",
              "      <td>5</td>\n",
              "      <td>Moutet C.</td>\n",
              "      <td>...</td>\n",
              "      <td>2.0</td>\n",
              "      <td>Completed</td>\n",
              "      <td>2.38</td>\n",
              "      <td>1.57</td>\n",
              "      <td>2.40</td>\n",
              "      <td>1.65</td>\n",
              "      <td>2.40</td>\n",
              "      <td>1.66</td>\n",
              "      <td>2.33</td>\n",
              "      <td>1.61</td>\n",
              "    </tr>\n",
              "    <tr>\n",
              "      <th>113</th>\n",
              "      <td>5</td>\n",
              "      <td>Melbourne</td>\n",
              "      <td>Australian Open</td>\n",
              "      <td>2023-01-16</td>\n",
              "      <td>Grand Slam</td>\n",
              "      <td>Outdoor</td>\n",
              "      <td>Hard</td>\n",
              "      <td>1st Round</td>\n",
              "      <td>5</td>\n",
              "      <td>Watanuki Y.</td>\n",
              "      <td>...</td>\n",
              "      <td>0.0</td>\n",
              "      <td>Completed</td>\n",
              "      <td>2.30</td>\n",
              "      <td>1.62</td>\n",
              "      <td>2.18</td>\n",
              "      <td>1.77</td>\n",
              "      <td>2.45</td>\n",
              "      <td>1.77</td>\n",
              "      <td>2.28</td>\n",
              "      <td>1.64</td>\n",
              "    </tr>\n",
              "    <tr>\n",
              "      <th>114</th>\n",
              "      <td>5</td>\n",
              "      <td>Melbourne</td>\n",
              "      <td>Australian Open</td>\n",
              "      <td>2023-01-16</td>\n",
              "      <td>Grand Slam</td>\n",
              "      <td>Outdoor</td>\n",
              "      <td>Hard</td>\n",
              "      <td>1st Round</td>\n",
              "      <td>5</td>\n",
              "      <td>Van De Zandschulp B.</td>\n",
              "      <td>...</td>\n",
              "      <td>1.0</td>\n",
              "      <td>Completed</td>\n",
              "      <td>1.36</td>\n",
              "      <td>3.20</td>\n",
              "      <td>1.47</td>\n",
              "      <td>2.91</td>\n",
              "      <td>1.52</td>\n",
              "      <td>3.30</td>\n",
              "      <td>1.39</td>\n",
              "      <td>3.03</td>\n",
              "    </tr>\n",
              "    <tr>\n",
              "      <th>115</th>\n",
              "      <td>5</td>\n",
              "      <td>Melbourne</td>\n",
              "      <td>Australian Open</td>\n",
              "      <td>2023-01-16</td>\n",
              "      <td>Grand Slam</td>\n",
              "      <td>Outdoor</td>\n",
              "      <td>Hard</td>\n",
              "      <td>1st Round</td>\n",
              "      <td>5</td>\n",
              "      <td>Etcheverry T.</td>\n",
              "      <td>...</td>\n",
              "      <td>1.0</td>\n",
              "      <td>Completed</td>\n",
              "      <td>2.30</td>\n",
              "      <td>1.62</td>\n",
              "      <td>2.43</td>\n",
              "      <td>1.63</td>\n",
              "      <td>2.55</td>\n",
              "      <td>1.67</td>\n",
              "      <td>2.36</td>\n",
              "      <td>1.60</td>\n",
              "    </tr>\n",
              "    <tr>\n",
              "      <th>116</th>\n",
              "      <td>5</td>\n",
              "      <td>Melbourne</td>\n",
              "      <td>Australian Open</td>\n",
              "      <td>2023-01-16</td>\n",
              "      <td>Grand Slam</td>\n",
              "      <td>Outdoor</td>\n",
              "      <td>Hard</td>\n",
              "      <td>1st Round</td>\n",
              "      <td>5</td>\n",
              "      <td>Sinner J.</td>\n",
              "      <td>...</td>\n",
              "      <td>0.0</td>\n",
              "      <td>Completed</td>\n",
              "      <td>1.06</td>\n",
              "      <td>10.00</td>\n",
              "      <td>1.05</td>\n",
              "      <td>15.72</td>\n",
              "      <td>1.07</td>\n",
              "      <td>15.72</td>\n",
              "      <td>1.05</td>\n",
              "      <td>11.18</td>\n",
              "    </tr>\n",
              "    <tr>\n",
              "      <th>...</th>\n",
              "      <td>...</td>\n",
              "      <td>...</td>\n",
              "      <td>...</td>\n",
              "      <td>...</td>\n",
              "      <td>...</td>\n",
              "      <td>...</td>\n",
              "      <td>...</td>\n",
              "      <td>...</td>\n",
              "      <td>...</td>\n",
              "      <td>...</td>\n",
              "      <td>...</td>\n",
              "      <td>...</td>\n",
              "      <td>...</td>\n",
              "      <td>...</td>\n",
              "      <td>...</td>\n",
              "      <td>...</td>\n",
              "      <td>...</td>\n",
              "      <td>...</td>\n",
              "      <td>...</td>\n",
              "      <td>...</td>\n",
              "      <td>...</td>\n",
              "    </tr>\n",
              "    <tr>\n",
              "      <th>2220</th>\n",
              "      <td>51</td>\n",
              "      <td>New York</td>\n",
              "      <td>US Open</td>\n",
              "      <td>2023-09-06</td>\n",
              "      <td>Grand Slam</td>\n",
              "      <td>Outdoor</td>\n",
              "      <td>Hard</td>\n",
              "      <td>Quarterfinals</td>\n",
              "      <td>5</td>\n",
              "      <td>Medvedev D.</td>\n",
              "      <td>...</td>\n",
              "      <td>0.0</td>\n",
              "      <td>Completed</td>\n",
              "      <td>1.36</td>\n",
              "      <td>3.20</td>\n",
              "      <td>1.39</td>\n",
              "      <td>3.30</td>\n",
              "      <td>1.40</td>\n",
              "      <td>3.55</td>\n",
              "      <td>1.36</td>\n",
              "      <td>3.22</td>\n",
              "    </tr>\n",
              "    <tr>\n",
              "      <th>2221</th>\n",
              "      <td>51</td>\n",
              "      <td>New York</td>\n",
              "      <td>US Open</td>\n",
              "      <td>2023-09-07</td>\n",
              "      <td>Grand Slam</td>\n",
              "      <td>Outdoor</td>\n",
              "      <td>Hard</td>\n",
              "      <td>Quarterfinals</td>\n",
              "      <td>5</td>\n",
              "      <td>Alcaraz C.</td>\n",
              "      <td>...</td>\n",
              "      <td>0.0</td>\n",
              "      <td>Completed</td>\n",
              "      <td>1.20</td>\n",
              "      <td>4.50</td>\n",
              "      <td>1.22</td>\n",
              "      <td>4.90</td>\n",
              "      <td>1.22</td>\n",
              "      <td>5.00</td>\n",
              "      <td>1.21</td>\n",
              "      <td>4.54</td>\n",
              "    </tr>\n",
              "    <tr>\n",
              "      <th>2222</th>\n",
              "      <td>51</td>\n",
              "      <td>New York</td>\n",
              "      <td>US Open</td>\n",
              "      <td>2023-09-08</td>\n",
              "      <td>Grand Slam</td>\n",
              "      <td>Outdoor</td>\n",
              "      <td>Hard</td>\n",
              "      <td>Semifinals</td>\n",
              "      <td>5</td>\n",
              "      <td>Djokovic N.</td>\n",
              "      <td>...</td>\n",
              "      <td>0.0</td>\n",
              "      <td>Completed</td>\n",
              "      <td>1.06</td>\n",
              "      <td>10.00</td>\n",
              "      <td>1.09</td>\n",
              "      <td>9.76</td>\n",
              "      <td>1.09</td>\n",
              "      <td>11.60</td>\n",
              "      <td>1.07</td>\n",
              "      <td>8.69</td>\n",
              "    </tr>\n",
              "    <tr>\n",
              "      <th>2223</th>\n",
              "      <td>51</td>\n",
              "      <td>New York</td>\n",
              "      <td>US Open</td>\n",
              "      <td>2023-09-09</td>\n",
              "      <td>Grand Slam</td>\n",
              "      <td>Outdoor</td>\n",
              "      <td>Hard</td>\n",
              "      <td>Semifinals</td>\n",
              "      <td>5</td>\n",
              "      <td>Medvedev D.</td>\n",
              "      <td>...</td>\n",
              "      <td>1.0</td>\n",
              "      <td>Completed</td>\n",
              "      <td>4.33</td>\n",
              "      <td>1.22</td>\n",
              "      <td>4.13</td>\n",
              "      <td>1.28</td>\n",
              "      <td>4.50</td>\n",
              "      <td>1.30</td>\n",
              "      <td>4.13</td>\n",
              "      <td>1.25</td>\n",
              "    </tr>\n",
              "    <tr>\n",
              "      <th>2224</th>\n",
              "      <td>51</td>\n",
              "      <td>New York</td>\n",
              "      <td>US Open</td>\n",
              "      <td>2023-09-10</td>\n",
              "      <td>Grand Slam</td>\n",
              "      <td>Outdoor</td>\n",
              "      <td>Hard</td>\n",
              "      <td>The Final</td>\n",
              "      <td>5</td>\n",
              "      <td>Djokovic N.</td>\n",
              "      <td>...</td>\n",
              "      <td>0.0</td>\n",
              "      <td>Completed</td>\n",
              "      <td>1.44</td>\n",
              "      <td>2.88</td>\n",
              "      <td>1.46</td>\n",
              "      <td>2.95</td>\n",
              "      <td>1.50</td>\n",
              "      <td>3.10</td>\n",
              "      <td>1.44</td>\n",
              "      <td>2.86</td>\n",
              "    </tr>\n",
              "  </tbody>\n",
              "</table>\n",
              "<p>508 rows × 36 columns</p>\n",
              "</div>\n",
              "    <div class=\"colab-df-buttons\">\n",
              "\n",
              "  <div class=\"colab-df-container\">\n",
              "    <button class=\"colab-df-convert\" onclick=\"convertToInteractive('df-c9d4b897-834f-41e5-b8a8-d18b8f68861c')\"\n",
              "            title=\"Convert this dataframe to an interactive table.\"\n",
              "            style=\"display:none;\">\n",
              "\n",
              "  <svg xmlns=\"http://www.w3.org/2000/svg\" height=\"24px\" viewBox=\"0 -960 960 960\">\n",
              "    <path d=\"M120-120v-720h720v720H120Zm60-500h600v-160H180v160Zm220 220h160v-160H400v160Zm0 220h160v-160H400v160ZM180-400h160v-160H180v160Zm440 0h160v-160H620v160ZM180-180h160v-160H180v160Zm440 0h160v-160H620v160Z\"/>\n",
              "  </svg>\n",
              "    </button>\n",
              "\n",
              "  <style>\n",
              "    .colab-df-container {\n",
              "      display:flex;\n",
              "      gap: 12px;\n",
              "    }\n",
              "\n",
              "    .colab-df-convert {\n",
              "      background-color: #E8F0FE;\n",
              "      border: none;\n",
              "      border-radius: 50%;\n",
              "      cursor: pointer;\n",
              "      display: none;\n",
              "      fill: #1967D2;\n",
              "      height: 32px;\n",
              "      padding: 0 0 0 0;\n",
              "      width: 32px;\n",
              "    }\n",
              "\n",
              "    .colab-df-convert:hover {\n",
              "      background-color: #E2EBFA;\n",
              "      box-shadow: 0px 1px 2px rgba(60, 64, 67, 0.3), 0px 1px 3px 1px rgba(60, 64, 67, 0.15);\n",
              "      fill: #174EA6;\n",
              "    }\n",
              "\n",
              "    .colab-df-buttons div {\n",
              "      margin-bottom: 4px;\n",
              "    }\n",
              "\n",
              "    [theme=dark] .colab-df-convert {\n",
              "      background-color: #3B4455;\n",
              "      fill: #D2E3FC;\n",
              "    }\n",
              "\n",
              "    [theme=dark] .colab-df-convert:hover {\n",
              "      background-color: #434B5C;\n",
              "      box-shadow: 0px 1px 3px 1px rgba(0, 0, 0, 0.15);\n",
              "      filter: drop-shadow(0px 1px 2px rgba(0, 0, 0, 0.3));\n",
              "      fill: #FFFFFF;\n",
              "    }\n",
              "  </style>\n",
              "\n",
              "    <script>\n",
              "      const buttonEl =\n",
              "        document.querySelector('#df-c9d4b897-834f-41e5-b8a8-d18b8f68861c button.colab-df-convert');\n",
              "      buttonEl.style.display =\n",
              "        google.colab.kernel.accessAllowed ? 'block' : 'none';\n",
              "\n",
              "      async function convertToInteractive(key) {\n",
              "        const element = document.querySelector('#df-c9d4b897-834f-41e5-b8a8-d18b8f68861c');\n",
              "        const dataTable =\n",
              "          await google.colab.kernel.invokeFunction('convertToInteractive',\n",
              "                                                    [key], {});\n",
              "        if (!dataTable) return;\n",
              "\n",
              "        const docLinkHtml = 'Like what you see? Visit the ' +\n",
              "          '<a target=\"_blank\" href=https://colab.research.google.com/notebooks/data_table.ipynb>data table notebook</a>'\n",
              "          + ' to learn more about interactive tables.';\n",
              "        element.innerHTML = '';\n",
              "        dataTable['output_type'] = 'display_data';\n",
              "        await google.colab.output.renderOutput(dataTable, element);\n",
              "        const docLink = document.createElement('div');\n",
              "        docLink.innerHTML = docLinkHtml;\n",
              "        element.appendChild(docLink);\n",
              "      }\n",
              "    </script>\n",
              "  </div>\n",
              "\n",
              "\n",
              "<div id=\"df-24296ac8-b138-4da2-9f21-caebd39ec9b1\">\n",
              "  <button class=\"colab-df-quickchart\" onclick=\"quickchart('df-24296ac8-b138-4da2-9f21-caebd39ec9b1')\"\n",
              "            title=\"Suggest charts\"\n",
              "            style=\"display:none;\">\n",
              "\n",
              "<svg xmlns=\"http://www.w3.org/2000/svg\" height=\"24px\"viewBox=\"0 0 24 24\"\n",
              "     width=\"24px\">\n",
              "    <g>\n",
              "        <path d=\"M19 3H5c-1.1 0-2 .9-2 2v14c0 1.1.9 2 2 2h14c1.1 0 2-.9 2-2V5c0-1.1-.9-2-2-2zM9 17H7v-7h2v7zm4 0h-2V7h2v10zm4 0h-2v-4h2v4z\"/>\n",
              "    </g>\n",
              "</svg>\n",
              "  </button>\n",
              "\n",
              "<style>\n",
              "  .colab-df-quickchart {\n",
              "      --bg-color: #E8F0FE;\n",
              "      --fill-color: #1967D2;\n",
              "      --hover-bg-color: #E2EBFA;\n",
              "      --hover-fill-color: #174EA6;\n",
              "      --disabled-fill-color: #AAA;\n",
              "      --disabled-bg-color: #DDD;\n",
              "  }\n",
              "\n",
              "  [theme=dark] .colab-df-quickchart {\n",
              "      --bg-color: #3B4455;\n",
              "      --fill-color: #D2E3FC;\n",
              "      --hover-bg-color: #434B5C;\n",
              "      --hover-fill-color: #FFFFFF;\n",
              "      --disabled-bg-color: #3B4455;\n",
              "      --disabled-fill-color: #666;\n",
              "  }\n",
              "\n",
              "  .colab-df-quickchart {\n",
              "    background-color: var(--bg-color);\n",
              "    border: none;\n",
              "    border-radius: 50%;\n",
              "    cursor: pointer;\n",
              "    display: none;\n",
              "    fill: var(--fill-color);\n",
              "    height: 32px;\n",
              "    padding: 0;\n",
              "    width: 32px;\n",
              "  }\n",
              "\n",
              "  .colab-df-quickchart:hover {\n",
              "    background-color: var(--hover-bg-color);\n",
              "    box-shadow: 0 1px 2px rgba(60, 64, 67, 0.3), 0 1px 3px 1px rgba(60, 64, 67, 0.15);\n",
              "    fill: var(--button-hover-fill-color);\n",
              "  }\n",
              "\n",
              "  .colab-df-quickchart-complete:disabled,\n",
              "  .colab-df-quickchart-complete:disabled:hover {\n",
              "    background-color: var(--disabled-bg-color);\n",
              "    fill: var(--disabled-fill-color);\n",
              "    box-shadow: none;\n",
              "  }\n",
              "\n",
              "  .colab-df-spinner {\n",
              "    border: 2px solid var(--fill-color);\n",
              "    border-color: transparent;\n",
              "    border-bottom-color: var(--fill-color);\n",
              "    animation:\n",
              "      spin 1s steps(1) infinite;\n",
              "  }\n",
              "\n",
              "  @keyframes spin {\n",
              "    0% {\n",
              "      border-color: transparent;\n",
              "      border-bottom-color: var(--fill-color);\n",
              "      border-left-color: var(--fill-color);\n",
              "    }\n",
              "    20% {\n",
              "      border-color: transparent;\n",
              "      border-left-color: var(--fill-color);\n",
              "      border-top-color: var(--fill-color);\n",
              "    }\n",
              "    30% {\n",
              "      border-color: transparent;\n",
              "      border-left-color: var(--fill-color);\n",
              "      border-top-color: var(--fill-color);\n",
              "      border-right-color: var(--fill-color);\n",
              "    }\n",
              "    40% {\n",
              "      border-color: transparent;\n",
              "      border-right-color: var(--fill-color);\n",
              "      border-top-color: var(--fill-color);\n",
              "    }\n",
              "    60% {\n",
              "      border-color: transparent;\n",
              "      border-right-color: var(--fill-color);\n",
              "    }\n",
              "    80% {\n",
              "      border-color: transparent;\n",
              "      border-right-color: var(--fill-color);\n",
              "      border-bottom-color: var(--fill-color);\n",
              "    }\n",
              "    90% {\n",
              "      border-color: transparent;\n",
              "      border-bottom-color: var(--fill-color);\n",
              "    }\n",
              "  }\n",
              "</style>\n",
              "\n",
              "  <script>\n",
              "    async function quickchart(key) {\n",
              "      const quickchartButtonEl =\n",
              "        document.querySelector('#' + key + ' button');\n",
              "      quickchartButtonEl.disabled = true;  // To prevent multiple clicks.\n",
              "      quickchartButtonEl.classList.add('colab-df-spinner');\n",
              "      try {\n",
              "        const charts = await google.colab.kernel.invokeFunction(\n",
              "            'suggestCharts', [key], {});\n",
              "      } catch (error) {\n",
              "        console.error('Error during call to suggestCharts:', error);\n",
              "      }\n",
              "      quickchartButtonEl.classList.remove('colab-df-spinner');\n",
              "      quickchartButtonEl.classList.add('colab-df-quickchart-complete');\n",
              "    }\n",
              "    (() => {\n",
              "      let quickchartButtonEl =\n",
              "        document.querySelector('#df-24296ac8-b138-4da2-9f21-caebd39ec9b1 button');\n",
              "      quickchartButtonEl.style.display =\n",
              "        google.colab.kernel.accessAllowed ? 'block' : 'none';\n",
              "    })();\n",
              "  </script>\n",
              "</div>\n",
              "    </div>\n",
              "  </div>\n"
            ]
          },
          "metadata": {},
          "execution_count": 118
        },
        {
          "output_type": "stream",
          "name": "stdout",
          "text": [
            "Warning: Total number of columns (36) exceeds max_columns (20) limiting to first (20) columns.\n"
          ]
        }
      ]
    },
    {
      "cell_type": "code",
      "source": [
        "totalData = totalData[totalData['Series'] == 'Grand Slam']"
      ],
      "metadata": {
        "id": "umm3aRJrwCBC"
      },
      "execution_count": 121,
      "outputs": []
    },
    {
      "cell_type": "code",
      "source": [
        "trainingSet = totalData[[\"Tournament\", \"Surface\", \"Round\", \"Winner\", \"Loser\", \"WRank\", \"LRank\", \"B365W\", \"B365L\", \"PSW\", \"PSL\"]]"
      ],
      "metadata": {
        "id": "9j4rM7vBwQtg"
      },
      "execution_count": 122,
      "outputs": []
    },
    {
      "cell_type": "code",
      "source": [
        "for column in trainingSet:\n",
        "  trainingSet.dropna(subset=[column], inplace=True)"
      ],
      "metadata": {
        "id": "USWzNjqo05JY",
        "outputId": "b4b13867-ca32-45e8-972d-9ca5463a1e75",
        "colab": {
          "base_uri": "https://localhost:8080/"
        }
      },
      "execution_count": 123,
      "outputs": [
        {
          "output_type": "stream",
          "name": "stderr",
          "text": [
            "<ipython-input-123-ce7461797c1b>:2: SettingWithCopyWarning: \n",
            "A value is trying to be set on a copy of a slice from a DataFrame\n",
            "\n",
            "See the caveats in the documentation: https://pandas.pydata.org/pandas-docs/stable/user_guide/indexing.html#returning-a-view-versus-a-copy\n",
            "  trainingSet.dropna(subset=[column], inplace=True)\n",
            "<ipython-input-123-ce7461797c1b>:2: SettingWithCopyWarning: \n",
            "A value is trying to be set on a copy of a slice from a DataFrame\n",
            "\n",
            "See the caveats in the documentation: https://pandas.pydata.org/pandas-docs/stable/user_guide/indexing.html#returning-a-view-versus-a-copy\n",
            "  trainingSet.dropna(subset=[column], inplace=True)\n",
            "<ipython-input-123-ce7461797c1b>:2: SettingWithCopyWarning: \n",
            "A value is trying to be set on a copy of a slice from a DataFrame\n",
            "\n",
            "See the caveats in the documentation: https://pandas.pydata.org/pandas-docs/stable/user_guide/indexing.html#returning-a-view-versus-a-copy\n",
            "  trainingSet.dropna(subset=[column], inplace=True)\n",
            "<ipython-input-123-ce7461797c1b>:2: SettingWithCopyWarning: \n",
            "A value is trying to be set on a copy of a slice from a DataFrame\n",
            "\n",
            "See the caveats in the documentation: https://pandas.pydata.org/pandas-docs/stable/user_guide/indexing.html#returning-a-view-versus-a-copy\n",
            "  trainingSet.dropna(subset=[column], inplace=True)\n",
            "<ipython-input-123-ce7461797c1b>:2: SettingWithCopyWarning: \n",
            "A value is trying to be set on a copy of a slice from a DataFrame\n",
            "\n",
            "See the caveats in the documentation: https://pandas.pydata.org/pandas-docs/stable/user_guide/indexing.html#returning-a-view-versus-a-copy\n",
            "  trainingSet.dropna(subset=[column], inplace=True)\n",
            "<ipython-input-123-ce7461797c1b>:2: SettingWithCopyWarning: \n",
            "A value is trying to be set on a copy of a slice from a DataFrame\n",
            "\n",
            "See the caveats in the documentation: https://pandas.pydata.org/pandas-docs/stable/user_guide/indexing.html#returning-a-view-versus-a-copy\n",
            "  trainingSet.dropna(subset=[column], inplace=True)\n",
            "<ipython-input-123-ce7461797c1b>:2: SettingWithCopyWarning: \n",
            "A value is trying to be set on a copy of a slice from a DataFrame\n",
            "\n",
            "See the caveats in the documentation: https://pandas.pydata.org/pandas-docs/stable/user_guide/indexing.html#returning-a-view-versus-a-copy\n",
            "  trainingSet.dropna(subset=[column], inplace=True)\n",
            "<ipython-input-123-ce7461797c1b>:2: SettingWithCopyWarning: \n",
            "A value is trying to be set on a copy of a slice from a DataFrame\n",
            "\n",
            "See the caveats in the documentation: https://pandas.pydata.org/pandas-docs/stable/user_guide/indexing.html#returning-a-view-versus-a-copy\n",
            "  trainingSet.dropna(subset=[column], inplace=True)\n",
            "<ipython-input-123-ce7461797c1b>:2: SettingWithCopyWarning: \n",
            "A value is trying to be set on a copy of a slice from a DataFrame\n",
            "\n",
            "See the caveats in the documentation: https://pandas.pydata.org/pandas-docs/stable/user_guide/indexing.html#returning-a-view-versus-a-copy\n",
            "  trainingSet.dropna(subset=[column], inplace=True)\n",
            "<ipython-input-123-ce7461797c1b>:2: SettingWithCopyWarning: \n",
            "A value is trying to be set on a copy of a slice from a DataFrame\n",
            "\n",
            "See the caveats in the documentation: https://pandas.pydata.org/pandas-docs/stable/user_guide/indexing.html#returning-a-view-versus-a-copy\n",
            "  trainingSet.dropna(subset=[column], inplace=True)\n",
            "<ipython-input-123-ce7461797c1b>:2: SettingWithCopyWarning: \n",
            "A value is trying to be set on a copy of a slice from a DataFrame\n",
            "\n",
            "See the caveats in the documentation: https://pandas.pydata.org/pandas-docs/stable/user_guide/indexing.html#returning-a-view-versus-a-copy\n",
            "  trainingSet.dropna(subset=[column], inplace=True)\n"
          ]
        }
      ]
    },
    {
      "cell_type": "code",
      "source": [
        "trainingSet.shape"
      ],
      "metadata": {
        "id": "BL6FDvJm1H44",
        "outputId": "ff665cf3-d8a9-4267-bbc5-4ddddfc95749",
        "colab": {
          "base_uri": "https://localhost:8080/"
        }
      },
      "execution_count": 124,
      "outputs": [
        {
          "output_type": "execute_result",
          "data": {
            "text/plain": [
              "(504, 11)"
            ]
          },
          "metadata": {},
          "execution_count": 124
        }
      ]
    },
    {
      "cell_type": "code",
      "source": [
        "trainingSet.reset_index(drop=True, inplace=True)\n",
        "trainingSet.index = range(1, len(trainingSet) + 1)"
      ],
      "metadata": {
        "id": "sKWT9uSd0lKI"
      },
      "execution_count": 125,
      "outputs": []
    },
    {
      "cell_type": "code",
      "source": [
        "nuovi_nomi_colonne = [\"Tournament\",\"Surface\", \"Round\", \"Player1\", \"Player2\", \"Rank1\", \"Rank2\", \"B1\", \"B2\", \"PS1\", \"PS2\"]\n",
        "trainingSet.columns = nuovi_nomi_colonne"
      ],
      "metadata": {
        "id": "e3fqfA201hR-"
      },
      "execution_count": 126,
      "outputs": []
    },
    {
      "cell_type": "code",
      "source": [
        "trainingSet[\"target\"] = 0"
      ],
      "metadata": {
        "id": "BwgFng9O2XoQ",
        "outputId": "87ad9da9-d34b-4253-b06a-2f9b126f43d8",
        "colab": {
          "base_uri": "https://localhost:8080/"
        }
      },
      "execution_count": 127,
      "outputs": [
        {
          "output_type": "stream",
          "name": "stderr",
          "text": [
            "<ipython-input-127-60ba1f42b5c8>:1: SettingWithCopyWarning: \n",
            "A value is trying to be set on a copy of a slice from a DataFrame.\n",
            "Try using .loc[row_indexer,col_indexer] = value instead\n",
            "\n",
            "See the caveats in the documentation: https://pandas.pydata.org/pandas-docs/stable/user_guide/indexing.html#returning-a-view-versus-a-copy\n",
            "  trainingSet[\"target\"] = 0\n"
          ]
        }
      ]
    },
    {
      "cell_type": "markdown",
      "source": [
        "Mapping string to integer"
      ],
      "metadata": {
        "id": "UFY29Wi6PZg3"
      }
    },
    {
      "cell_type": "code",
      "source": [
        "trainingSet[\"Tournament\"] = trainingSet[\"Tournament\"].astype(\"category\")\n",
        "trainingSet[\"Surface\"] = trainingSet[\"Surface\"].astype(\"category\")\n",
        "trainingSet[\"Round\"] = trainingSet[\"Round\"].astype(\"category\")\n",
        "trainingSet[\"Player1\"] = trainingSet[\"Player1\"].astype(\"category\")\n",
        "trainingSet[\"Player2\"] = trainingSet[\"Player2\"].astype(\"category\")"
      ],
      "metadata": {
        "id": "K_1SYnkX2rX1",
        "outputId": "5975e9e6-3663-4864-be99-4338733813c3",
        "colab": {
          "base_uri": "https://localhost:8080/"
        }
      },
      "execution_count": 128,
      "outputs": [
        {
          "output_type": "stream",
          "name": "stderr",
          "text": [
            "<ipython-input-128-1d9e29e86b61>:1: SettingWithCopyWarning: \n",
            "A value is trying to be set on a copy of a slice from a DataFrame.\n",
            "Try using .loc[row_indexer,col_indexer] = value instead\n",
            "\n",
            "See the caveats in the documentation: https://pandas.pydata.org/pandas-docs/stable/user_guide/indexing.html#returning-a-view-versus-a-copy\n",
            "  trainingSet[\"Tournament\"] = trainingSet[\"Tournament\"].astype(\"category\")\n",
            "<ipython-input-128-1d9e29e86b61>:2: SettingWithCopyWarning: \n",
            "A value is trying to be set on a copy of a slice from a DataFrame.\n",
            "Try using .loc[row_indexer,col_indexer] = value instead\n",
            "\n",
            "See the caveats in the documentation: https://pandas.pydata.org/pandas-docs/stable/user_guide/indexing.html#returning-a-view-versus-a-copy\n",
            "  trainingSet[\"Surface\"] = trainingSet[\"Surface\"].astype(\"category\")\n",
            "<ipython-input-128-1d9e29e86b61>:3: SettingWithCopyWarning: \n",
            "A value is trying to be set on a copy of a slice from a DataFrame.\n",
            "Try using .loc[row_indexer,col_indexer] = value instead\n",
            "\n",
            "See the caveats in the documentation: https://pandas.pydata.org/pandas-docs/stable/user_guide/indexing.html#returning-a-view-versus-a-copy\n",
            "  trainingSet[\"Round\"] = trainingSet[\"Round\"].astype(\"category\")\n",
            "<ipython-input-128-1d9e29e86b61>:4: SettingWithCopyWarning: \n",
            "A value is trying to be set on a copy of a slice from a DataFrame.\n",
            "Try using .loc[row_indexer,col_indexer] = value instead\n",
            "\n",
            "See the caveats in the documentation: https://pandas.pydata.org/pandas-docs/stable/user_guide/indexing.html#returning-a-view-versus-a-copy\n",
            "  trainingSet[\"Player1\"] = trainingSet[\"Player1\"].astype(\"category\")\n",
            "<ipython-input-128-1d9e29e86b61>:5: SettingWithCopyWarning: \n",
            "A value is trying to be set on a copy of a slice from a DataFrame.\n",
            "Try using .loc[row_indexer,col_indexer] = value instead\n",
            "\n",
            "See the caveats in the documentation: https://pandas.pydata.org/pandas-docs/stable/user_guide/indexing.html#returning-a-view-versus-a-copy\n",
            "  trainingSet[\"Player2\"] = trainingSet[\"Player2\"].astype(\"category\")\n"
          ]
        }
      ]
    },
    {
      "cell_type": "code",
      "source": [
        "trainingSet.dtypes"
      ],
      "metadata": {
        "colab": {
          "base_uri": "https://localhost:8080/"
        },
        "id": "Amtt9jIN3wTy",
        "outputId": "3d8f948e-7d34-457b-a957-49c448c6e3e7"
      },
      "execution_count": 129,
      "outputs": [
        {
          "output_type": "execute_result",
          "data": {
            "text/plain": [
              "Tournament    category\n",
              "Surface       category\n",
              "Round         category\n",
              "Player1       category\n",
              "Player2       category\n",
              "Rank1          float64\n",
              "Rank2          float64\n",
              "B1             float64\n",
              "B2             float64\n",
              "PS1            float64\n",
              "PS2            float64\n",
              "target           int64\n",
              "dtype: object"
            ]
          },
          "metadata": {},
          "execution_count": 129
        }
      ]
    },
    {
      "cell_type": "code",
      "source": [
        "label_encoder = LabelEncoder()\n",
        "trainingSet[\"Tournament\"] = label_encoder.fit_transform(trainingSet[\"Tournament\"])\n",
        "trainingSet[\"Surface\"] = label_encoder.fit_transform(trainingSet[\"Surface\"])\n",
        "trainingSet[\"Round\"] = label_encoder.fit_transform(trainingSet[\"Round\"])"
      ],
      "metadata": {
        "id": "gSksSsvl4kQY",
        "outputId": "1a6c6227-9656-4ecb-ed2c-3d7c0a8187e5",
        "colab": {
          "base_uri": "https://localhost:8080/"
        }
      },
      "execution_count": 130,
      "outputs": [
        {
          "output_type": "stream",
          "name": "stderr",
          "text": [
            "<ipython-input-130-be19e985f5d6>:2: SettingWithCopyWarning: \n",
            "A value is trying to be set on a copy of a slice from a DataFrame.\n",
            "Try using .loc[row_indexer,col_indexer] = value instead\n",
            "\n",
            "See the caveats in the documentation: https://pandas.pydata.org/pandas-docs/stable/user_guide/indexing.html#returning-a-view-versus-a-copy\n",
            "  trainingSet[\"Tournament\"] = label_encoder.fit_transform(trainingSet[\"Tournament\"])\n",
            "<ipython-input-130-be19e985f5d6>:3: SettingWithCopyWarning: \n",
            "A value is trying to be set on a copy of a slice from a DataFrame.\n",
            "Try using .loc[row_indexer,col_indexer] = value instead\n",
            "\n",
            "See the caveats in the documentation: https://pandas.pydata.org/pandas-docs/stable/user_guide/indexing.html#returning-a-view-versus-a-copy\n",
            "  trainingSet[\"Surface\"] = label_encoder.fit_transform(trainingSet[\"Surface\"])\n",
            "<ipython-input-130-be19e985f5d6>:4: SettingWithCopyWarning: \n",
            "A value is trying to be set on a copy of a slice from a DataFrame.\n",
            "Try using .loc[row_indexer,col_indexer] = value instead\n",
            "\n",
            "See the caveats in the documentation: https://pandas.pydata.org/pandas-docs/stable/user_guide/indexing.html#returning-a-view-versus-a-copy\n",
            "  trainingSet[\"Round\"] = label_encoder.fit_transform(trainingSet[\"Round\"])\n"
          ]
        }
      ]
    },
    {
      "cell_type": "code",
      "source": [
        "label_encoder = LabelEncoder()\n",
        "label_encoder.fit(trainingSet[\"Player2\"].append(trainingSet[\"Player1\"]))\n",
        "tmp_1 = label_encoder.transform(trainingSet[\"Player1\"])\n",
        "tmp_2 = label_encoder.transform(trainingSet[\"Player2\"])\n",
        "trainingSet[\"Player1Code\"], trainingSet[\"Player2Code\"] = tmp_1, tmp_2"
      ],
      "metadata": {
        "colab": {
          "base_uri": "https://localhost:8080/"
        },
        "id": "wfWUjcerOJI5",
        "outputId": "51087168-a71c-4d2b-df7a-6096a5526a01"
      },
      "execution_count": 131,
      "outputs": [
        {
          "output_type": "stream",
          "name": "stderr",
          "text": [
            "<ipython-input-131-98cfb96ab1d4>:2: FutureWarning: The series.append method is deprecated and will be removed from pandas in a future version. Use pandas.concat instead.\n",
            "  label_encoder.fit(trainingSet[\"Player2\"].append(trainingSet[\"Player1\"]))\n",
            "<ipython-input-131-98cfb96ab1d4>:5: SettingWithCopyWarning: \n",
            "A value is trying to be set on a copy of a slice from a DataFrame.\n",
            "Try using .loc[row_indexer,col_indexer] = value instead\n",
            "\n",
            "See the caveats in the documentation: https://pandas.pydata.org/pandas-docs/stable/user_guide/indexing.html#returning-a-view-versus-a-copy\n",
            "  trainingSet[\"Player1Code\"], trainingSet[\"Player2Code\"] = tmp_1, tmp_2\n",
            "<ipython-input-131-98cfb96ab1d4>:5: SettingWithCopyWarning: \n",
            "A value is trying to be set on a copy of a slice from a DataFrame.\n",
            "Try using .loc[row_indexer,col_indexer] = value instead\n",
            "\n",
            "See the caveats in the documentation: https://pandas.pydata.org/pandas-docs/stable/user_guide/indexing.html#returning-a-view-versus-a-copy\n",
            "  trainingSet[\"Player1Code\"], trainingSet[\"Player2Code\"] = tmp_1, tmp_2\n"
          ]
        }
      ]
    },
    {
      "cell_type": "markdown",
      "source": [
        "Mixing the player to avoid the pattern with the winner on the first columns and the loser on the second one"
      ],
      "metadata": {
        "id": "wmRDn1GlPdUD"
      }
    },
    {
      "cell_type": "code",
      "source": [
        "trainingSet"
      ],
      "metadata": {
        "colab": {
          "base_uri": "https://localhost:8080/",
          "height": 419
        },
        "id": "YNQbwwB9LAsz",
        "outputId": "88a5b6ed-7069-4f78-b9d9-36e81a400a11"
      },
      "execution_count": 132,
      "outputs": [
        {
          "output_type": "execute_result",
          "data": {
            "text/plain": [
              "     Tournament  Surface  Round               Player1         Player2  Rank1  \\\n",
              "1             0        2      0             Moutet C.           Wu Y.   62.0   \n",
              "2             0        2      0           Watanuki Y.  Rinderknech A.  138.0   \n",
              "3             0        2      0  Van De Zandschulp B.      Ivashka I.   34.0   \n",
              "4             0        2      0         Etcheverry T.      Barrere G.   79.0   \n",
              "5             0        2      0             Sinner J.       Edmund K.   16.0   \n",
              "..          ...      ...    ...                   ...             ...    ...   \n",
              "500           2        2      4           Medvedev D.       Rublev A.    3.0   \n",
              "501           2        2      4            Alcaraz C.       Zverev A.    1.0   \n",
              "502           2        2      5           Djokovic N.      Shelton B.    2.0   \n",
              "503           2        2      5           Medvedev D.      Alcaraz C.    3.0   \n",
              "504           2        2      6           Djokovic N.     Medvedev D.    2.0   \n",
              "\n",
              "     Rank2    B1     B2   PS1    PS2  target  Player1Code  Player2Code  \n",
              "1    114.0  2.38   1.57  2.40   1.65       0          116          184  \n",
              "2     59.0  2.30   1.62  2.18   1.77       0          181          143  \n",
              "3     73.0  1.36   3.20  1.47   2.91       0          174           75  \n",
              "4     83.0  2.30   1.62  2.43   1.63       0           48            7  \n",
              "5    581.0  1.06  10.00  1.05  15.72       0          157           46  \n",
              "..     ...   ...    ...   ...    ...     ...          ...          ...  \n",
              "500    8.0  1.36   3.20  1.39   3.30       0          105          145  \n",
              "501   12.0  1.20   4.50  1.22   4.90       0            1          190  \n",
              "502   47.0  1.06  10.00  1.09   9.76       0           42          154  \n",
              "503    1.0  4.33   1.22  4.13   1.28       0          105            1  \n",
              "504    3.0  1.44   2.88  1.46   2.95       0           42          105  \n",
              "\n",
              "[504 rows x 14 columns]"
            ],
            "text/html": [
              "\n",
              "  <div id=\"df-844b5a1a-df96-4fae-a88f-964c557c130c\" class=\"colab-df-container\">\n",
              "    <div>\n",
              "<style scoped>\n",
              "    .dataframe tbody tr th:only-of-type {\n",
              "        vertical-align: middle;\n",
              "    }\n",
              "\n",
              "    .dataframe tbody tr th {\n",
              "        vertical-align: top;\n",
              "    }\n",
              "\n",
              "    .dataframe thead th {\n",
              "        text-align: right;\n",
              "    }\n",
              "</style>\n",
              "<table border=\"1\" class=\"dataframe\">\n",
              "  <thead>\n",
              "    <tr style=\"text-align: right;\">\n",
              "      <th></th>\n",
              "      <th>Tournament</th>\n",
              "      <th>Surface</th>\n",
              "      <th>Round</th>\n",
              "      <th>Player1</th>\n",
              "      <th>Player2</th>\n",
              "      <th>Rank1</th>\n",
              "      <th>Rank2</th>\n",
              "      <th>B1</th>\n",
              "      <th>B2</th>\n",
              "      <th>PS1</th>\n",
              "      <th>PS2</th>\n",
              "      <th>target</th>\n",
              "      <th>Player1Code</th>\n",
              "      <th>Player2Code</th>\n",
              "    </tr>\n",
              "  </thead>\n",
              "  <tbody>\n",
              "    <tr>\n",
              "      <th>1</th>\n",
              "      <td>0</td>\n",
              "      <td>2</td>\n",
              "      <td>0</td>\n",
              "      <td>Moutet C.</td>\n",
              "      <td>Wu Y.</td>\n",
              "      <td>62.0</td>\n",
              "      <td>114.0</td>\n",
              "      <td>2.38</td>\n",
              "      <td>1.57</td>\n",
              "      <td>2.40</td>\n",
              "      <td>1.65</td>\n",
              "      <td>0</td>\n",
              "      <td>116</td>\n",
              "      <td>184</td>\n",
              "    </tr>\n",
              "    <tr>\n",
              "      <th>2</th>\n",
              "      <td>0</td>\n",
              "      <td>2</td>\n",
              "      <td>0</td>\n",
              "      <td>Watanuki Y.</td>\n",
              "      <td>Rinderknech A.</td>\n",
              "      <td>138.0</td>\n",
              "      <td>59.0</td>\n",
              "      <td>2.30</td>\n",
              "      <td>1.62</td>\n",
              "      <td>2.18</td>\n",
              "      <td>1.77</td>\n",
              "      <td>0</td>\n",
              "      <td>181</td>\n",
              "      <td>143</td>\n",
              "    </tr>\n",
              "    <tr>\n",
              "      <th>3</th>\n",
              "      <td>0</td>\n",
              "      <td>2</td>\n",
              "      <td>0</td>\n",
              "      <td>Van De Zandschulp B.</td>\n",
              "      <td>Ivashka I.</td>\n",
              "      <td>34.0</td>\n",
              "      <td>73.0</td>\n",
              "      <td>1.36</td>\n",
              "      <td>3.20</td>\n",
              "      <td>1.47</td>\n",
              "      <td>2.91</td>\n",
              "      <td>0</td>\n",
              "      <td>174</td>\n",
              "      <td>75</td>\n",
              "    </tr>\n",
              "    <tr>\n",
              "      <th>4</th>\n",
              "      <td>0</td>\n",
              "      <td>2</td>\n",
              "      <td>0</td>\n",
              "      <td>Etcheverry T.</td>\n",
              "      <td>Barrere G.</td>\n",
              "      <td>79.0</td>\n",
              "      <td>83.0</td>\n",
              "      <td>2.30</td>\n",
              "      <td>1.62</td>\n",
              "      <td>2.43</td>\n",
              "      <td>1.63</td>\n",
              "      <td>0</td>\n",
              "      <td>48</td>\n",
              "      <td>7</td>\n",
              "    </tr>\n",
              "    <tr>\n",
              "      <th>5</th>\n",
              "      <td>0</td>\n",
              "      <td>2</td>\n",
              "      <td>0</td>\n",
              "      <td>Sinner J.</td>\n",
              "      <td>Edmund K.</td>\n",
              "      <td>16.0</td>\n",
              "      <td>581.0</td>\n",
              "      <td>1.06</td>\n",
              "      <td>10.00</td>\n",
              "      <td>1.05</td>\n",
              "      <td>15.72</td>\n",
              "      <td>0</td>\n",
              "      <td>157</td>\n",
              "      <td>46</td>\n",
              "    </tr>\n",
              "    <tr>\n",
              "      <th>...</th>\n",
              "      <td>...</td>\n",
              "      <td>...</td>\n",
              "      <td>...</td>\n",
              "      <td>...</td>\n",
              "      <td>...</td>\n",
              "      <td>...</td>\n",
              "      <td>...</td>\n",
              "      <td>...</td>\n",
              "      <td>...</td>\n",
              "      <td>...</td>\n",
              "      <td>...</td>\n",
              "      <td>...</td>\n",
              "      <td>...</td>\n",
              "      <td>...</td>\n",
              "    </tr>\n",
              "    <tr>\n",
              "      <th>500</th>\n",
              "      <td>2</td>\n",
              "      <td>2</td>\n",
              "      <td>4</td>\n",
              "      <td>Medvedev D.</td>\n",
              "      <td>Rublev A.</td>\n",
              "      <td>3.0</td>\n",
              "      <td>8.0</td>\n",
              "      <td>1.36</td>\n",
              "      <td>3.20</td>\n",
              "      <td>1.39</td>\n",
              "      <td>3.30</td>\n",
              "      <td>0</td>\n",
              "      <td>105</td>\n",
              "      <td>145</td>\n",
              "    </tr>\n",
              "    <tr>\n",
              "      <th>501</th>\n",
              "      <td>2</td>\n",
              "      <td>2</td>\n",
              "      <td>4</td>\n",
              "      <td>Alcaraz C.</td>\n",
              "      <td>Zverev A.</td>\n",
              "      <td>1.0</td>\n",
              "      <td>12.0</td>\n",
              "      <td>1.20</td>\n",
              "      <td>4.50</td>\n",
              "      <td>1.22</td>\n",
              "      <td>4.90</td>\n",
              "      <td>0</td>\n",
              "      <td>1</td>\n",
              "      <td>190</td>\n",
              "    </tr>\n",
              "    <tr>\n",
              "      <th>502</th>\n",
              "      <td>2</td>\n",
              "      <td>2</td>\n",
              "      <td>5</td>\n",
              "      <td>Djokovic N.</td>\n",
              "      <td>Shelton B.</td>\n",
              "      <td>2.0</td>\n",
              "      <td>47.0</td>\n",
              "      <td>1.06</td>\n",
              "      <td>10.00</td>\n",
              "      <td>1.09</td>\n",
              "      <td>9.76</td>\n",
              "      <td>0</td>\n",
              "      <td>42</td>\n",
              "      <td>154</td>\n",
              "    </tr>\n",
              "    <tr>\n",
              "      <th>503</th>\n",
              "      <td>2</td>\n",
              "      <td>2</td>\n",
              "      <td>5</td>\n",
              "      <td>Medvedev D.</td>\n",
              "      <td>Alcaraz C.</td>\n",
              "      <td>3.0</td>\n",
              "      <td>1.0</td>\n",
              "      <td>4.33</td>\n",
              "      <td>1.22</td>\n",
              "      <td>4.13</td>\n",
              "      <td>1.28</td>\n",
              "      <td>0</td>\n",
              "      <td>105</td>\n",
              "      <td>1</td>\n",
              "    </tr>\n",
              "    <tr>\n",
              "      <th>504</th>\n",
              "      <td>2</td>\n",
              "      <td>2</td>\n",
              "      <td>6</td>\n",
              "      <td>Djokovic N.</td>\n",
              "      <td>Medvedev D.</td>\n",
              "      <td>2.0</td>\n",
              "      <td>3.0</td>\n",
              "      <td>1.44</td>\n",
              "      <td>2.88</td>\n",
              "      <td>1.46</td>\n",
              "      <td>2.95</td>\n",
              "      <td>0</td>\n",
              "      <td>42</td>\n",
              "      <td>105</td>\n",
              "    </tr>\n",
              "  </tbody>\n",
              "</table>\n",
              "<p>504 rows × 14 columns</p>\n",
              "</div>\n",
              "    <div class=\"colab-df-buttons\">\n",
              "\n",
              "  <div class=\"colab-df-container\">\n",
              "    <button class=\"colab-df-convert\" onclick=\"convertToInteractive('df-844b5a1a-df96-4fae-a88f-964c557c130c')\"\n",
              "            title=\"Convert this dataframe to an interactive table.\"\n",
              "            style=\"display:none;\">\n",
              "\n",
              "  <svg xmlns=\"http://www.w3.org/2000/svg\" height=\"24px\" viewBox=\"0 -960 960 960\">\n",
              "    <path d=\"M120-120v-720h720v720H120Zm60-500h600v-160H180v160Zm220 220h160v-160H400v160Zm0 220h160v-160H400v160ZM180-400h160v-160H180v160Zm440 0h160v-160H620v160ZM180-180h160v-160H180v160Zm440 0h160v-160H620v160Z\"/>\n",
              "  </svg>\n",
              "    </button>\n",
              "\n",
              "  <style>\n",
              "    .colab-df-container {\n",
              "      display:flex;\n",
              "      gap: 12px;\n",
              "    }\n",
              "\n",
              "    .colab-df-convert {\n",
              "      background-color: #E8F0FE;\n",
              "      border: none;\n",
              "      border-radius: 50%;\n",
              "      cursor: pointer;\n",
              "      display: none;\n",
              "      fill: #1967D2;\n",
              "      height: 32px;\n",
              "      padding: 0 0 0 0;\n",
              "      width: 32px;\n",
              "    }\n",
              "\n",
              "    .colab-df-convert:hover {\n",
              "      background-color: #E2EBFA;\n",
              "      box-shadow: 0px 1px 2px rgba(60, 64, 67, 0.3), 0px 1px 3px 1px rgba(60, 64, 67, 0.15);\n",
              "      fill: #174EA6;\n",
              "    }\n",
              "\n",
              "    .colab-df-buttons div {\n",
              "      margin-bottom: 4px;\n",
              "    }\n",
              "\n",
              "    [theme=dark] .colab-df-convert {\n",
              "      background-color: #3B4455;\n",
              "      fill: #D2E3FC;\n",
              "    }\n",
              "\n",
              "    [theme=dark] .colab-df-convert:hover {\n",
              "      background-color: #434B5C;\n",
              "      box-shadow: 0px 1px 3px 1px rgba(0, 0, 0, 0.15);\n",
              "      filter: drop-shadow(0px 1px 2px rgba(0, 0, 0, 0.3));\n",
              "      fill: #FFFFFF;\n",
              "    }\n",
              "  </style>\n",
              "\n",
              "    <script>\n",
              "      const buttonEl =\n",
              "        document.querySelector('#df-844b5a1a-df96-4fae-a88f-964c557c130c button.colab-df-convert');\n",
              "      buttonEl.style.display =\n",
              "        google.colab.kernel.accessAllowed ? 'block' : 'none';\n",
              "\n",
              "      async function convertToInteractive(key) {\n",
              "        const element = document.querySelector('#df-844b5a1a-df96-4fae-a88f-964c557c130c');\n",
              "        const dataTable =\n",
              "          await google.colab.kernel.invokeFunction('convertToInteractive',\n",
              "                                                    [key], {});\n",
              "        if (!dataTable) return;\n",
              "\n",
              "        const docLinkHtml = 'Like what you see? Visit the ' +\n",
              "          '<a target=\"_blank\" href=https://colab.research.google.com/notebooks/data_table.ipynb>data table notebook</a>'\n",
              "          + ' to learn more about interactive tables.';\n",
              "        element.innerHTML = '';\n",
              "        dataTable['output_type'] = 'display_data';\n",
              "        await google.colab.output.renderOutput(dataTable, element);\n",
              "        const docLink = document.createElement('div');\n",
              "        docLink.innerHTML = docLinkHtml;\n",
              "        element.appendChild(docLink);\n",
              "      }\n",
              "    </script>\n",
              "  </div>\n",
              "\n",
              "\n",
              "<div id=\"df-f9959762-2e7a-46bd-ad89-0838bbeae2d8\">\n",
              "  <button class=\"colab-df-quickchart\" onclick=\"quickchart('df-f9959762-2e7a-46bd-ad89-0838bbeae2d8')\"\n",
              "            title=\"Suggest charts\"\n",
              "            style=\"display:none;\">\n",
              "\n",
              "<svg xmlns=\"http://www.w3.org/2000/svg\" height=\"24px\"viewBox=\"0 0 24 24\"\n",
              "     width=\"24px\">\n",
              "    <g>\n",
              "        <path d=\"M19 3H5c-1.1 0-2 .9-2 2v14c0 1.1.9 2 2 2h14c1.1 0 2-.9 2-2V5c0-1.1-.9-2-2-2zM9 17H7v-7h2v7zm4 0h-2V7h2v10zm4 0h-2v-4h2v4z\"/>\n",
              "    </g>\n",
              "</svg>\n",
              "  </button>\n",
              "\n",
              "<style>\n",
              "  .colab-df-quickchart {\n",
              "      --bg-color: #E8F0FE;\n",
              "      --fill-color: #1967D2;\n",
              "      --hover-bg-color: #E2EBFA;\n",
              "      --hover-fill-color: #174EA6;\n",
              "      --disabled-fill-color: #AAA;\n",
              "      --disabled-bg-color: #DDD;\n",
              "  }\n",
              "\n",
              "  [theme=dark] .colab-df-quickchart {\n",
              "      --bg-color: #3B4455;\n",
              "      --fill-color: #D2E3FC;\n",
              "      --hover-bg-color: #434B5C;\n",
              "      --hover-fill-color: #FFFFFF;\n",
              "      --disabled-bg-color: #3B4455;\n",
              "      --disabled-fill-color: #666;\n",
              "  }\n",
              "\n",
              "  .colab-df-quickchart {\n",
              "    background-color: var(--bg-color);\n",
              "    border: none;\n",
              "    border-radius: 50%;\n",
              "    cursor: pointer;\n",
              "    display: none;\n",
              "    fill: var(--fill-color);\n",
              "    height: 32px;\n",
              "    padding: 0;\n",
              "    width: 32px;\n",
              "  }\n",
              "\n",
              "  .colab-df-quickchart:hover {\n",
              "    background-color: var(--hover-bg-color);\n",
              "    box-shadow: 0 1px 2px rgba(60, 64, 67, 0.3), 0 1px 3px 1px rgba(60, 64, 67, 0.15);\n",
              "    fill: var(--button-hover-fill-color);\n",
              "  }\n",
              "\n",
              "  .colab-df-quickchart-complete:disabled,\n",
              "  .colab-df-quickchart-complete:disabled:hover {\n",
              "    background-color: var(--disabled-bg-color);\n",
              "    fill: var(--disabled-fill-color);\n",
              "    box-shadow: none;\n",
              "  }\n",
              "\n",
              "  .colab-df-spinner {\n",
              "    border: 2px solid var(--fill-color);\n",
              "    border-color: transparent;\n",
              "    border-bottom-color: var(--fill-color);\n",
              "    animation:\n",
              "      spin 1s steps(1) infinite;\n",
              "  }\n",
              "\n",
              "  @keyframes spin {\n",
              "    0% {\n",
              "      border-color: transparent;\n",
              "      border-bottom-color: var(--fill-color);\n",
              "      border-left-color: var(--fill-color);\n",
              "    }\n",
              "    20% {\n",
              "      border-color: transparent;\n",
              "      border-left-color: var(--fill-color);\n",
              "      border-top-color: var(--fill-color);\n",
              "    }\n",
              "    30% {\n",
              "      border-color: transparent;\n",
              "      border-left-color: var(--fill-color);\n",
              "      border-top-color: var(--fill-color);\n",
              "      border-right-color: var(--fill-color);\n",
              "    }\n",
              "    40% {\n",
              "      border-color: transparent;\n",
              "      border-right-color: var(--fill-color);\n",
              "      border-top-color: var(--fill-color);\n",
              "    }\n",
              "    60% {\n",
              "      border-color: transparent;\n",
              "      border-right-color: var(--fill-color);\n",
              "    }\n",
              "    80% {\n",
              "      border-color: transparent;\n",
              "      border-right-color: var(--fill-color);\n",
              "      border-bottom-color: var(--fill-color);\n",
              "    }\n",
              "    90% {\n",
              "      border-color: transparent;\n",
              "      border-bottom-color: var(--fill-color);\n",
              "    }\n",
              "  }\n",
              "</style>\n",
              "\n",
              "  <script>\n",
              "    async function quickchart(key) {\n",
              "      const quickchartButtonEl =\n",
              "        document.querySelector('#' + key + ' button');\n",
              "      quickchartButtonEl.disabled = true;  // To prevent multiple clicks.\n",
              "      quickchartButtonEl.classList.add('colab-df-spinner');\n",
              "      try {\n",
              "        const charts = await google.colab.kernel.invokeFunction(\n",
              "            'suggestCharts', [key], {});\n",
              "      } catch (error) {\n",
              "        console.error('Error during call to suggestCharts:', error);\n",
              "      }\n",
              "      quickchartButtonEl.classList.remove('colab-df-spinner');\n",
              "      quickchartButtonEl.classList.add('colab-df-quickchart-complete');\n",
              "    }\n",
              "    (() => {\n",
              "      let quickchartButtonEl =\n",
              "        document.querySelector('#df-f9959762-2e7a-46bd-ad89-0838bbeae2d8 button');\n",
              "      quickchartButtonEl.style.display =\n",
              "        google.colab.kernel.accessAllowed ? 'block' : 'none';\n",
              "    })();\n",
              "  </script>\n",
              "</div>\n",
              "    </div>\n",
              "  </div>\n"
            ]
          },
          "metadata": {},
          "execution_count": 132
        }
      ]
    },
    {
      "cell_type": "code",
      "source": [
        "swap_rows = trainingSet.index[::2]\n",
        "\n",
        "df_swapped = trainingSet.loc[swap_rows]\n",
        "df_swapped['Player1Code'], df_swapped['Player2Code'] = df_swapped['Player2Code'], df_swapped['Player1Code']\n",
        "df_swapped['target'] = 1\n",
        "df_swapped['Rank1'], df_swapped['Rank2'] = df_swapped['Rank2'], df_swapped['Rank1']\n",
        "df_swapped['B1'], df_swapped['B2'] = df_swapped['B2'], df_swapped['B1']\n",
        "df_swapped['PS1'], df_swapped['PS2'] = df_swapped['PS2'], df_swapped['PS1']\n",
        "\n",
        "trainingSet = pd.concat([trainingSet.loc[~trainingSet.index.isin(swap_rows)], df_swapped])"
      ],
      "metadata": {
        "id": "0NUGPyS-LHNX"
      },
      "execution_count": 133,
      "outputs": []
    },
    {
      "cell_type": "code",
      "source": [
        "trainingSet = trainingSet.drop([\"Player1\", \"Player2\"], axis=1)"
      ],
      "metadata": {
        "id": "MLcgGAt2U2XN"
      },
      "execution_count": 134,
      "outputs": []
    },
    {
      "cell_type": "markdown",
      "source": [
        "Scaling and splitting the data and rename the data set"
      ],
      "metadata": {
        "id": "xz0MLFEAUbzL"
      }
    },
    {
      "cell_type": "code",
      "source": [
        "trainingSet = shuffle(trainingSet)"
      ],
      "metadata": {
        "id": "sITOQbj7Y3D-"
      },
      "execution_count": 135,
      "outputs": []
    },
    {
      "cell_type": "code",
      "source": [
        "X_train = trainingSet[trainingSet[\"Tournament\"] != 3]\n",
        "X_test = trainingSet[trainingSet[\"Tournament\"] == 3]"
      ],
      "metadata": {
        "id": "sjj5sibHYPYv"
      },
      "execution_count": 136,
      "outputs": []
    },
    {
      "cell_type": "code",
      "source": [
        "y_train = X_train[\"target\"]\n",
        "y_test = X_test[\"target\"]"
      ],
      "metadata": {
        "id": "EcSQSCApYTgT"
      },
      "execution_count": 137,
      "outputs": []
    },
    {
      "cell_type": "code",
      "source": [
        "X_train = X_train.drop(columns=[\"target\"])\n",
        "X_test = X_test.drop(columns=[\"target\"])"
      ],
      "metadata": {
        "id": "4B0837eUZxTQ"
      },
      "execution_count": 138,
      "outputs": []
    },
    {
      "cell_type": "code",
      "source": [
        "standardScaler = StandardScaler()\n",
        "X_train = pd.DataFrame(standardScaler.fit_transform(X_train), columns = X_train.columns)\n",
        "X_test = pd.DataFrame(standardScaler.fit_transform(X_test), columns = X_test.columns)"
      ],
      "metadata": {
        "id": "M1uzxlaaFnbf"
      },
      "execution_count": 139,
      "outputs": []
    },
    {
      "cell_type": "code",
      "source": [
        "y_train = keras.utils.to_categorical(y_train)\n",
        "y_test = keras.utils.to_categorical(y_test)"
      ],
      "metadata": {
        "id": "mcKsWxstggzs"
      },
      "execution_count": 140,
      "outputs": []
    },
    {
      "cell_type": "markdown",
      "source": [
        "Creating the neural network model"
      ],
      "metadata": {
        "id": "_nB6HvFka5Hm"
      }
    },
    {
      "cell_type": "code",
      "source": [
        "model = Sequential([\n",
        "    Dense(units=56, input_shape=(11,), activation='relu'),\n",
        "    Dense(units=112, activation='relu'),\n",
        "    Dense(units=2, activation='softmax')\n",
        "])"
      ],
      "metadata": {
        "id": "IUYlsiX4Qlmn"
      },
      "execution_count": 141,
      "outputs": []
    },
    {
      "cell_type": "code",
      "source": [
        "model.compile(loss='categorical_crossentropy', optimizer='adam', metrics=['accuracy'])"
      ],
      "metadata": {
        "id": "l3O6wMoGavx8"
      },
      "execution_count": 142,
      "outputs": []
    },
    {
      "cell_type": "code",
      "source": [
        "model.fit(x=X_train, y=y_train, epochs=10, batch_size=50, verbose=1, validation_split=0.1)"
      ],
      "metadata": {
        "colab": {
          "base_uri": "https://localhost:8080/"
        },
        "id": "zsB03-YPbidM",
        "outputId": "11ec6f07-2c42-40e3-d184-315393aa7b5c"
      },
      "execution_count": 143,
      "outputs": [
        {
          "output_type": "stream",
          "name": "stdout",
          "text": [
            "Epoch 1/10\n",
            "7/7 [==============================] - 1s 56ms/step - loss: 0.6789 - accuracy: 0.5959 - val_loss: 0.6160 - val_accuracy: 0.6579\n",
            "Epoch 2/10\n",
            "7/7 [==============================] - 0s 11ms/step - loss: 0.6133 - accuracy: 0.6549 - val_loss: 0.5553 - val_accuracy: 0.7105\n",
            "Epoch 3/10\n",
            "7/7 [==============================] - 0s 10ms/step - loss: 0.5789 - accuracy: 0.6962 - val_loss: 0.5301 - val_accuracy: 0.6579\n",
            "Epoch 4/10\n",
            "7/7 [==============================] - 0s 11ms/step - loss: 0.5608 - accuracy: 0.7198 - val_loss: 0.5192 - val_accuracy: 0.6842\n",
            "Epoch 5/10\n",
            "7/7 [==============================] - 0s 8ms/step - loss: 0.5480 - accuracy: 0.7257 - val_loss: 0.5153 - val_accuracy: 0.6579\n",
            "Epoch 6/10\n",
            "7/7 [==============================] - 0s 12ms/step - loss: 0.5378 - accuracy: 0.7345 - val_loss: 0.5129 - val_accuracy: 0.6579\n",
            "Epoch 7/10\n",
            "7/7 [==============================] - 0s 8ms/step - loss: 0.5282 - accuracy: 0.7316 - val_loss: 0.5141 - val_accuracy: 0.6579\n",
            "Epoch 8/10\n",
            "7/7 [==============================] - 0s 12ms/step - loss: 0.5210 - accuracy: 0.7375 - val_loss: 0.5130 - val_accuracy: 0.6579\n",
            "Epoch 9/10\n",
            "7/7 [==============================] - 0s 8ms/step - loss: 0.5157 - accuracy: 0.7404 - val_loss: 0.5152 - val_accuracy: 0.6579\n",
            "Epoch 10/10\n",
            "7/7 [==============================] - 0s 9ms/step - loss: 0.5084 - accuracy: 0.7316 - val_loss: 0.5167 - val_accuracy: 0.6842\n"
          ]
        },
        {
          "output_type": "execute_result",
          "data": {
            "text/plain": [
              "<keras.src.callbacks.History at 0x7bdbbb141d80>"
            ]
          },
          "metadata": {},
          "execution_count": 143
        }
      ]
    },
    {
      "cell_type": "code",
      "source": [
        "y_pred = model.predict(X_test)"
      ],
      "metadata": {
        "colab": {
          "base_uri": "https://localhost:8080/"
        },
        "id": "yJy8XkC0aS5X",
        "outputId": "4f25789a-c169-40a7-c1b5-3f5468f58d6b"
      },
      "execution_count": 144,
      "outputs": [
        {
          "output_type": "stream",
          "name": "stdout",
          "text": [
            "4/4 [==============================] - 0s 3ms/step\n"
          ]
        }
      ]
    },
    {
      "cell_type": "code",
      "source": [
        "def correctValue(pred):\n",
        "  for i in range(pred.shape[0]):\n",
        "    value = pred[i]\n",
        "    if (value[0]>value[1]):\n",
        "      pred[i] = [1,0]\n",
        "    else:\n",
        "      pred[i] = [0,1]\n",
        "  return pred"
      ],
      "metadata": {
        "id": "XaYEbGndQ9uw"
      },
      "execution_count": 145,
      "outputs": []
    },
    {
      "cell_type": "code",
      "source": [
        "y_pred"
      ],
      "metadata": {
        "colab": {
          "base_uri": "https://localhost:8080/"
        },
        "id": "XulcvzY-Zkzk",
        "outputId": "45a84c40-f77d-4c1d-a55a-da3691e4c07e"
      },
      "execution_count": 65,
      "outputs": [
        {
          "output_type": "execute_result",
          "data": {
            "text/plain": [
              "array([[0.29883546, 0.7011644 ],\n",
              "       [0.58533317, 0.41466677],\n",
              "       [0.11933597, 0.88066393],\n",
              "       [0.36903787, 0.63096213],\n",
              "       [0.5306065 , 0.4693935 ],\n",
              "       [0.58427924, 0.4157208 ],\n",
              "       [0.50377107, 0.49622887],\n",
              "       [0.52560407, 0.47439596],\n",
              "       [0.62153304, 0.37846702],\n",
              "       [0.5479605 , 0.45203945],\n",
              "       [0.2964888 , 0.7035112 ],\n",
              "       [0.43335482, 0.5666452 ],\n",
              "       [0.43241856, 0.5675815 ],\n",
              "       [0.5698598 , 0.43014014],\n",
              "       [0.55125666, 0.44874325],\n",
              "       [0.6121557 , 0.38784435],\n",
              "       [0.58947897, 0.41052103],\n",
              "       [0.3862544 , 0.61374557],\n",
              "       [0.61474794, 0.38525212],\n",
              "       [0.56615156, 0.43384847],\n",
              "       [0.3460653 , 0.6539347 ]], dtype=float32)"
            ]
          },
          "metadata": {},
          "execution_count": 65
        }
      ]
    },
    {
      "cell_type": "code",
      "source": [
        "score = model.evaluate(X_test, y_test, verbose=0)\n",
        "print('Test loss:', score[0])\n",
        "print('Test accuracy:', score[1])"
      ],
      "metadata": {
        "colab": {
          "base_uri": "https://localhost:8080/"
        },
        "id": "enpN9QTkR53C",
        "outputId": "9928f10c-0cbe-4936-a5c1-8e71f34af06f"
      },
      "execution_count": 146,
      "outputs": [
        {
          "output_type": "stream",
          "name": "stdout",
          "text": [
            "Test loss: 0.521966278553009\n",
            "Test accuracy: 0.7244094610214233\n"
          ]
        }
      ]
    },
    {
      "cell_type": "code",
      "source": [
        "score\n",
        "print('Test loss:', score[0])\n",
        "print('Test accuracy:', score[1])"
      ],
      "metadata": {
        "colab": {
          "base_uri": "https://localhost:8080/"
        },
        "id": "BJwJF4JuVMVR",
        "outputId": "722d5662-8b4f-472e-ef23-7442b7c95884"
      },
      "execution_count": 147,
      "outputs": [
        {
          "output_type": "stream",
          "name": "stdout",
          "text": [
            "Test loss: 0.521966278553009\n",
            "Test accuracy: 0.7244094610214233\n"
          ]
        }
      ]
    },
    {
      "cell_type": "code",
      "source": [
        "y_pred"
      ],
      "metadata": {
        "colab": {
          "base_uri": "https://localhost:8080/"
        },
        "id": "WRTsA3c0RCeU",
        "outputId": "c3d9859e-e0c8-49fb-ed43-fbdac71982d7"
      },
      "execution_count": 68,
      "outputs": [
        {
          "output_type": "execute_result",
          "data": {
            "text/plain": [
              "array([[0.29883546, 0.7011644 ],\n",
              "       [0.58533317, 0.41466677],\n",
              "       [0.11933597, 0.88066393],\n",
              "       [0.36903787, 0.63096213],\n",
              "       [0.5306065 , 0.4693935 ],\n",
              "       [0.58427924, 0.4157208 ],\n",
              "       [0.50377107, 0.49622887],\n",
              "       [0.52560407, 0.47439596],\n",
              "       [0.62153304, 0.37846702],\n",
              "       [0.5479605 , 0.45203945],\n",
              "       [0.2964888 , 0.7035112 ],\n",
              "       [0.43335482, 0.5666452 ],\n",
              "       [0.43241856, 0.5675815 ],\n",
              "       [0.5698598 , 0.43014014],\n",
              "       [0.55125666, 0.44874325],\n",
              "       [0.6121557 , 0.38784435],\n",
              "       [0.58947897, 0.41052103],\n",
              "       [0.3862544 , 0.61374557],\n",
              "       [0.61474794, 0.38525212],\n",
              "       [0.56615156, 0.43384847],\n",
              "       [0.3460653 , 0.6539347 ]], dtype=float32)"
            ]
          },
          "metadata": {},
          "execution_count": 68
        }
      ]
    },
    {
      "cell_type": "code",
      "source": [
        "y_pred = correctValue(y_pred)"
      ],
      "metadata": {
        "id": "yeqP-c0SbUWx"
      },
      "execution_count": 148,
      "outputs": []
    },
    {
      "cell_type": "code",
      "source": [
        "y_test_first = np.array([tmp[0] for tmp in y_test])"
      ],
      "metadata": {
        "id": "kj_fT3YdRLs1"
      },
      "execution_count": 149,
      "outputs": []
    },
    {
      "cell_type": "code",
      "source": [
        "y_pred_first = np.array([tmp[0] for tmp in y_pred])"
      ],
      "metadata": {
        "id": "1S8Ezki-5Deh"
      },
      "execution_count": 150,
      "outputs": []
    },
    {
      "cell_type": "code",
      "source": [
        "def firstValue(pred):\n",
        "  return np.array([tmp[0] for tmp in pred])"
      ],
      "metadata": {
        "id": "pBcaBzqCam18"
      },
      "execution_count": 151,
      "outputs": []
    },
    {
      "cell_type": "code",
      "source": [
        "conf_matrix = confusion_matrix(y_test_first, y_pred_first, labels=None, sample_weight=None)\n",
        "sns.heatmap(conf_matrix, annot=True, fmt=\"d\", cmap=\"Blues\", annot_kws={\"size\": 16})\n",
        "plt.xlabel('Predicted labels')\n",
        "plt.ylabel('True labels')\n",
        "plt.title('Confusion Matrix')\n",
        "plt.show()"
      ],
      "metadata": {
        "id": "2eqPVOQhb16A",
        "outputId": "fbb7ae1f-e7e7-4943-cb1b-3b31d10640fb",
        "colab": {
          "base_uri": "https://localhost:8080/",
          "height": 472
        }
      },
      "execution_count": 152,
      "outputs": [
        {
          "output_type": "display_data",
          "data": {
            "text/plain": [
              "<Figure size 640x480 with 2 Axes>"
            ],
            "image/png": "[encoded data removed]"
          },
          "metadata": {}
        }
      ]
    },
    {
      "cell_type": "code",
      "source": [
        "# Define the neural network model\n",
        "def create_model(optimizer='adam', loss='binary_crossentropy', firstLayer=11, secondLayer=11):\n",
        "    model = Sequential()\n",
        "    model.add(Dense(56, input_dim=11, activation='relu'))\n",
        "    model.add(Dense(112, activation='relu'))\n",
        "    model.add(Dense(2, activation='softmax'))\n",
        "    model.compile(loss=loss, optimizer=optimizer, metrics=['accuracy'])\n",
        "    return model\n",
        "\n",
        "\n",
        "# Define the hyperparameter grid\n",
        "param_grid = {#'batch_size': [10, 20, 40, 50],\n",
        "              'batch_size': [10, 20, 30],\n",
        "              #'epochs': [ 20, 40, 50],\n",
        "              'epochs': [10, 20, 30],\n",
        "              'optimizer': ['adam', 'rmsprop'],\n",
        "              #'loss': ['binary_crossentropy','categorical_crossentropy', 'hinge'],\n",
        "              'loss': ['categorical_crossentropy'],\n",
        "              'firstLayer': [11, 22, 44, 88],\n",
        "              'secondLayer': [22, 44, 88, 110]}\n",
        "\n",
        "\n",
        "# Initialize the best accuracy and the best hyperparameters\n",
        "best_accuracy = 0\n",
        "best_params = {}\n",
        "\n",
        "# Loop over the hyperparameter grid\n",
        "for params in product(*param_grid.values()):\n",
        "    # Create the neural network model with the current hyperparameters\n",
        "    model = create_model(params[2], params[3], params[4], params[5])\n",
        "\n",
        "    # Train the model\n",
        "    model.fit(X_train, y_train, batch_size=params[0], epochs=params[1], verbose=0)\n",
        "\n",
        "    # Evaluate the model on the testing set\n",
        "    y_pred = model.predict(X_test)\n",
        "    y_pred = correctValue(y_pred)\n",
        "    accuracy = accuracy_score(y_test, y_pred)\n",
        "\n",
        "    print(\"Hyperparameters: \", best_params)\n",
        "    print(\"Accuracy: \", best_accuracy)\n",
        "    print(\"--------------------------------------\")\n",
        "\n",
        "    # Update the best accuracy and the best hyperparameters\n",
        "    if accuracy > best_accuracy:\n",
        "        best_accuracy = accuracy\n",
        "        best_params = params\n",
        "\n",
        "# Print the best hyperparameters\n",
        "print(\"Best hyperparameters: \", best_params)\n",
        "print(\"Best accuracy: \", best_accuracy)"
      ],
      "metadata": {
        "colab": {
          "base_uri": "https://localhost:8080/"
        },
        "id": "8gUM3OnLWDMv",
        "outputId": "04f61e2c-a87b-4fda-d016-29a66b6ef0f1"
      },
      "execution_count": null,
      "outputs": [
        {
          "output_type": "stream",
          "name": "stdout",
          "text": [
            "4/4 [==============================] - 0s 3ms/step\n",
            "Hyperparameters:  {}\n",
            "Accuracy:  0\n",
            "--------------------------------------\n",
            "4/4 [==============================] - 0s 4ms/step\n",
            "Hyperparameters:  (10, 10, 'adam', 'categorical_crossentropy', 11, 22)\n",
            "Accuracy:  0.7007874015748031\n",
            "--------------------------------------\n",
            "4/4 [==============================] - 0s 4ms/step\n",
            "Hyperparameters:  (10, 10, 'adam', 'categorical_crossentropy', 11, 44)\n",
            "Accuracy:  0.7165354330708661\n",
            "--------------------------------------\n",
            "4/4 [==============================] - 0s 3ms/step\n",
            "Hyperparameters:  (10, 10, 'adam', 'categorical_crossentropy', 11, 44)\n",
            "Accuracy:  0.7165354330708661\n",
            "--------------------------------------\n",
            "4/4 [==============================] - 0s 4ms/step\n",
            "Hyperparameters:  (10, 10, 'adam', 'categorical_crossentropy', 11, 110)\n",
            "Accuracy:  0.7322834645669292\n",
            "--------------------------------------\n",
            "4/4 [==============================] - 0s 4ms/step\n",
            "Hyperparameters:  (10, 10, 'adam', 'categorical_crossentropy', 11, 110)\n",
            "Accuracy:  0.7322834645669292\n",
            "--------------------------------------\n",
            "4/4 [==============================] - 0s 3ms/step\n",
            "Hyperparameters:  (10, 10, 'adam', 'categorical_crossentropy', 11, 110)\n",
            "Accuracy:  0.7322834645669292\n",
            "--------------------------------------\n",
            "4/4 [==============================] - 0s 6ms/step\n",
            "Hyperparameters:  (10, 10, 'adam', 'categorical_crossentropy', 22, 88)\n",
            "Accuracy:  0.7480314960629921\n",
            "--------------------------------------\n",
            "4/4 [==============================] - 0s 3ms/step\n",
            "Hyperparameters:  (10, 10, 'adam', 'categorical_crossentropy', 22, 88)\n",
            "Accuracy:  0.7480314960629921\n",
            "--------------------------------------\n",
            "4/4 [==============================] - 0s 4ms/step\n",
            "Hyperparameters:  (10, 10, 'adam', 'categorical_crossentropy', 22, 88)\n",
            "Accuracy:  0.7480314960629921\n",
            "--------------------------------------\n",
            "4/4 [==============================] - 0s 3ms/step\n",
            "Hyperparameters:  (10, 10, 'adam', 'categorical_crossentropy', 22, 88)\n",
            "Accuracy:  0.7480314960629921\n",
            "--------------------------------------\n",
            "4/4 [==============================] - 0s 4ms/step\n",
            "Hyperparameters:  (10, 10, 'adam', 'categorical_crossentropy', 22, 88)\n",
            "Accuracy:  0.7480314960629921\n",
            "--------------------------------------\n",
            "4/4 [==============================] - 0s 3ms/step\n",
            "Hyperparameters:  (10, 10, 'adam', 'categorical_crossentropy', 22, 88)\n",
            "Accuracy:  0.7480314960629921\n",
            "--------------------------------------\n",
            "4/4 [==============================] - 0s 4ms/step\n",
            "Hyperparameters:  (10, 10, 'adam', 'categorical_crossentropy', 22, 88)\n",
            "Accuracy:  0.7480314960629921\n",
            "--------------------------------------\n",
            "4/4 [==============================] - 0s 4ms/step\n",
            "Hyperparameters:  (10, 10, 'adam', 'categorical_crossentropy', 22, 88)\n",
            "Accuracy:  0.7480314960629921\n",
            "--------------------------------------\n",
            "4/4 [==============================] - 0s 3ms/step\n",
            "Hyperparameters:  (10, 10, 'adam', 'categorical_crossentropy', 22, 88)\n",
            "Accuracy:  0.7480314960629921\n",
            "--------------------------------------\n",
            "4/4 [==============================] - 0s 3ms/step\n",
            "Hyperparameters:  (10, 10, 'adam', 'categorical_crossentropy', 22, 88)\n",
            "Accuracy:  0.7480314960629921\n",
            "--------------------------------------\n",
            "4/4 [==============================] - 0s 3ms/step\n",
            "Hyperparameters:  (10, 10, 'adam', 'categorical_crossentropy', 22, 88)\n",
            "Accuracy:  0.7480314960629921\n",
            "--------------------------------------\n",
            "4/4 [==============================] - 0s 5ms/step\n",
            "Hyperparameters:  (10, 10, 'adam', 'categorical_crossentropy', 22, 88)\n",
            "Accuracy:  0.7480314960629921\n",
            "--------------------------------------\n",
            "4/4 [==============================] - 0s 4ms/step\n",
            "Hyperparameters:  (10, 10, 'adam', 'categorical_crossentropy', 22, 88)\n",
            "Accuracy:  0.7480314960629921\n",
            "--------------------------------------\n",
            "4/4 [==============================] - 0s 4ms/step\n",
            "Hyperparameters:  (10, 10, 'adam', 'categorical_crossentropy', 22, 88)\n",
            "Accuracy:  0.7480314960629921\n",
            "--------------------------------------\n"
          ]
        }
      ]
    },
    {
      "cell_type": "code",
      "source": [
        "y_test_first = firstValue(y_test)\n",
        "y_pred_first = firstValue(y_pred)"
      ],
      "metadata": {
        "id": "ft75Rxh9KfRp"
      },
      "execution_count": 76,
      "outputs": []
    },
    {
      "cell_type": "code",
      "source": [
        "conf_matrix = confusion_matrix(y_test_first, y_pred_first, labels=None, sample_weight=None)\n",
        "sns.heatmap(conf_matrix, annot=True, fmt=\"d\", cmap=\"Blues\", annot_kws={\"size\": 16})\n",
        "plt.xlabel('Predicted labels')\n",
        "plt.ylabel('True labels')\n",
        "plt.title('Confusion Matrix')\n",
        "plt.show()"
      ],
      "metadata": {
        "colab": {
          "base_uri": "https://localhost:8080/",
          "height": 472
        },
        "id": "QwgknOQiimQv",
        "outputId": "5267ad97-5e65-4bef-cdde-8b48cca06e8e"
      },
      "execution_count": 77,
      "outputs": [
        {
          "output_type": "display_data",
          "data": {
            "text/plain": [
              "<Figure size 640x480 with 2 Axes>"
            ],
            "image/png": "[encoded data removed]"
          },
          "metadata": {}
        }
      ]
    },
    {
      "cell_type": "code",
      "source": [],
      "metadata": {
        "id": "VGujrf46ISxj"
      },
      "execution_count": null,
      "outputs": []
    }
  ]
}