{
  "nbformat": 4,
  "nbformat_minor": 0,
  "metadata": {
    "colab": {
      "provenance": [],
      "authorship_tag": "ABX9TyMXuzrmotyqndGPkte070zZ",
      "include_colab_link": true
    },
    "kernelspec": {
      "name": "python3",
      "display_name": "Python 3"
    },
    "language_info": {
      "name": "python"
    },
    "accelerator": "TPU"
  },
  "cells": [
    {
      "cell_type": "markdown",
      "metadata": {
        "id": "view-in-github",
        "colab_type": "text"
      },
      "source": [
        "<a href=\"https://colab.research.google.com/github/Martipetti/MachineLearning/blob/develop-martipetti/Modelli/Rete%20Neurale.ipynb\" target=\"_parent\"><img src=\"https://colab.research.google.com/assets/colab-badge.svg\" alt=\"Open In Colab\"/></a>"
      ]
    },
    {
      "cell_type": "markdown",
      "source": [
        "# Neural Network"
      ],
      "metadata": {
        "id": "kJmRNKAHmLTR"
      }
    },
    {
      "cell_type": "code",
      "execution_count": 343,
      "metadata": {
        "id": "VNlvHA9smANn"
      },
      "outputs": [],
      "source": [
        "import pandas as pd\n",
        "import numpy as np\n",
        "import seaborn as sns\n",
        "import keras\n",
        "from keras.models import Sequential\n",
        "from keras.layers import Dense\n",
        "from keras.optimizers import Adam, RMSprop\n",
        "#from keras.wrappers.scikit_learn import KerasClassifier\n",
        "from sklearn.utils import shuffle\n",
        "from sklearn.model_selection import GridSearchCV\n",
        "from sklearn.preprocessing import LabelEncoder\n",
        "from sklearn.neural_network import MLPClassifier\n",
        "from sklearn.decomposition import PCA\n",
        "from sklearn.preprocessing import StandardScaler\n",
        "from sklearn.metrics import confusion_matrix, accuracy_score\n",
        "import matplotlib.pyplot as plt\n",
        "from sklearn.model_selection import train_test_split\n",
        "from itertools import product\n",
        "from sklearn.metrics import roc_curve, roc_auc_score"
      ]
    },
    {
      "cell_type": "markdown",
      "source": [
        "Download the data"
      ],
      "metadata": {
        "id": "kpByNVQfOXk8"
      }
    },
    {
      "cell_type": "code",
      "source": [
        "link = 'http://tennis-data.co.uk/2023/2023.xlsx'\n",
        "totalData = pd.read_excel(link)"
      ],
      "metadata": {
        "id": "ZRYI62wSmJTT"
      },
      "execution_count": 344,
      "outputs": []
    },
    {
      "cell_type": "markdown",
      "source": [
        "Cleaning DataSet"
      ],
      "metadata": {
        "id": "TdCageKCmlqc"
      }
    },
    {
      "cell_type": "code",
      "source": [
        "totalData = totalData[totalData['Series'] == 'Grand Slam']"
      ],
      "metadata": {
        "id": "umm3aRJrwCBC"
      },
      "execution_count": 345,
      "outputs": []
    },
    {
      "cell_type": "code",
      "source": [
        "trainingSet = totalData[[\"Tournament\", \"Surface\", \"Round\", \"Winner\", \"Loser\", \"WRank\", \"LRank\", \"B365W\", \"B365L\", \"PSW\", \"PSL\"]]"
      ],
      "metadata": {
        "id": "9j4rM7vBwQtg"
      },
      "execution_count": 346,
      "outputs": []
    },
    {
      "cell_type": "code",
      "source": [
        "for column in trainingSet:\n",
        "  trainingSet.dropna(subset=[column], inplace=True)"
      ],
      "metadata": {
        "colab": {
          "base_uri": "https://localhost:8080/"
        },
        "id": "USWzNjqo05JY",
        "outputId": "bf6b516b-9a29-4b49-f42c-109f2736740e"
      },
      "execution_count": 347,
      "outputs": [
        {
          "output_type": "stream",
          "name": "stderr",
          "text": [
            "<ipython-input-347-ce7461797c1b>:2: SettingWithCopyWarning: \n",
            "A value is trying to be set on a copy of a slice from a DataFrame\n",
            "\n",
            "See the caveats in the documentation: https://pandas.pydata.org/pandas-docs/stable/user_guide/indexing.html#returning-a-view-versus-a-copy\n",
            "  trainingSet.dropna(subset=[column], inplace=True)\n",
            "<ipython-input-347-ce7461797c1b>:2: SettingWithCopyWarning: \n",
            "A value is trying to be set on a copy of a slice from a DataFrame\n",
            "\n",
            "See the caveats in the documentation: https://pandas.pydata.org/pandas-docs/stable/user_guide/indexing.html#returning-a-view-versus-a-copy\n",
            "  trainingSet.dropna(subset=[column], inplace=True)\n",
            "<ipython-input-347-ce7461797c1b>:2: SettingWithCopyWarning: \n",
            "A value is trying to be set on a copy of a slice from a DataFrame\n",
            "\n",
            "See the caveats in the documentation: https://pandas.pydata.org/pandas-docs/stable/user_guide/indexing.html#returning-a-view-versus-a-copy\n",
            "  trainingSet.dropna(subset=[column], inplace=True)\n",
            "<ipython-input-347-ce7461797c1b>:2: SettingWithCopyWarning: \n",
            "A value is trying to be set on a copy of a slice from a DataFrame\n",
            "\n",
            "See the caveats in the documentation: https://pandas.pydata.org/pandas-docs/stable/user_guide/indexing.html#returning-a-view-versus-a-copy\n",
            "  trainingSet.dropna(subset=[column], inplace=True)\n",
            "<ipython-input-347-ce7461797c1b>:2: SettingWithCopyWarning: \n",
            "A value is trying to be set on a copy of a slice from a DataFrame\n",
            "\n",
            "See the caveats in the documentation: https://pandas.pydata.org/pandas-docs/stable/user_guide/indexing.html#returning-a-view-versus-a-copy\n",
            "  trainingSet.dropna(subset=[column], inplace=True)\n",
            "<ipython-input-347-ce7461797c1b>:2: SettingWithCopyWarning: \n",
            "A value is trying to be set on a copy of a slice from a DataFrame\n",
            "\n",
            "See the caveats in the documentation: https://pandas.pydata.org/pandas-docs/stable/user_guide/indexing.html#returning-a-view-versus-a-copy\n",
            "  trainingSet.dropna(subset=[column], inplace=True)\n",
            "<ipython-input-347-ce7461797c1b>:2: SettingWithCopyWarning: \n",
            "A value is trying to be set on a copy of a slice from a DataFrame\n",
            "\n",
            "See the caveats in the documentation: https://pandas.pydata.org/pandas-docs/stable/user_guide/indexing.html#returning-a-view-versus-a-copy\n",
            "  trainingSet.dropna(subset=[column], inplace=True)\n",
            "<ipython-input-347-ce7461797c1b>:2: SettingWithCopyWarning: \n",
            "A value is trying to be set on a copy of a slice from a DataFrame\n",
            "\n",
            "See the caveats in the documentation: https://pandas.pydata.org/pandas-docs/stable/user_guide/indexing.html#returning-a-view-versus-a-copy\n",
            "  trainingSet.dropna(subset=[column], inplace=True)\n",
            "<ipython-input-347-ce7461797c1b>:2: SettingWithCopyWarning: \n",
            "A value is trying to be set on a copy of a slice from a DataFrame\n",
            "\n",
            "See the caveats in the documentation: https://pandas.pydata.org/pandas-docs/stable/user_guide/indexing.html#returning-a-view-versus-a-copy\n",
            "  trainingSet.dropna(subset=[column], inplace=True)\n",
            "<ipython-input-347-ce7461797c1b>:2: SettingWithCopyWarning: \n",
            "A value is trying to be set on a copy of a slice from a DataFrame\n",
            "\n",
            "See the caveats in the documentation: https://pandas.pydata.org/pandas-docs/stable/user_guide/indexing.html#returning-a-view-versus-a-copy\n",
            "  trainingSet.dropna(subset=[column], inplace=True)\n",
            "<ipython-input-347-ce7461797c1b>:2: SettingWithCopyWarning: \n",
            "A value is trying to be set on a copy of a slice from a DataFrame\n",
            "\n",
            "See the caveats in the documentation: https://pandas.pydata.org/pandas-docs/stable/user_guide/indexing.html#returning-a-view-versus-a-copy\n",
            "  trainingSet.dropna(subset=[column], inplace=True)\n"
          ]
        }
      ]
    },
    {
      "cell_type": "code",
      "source": [
        "trainingSet.reset_index(drop=True, inplace=True)\n",
        "trainingSet.index = range(1, len(trainingSet) + 1)"
      ],
      "metadata": {
        "id": "sKWT9uSd0lKI"
      },
      "execution_count": 348,
      "outputs": []
    },
    {
      "cell_type": "code",
      "source": [
        "nuovi_nomi_colonne = [\"Tournament\",\"Surface\", \"Round\", \"Player1\", \"Player2\", \"Rank1\", \"Rank2\", \"B1\", \"B2\", \"PS1\", \"PS2\"]\n",
        "trainingSet.columns = nuovi_nomi_colonne"
      ],
      "metadata": {
        "id": "e3fqfA201hR-"
      },
      "execution_count": 349,
      "outputs": []
    },
    {
      "cell_type": "code",
      "source": [
        "trainingSet[\"target\"] = 0"
      ],
      "metadata": {
        "id": "BwgFng9O2XoQ",
        "outputId": "46bf96cc-42c4-4b06-932a-eeacdfb4ff76",
        "colab": {
          "base_uri": "https://localhost:8080/"
        }
      },
      "execution_count": 350,
      "outputs": [
        {
          "output_type": "stream",
          "name": "stderr",
          "text": [
            "<ipython-input-350-60ba1f42b5c8>:1: SettingWithCopyWarning: \n",
            "A value is trying to be set on a copy of a slice from a DataFrame.\n",
            "Try using .loc[row_indexer,col_indexer] = value instead\n",
            "\n",
            "See the caveats in the documentation: https://pandas.pydata.org/pandas-docs/stable/user_guide/indexing.html#returning-a-view-versus-a-copy\n",
            "  trainingSet[\"target\"] = 0\n"
          ]
        }
      ]
    },
    {
      "cell_type": "markdown",
      "source": [
        "Mapping string to integer"
      ],
      "metadata": {
        "id": "UFY29Wi6PZg3"
      }
    },
    {
      "cell_type": "code",
      "source": [
        "trainingSet[\"Tournament\"] = trainingSet[\"Tournament\"].astype(\"category\")\n",
        "trainingSet[\"Surface\"] = trainingSet[\"Surface\"].astype(\"category\")\n",
        "trainingSet[\"Round\"] = trainingSet[\"Round\"].astype(\"category\")\n",
        "trainingSet[\"Player1\"] = trainingSet[\"Player1\"].astype(\"category\")\n",
        "trainingSet[\"Player2\"] = trainingSet[\"Player2\"].astype(\"category\")"
      ],
      "metadata": {
        "id": "K_1SYnkX2rX1",
        "outputId": "52387533-910f-463b-def8-dacfeaf5fcf2",
        "colab": {
          "base_uri": "https://localhost:8080/"
        }
      },
      "execution_count": 351,
      "outputs": [
        {
          "output_type": "stream",
          "name": "stderr",
          "text": [
            "<ipython-input-351-1d9e29e86b61>:1: SettingWithCopyWarning: \n",
            "A value is trying to be set on a copy of a slice from a DataFrame.\n",
            "Try using .loc[row_indexer,col_indexer] = value instead\n",
            "\n",
            "See the caveats in the documentation: https://pandas.pydata.org/pandas-docs/stable/user_guide/indexing.html#returning-a-view-versus-a-copy\n",
            "  trainingSet[\"Tournament\"] = trainingSet[\"Tournament\"].astype(\"category\")\n",
            "<ipython-input-351-1d9e29e86b61>:2: SettingWithCopyWarning: \n",
            "A value is trying to be set on a copy of a slice from a DataFrame.\n",
            "Try using .loc[row_indexer,col_indexer] = value instead\n",
            "\n",
            "See the caveats in the documentation: https://pandas.pydata.org/pandas-docs/stable/user_guide/indexing.html#returning-a-view-versus-a-copy\n",
            "  trainingSet[\"Surface\"] = trainingSet[\"Surface\"].astype(\"category\")\n",
            "<ipython-input-351-1d9e29e86b61>:3: SettingWithCopyWarning: \n",
            "A value is trying to be set on a copy of a slice from a DataFrame.\n",
            "Try using .loc[row_indexer,col_indexer] = value instead\n",
            "\n",
            "See the caveats in the documentation: https://pandas.pydata.org/pandas-docs/stable/user_guide/indexing.html#returning-a-view-versus-a-copy\n",
            "  trainingSet[\"Round\"] = trainingSet[\"Round\"].astype(\"category\")\n",
            "<ipython-input-351-1d9e29e86b61>:4: SettingWithCopyWarning: \n",
            "A value is trying to be set on a copy of a slice from a DataFrame.\n",
            "Try using .loc[row_indexer,col_indexer] = value instead\n",
            "\n",
            "See the caveats in the documentation: https://pandas.pydata.org/pandas-docs/stable/user_guide/indexing.html#returning-a-view-versus-a-copy\n",
            "  trainingSet[\"Player1\"] = trainingSet[\"Player1\"].astype(\"category\")\n",
            "<ipython-input-351-1d9e29e86b61>:5: SettingWithCopyWarning: \n",
            "A value is trying to be set on a copy of a slice from a DataFrame.\n",
            "Try using .loc[row_indexer,col_indexer] = value instead\n",
            "\n",
            "See the caveats in the documentation: https://pandas.pydata.org/pandas-docs/stable/user_guide/indexing.html#returning-a-view-versus-a-copy\n",
            "  trainingSet[\"Player2\"] = trainingSet[\"Player2\"].astype(\"category\")\n"
          ]
        }
      ]
    },
    {
      "cell_type": "code",
      "source": [
        "trainingSet.dtypes"
      ],
      "metadata": {
        "colab": {
          "base_uri": "https://localhost:8080/"
        },
        "id": "Amtt9jIN3wTy",
        "outputId": "5ec031a3-bb3e-45cf-81a7-cf5572b5ff2f"
      },
      "execution_count": 352,
      "outputs": [
        {
          "output_type": "execute_result",
          "data": {
            "text/plain": [
              "Tournament    category\n",
              "Surface       category\n",
              "Round         category\n",
              "Player1       category\n",
              "Player2       category\n",
              "Rank1          float64\n",
              "Rank2          float64\n",
              "B1             float64\n",
              "B2             float64\n",
              "PS1            float64\n",
              "PS2            float64\n",
              "target           int64\n",
              "dtype: object"
            ]
          },
          "metadata": {},
          "execution_count": 352
        }
      ]
    },
    {
      "cell_type": "code",
      "source": [
        "label_encoder = LabelEncoder()\n",
        "trainingSet[\"Tournament\"] = label_encoder.fit_transform(trainingSet[\"Tournament\"])\n",
        "trainingSet[\"Surface\"] = label_encoder.fit_transform(trainingSet[\"Surface\"])\n",
        "trainingSet[\"Round\"] = label_encoder.fit_transform(trainingSet[\"Round\"])"
      ],
      "metadata": {
        "id": "gSksSsvl4kQY",
        "outputId": "da8a4b1e-e5dd-459f-8d9a-b1d3d5f80bda",
        "colab": {
          "base_uri": "https://localhost:8080/"
        }
      },
      "execution_count": 353,
      "outputs": [
        {
          "output_type": "stream",
          "name": "stderr",
          "text": [
            "<ipython-input-353-be19e985f5d6>:2: SettingWithCopyWarning: \n",
            "A value is trying to be set on a copy of a slice from a DataFrame.\n",
            "Try using .loc[row_indexer,col_indexer] = value instead\n",
            "\n",
            "See the caveats in the documentation: https://pandas.pydata.org/pandas-docs/stable/user_guide/indexing.html#returning-a-view-versus-a-copy\n",
            "  trainingSet[\"Tournament\"] = label_encoder.fit_transform(trainingSet[\"Tournament\"])\n",
            "<ipython-input-353-be19e985f5d6>:3: SettingWithCopyWarning: \n",
            "A value is trying to be set on a copy of a slice from a DataFrame.\n",
            "Try using .loc[row_indexer,col_indexer] = value instead\n",
            "\n",
            "See the caveats in the documentation: https://pandas.pydata.org/pandas-docs/stable/user_guide/indexing.html#returning-a-view-versus-a-copy\n",
            "  trainingSet[\"Surface\"] = label_encoder.fit_transform(trainingSet[\"Surface\"])\n",
            "<ipython-input-353-be19e985f5d6>:4: SettingWithCopyWarning: \n",
            "A value is trying to be set on a copy of a slice from a DataFrame.\n",
            "Try using .loc[row_indexer,col_indexer] = value instead\n",
            "\n",
            "See the caveats in the documentation: https://pandas.pydata.org/pandas-docs/stable/user_guide/indexing.html#returning-a-view-versus-a-copy\n",
            "  trainingSet[\"Round\"] = label_encoder.fit_transform(trainingSet[\"Round\"])\n"
          ]
        }
      ]
    },
    {
      "cell_type": "code",
      "source": [
        "label_encoder = LabelEncoder()\n",
        "label_encoder.fit(trainingSet[\"Player2\"].append(trainingSet[\"Player1\"]))\n",
        "tmp_1 = label_encoder.transform(trainingSet[\"Player1\"])\n",
        "tmp_2 = label_encoder.transform(trainingSet[\"Player2\"])\n",
        "trainingSet[\"Player1Code\"], trainingSet[\"Player2Code\"] = tmp_1, tmp_2"
      ],
      "metadata": {
        "colab": {
          "base_uri": "https://localhost:8080/"
        },
        "id": "wfWUjcerOJI5",
        "outputId": "0c6a00b1-4c63-405c-8758-dc65396e7e98"
      },
      "execution_count": 354,
      "outputs": [
        {
          "output_type": "stream",
          "name": "stderr",
          "text": [
            "<ipython-input-354-98cfb96ab1d4>:2: FutureWarning: The series.append method is deprecated and will be removed from pandas in a future version. Use pandas.concat instead.\n",
            "  label_encoder.fit(trainingSet[\"Player2\"].append(trainingSet[\"Player1\"]))\n",
            "<ipython-input-354-98cfb96ab1d4>:5: SettingWithCopyWarning: \n",
            "A value is trying to be set on a copy of a slice from a DataFrame.\n",
            "Try using .loc[row_indexer,col_indexer] = value instead\n",
            "\n",
            "See the caveats in the documentation: https://pandas.pydata.org/pandas-docs/stable/user_guide/indexing.html#returning-a-view-versus-a-copy\n",
            "  trainingSet[\"Player1Code\"], trainingSet[\"Player2Code\"] = tmp_1, tmp_2\n",
            "<ipython-input-354-98cfb96ab1d4>:5: SettingWithCopyWarning: \n",
            "A value is trying to be set on a copy of a slice from a DataFrame.\n",
            "Try using .loc[row_indexer,col_indexer] = value instead\n",
            "\n",
            "See the caveats in the documentation: https://pandas.pydata.org/pandas-docs/stable/user_guide/indexing.html#returning-a-view-versus-a-copy\n",
            "  trainingSet[\"Player1Code\"], trainingSet[\"Player2Code\"] = tmp_1, tmp_2\n"
          ]
        }
      ]
    },
    {
      "cell_type": "markdown",
      "source": [
        "Mixing the player to avoid the pattern with the winner on the first columns and the loser on the second one"
      ],
      "metadata": {
        "id": "wmRDn1GlPdUD"
      }
    },
    {
      "cell_type": "code",
      "source": [
        "trainingSet"
      ],
      "metadata": {
        "colab": {
          "base_uri": "https://localhost:8080/",
          "height": 419
        },
        "id": "YNQbwwB9LAsz",
        "outputId": "973783a2-999b-405d-e81a-6c251333ef77"
      },
      "execution_count": 355,
      "outputs": [
        {
          "output_type": "execute_result",
          "data": {
            "text/plain": [
              "     Tournament  Surface  Round               Player1         Player2  Rank1  \\\n",
              "1             0        2      0             Moutet C.           Wu Y.   62.0   \n",
              "2             0        2      0           Watanuki Y.  Rinderknech A.  138.0   \n",
              "3             0        2      0  Van De Zandschulp B.      Ivashka I.   34.0   \n",
              "4             0        2      0         Etcheverry T.      Barrere G.   79.0   \n",
              "5             0        2      0             Sinner J.       Edmund K.   16.0   \n",
              "..          ...      ...    ...                   ...             ...    ...   \n",
              "500           2        2      4           Medvedev D.       Rublev A.    3.0   \n",
              "501           2        2      4            Alcaraz C.       Zverev A.    1.0   \n",
              "502           2        2      5           Djokovic N.      Shelton B.    2.0   \n",
              "503           2        2      5           Medvedev D.      Alcaraz C.    3.0   \n",
              "504           2        2      6           Djokovic N.     Medvedev D.    2.0   \n",
              "\n",
              "     Rank2    B1     B2   PS1    PS2  target  Player1Code  Player2Code  \n",
              "1    114.0  2.38   1.57  2.40   1.65       0          116          184  \n",
              "2     59.0  2.30   1.62  2.18   1.77       0          181          143  \n",
              "3     73.0  1.36   3.20  1.47   2.91       0          174           75  \n",
              "4     83.0  2.30   1.62  2.43   1.63       0           48            7  \n",
              "5    581.0  1.06  10.00  1.05  15.72       0          157           46  \n",
              "..     ...   ...    ...   ...    ...     ...          ...          ...  \n",
              "500    8.0  1.36   3.20  1.39   3.30       0          105          145  \n",
              "501   12.0  1.20   4.50  1.22   4.90       0            1          190  \n",
              "502   47.0  1.06  10.00  1.09   9.76       0           42          154  \n",
              "503    1.0  4.33   1.22  4.13   1.28       0          105            1  \n",
              "504    3.0  1.44   2.88  1.46   2.95       0           42          105  \n",
              "\n",
              "[504 rows x 14 columns]"
            ],
            "text/html": [
              "\n",
              "  <div id=\"df-f6bf6bf9-fc99-486f-a706-f178dc4424a6\" class=\"colab-df-container\">\n",
              "    <div>\n",
              "<style scoped>\n",
              "    .dataframe tbody tr th:only-of-type {\n",
              "        vertical-align: middle;\n",
              "    }\n",
              "\n",
              "    .dataframe tbody tr th {\n",
              "        vertical-align: top;\n",
              "    }\n",
              "\n",
              "    .dataframe thead th {\n",
              "        text-align: right;\n",
              "    }\n",
              "</style>\n",
              "<table border=\"1\" class=\"dataframe\">\n",
              "  <thead>\n",
              "    <tr style=\"text-align: right;\">\n",
              "      <th></th>\n",
              "      <th>Tournament</th>\n",
              "      <th>Surface</th>\n",
              "      <th>Round</th>\n",
              "      <th>Player1</th>\n",
              "      <th>Player2</th>\n",
              "      <th>Rank1</th>\n",
              "      <th>Rank2</th>\n",
              "      <th>B1</th>\n",
              "      <th>B2</th>\n",
              "      <th>PS1</th>\n",
              "      <th>PS2</th>\n",
              "      <th>target</th>\n",
              "      <th>Player1Code</th>\n",
              "      <th>Player2Code</th>\n",
              "    </tr>\n",
              "  </thead>\n",
              "  <tbody>\n",
              "    <tr>\n",
              "      <th>1</th>\n",
              "      <td>0</td>\n",
              "      <td>2</td>\n",
              "      <td>0</td>\n",
              "      <td>Moutet C.</td>\n",
              "      <td>Wu Y.</td>\n",
              "      <td>62.0</td>\n",
              "      <td>114.0</td>\n",
              "      <td>2.38</td>\n",
              "      <td>1.57</td>\n",
              "      <td>2.40</td>\n",
              "      <td>1.65</td>\n",
              "      <td>0</td>\n",
              "      <td>116</td>\n",
              "      <td>184</td>\n",
              "    </tr>\n",
              "    <tr>\n",
              "      <th>2</th>\n",
              "      <td>0</td>\n",
              "      <td>2</td>\n",
              "      <td>0</td>\n",
              "      <td>Watanuki Y.</td>\n",
              "      <td>Rinderknech A.</td>\n",
              "      <td>138.0</td>\n",
              "      <td>59.0</td>\n",
              "      <td>2.30</td>\n",
              "      <td>1.62</td>\n",
              "      <td>2.18</td>\n",
              "      <td>1.77</td>\n",
              "      <td>0</td>\n",
              "      <td>181</td>\n",
              "      <td>143</td>\n",
              "    </tr>\n",
              "    <tr>\n",
              "      <th>3</th>\n",
              "      <td>0</td>\n",
              "      <td>2</td>\n",
              "      <td>0</td>\n",
              "      <td>Van De Zandschulp B.</td>\n",
              "      <td>Ivashka I.</td>\n",
              "      <td>34.0</td>\n",
              "      <td>73.0</td>\n",
              "      <td>1.36</td>\n",
              "      <td>3.20</td>\n",
              "      <td>1.47</td>\n",
              "      <td>2.91</td>\n",
              "      <td>0</td>\n",
              "      <td>174</td>\n",
              "      <td>75</td>\n",
              "    </tr>\n",
              "    <tr>\n",
              "      <th>4</th>\n",
              "      <td>0</td>\n",
              "      <td>2</td>\n",
              "      <td>0</td>\n",
              "      <td>Etcheverry T.</td>\n",
              "      <td>Barrere G.</td>\n",
              "      <td>79.0</td>\n",
              "      <td>83.0</td>\n",
              "      <td>2.30</td>\n",
              "      <td>1.62</td>\n",
              "      <td>2.43</td>\n",
              "      <td>1.63</td>\n",
              "      <td>0</td>\n",
              "      <td>48</td>\n",
              "      <td>7</td>\n",
              "    </tr>\n",
              "    <tr>\n",
              "      <th>5</th>\n",
              "      <td>0</td>\n",
              "      <td>2</td>\n",
              "      <td>0</td>\n",
              "      <td>Sinner J.</td>\n",
              "      <td>Edmund K.</td>\n",
              "      <td>16.0</td>\n",
              "      <td>581.0</td>\n",
              "      <td>1.06</td>\n",
              "      <td>10.00</td>\n",
              "      <td>1.05</td>\n",
              "      <td>15.72</td>\n",
              "      <td>0</td>\n",
              "      <td>157</td>\n",
              "      <td>46</td>\n",
              "    </tr>\n",
              "    <tr>\n",
              "      <th>...</th>\n",
              "      <td>...</td>\n",
              "      <td>...</td>\n",
              "      <td>...</td>\n",
              "      <td>...</td>\n",
              "      <td>...</td>\n",
              "      <td>...</td>\n",
              "      <td>...</td>\n",
              "      <td>...</td>\n",
              "      <td>...</td>\n",
              "      <td>...</td>\n",
              "      <td>...</td>\n",
              "      <td>...</td>\n",
              "      <td>...</td>\n",
              "      <td>...</td>\n",
              "    </tr>\n",
              "    <tr>\n",
              "      <th>500</th>\n",
              "      <td>2</td>\n",
              "      <td>2</td>\n",
              "      <td>4</td>\n",
              "      <td>Medvedev D.</td>\n",
              "      <td>Rublev A.</td>\n",
              "      <td>3.0</td>\n",
              "      <td>8.0</td>\n",
              "      <td>1.36</td>\n",
              "      <td>3.20</td>\n",
              "      <td>1.39</td>\n",
              "      <td>3.30</td>\n",
              "      <td>0</td>\n",
              "      <td>105</td>\n",
              "      <td>145</td>\n",
              "    </tr>\n",
              "    <tr>\n",
              "      <th>501</th>\n",
              "      <td>2</td>\n",
              "      <td>2</td>\n",
              "      <td>4</td>\n",
              "      <td>Alcaraz C.</td>\n",
              "      <td>Zverev A.</td>\n",
              "      <td>1.0</td>\n",
              "      <td>12.0</td>\n",
              "      <td>1.20</td>\n",
              "      <td>4.50</td>\n",
              "      <td>1.22</td>\n",
              "      <td>4.90</td>\n",
              "      <td>0</td>\n",
              "      <td>1</td>\n",
              "      <td>190</td>\n",
              "    </tr>\n",
              "    <tr>\n",
              "      <th>502</th>\n",
              "      <td>2</td>\n",
              "      <td>2</td>\n",
              "      <td>5</td>\n",
              "      <td>Djokovic N.</td>\n",
              "      <td>Shelton B.</td>\n",
              "      <td>2.0</td>\n",
              "      <td>47.0</td>\n",
              "      <td>1.06</td>\n",
              "      <td>10.00</td>\n",
              "      <td>1.09</td>\n",
              "      <td>9.76</td>\n",
              "      <td>0</td>\n",
              "      <td>42</td>\n",
              "      <td>154</td>\n",
              "    </tr>\n",
              "    <tr>\n",
              "      <th>503</th>\n",
              "      <td>2</td>\n",
              "      <td>2</td>\n",
              "      <td>5</td>\n",
              "      <td>Medvedev D.</td>\n",
              "      <td>Alcaraz C.</td>\n",
              "      <td>3.0</td>\n",
              "      <td>1.0</td>\n",
              "      <td>4.33</td>\n",
              "      <td>1.22</td>\n",
              "      <td>4.13</td>\n",
              "      <td>1.28</td>\n",
              "      <td>0</td>\n",
              "      <td>105</td>\n",
              "      <td>1</td>\n",
              "    </tr>\n",
              "    <tr>\n",
              "      <th>504</th>\n",
              "      <td>2</td>\n",
              "      <td>2</td>\n",
              "      <td>6</td>\n",
              "      <td>Djokovic N.</td>\n",
              "      <td>Medvedev D.</td>\n",
              "      <td>2.0</td>\n",
              "      <td>3.0</td>\n",
              "      <td>1.44</td>\n",
              "      <td>2.88</td>\n",
              "      <td>1.46</td>\n",
              "      <td>2.95</td>\n",
              "      <td>0</td>\n",
              "      <td>42</td>\n",
              "      <td>105</td>\n",
              "    </tr>\n",
              "  </tbody>\n",
              "</table>\n",
              "<p>504 rows × 14 columns</p>\n",
              "</div>\n",
              "    <div class=\"colab-df-buttons\">\n",
              "\n",
              "  <div class=\"colab-df-container\">\n",
              "    <button class=\"colab-df-convert\" onclick=\"convertToInteractive('df-f6bf6bf9-fc99-486f-a706-f178dc4424a6')\"\n",
              "            title=\"Convert this dataframe to an interactive table.\"\n",
              "            style=\"display:none;\">\n",
              "\n",
              "  <svg xmlns=\"http://www.w3.org/2000/svg\" height=\"24px\" viewBox=\"0 -960 960 960\">\n",
              "    <path d=\"M120-120v-720h720v720H120Zm60-500h600v-160H180v160Zm220 220h160v-160H400v160Zm0 220h160v-160H400v160ZM180-400h160v-160H180v160Zm440 0h160v-160H620v160ZM180-180h160v-160H180v160Zm440 0h160v-160H620v160Z\"/>\n",
              "  </svg>\n",
              "    </button>\n",
              "\n",
              "  <style>\n",
              "    .colab-df-container {\n",
              "      display:flex;\n",
              "      gap: 12px;\n",
              "    }\n",
              "\n",
              "    .colab-df-convert {\n",
              "      background-color: #E8F0FE;\n",
              "      border: none;\n",
              "      border-radius: 50%;\n",
              "      cursor: pointer;\n",
              "      display: none;\n",
              "      fill: #1967D2;\n",
              "      height: 32px;\n",
              "      padding: 0 0 0 0;\n",
              "      width: 32px;\n",
              "    }\n",
              "\n",
              "    .colab-df-convert:hover {\n",
              "      background-color: #E2EBFA;\n",
              "      box-shadow: 0px 1px 2px rgba(60, 64, 67, 0.3), 0px 1px 3px 1px rgba(60, 64, 67, 0.15);\n",
              "      fill: #174EA6;\n",
              "    }\n",
              "\n",
              "    .colab-df-buttons div {\n",
              "      margin-bottom: 4px;\n",
              "    }\n",
              "\n",
              "    [theme=dark] .colab-df-convert {\n",
              "      background-color: #3B4455;\n",
              "      fill: #D2E3FC;\n",
              "    }\n",
              "\n",
              "    [theme=dark] .colab-df-convert:hover {\n",
              "      background-color: #434B5C;\n",
              "      box-shadow: 0px 1px 3px 1px rgba(0, 0, 0, 0.15);\n",
              "      filter: drop-shadow(0px 1px 2px rgba(0, 0, 0, 0.3));\n",
              "      fill: #FFFFFF;\n",
              "    }\n",
              "  </style>\n",
              "\n",
              "    <script>\n",
              "      const buttonEl =\n",
              "        document.querySelector('#df-f6bf6bf9-fc99-486f-a706-f178dc4424a6 button.colab-df-convert');\n",
              "      buttonEl.style.display =\n",
              "        google.colab.kernel.accessAllowed ? 'block' : 'none';\n",
              "\n",
              "      async function convertToInteractive(key) {\n",
              "        const element = document.querySelector('#df-f6bf6bf9-fc99-486f-a706-f178dc4424a6');\n",
              "        const dataTable =\n",
              "          await google.colab.kernel.invokeFunction('convertToInteractive',\n",
              "                                                    [key], {});\n",
              "        if (!dataTable) return;\n",
              "\n",
              "        const docLinkHtml = 'Like what you see? Visit the ' +\n",
              "          '<a target=\"_blank\" href=https://colab.research.google.com/notebooks/data_table.ipynb>data table notebook</a>'\n",
              "          + ' to learn more about interactive tables.';\n",
              "        element.innerHTML = '';\n",
              "        dataTable['output_type'] = 'display_data';\n",
              "        await google.colab.output.renderOutput(dataTable, element);\n",
              "        const docLink = document.createElement('div');\n",
              "        docLink.innerHTML = docLinkHtml;\n",
              "        element.appendChild(docLink);\n",
              "      }\n",
              "    </script>\n",
              "  </div>\n",
              "\n",
              "\n",
              "<div id=\"df-6d7d55f6-ed05-4050-b1f5-5d81a2fa4a4c\">\n",
              "  <button class=\"colab-df-quickchart\" onclick=\"quickchart('df-6d7d55f6-ed05-4050-b1f5-5d81a2fa4a4c')\"\n",
              "            title=\"Suggest charts\"\n",
              "            style=\"display:none;\">\n",
              "\n",
              "<svg xmlns=\"http://www.w3.org/2000/svg\" height=\"24px\"viewBox=\"0 0 24 24\"\n",
              "     width=\"24px\">\n",
              "    <g>\n",
              "        <path d=\"M19 3H5c-1.1 0-2 .9-2 2v14c0 1.1.9 2 2 2h14c1.1 0 2-.9 2-2V5c0-1.1-.9-2-2-2zM9 17H7v-7h2v7zm4 0h-2V7h2v10zm4 0h-2v-4h2v4z\"/>\n",
              "    </g>\n",
              "</svg>\n",
              "  </button>\n",
              "\n",
              "<style>\n",
              "  .colab-df-quickchart {\n",
              "      --bg-color: #E8F0FE;\n",
              "      --fill-color: #1967D2;\n",
              "      --hover-bg-color: #E2EBFA;\n",
              "      --hover-fill-color: #174EA6;\n",
              "      --disabled-fill-color: #AAA;\n",
              "      --disabled-bg-color: #DDD;\n",
              "  }\n",
              "\n",
              "  [theme=dark] .colab-df-quickchart {\n",
              "      --bg-color: #3B4455;\n",
              "      --fill-color: #D2E3FC;\n",
              "      --hover-bg-color: #434B5C;\n",
              "      --hover-fill-color: #FFFFFF;\n",
              "      --disabled-bg-color: #3B4455;\n",
              "      --disabled-fill-color: #666;\n",
              "  }\n",
              "\n",
              "  .colab-df-quickchart {\n",
              "    background-color: var(--bg-color);\n",
              "    border: none;\n",
              "    border-radius: 50%;\n",
              "    cursor: pointer;\n",
              "    display: none;\n",
              "    fill: var(--fill-color);\n",
              "    height: 32px;\n",
              "    padding: 0;\n",
              "    width: 32px;\n",
              "  }\n",
              "\n",
              "  .colab-df-quickchart:hover {\n",
              "    background-color: var(--hover-bg-color);\n",
              "    box-shadow: 0 1px 2px rgba(60, 64, 67, 0.3), 0 1px 3px 1px rgba(60, 64, 67, 0.15);\n",
              "    fill: var(--button-hover-fill-color);\n",
              "  }\n",
              "\n",
              "  .colab-df-quickchart-complete:disabled,\n",
              "  .colab-df-quickchart-complete:disabled:hover {\n",
              "    background-color: var(--disabled-bg-color);\n",
              "    fill: var(--disabled-fill-color);\n",
              "    box-shadow: none;\n",
              "  }\n",
              "\n",
              "  .colab-df-spinner {\n",
              "    border: 2px solid var(--fill-color);\n",
              "    border-color: transparent;\n",
              "    border-bottom-color: var(--fill-color);\n",
              "    animation:\n",
              "      spin 1s steps(1) infinite;\n",
              "  }\n",
              "\n",
              "  @keyframes spin {\n",
              "    0% {\n",
              "      border-color: transparent;\n",
              "      border-bottom-color: var(--fill-color);\n",
              "      border-left-color: var(--fill-color);\n",
              "    }\n",
              "    20% {\n",
              "      border-color: transparent;\n",
              "      border-left-color: var(--fill-color);\n",
              "      border-top-color: var(--fill-color);\n",
              "    }\n",
              "    30% {\n",
              "      border-color: transparent;\n",
              "      border-left-color: var(--fill-color);\n",
              "      border-top-color: var(--fill-color);\n",
              "      border-right-color: var(--fill-color);\n",
              "    }\n",
              "    40% {\n",
              "      border-color: transparent;\n",
              "      border-right-color: var(--fill-color);\n",
              "      border-top-color: var(--fill-color);\n",
              "    }\n",
              "    60% {\n",
              "      border-color: transparent;\n",
              "      border-right-color: var(--fill-color);\n",
              "    }\n",
              "    80% {\n",
              "      border-color: transparent;\n",
              "      border-right-color: var(--fill-color);\n",
              "      border-bottom-color: var(--fill-color);\n",
              "    }\n",
              "    90% {\n",
              "      border-color: transparent;\n",
              "      border-bottom-color: var(--fill-color);\n",
              "    }\n",
              "  }\n",
              "</style>\n",
              "\n",
              "  <script>\n",
              "    async function quickchart(key) {\n",
              "      const quickchartButtonEl =\n",
              "        document.querySelector('#' + key + ' button');\n",
              "      quickchartButtonEl.disabled = true;  // To prevent multiple clicks.\n",
              "      quickchartButtonEl.classList.add('colab-df-spinner');\n",
              "      try {\n",
              "        const charts = await google.colab.kernel.invokeFunction(\n",
              "            'suggestCharts', [key], {});\n",
              "      } catch (error) {\n",
              "        console.error('Error during call to suggestCharts:', error);\n",
              "      }\n",
              "      quickchartButtonEl.classList.remove('colab-df-spinner');\n",
              "      quickchartButtonEl.classList.add('colab-df-quickchart-complete');\n",
              "    }\n",
              "    (() => {\n",
              "      let quickchartButtonEl =\n",
              "        document.querySelector('#df-6d7d55f6-ed05-4050-b1f5-5d81a2fa4a4c button');\n",
              "      quickchartButtonEl.style.display =\n",
              "        google.colab.kernel.accessAllowed ? 'block' : 'none';\n",
              "    })();\n",
              "  </script>\n",
              "</div>\n",
              "    </div>\n",
              "  </div>\n"
            ],
            "application/vnd.google.colaboratory.intrinsic+json": {
              "type": "dataframe",
              "variable_name": "trainingSet",
              "summary": "{\n  \"name\": \"trainingSet\",\n  \"rows\": 504,\n  \"fields\": [\n    {\n      \"column\": \"Tournament\",\n      \"properties\": {\n        \"dtype\": \"number\",\n        \"std\": 1,\n        \"min\": 0,\n        \"max\": 3,\n        \"num_unique_values\": 4,\n        \"samples\": [\n          1,\n          2,\n          0\n        ],\n        \"semantic_type\": \"\",\n        \"description\": \"\"\n      }\n    },\n    {\n      \"column\": \"Surface\",\n      \"properties\": {\n        \"dtype\": \"number\",\n        \"std\": 0,\n        \"min\": 0,\n        \"max\": 2,\n        \"num_unique_values\": 3,\n        \"samples\": [\n          2,\n          0,\n          1\n        ],\n        \"semantic_type\": \"\",\n        \"description\": \"\"\n      }\n    },\n    {\n      \"column\": \"Round\",\n      \"properties\": {\n        \"dtype\": \"number\",\n        \"std\": 1,\n        \"min\": 0,\n        \"max\": 6,\n        \"num_unique_values\": 7,\n        \"samples\": [\n          0,\n          1,\n          5\n        ],\n        \"semantic_type\": \"\",\n        \"description\": \"\"\n      }\n    },\n    {\n      \"column\": \"Player1\",\n      \"properties\": {\n        \"dtype\": \"category\",\n        \"num_unique_values\": 131,\n        \"samples\": [\n          \"Kudla D.\",\n          \"Carreno Busta P.\",\n          \"Kubler J.\"\n        ],\n        \"semantic_type\": \"\",\n        \"description\": \"\"\n      }\n    },\n    {\n      \"column\": \"Player2\",\n      \"properties\": {\n        \"dtype\": \"category\",\n        \"num_unique_values\": 191,\n        \"samples\": [\n          \"Monfils G.\",\n          \"Van De Zandschulp B.\",\n          \"Gojo B.\"\n        ],\n        \"semantic_type\": \"\",\n        \"description\": \"\"\n      }\n    },\n    {\n      \"column\": \"Rank1\",\n      \"properties\": {\n        \"dtype\": \"number\",\n        \"std\": 78.64851757834332,\n        \"min\": 1.0,\n        \"max\": 849.0,\n        \"num_unique_values\": 141,\n        \"samples\": [\n          57.0,\n          849.0,\n          8.0\n        ],\n        \"semantic_type\": \"\",\n        \"description\": \"\"\n      }\n    },\n    {\n      \"column\": \"Rank2\",\n      \"properties\": {\n        \"dtype\": \"number\",\n        \"std\": 93.86933075688376,\n        \"min\": 1.0,\n        \"max\": 849.0,\n        \"num_unique_values\": 198,\n        \"samples\": [\n          194.0,\n          10.0,\n          313.0\n        ],\n        \"semantic_type\": \"\",\n        \"description\": \"\"\n      }\n    },\n    {\n      \"column\": \"B1\",\n      \"properties\": {\n        \"dtype\": \"number\",\n        \"std\": 1.103216764109598,\n        \"min\": 1.01,\n        \"max\": 11.0,\n        \"num_unique_values\": 53,\n        \"samples\": [\n          2.1,\n          4.5,\n          1.62\n        ],\n        \"semantic_type\": \"\",\n        \"description\": \"\"\n      }\n    },\n    {\n      \"column\": \"B2\",\n      \"properties\": {\n        \"dtype\": \"number\",\n        \"std\": 5.297218333011623,\n        \"min\": 1.05,\n        \"max\": 34.0,\n        \"num_unique_values\": 60,\n        \"samples\": [\n          1.57,\n          1.44,\n          3.75\n        ],\n        \"semantic_type\": \"\",\n        \"description\": \"\"\n      }\n    },\n    {\n      \"column\": \"PS1\",\n      \"properties\": {\n        \"dtype\": \"number\",\n        \"std\": 1.2084291953865365,\n        \"min\": 1.01,\n        \"max\": 10.69,\n        \"num_unique_values\": 193,\n        \"samples\": [\n          3.47,\n          4.38,\n          2.0\n        ],\n        \"semantic_type\": \"\",\n        \"description\": \"\"\n      }\n    },\n    {\n      \"column\": \"PS2\",\n      \"properties\": {\n        \"dtype\": \"number\",\n        \"std\": 6.5996884341171445,\n        \"min\": 1.08,\n        \"max\": 53.65,\n        \"num_unique_values\": 355,\n        \"samples\": [\n          5.09,\n          16.86,\n          2.42\n        ],\n        \"semantic_type\": \"\",\n        \"description\": \"\"\n      }\n    },\n    {\n      \"column\": \"target\",\n      \"properties\": {\n        \"dtype\": \"number\",\n        \"std\": 0,\n        \"min\": 0,\n        \"max\": 0,\n        \"num_unique_values\": 1,\n        \"samples\": [\n          0\n        ],\n        \"semantic_type\": \"\",\n        \"description\": \"\"\n      }\n    },\n    {\n      \"column\": \"Player1Code\",\n      \"properties\": {\n        \"dtype\": \"number\",\n        \"std\": 57,\n        \"min\": 0,\n        \"max\": 190,\n        \"num_unique_values\": 131,\n        \"samples\": [\n          89\n        ],\n        \"semantic_type\": \"\",\n        \"description\": \"\"\n      }\n    },\n    {\n      \"column\": \"Player2Code\",\n      \"properties\": {\n        \"dtype\": \"number\",\n        \"std\": 55,\n        \"min\": 0,\n        \"max\": 190,\n        \"num_unique_values\": 191,\n        \"samples\": [\n          113\n        ],\n        \"semantic_type\": \"\",\n        \"description\": \"\"\n      }\n    }\n  ]\n}"
            }
          },
          "metadata": {},
          "execution_count": 355
        }
      ]
    },
    {
      "cell_type": "code",
      "source": [
        "swap_rows = trainingSet.index[::2]\n",
        "\n",
        "df_swapped = trainingSet.loc[swap_rows]\n",
        "df_swapped['Player1Code'], df_swapped['Player2Code'] = df_swapped['Player2Code'], df_swapped['Player1Code']\n",
        "df_swapped['target'] = 1\n",
        "df_swapped['Rank1'], df_swapped['Rank2'] = df_swapped['Rank2'], df_swapped['Rank1']\n",
        "df_swapped['B1'], df_swapped['B2'] = df_swapped['B2'], df_swapped['B1']\n",
        "df_swapped['PS1'], df_swapped['PS2'] = df_swapped['PS2'], df_swapped['PS1']\n",
        "\n",
        "trainingSet = pd.concat([trainingSet.loc[~trainingSet.index.isin(swap_rows)], df_swapped])"
      ],
      "metadata": {
        "id": "0NUGPyS-LHNX"
      },
      "execution_count": 356,
      "outputs": []
    },
    {
      "cell_type": "code",
      "source": [
        "trainingSet = trainingSet.drop([\"Player1\", \"Player2\"], axis=1)"
      ],
      "metadata": {
        "id": "MLcgGAt2U2XN"
      },
      "execution_count": 357,
      "outputs": []
    },
    {
      "cell_type": "markdown",
      "source": [
        "Scaling and splitting the data and rename the data set"
      ],
      "metadata": {
        "id": "xz0MLFEAUbzL"
      }
    },
    {
      "cell_type": "code",
      "source": [
        "trainingSet = shuffle(trainingSet)"
      ],
      "metadata": {
        "id": "sITOQbj7Y3D-"
      },
      "execution_count": 358,
      "outputs": []
    },
    {
      "cell_type": "code",
      "source": [
        "X_train = trainingSet[trainingSet[\"Tournament\"] != 3]\n",
        "X_test = trainingSet[trainingSet[\"Tournament\"] == 3]"
      ],
      "metadata": {
        "id": "sjj5sibHYPYv"
      },
      "execution_count": 359,
      "outputs": []
    },
    {
      "cell_type": "code",
      "source": [
        "y_train = X_train[\"target\"]\n",
        "y_test = X_test[\"target\"]"
      ],
      "metadata": {
        "id": "EcSQSCApYTgT"
      },
      "execution_count": 360,
      "outputs": []
    },
    {
      "cell_type": "code",
      "source": [
        "X_train = X_train.drop(columns=[\"target\"])\n",
        "X_test = X_test.drop(columns=[\"target\"])"
      ],
      "metadata": {
        "id": "4B0837eUZxTQ"
      },
      "execution_count": 361,
      "outputs": []
    },
    {
      "cell_type": "code",
      "source": [
        "standardScaler = StandardScaler()\n",
        "X_train = pd.DataFrame(standardScaler.fit_transform(X_train), columns = X_train.columns)\n",
        "X_test = pd.DataFrame(standardScaler.fit_transform(X_test), columns = X_test.columns)"
      ],
      "metadata": {
        "id": "M1uzxlaaFnbf"
      },
      "execution_count": 362,
      "outputs": []
    },
    {
      "cell_type": "code",
      "source": [
        "y_train = keras.utils.to_categorical(y_train)\n",
        "y_test = keras.utils.to_categorical(y_test)"
      ],
      "metadata": {
        "id": "mcKsWxstggzs"
      },
      "execution_count": 363,
      "outputs": []
    },
    {
      "cell_type": "markdown",
      "source": [
        "Creating the neural network model"
      ],
      "metadata": {
        "id": "_nB6HvFka5Hm"
      }
    },
    {
      "cell_type": "code",
      "source": [
        "model = Sequential([\n",
        "    Dense(units=56, input_shape=(11,), activation='relu'),\n",
        "    Dense(units=112, activation='relu'),\n",
        "    Dense(units=2, activation='softmax')\n",
        "])"
      ],
      "metadata": {
        "id": "IUYlsiX4Qlmn"
      },
      "execution_count": null,
      "outputs": []
    },
    {
      "cell_type": "code",
      "source": [
        "model.compile(loss='categorical_crossentropy', optimizer='adam', metrics=['accuracy'])"
      ],
      "metadata": {
        "id": "l3O6wMoGavx8"
      },
      "execution_count": null,
      "outputs": []
    },
    {
      "cell_type": "code",
      "source": [
        "model.fit(x=X_train, y=y_train, epochs=10, batch_size=50, verbose=1, validation_split=0.1)"
      ],
      "metadata": {
        "colab": {
          "base_uri": "https://localhost:8080/"
        },
        "id": "zsB03-YPbidM",
        "outputId": "0a69f948-44b9-4e85-e462-8ae72e83e0b7"
      },
      "execution_count": null,
      "outputs": [
        {
          "output_type": "stream",
          "name": "stdout",
          "text": [
            "Epoch 1/10\n",
            "7/7 [==============================] - 1s 42ms/step - loss: 0.6898 - accuracy: 0.5251 - val_loss: 0.6421 - val_accuracy: 0.6842\n",
            "Epoch 2/10\n",
            "7/7 [==============================] - 0s 6ms/step - loss: 0.6075 - accuracy: 0.6549 - val_loss: 0.6111 - val_accuracy: 0.6842\n",
            "Epoch 3/10\n",
            "7/7 [==============================] - 0s 6ms/step - loss: 0.5660 - accuracy: 0.6932 - val_loss: 0.6065 - val_accuracy: 0.6842\n",
            "Epoch 4/10\n",
            "7/7 [==============================] - 0s 6ms/step - loss: 0.5419 - accuracy: 0.7080 - val_loss: 0.6104 - val_accuracy: 0.6579\n",
            "Epoch 5/10\n",
            "7/7 [==============================] - 0s 6ms/step - loss: 0.5283 - accuracy: 0.7021 - val_loss: 0.6198 - val_accuracy: 0.6842\n",
            "Epoch 6/10\n",
            "7/7 [==============================] - 0s 6ms/step - loss: 0.5159 - accuracy: 0.7168 - val_loss: 0.6215 - val_accuracy: 0.6316\n",
            "Epoch 7/10\n",
            "7/7 [==============================] - 0s 6ms/step - loss: 0.5062 - accuracy: 0.7286 - val_loss: 0.6301 - val_accuracy: 0.6316\n",
            "Epoch 8/10\n",
            "7/7 [==============================] - 0s 7ms/step - loss: 0.4996 - accuracy: 0.7316 - val_loss: 0.6437 - val_accuracy: 0.6316\n",
            "Epoch 9/10\n",
            "7/7 [==============================] - 0s 7ms/step - loss: 0.4924 - accuracy: 0.7404 - val_loss: 0.6487 - val_accuracy: 0.6316\n",
            "Epoch 10/10\n",
            "7/7 [==============================] - 0s 6ms/step - loss: 0.4877 - accuracy: 0.7463 - val_loss: 0.6494 - val_accuracy: 0.6316\n"
          ]
        },
        {
          "output_type": "execute_result",
          "data": {
            "text/plain": [
              "<keras.src.callbacks.History at 0x7d3358d31ea0>"
            ]
          },
          "metadata": {},
          "execution_count": 24
        }
      ]
    },
    {
      "cell_type": "code",
      "source": [
        "y_pred = model.predict(X_test)"
      ],
      "metadata": {
        "colab": {
          "base_uri": "https://localhost:8080/"
        },
        "id": "yJy8XkC0aS5X",
        "outputId": "1bcd58a9-6ab3-4b17-f0ae-e1ddcc27c773"
      },
      "execution_count": null,
      "outputs": [
        {
          "output_type": "stream",
          "name": "stdout",
          "text": [
            "4/4 [==============================] - 0s 3ms/step\n"
          ]
        }
      ]
    },
    {
      "cell_type": "code",
      "source": [
        "def correctValue(pred):\n",
        "  for i in range(pred.shape[0]):\n",
        "    value = pred[i]\n",
        "    if (value[0]>value[1]):\n",
        "      pred[i] = [1,0]\n",
        "    else:\n",
        "      pred[i] = [0,1]\n",
        "  return pred"
      ],
      "metadata": {
        "id": "XaYEbGndQ9uw"
      },
      "execution_count": 23,
      "outputs": []
    },
    {
      "cell_type": "code",
      "source": [
        "y_pred"
      ],
      "metadata": {
        "colab": {
          "base_uri": "https://localhost:8080/"
        },
        "id": "XulcvzY-Zkzk",
        "outputId": "e5d9f344-f4de-49e5-87d6-4402b6736554"
      },
      "execution_count": null,
      "outputs": [
        {
          "output_type": "execute_result",
          "data": {
            "text/plain": [
              "array([[6.1372966e-01, 3.8627034e-01],\n",
              "       [8.2163644e-01, 1.7836346e-01],\n",
              "       [2.3552722e-01, 7.6447278e-01],\n",
              "       [9.4997483e-01, 5.0025221e-02],\n",
              "       [7.7734327e-01, 2.2265664e-01],\n",
              "       [8.2501215e-01, 1.7498781e-01],\n",
              "       [5.7541144e-01, 4.2458859e-01],\n",
              "       [2.1187860e-01, 7.8812140e-01],\n",
              "       [1.8930897e-02, 9.8106915e-01],\n",
              "       [2.2020599e-01, 7.7979398e-01],\n",
              "       [2.4245702e-02, 9.7575438e-01],\n",
              "       [5.0404549e-01, 4.9595445e-01],\n",
              "       [6.0662335e-01, 3.9337665e-01],\n",
              "       [1.7406169e-01, 8.2593834e-01],\n",
              "       [1.3269734e-01, 8.6730266e-01],\n",
              "       [5.4932189e-01, 4.5067814e-01],\n",
              "       [9.9897575e-01, 1.0242508e-03],\n",
              "       [3.0048570e-04, 9.9969959e-01],\n",
              "       [1.0873350e-01, 8.9126647e-01],\n",
              "       [5.5716234e-01, 4.4283754e-01],\n",
              "       [9.8343126e-02, 9.0165693e-01],\n",
              "       [8.1809956e-01, 1.8190044e-01],\n",
              "       [4.7872347e-01, 5.2127659e-01],\n",
              "       [5.0445789e-01, 4.9554211e-01],\n",
              "       [4.8622245e-01, 5.1377761e-01],\n",
              "       [5.4348236e-01, 4.5651764e-01],\n",
              "       [4.9347052e-01, 5.0652945e-01],\n",
              "       [5.0081581e-01, 4.9918416e-01],\n",
              "       [4.5173183e-01, 5.4826820e-01],\n",
              "       [5.1645374e-01, 4.8354620e-01],\n",
              "       [1.7931193e-01, 8.2068813e-01],\n",
              "       [1.9520326e-02, 9.8047966e-01],\n",
              "       [3.1748801e-01, 6.8251187e-01],\n",
              "       [6.3177854e-01, 3.6822149e-01],\n",
              "       [5.9409314e-01, 4.0590683e-01],\n",
              "       [8.9062989e-01, 1.0937016e-01],\n",
              "       [2.5442037e-01, 7.4557960e-01],\n",
              "       [8.9213872e-01, 1.0786124e-01],\n",
              "       [9.7931713e-01, 2.0682940e-02],\n",
              "       [6.0505408e-01, 3.9494592e-01],\n",
              "       [9.7191274e-01, 2.8087229e-02],\n",
              "       [5.9664261e-01, 4.0335733e-01],\n",
              "       [5.9561360e-01, 4.0438640e-01],\n",
              "       [6.8489105e-01, 3.1510893e-01],\n",
              "       [2.2738983e-01, 7.7261019e-01],\n",
              "       [4.9251914e-01, 5.0748074e-01],\n",
              "       [4.6089649e-01, 5.3910351e-01],\n",
              "       [3.0208161e-01, 6.9791842e-01],\n",
              "       [5.0058478e-01, 4.9941519e-01],\n",
              "       [8.4474570e-01, 1.5525442e-01],\n",
              "       [5.3806561e-01, 4.6193439e-01],\n",
              "       [5.1520592e-01, 4.8479399e-01],\n",
              "       [4.8672956e-01, 5.1327044e-01],\n",
              "       [9.0717727e-01, 9.2822812e-02],\n",
              "       [9.9430168e-01, 5.6983484e-03],\n",
              "       [2.8097203e-01, 7.1902794e-01],\n",
              "       [7.9712409e-01, 2.0287587e-01],\n",
              "       [6.8340689e-01, 3.1659305e-01],\n",
              "       [9.1961890e-02, 9.0803820e-01],\n",
              "       [1.0618031e-02, 9.8938197e-01],\n",
              "       [5.3323263e-01, 4.6676743e-01],\n",
              "       [2.8789020e-01, 7.1210974e-01],\n",
              "       [5.3318733e-01, 4.6681267e-01],\n",
              "       [9.6560788e-01, 3.4392066e-02],\n",
              "       [5.6695735e-06, 9.9999422e-01],\n",
              "       [8.9405727e-01, 1.0594268e-01],\n",
              "       [4.8147658e-01, 5.1852345e-01],\n",
              "       [4.3860576e-01, 5.6139416e-01],\n",
              "       [4.1592875e-01, 5.8407122e-01],\n",
              "       [1.2035787e-02, 9.8796421e-01],\n",
              "       [6.5423530e-01, 3.4576473e-01],\n",
              "       [1.8225998e-02, 9.8177403e-01],\n",
              "       [5.4913270e-01, 4.5086727e-01],\n",
              "       [9.1853783e-02, 9.0814614e-01],\n",
              "       [5.0893807e-01, 4.9106184e-01],\n",
              "       [5.5509722e-01, 4.4490275e-01],\n",
              "       [6.9359797e-01, 3.0640197e-01],\n",
              "       [5.2774721e-01, 4.7225282e-01],\n",
              "       [7.5976074e-01, 2.4023928e-01],\n",
              "       [7.1741271e-01, 2.8258723e-01],\n",
              "       [6.6297811e-01, 3.3702180e-01],\n",
              "       [5.2355480e-01, 4.7644511e-01],\n",
              "       [5.4272759e-01, 4.5727244e-01],\n",
              "       [6.9894153e-01, 3.0105853e-01],\n",
              "       [5.2629077e-01, 4.7370923e-01],\n",
              "       [6.6524988e-01, 3.3475012e-01],\n",
              "       [5.3862673e-01, 4.6137327e-01],\n",
              "       [5.4353839e-01, 4.5646149e-01],\n",
              "       [4.9259371e-01, 5.0740635e-01],\n",
              "       [1.9635488e-03, 9.9803632e-01],\n",
              "       [6.6527295e-01, 3.3472705e-01],\n",
              "       [6.9091332e-01, 3.0908671e-01],\n",
              "       [6.8050450e-01, 3.1949547e-01],\n",
              "       [7.1307760e-01, 2.8692237e-01],\n",
              "       [5.5441046e-01, 4.4558960e-01],\n",
              "       [4.1870138e-01, 5.8129865e-01],\n",
              "       [6.0508823e-01, 3.9491174e-01],\n",
              "       [7.6697463e-01, 2.3302537e-01],\n",
              "       [7.9584658e-01, 2.0415342e-01],\n",
              "       [2.4117225e-01, 7.5882775e-01],\n",
              "       [6.0568363e-03, 9.9394315e-01],\n",
              "       [8.9218247e-01, 1.0781755e-01],\n",
              "       [4.6916515e-01, 5.3083473e-01],\n",
              "       [5.3639996e-01, 4.6360007e-01],\n",
              "       [7.5127178e-01, 2.4872819e-01],\n",
              "       [5.6750077e-01, 4.3249926e-01],\n",
              "       [1.2675850e-01, 8.7324160e-01],\n",
              "       [5.0207902e-02, 9.4979203e-01],\n",
              "       [6.3271242e-01, 3.6728761e-01],\n",
              "       [2.4632075e-01, 7.5367916e-01],\n",
              "       [3.2562718e-01, 6.7437279e-01],\n",
              "       [8.6468256e-01, 1.3531737e-01],\n",
              "       [5.2630270e-01, 4.7369722e-01],\n",
              "       [6.0220573e-02, 9.3977940e-01],\n",
              "       [5.2336884e-01, 4.7663116e-01],\n",
              "       [3.9272568e-01, 6.0727429e-01],\n",
              "       [1.2092111e-01, 8.7907881e-01],\n",
              "       [1.9058479e-01, 8.0941522e-01],\n",
              "       [5.8566213e-01, 4.1433775e-01],\n",
              "       [8.5645878e-01, 1.4354117e-01],\n",
              "       [5.1070833e-01, 4.8929167e-01],\n",
              "       [4.7428209e-01, 5.2571797e-01],\n",
              "       [5.2730477e-01, 4.7269529e-01],\n",
              "       [3.6638606e-01, 6.3361394e-01],\n",
              "       [5.0456214e-01, 4.9543786e-01],\n",
              "       [6.4097571e-01, 3.5902435e-01],\n",
              "       [9.9769849e-01, 2.3014904e-03]], dtype=float32)"
            ]
          },
          "metadata": {},
          "execution_count": 27
        }
      ]
    },
    {
      "cell_type": "code",
      "source": [
        "score = model.evaluate(X_test, y_test, verbose=0)\n",
        "print('Test loss:', score[0])\n",
        "print('Test accuracy:', score[1])"
      ],
      "metadata": {
        "colab": {
          "base_uri": "https://localhost:8080/"
        },
        "id": "enpN9QTkR53C",
        "outputId": "80657bbb-c61e-43ee-b9c7-cecb5b708a5d"
      },
      "execution_count": null,
      "outputs": [
        {
          "output_type": "stream",
          "name": "stdout",
          "text": [
            "Test loss: 0.5019007921218872\n",
            "Test accuracy: 0.6929134130477905\n"
          ]
        }
      ]
    },
    {
      "cell_type": "code",
      "source": [
        "score\n",
        "print('Test loss:', score[0])\n",
        "print('Test accuracy:', score[1])"
      ],
      "metadata": {
        "colab": {
          "base_uri": "https://localhost:8080/"
        },
        "id": "BJwJF4JuVMVR",
        "outputId": "a4f7f5dd-b9f0-4a1b-c8fd-3d21e7634a8e"
      },
      "execution_count": null,
      "outputs": [
        {
          "output_type": "stream",
          "name": "stdout",
          "text": [
            "Test loss: 0.5019007921218872\n",
            "Test accuracy: 0.6929134130477905\n"
          ]
        }
      ]
    },
    {
      "cell_type": "code",
      "source": [
        "y_pred"
      ],
      "metadata": {
        "colab": {
          "base_uri": "https://localhost:8080/"
        },
        "id": "WRTsA3c0RCeU",
        "outputId": "c24696a4-b314-46ea-c186-8d1b905200d2"
      },
      "execution_count": null,
      "outputs": [
        {
          "output_type": "execute_result",
          "data": {
            "text/plain": [
              "array([[6.1372966e-01, 3.8627034e-01],\n",
              "       [8.2163644e-01, 1.7836346e-01],\n",
              "       [2.3552722e-01, 7.6447278e-01],\n",
              "       [9.4997483e-01, 5.0025221e-02],\n",
              "       [7.7734327e-01, 2.2265664e-01],\n",
              "       [8.2501215e-01, 1.7498781e-01],\n",
              "       [5.7541144e-01, 4.2458859e-01],\n",
              "       [2.1187860e-01, 7.8812140e-01],\n",
              "       [1.8930897e-02, 9.8106915e-01],\n",
              "       [2.2020599e-01, 7.7979398e-01],\n",
              "       [2.4245702e-02, 9.7575438e-01],\n",
              "       [5.0404549e-01, 4.9595445e-01],\n",
              "       [6.0662335e-01, 3.9337665e-01],\n",
              "       [1.7406169e-01, 8.2593834e-01],\n",
              "       [1.3269734e-01, 8.6730266e-01],\n",
              "       [5.4932189e-01, 4.5067814e-01],\n",
              "       [9.9897575e-01, 1.0242508e-03],\n",
              "       [3.0048570e-04, 9.9969959e-01],\n",
              "       [1.0873350e-01, 8.9126647e-01],\n",
              "       [5.5716234e-01, 4.4283754e-01],\n",
              "       [9.8343126e-02, 9.0165693e-01],\n",
              "       [8.1809956e-01, 1.8190044e-01],\n",
              "       [4.7872347e-01, 5.2127659e-01],\n",
              "       [5.0445789e-01, 4.9554211e-01],\n",
              "       [4.8622245e-01, 5.1377761e-01],\n",
              "       [5.4348236e-01, 4.5651764e-01],\n",
              "       [4.9347052e-01, 5.0652945e-01],\n",
              "       [5.0081581e-01, 4.9918416e-01],\n",
              "       [4.5173183e-01, 5.4826820e-01],\n",
              "       [5.1645374e-01, 4.8354620e-01],\n",
              "       [1.7931193e-01, 8.2068813e-01],\n",
              "       [1.9520326e-02, 9.8047966e-01],\n",
              "       [3.1748801e-01, 6.8251187e-01],\n",
              "       [6.3177854e-01, 3.6822149e-01],\n",
              "       [5.9409314e-01, 4.0590683e-01],\n",
              "       [8.9062989e-01, 1.0937016e-01],\n",
              "       [2.5442037e-01, 7.4557960e-01],\n",
              "       [8.9213872e-01, 1.0786124e-01],\n",
              "       [9.7931713e-01, 2.0682940e-02],\n",
              "       [6.0505408e-01, 3.9494592e-01],\n",
              "       [9.7191274e-01, 2.8087229e-02],\n",
              "       [5.9664261e-01, 4.0335733e-01],\n",
              "       [5.9561360e-01, 4.0438640e-01],\n",
              "       [6.8489105e-01, 3.1510893e-01],\n",
              "       [2.2738983e-01, 7.7261019e-01],\n",
              "       [4.9251914e-01, 5.0748074e-01],\n",
              "       [4.6089649e-01, 5.3910351e-01],\n",
              "       [3.0208161e-01, 6.9791842e-01],\n",
              "       [5.0058478e-01, 4.9941519e-01],\n",
              "       [8.4474570e-01, 1.5525442e-01],\n",
              "       [5.3806561e-01, 4.6193439e-01],\n",
              "       [5.1520592e-01, 4.8479399e-01],\n",
              "       [4.8672956e-01, 5.1327044e-01],\n",
              "       [9.0717727e-01, 9.2822812e-02],\n",
              "       [9.9430168e-01, 5.6983484e-03],\n",
              "       [2.8097203e-01, 7.1902794e-01],\n",
              "       [7.9712409e-01, 2.0287587e-01],\n",
              "       [6.8340689e-01, 3.1659305e-01],\n",
              "       [9.1961890e-02, 9.0803820e-01],\n",
              "       [1.0618031e-02, 9.8938197e-01],\n",
              "       [5.3323263e-01, 4.6676743e-01],\n",
              "       [2.8789020e-01, 7.1210974e-01],\n",
              "       [5.3318733e-01, 4.6681267e-01],\n",
              "       [9.6560788e-01, 3.4392066e-02],\n",
              "       [5.6695735e-06, 9.9999422e-01],\n",
              "       [8.9405727e-01, 1.0594268e-01],\n",
              "       [4.8147658e-01, 5.1852345e-01],\n",
              "       [4.3860576e-01, 5.6139416e-01],\n",
              "       [4.1592875e-01, 5.8407122e-01],\n",
              "       [1.2035787e-02, 9.8796421e-01],\n",
              "       [6.5423530e-01, 3.4576473e-01],\n",
              "       [1.8225998e-02, 9.8177403e-01],\n",
              "       [5.4913270e-01, 4.5086727e-01],\n",
              "       [9.1853783e-02, 9.0814614e-01],\n",
              "       [5.0893807e-01, 4.9106184e-01],\n",
              "       [5.5509722e-01, 4.4490275e-01],\n",
              "       [6.9359797e-01, 3.0640197e-01],\n",
              "       [5.2774721e-01, 4.7225282e-01],\n",
              "       [7.5976074e-01, 2.4023928e-01],\n",
              "       [7.1741271e-01, 2.8258723e-01],\n",
              "       [6.6297811e-01, 3.3702180e-01],\n",
              "       [5.2355480e-01, 4.7644511e-01],\n",
              "       [5.4272759e-01, 4.5727244e-01],\n",
              "       [6.9894153e-01, 3.0105853e-01],\n",
              "       [5.2629077e-01, 4.7370923e-01],\n",
              "       [6.6524988e-01, 3.3475012e-01],\n",
              "       [5.3862673e-01, 4.6137327e-01],\n",
              "       [5.4353839e-01, 4.5646149e-01],\n",
              "       [4.9259371e-01, 5.0740635e-01],\n",
              "       [1.9635488e-03, 9.9803632e-01],\n",
              "       [6.6527295e-01, 3.3472705e-01],\n",
              "       [6.9091332e-01, 3.0908671e-01],\n",
              "       [6.8050450e-01, 3.1949547e-01],\n",
              "       [7.1307760e-01, 2.8692237e-01],\n",
              "       [5.5441046e-01, 4.4558960e-01],\n",
              "       [4.1870138e-01, 5.8129865e-01],\n",
              "       [6.0508823e-01, 3.9491174e-01],\n",
              "       [7.6697463e-01, 2.3302537e-01],\n",
              "       [7.9584658e-01, 2.0415342e-01],\n",
              "       [2.4117225e-01, 7.5882775e-01],\n",
              "       [6.0568363e-03, 9.9394315e-01],\n",
              "       [8.9218247e-01, 1.0781755e-01],\n",
              "       [4.6916515e-01, 5.3083473e-01],\n",
              "       [5.3639996e-01, 4.6360007e-01],\n",
              "       [7.5127178e-01, 2.4872819e-01],\n",
              "       [5.6750077e-01, 4.3249926e-01],\n",
              "       [1.2675850e-01, 8.7324160e-01],\n",
              "       [5.0207902e-02, 9.4979203e-01],\n",
              "       [6.3271242e-01, 3.6728761e-01],\n",
              "       [2.4632075e-01, 7.5367916e-01],\n",
              "       [3.2562718e-01, 6.7437279e-01],\n",
              "       [8.6468256e-01, 1.3531737e-01],\n",
              "       [5.2630270e-01, 4.7369722e-01],\n",
              "       [6.0220573e-02, 9.3977940e-01],\n",
              "       [5.2336884e-01, 4.7663116e-01],\n",
              "       [3.9272568e-01, 6.0727429e-01],\n",
              "       [1.2092111e-01, 8.7907881e-01],\n",
              "       [1.9058479e-01, 8.0941522e-01],\n",
              "       [5.8566213e-01, 4.1433775e-01],\n",
              "       [8.5645878e-01, 1.4354117e-01],\n",
              "       [5.1070833e-01, 4.8929167e-01],\n",
              "       [4.7428209e-01, 5.2571797e-01],\n",
              "       [5.2730477e-01, 4.7269529e-01],\n",
              "       [3.6638606e-01, 6.3361394e-01],\n",
              "       [5.0456214e-01, 4.9543786e-01],\n",
              "       [6.4097571e-01, 3.5902435e-01],\n",
              "       [9.9769849e-01, 2.3014904e-03]], dtype=float32)"
            ]
          },
          "metadata": {},
          "execution_count": 30
        }
      ]
    },
    {
      "cell_type": "code",
      "source": [
        "y_pred = correctValue(y_pred)"
      ],
      "metadata": {
        "id": "yeqP-c0SbUWx"
      },
      "execution_count": null,
      "outputs": []
    },
    {
      "cell_type": "code",
      "source": [
        "y_test_first = np.array([tmp[0] for tmp in y_test])"
      ],
      "metadata": {
        "id": "kj_fT3YdRLs1"
      },
      "execution_count": 34,
      "outputs": []
    },
    {
      "cell_type": "code",
      "source": [
        "y_pred_first = np.array([tmp[0] for tmp in y_pred])"
      ],
      "metadata": {
        "id": "1S8Ezki-5Deh"
      },
      "execution_count": null,
      "outputs": []
    },
    {
      "cell_type": "code",
      "source": [
        "def firstValue(pred):\n",
        "  return np.array([tmp[0] for tmp in pred])"
      ],
      "metadata": {
        "id": "pBcaBzqCam18"
      },
      "execution_count": 364,
      "outputs": []
    },
    {
      "cell_type": "code",
      "source": [
        "conf_matrix = confusion_matrix(y_test_first, y_pred_first, labels=None, sample_weight=None)\n",
        "sns.heatmap(conf_matrix, annot=True, fmt=\"d\", cmap=\"Blues\", annot_kws={\"size\": 16})\n",
        "plt.xlabel('Predicted labels')\n",
        "plt.ylabel('True labels')\n",
        "plt.title('Confusion Matrix')\n",
        "plt.show()"
      ],
      "metadata": {
        "id": "2eqPVOQhb16A",
        "outputId": "3f898b1c-b8f9-4709-b83c-9e706b5db968",
        "colab": {
          "base_uri": "https://localhost:8080/",
          "height": 472
        }
      },
      "execution_count": null,
      "outputs": [
        {
          "output_type": "display_data",
          "data": {
            "text/plain": [
              "<Figure size 640x480 with 2 Axes>"
            ],
            "image/png": "[encoded data removed]"
          },
          "metadata": {}
        }
      ]
    },
    {
      "cell_type": "code",
      "source": [
        "'''\n",
        "# Define the neural network model\n",
        "def create_model(optimizer='adam', loss='binary_crossentropy', firstLayer=11, secondLayer=11, learning_rate=0.1):\n",
        "    if optimizer == 'adam':\n",
        "        opt = Adam(learning_rate=learning_rate)\n",
        "    elif optimizer == 'rmsprop':\n",
        "        opt = RMSprop(learning_rate=learning_rate)\n",
        "    else:\n",
        "        raise ValueError(\"Invalid optimizer\")\n",
        "\n",
        "    model = Sequential()\n",
        "    model.add(Dense(firstLayer, input_dim=11, activation='relu'))\n",
        "    model.add(Dense(secondLayer, activation='relu'))\n",
        "    model.add(Dense(2, activation='softmax'))\n",
        "    model.compile(loss=loss, optimizer=opt, metrics=['accuracy'])\n",
        "    return model\n",
        "\n",
        "\n",
        "# Define the hyperparameter grid\n",
        "param_grid = {#'batch_size': [10, 20, 40, 50],\n",
        "              'batch_size': [10, 20, 30],\n",
        "              #'epochs': [ 20, 40, 50],\n",
        "              'epochs': [10, 20, 30],\n",
        "              'optimizer': ['adam', 'rmsprop'],\n",
        "              #'loss': ['binary_crossentropy','categorical_crossentropy', 'hinge'],\n",
        "              'loss': ['categorical_crossentropy'],\n",
        "              'firstLayer': [11, 22, 50, 100],\n",
        "              'secondLayer': [11, 22, 50, 100],\n",
        "              'learning_rate': [0.001, 0.01, 0.1]}\n",
        "\n",
        "\n",
        "# Initialize the best accuracy and the best hyperparameters\n",
        "best_accuracy = 0\n",
        "best_params = {}\n",
        "\n",
        "# Loop over the hyperparameter grid\n",
        "for params in product(*param_grid.values()):\n",
        "    # Create the neural network model with the current hyperparameters\n",
        "    model = create_model(params[2], params[3], params[4], params[5], params[6])\n",
        "\n",
        "    # Train the model\n",
        "    model.fit(X_train, y_train, batch_size=params[0], epochs=params[1], verbose=0)\n",
        "\n",
        "    # Evaluate the model on the testing set\n",
        "    y_pred = model.predict(X_test)\n",
        "    y_pred = correctValue(y_pred)\n",
        "    accuracy = accuracy_score(y_test, y_pred)\n",
        "\n",
        "    print(\"Hyperparameters: \", best_params)\n",
        "    print(\"Accuracy: \", best_accuracy)\n",
        "    print(\"------------------------------------------------\")\n",
        "\n",
        "    # Update the best accuracy and the best hyperparameters\n",
        "    if accuracy > best_accuracy:\n",
        "        best_accuracy = accuracy\n",
        "        best_params = params\n",
        "\n",
        "# Print the best hyperparameters\n",
        "print(\"Best hyperparameters: \", best_params)\n",
        "print(\"Best accuracy: \", best_accuracy)\n",
        "'''"
      ],
      "metadata": {
        "colab": {
          "base_uri": "https://localhost:8080/",
          "height": 86
        },
        "id": "8gUM3OnLWDMv",
        "outputId": "bc275f7f-58a9-43d0-f375-d14f731c7f17"
      },
      "execution_count": null,
      "outputs": [
        {
          "output_type": "execute_result",
          "data": {
            "text/plain": [
              "'\\n# Define the neural network model\\ndef create_model(optimizer=\\'adam\\', loss=\\'binary_crossentropy\\', firstLayer=11, secondLayer=11, learning_rate=0.1):\\n    if optimizer == \\'adam\\':\\n        opt = Adam(learning_rate=learning_rate)\\n    elif optimizer == \\'rmsprop\\':\\n        opt = RMSprop(learning_rate=learning_rate)\\n    else:\\n        raise ValueError(\"Invalid optimizer\")\\n\\n    model = Sequential()\\n    model.add(Dense(firstLayer, input_dim=11, activation=\\'relu\\'))\\n    model.add(Dense(secondLayer, activation=\\'relu\\'))\\n    model.add(Dense(2, activation=\\'softmax\\'))\\n    model.compile(loss=loss, optimizer=opt, metrics=[\\'accuracy\\'])\\n    return model\\n\\n\\n# Define the hyperparameter grid\\nparam_grid = {#\\'batch_size\\': [10, 20, 40, 50],\\n              \\'batch_size\\': [10, 20, 30],\\n              #\\'epochs\\': [ 20, 40, 50],\\n              \\'epochs\\': [10, 20, 30],\\n              \\'optimizer\\': [\\'adam\\', \\'rmsprop\\'],\\n              #\\'loss\\': [\\'binary_crossentropy\\',\\'categorical_crossentropy\\', \\'hinge\\'],\\n              \\'loss\\': [\\'categorical_crossentropy\\'],\\n              \\'firstLayer\\': [11, 22, 50, 100],\\n              \\'secondLayer\\': [11, 22, 50, 100],\\n              \\'learning_rate\\': [0.001, 0.01, 0.1]}\\n\\n\\n# Initialize the best accuracy and the best hyperparameters\\nbest_accuracy = 0\\nbest_params = {}\\n\\n# Loop over the hyperparameter grid\\nfor params in product(*param_grid.values()):\\n    # Create the neural network model with the current hyperparameters\\n    model = create_model(params[2], params[3], params[4], params[5], params[6])\\n\\n    # Train the model\\n    model.fit(X_train, y_train, batch_size=params[0], epochs=params[1], verbose=0)\\n\\n    # Evaluate the model on the testing set\\n    y_pred = model.predict(X_test)\\n    y_pred = correctValue(y_pred)\\n    accuracy = accuracy_score(y_test, y_pred)\\n\\n    print(\"Hyperparameters: \", best_params)\\n    print(\"Accuracy: \", best_accuracy)\\n    print(\"------------------------------------------------\")\\n\\n    # Update the best accuracy and the best hyperparameters\\n    if accuracy > best_accuracy:\\n        best_accuracy = accuracy\\n        best_params = params\\n\\n# Print the best hyperparameters\\nprint(\"Best hyperparameters: \", best_params)\\nprint(\"Best accuracy: \", best_accuracy)\\n'"
            ],
            "application/vnd.google.colaboratory.intrinsic+json": {
              "type": "string"
            }
          },
          "metadata": {},
          "execution_count": 36
        }
      ]
    },
    {
      "cell_type": "code",
      "source": [
        "def create_model(optimizer='adam', loss='binary_crossentropy', firstLayer=11, secondLayer=11, thirdLayer=11, learning_rate=0.1, fourthLayer=0):\n",
        "    if optimizer == 'adam':\n",
        "        opt = Adam(learning_rate=learning_rate)\n",
        "    elif optimizer == 'rmsprop':\n",
        "        opt = RMSprop(learning_rate=learning_rate)\n",
        "    else:\n",
        "        raise ValueError(\"Invalid optimizer\")\n",
        "\n",
        "    model = Sequential()\n",
        "    model.add(Dense(firstLayer, input_dim=X_train.shape[1], activation='relu'))\n",
        "    model.add(Dense(secondLayer, activation='relu'))\n",
        "    if(params == 1):\n",
        "      model.add(Dense(thirdLayer, activation='relu'))\n",
        "    model.add(Dense(2, activation='softmax'))\n",
        "    model.compile(loss=loss, optimizer=opt, metrics=['accuracy'])\n",
        "    return model\n",
        "\n",
        "param_grid = {\n",
        "              'batch_size': [10, 15, 20, 25, 30],\n",
        "              'epochs': [10, 15, 20, 25, 30],\n",
        "              'optimizer': ['adam'],\n",
        "              'loss': [\"binary_crossentropy\"],\n",
        "              'firstLayer': [55],\n",
        "              'secondLayer': [22],\n",
        "              \"thirdLayer\": [12, 22],\n",
        "              'learning_rate': [0.01],\n",
        "              \"fourthLayer\": [0, 1]}\n",
        "\n",
        "best_accuracy = 0\n",
        "best_params = {}\n",
        "best_model = None\n",
        "\n",
        "for params in product(*param_grid.values()):\n",
        "\n",
        "  model = create_model(params[2], params[3], params[4], params[5], params[6], params[7])\n",
        "\n",
        "  model.fit(X_train, y_train, batch_size=params[0], epochs=params[1], verbose=0)\n",
        "\n",
        "  y_pred = model.predict(X_test)\n",
        "  y_pred = correctValue(y_pred)\n",
        "  accuracy = accuracy_score(y_test, y_pred)\n",
        "\n",
        "  print(\"Hyperparameters: \", params)\n",
        "  print(\"Accuracy: \", accuracy)\n",
        "  print(\"------------------------------------------------\")\n",
        "\n",
        "  if accuracy > best_accuracy:\n",
        "      best_accuracy = accuracy\n",
        "      best_params = params\n",
        "      best_model = model\n",
        "\n",
        "print(\"Best hyperparameters: \", best_params)\n",
        "print(\"Best accuracy: \", best_accuracy)"
      ],
      "metadata": {
        "id": "-5V5zWOUJc6u",
        "outputId": "a00f5c51-3b2c-4747-99ce-a40681465ad3",
        "colab": {
          "base_uri": "https://localhost:8080/"
        }
      },
      "execution_count": 422,
      "outputs": [
        {
          "output_type": "stream",
          "name": "stdout",
          "text": [
            "4/4 [==============================] - 0s 4ms/step\n",
            "Hyperparameters:  (10, 10, 'adam', 'binary_crossentropy', 55, 22, 12, 0.01, 0)\n",
            "Accuracy:  0.6771653543307087\n",
            "------------------------------------------------\n",
            "4/4 [==============================] - 0s 5ms/step\n",
            "Hyperparameters:  (10, 10, 'adam', 'binary_crossentropy', 55, 22, 12, 0.01, 1)\n",
            "Accuracy:  0.7244094488188977\n",
            "------------------------------------------------\n",
            "4/4 [==============================] - 0s 4ms/step\n",
            "Hyperparameters:  (10, 10, 'adam', 'binary_crossentropy', 55, 22, 22, 0.01, 0)\n",
            "Accuracy:  0.7165354330708661\n",
            "------------------------------------------------\n",
            "4/4 [==============================] - 0s 4ms/step\n",
            "Hyperparameters:  (10, 10, 'adam', 'binary_crossentropy', 55, 22, 22, 0.01, 1)\n",
            "Accuracy:  0.7007874015748031\n",
            "------------------------------------------------\n",
            "4/4 [==============================] - 0s 3ms/step\n",
            "Hyperparameters:  (10, 15, 'adam', 'binary_crossentropy', 55, 22, 12, 0.01, 0)\n",
            "Accuracy:  0.7086614173228346\n",
            "------------------------------------------------\n",
            "4/4 [==============================] - 0s 4ms/step\n",
            "Hyperparameters:  (10, 15, 'adam', 'binary_crossentropy', 55, 22, 12, 0.01, 1)\n",
            "Accuracy:  0.6929133858267716\n",
            "------------------------------------------------\n",
            "4/4 [==============================] - 0s 4ms/step\n",
            "Hyperparameters:  (10, 15, 'adam', 'binary_crossentropy', 55, 22, 22, 0.01, 0)\n",
            "Accuracy:  0.7165354330708661\n",
            "------------------------------------------------\n",
            "4/4 [==============================] - 0s 5ms/step\n",
            "Hyperparameters:  (10, 15, 'adam', 'binary_crossentropy', 55, 22, 22, 0.01, 1)\n",
            "Accuracy:  0.7007874015748031\n",
            "------------------------------------------------\n",
            "4/4 [==============================] - 0s 4ms/step\n",
            "Hyperparameters:  (10, 20, 'adam', 'binary_crossentropy', 55, 22, 12, 0.01, 0)\n",
            "Accuracy:  0.6929133858267716\n",
            "------------------------------------------------\n",
            "4/4 [==============================] - 0s 3ms/step\n",
            "Hyperparameters:  (10, 20, 'adam', 'binary_crossentropy', 55, 22, 12, 0.01, 1)\n",
            "Accuracy:  0.6771653543307087\n",
            "------------------------------------------------\n",
            "4/4 [==============================] - 0s 4ms/step\n",
            "Hyperparameters:  (10, 20, 'adam', 'binary_crossentropy', 55, 22, 22, 0.01, 0)\n",
            "Accuracy:  0.6692913385826772\n",
            "------------------------------------------------\n",
            "4/4 [==============================] - 0s 3ms/step\n",
            "Hyperparameters:  (10, 20, 'adam', 'binary_crossentropy', 55, 22, 22, 0.01, 1)\n",
            "Accuracy:  0.6771653543307087\n",
            "------------------------------------------------\n",
            "4/4 [==============================] - 0s 4ms/step\n",
            "Hyperparameters:  (10, 25, 'adam', 'binary_crossentropy', 55, 22, 12, 0.01, 0)\n",
            "Accuracy:  0.7244094488188977\n",
            "------------------------------------------------\n",
            "4/4 [==============================] - 0s 4ms/step\n",
            "Hyperparameters:  (10, 25, 'adam', 'binary_crossentropy', 55, 22, 12, 0.01, 1)\n",
            "Accuracy:  0.6062992125984252\n",
            "------------------------------------------------\n",
            "4/4 [==============================] - 0s 4ms/step\n",
            "Hyperparameters:  (10, 25, 'adam', 'binary_crossentropy', 55, 22, 22, 0.01, 0)\n",
            "Accuracy:  0.7086614173228346\n",
            "------------------------------------------------\n",
            "4/4 [==============================] - 0s 4ms/step\n",
            "Hyperparameters:  (10, 25, 'adam', 'binary_crossentropy', 55, 22, 22, 0.01, 1)\n",
            "Accuracy:  0.6614173228346457\n",
            "------------------------------------------------\n",
            "4/4 [==============================] - 0s 5ms/step\n",
            "Hyperparameters:  (10, 30, 'adam', 'binary_crossentropy', 55, 22, 12, 0.01, 0)\n",
            "Accuracy:  0.6771653543307087\n",
            "------------------------------------------------\n",
            "4/4 [==============================] - 0s 5ms/step\n",
            "Hyperparameters:  (10, 30, 'adam', 'binary_crossentropy', 55, 22, 12, 0.01, 1)\n",
            "Accuracy:  0.6929133858267716\n",
            "------------------------------------------------\n",
            "4/4 [==============================] - 0s 3ms/step\n",
            "Hyperparameters:  (10, 30, 'adam', 'binary_crossentropy', 55, 22, 22, 0.01, 0)\n",
            "Accuracy:  0.6929133858267716\n",
            "------------------------------------------------\n",
            "4/4 [==============================] - 0s 3ms/step\n",
            "Hyperparameters:  (10, 30, 'adam', 'binary_crossentropy', 55, 22, 22, 0.01, 1)\n",
            "Accuracy:  0.6850393700787402\n",
            "------------------------------------------------\n",
            "4/4 [==============================] - 0s 3ms/step\n",
            "Hyperparameters:  (15, 10, 'adam', 'binary_crossentropy', 55, 22, 12, 0.01, 0)\n",
            "Accuracy:  0.6850393700787402\n",
            "------------------------------------------------\n",
            "4/4 [==============================] - 0s 4ms/step\n",
            "Hyperparameters:  (15, 10, 'adam', 'binary_crossentropy', 55, 22, 12, 0.01, 1)\n",
            "Accuracy:  0.6771653543307087\n",
            "------------------------------------------------\n",
            "4/4 [==============================] - 0s 3ms/step\n",
            "Hyperparameters:  (15, 10, 'adam', 'binary_crossentropy', 55, 22, 22, 0.01, 0)\n",
            "Accuracy:  0.7007874015748031\n",
            "------------------------------------------------\n",
            "4/4 [==============================] - 0s 4ms/step\n",
            "Hyperparameters:  (15, 10, 'adam', 'binary_crossentropy', 55, 22, 22, 0.01, 1)\n",
            "Accuracy:  0.6929133858267716\n",
            "------------------------------------------------\n",
            "4/4 [==============================] - 0s 3ms/step\n",
            "Hyperparameters:  (15, 15, 'adam', 'binary_crossentropy', 55, 22, 12, 0.01, 0)\n",
            "Accuracy:  0.6771653543307087\n",
            "------------------------------------------------\n",
            "4/4 [==============================] - 0s 3ms/step\n",
            "Hyperparameters:  (15, 15, 'adam', 'binary_crossentropy', 55, 22, 12, 0.01, 1)\n",
            "Accuracy:  0.7322834645669292\n",
            "------------------------------------------------\n",
            "4/4 [==============================] - 0s 3ms/step\n",
            "Hyperparameters:  (15, 15, 'adam', 'binary_crossentropy', 55, 22, 22, 0.01, 0)\n",
            "Accuracy:  0.6771653543307087\n",
            "------------------------------------------------\n",
            "4/4 [==============================] - 0s 5ms/step\n",
            "Hyperparameters:  (15, 15, 'adam', 'binary_crossentropy', 55, 22, 22, 0.01, 1)\n",
            "Accuracy:  0.7401574803149606\n",
            "------------------------------------------------\n",
            "4/4 [==============================] - 0s 5ms/step\n",
            "Hyperparameters:  (15, 20, 'adam', 'binary_crossentropy', 55, 22, 12, 0.01, 0)\n",
            "Accuracy:  0.6929133858267716\n",
            "------------------------------------------------\n",
            "4/4 [==============================] - 0s 4ms/step\n",
            "Hyperparameters:  (15, 20, 'adam', 'binary_crossentropy', 55, 22, 12, 0.01, 1)\n",
            "Accuracy:  0.6850393700787402\n",
            "------------------------------------------------\n",
            "4/4 [==============================] - 0s 4ms/step\n",
            "Hyperparameters:  (15, 20, 'adam', 'binary_crossentropy', 55, 22, 22, 0.01, 0)\n",
            "Accuracy:  0.6929133858267716\n",
            "------------------------------------------------\n",
            "4/4 [==============================] - 0s 5ms/step\n",
            "Hyperparameters:  (15, 20, 'adam', 'binary_crossentropy', 55, 22, 22, 0.01, 1)\n",
            "Accuracy:  0.6771653543307087\n",
            "------------------------------------------------\n",
            "4/4 [==============================] - 0s 3ms/step\n",
            "Hyperparameters:  (15, 25, 'adam', 'binary_crossentropy', 55, 22, 12, 0.01, 0)\n",
            "Accuracy:  0.6850393700787402\n",
            "------------------------------------------------\n",
            "4/4 [==============================] - 0s 3ms/step\n",
            "Hyperparameters:  (15, 25, 'adam', 'binary_crossentropy', 55, 22, 12, 0.01, 1)\n",
            "Accuracy:  0.7165354330708661\n",
            "------------------------------------------------\n",
            "4/4 [==============================] - 0s 3ms/step\n",
            "Hyperparameters:  (15, 25, 'adam', 'binary_crossentropy', 55, 22, 22, 0.01, 0)\n",
            "Accuracy:  0.7244094488188977\n",
            "------------------------------------------------\n",
            "4/4 [==============================] - 0s 5ms/step\n",
            "Hyperparameters:  (15, 25, 'adam', 'binary_crossentropy', 55, 22, 22, 0.01, 1)\n",
            "Accuracy:  0.6535433070866141\n",
            "------------------------------------------------\n",
            "4/4 [==============================] - 0s 6ms/step\n",
            "Hyperparameters:  (15, 30, 'adam', 'binary_crossentropy', 55, 22, 12, 0.01, 0)\n",
            "Accuracy:  0.6692913385826772\n",
            "------------------------------------------------\n",
            "4/4 [==============================] - 0s 5ms/step\n",
            "Hyperparameters:  (15, 30, 'adam', 'binary_crossentropy', 55, 22, 12, 0.01, 1)\n",
            "Accuracy:  0.6614173228346457\n",
            "------------------------------------------------\n",
            "4/4 [==============================] - 0s 4ms/step\n",
            "Hyperparameters:  (15, 30, 'adam', 'binary_crossentropy', 55, 22, 22, 0.01, 0)\n",
            "Accuracy:  0.7165354330708661\n",
            "------------------------------------------------\n",
            "4/4 [==============================] - 0s 4ms/step\n",
            "Hyperparameters:  (15, 30, 'adam', 'binary_crossentropy', 55, 22, 22, 0.01, 1)\n",
            "Accuracy:  0.6614173228346457\n",
            "------------------------------------------------\n",
            "4/4 [==============================] - 0s 3ms/step\n",
            "Hyperparameters:  (20, 10, 'adam', 'binary_crossentropy', 55, 22, 12, 0.01, 0)\n",
            "Accuracy:  0.6771653543307087\n",
            "------------------------------------------------\n",
            "4/4 [==============================] - 0s 5ms/step\n",
            "Hyperparameters:  (20, 10, 'adam', 'binary_crossentropy', 55, 22, 12, 0.01, 1)\n",
            "Accuracy:  0.7086614173228346\n",
            "------------------------------------------------\n",
            "4/4 [==============================] - 0s 4ms/step\n",
            "Hyperparameters:  (20, 10, 'adam', 'binary_crossentropy', 55, 22, 22, 0.01, 0)\n",
            "Accuracy:  0.7480314960629921\n",
            "------------------------------------------------\n",
            "4/4 [==============================] - 0s 3ms/step\n",
            "Hyperparameters:  (20, 10, 'adam', 'binary_crossentropy', 55, 22, 22, 0.01, 1)\n",
            "Accuracy:  0.6614173228346457\n",
            "------------------------------------------------\n",
            "4/4 [==============================] - 0s 4ms/step\n",
            "Hyperparameters:  (20, 15, 'adam', 'binary_crossentropy', 55, 22, 12, 0.01, 0)\n",
            "Accuracy:  0.6692913385826772\n",
            "------------------------------------------------\n",
            "4/4 [==============================] - 0s 3ms/step\n",
            "Hyperparameters:  (20, 15, 'adam', 'binary_crossentropy', 55, 22, 12, 0.01, 1)\n",
            "Accuracy:  0.7401574803149606\n",
            "------------------------------------------------\n",
            "4/4 [==============================] - 0s 3ms/step\n",
            "Hyperparameters:  (20, 15, 'adam', 'binary_crossentropy', 55, 22, 22, 0.01, 0)\n",
            "Accuracy:  0.7244094488188977\n",
            "------------------------------------------------\n",
            "4/4 [==============================] - 0s 4ms/step\n",
            "Hyperparameters:  (20, 15, 'adam', 'binary_crossentropy', 55, 22, 22, 0.01, 1)\n",
            "Accuracy:  0.7165354330708661\n",
            "------------------------------------------------\n",
            "4/4 [==============================] - 0s 3ms/step\n",
            "Hyperparameters:  (20, 20, 'adam', 'binary_crossentropy', 55, 22, 12, 0.01, 0)\n",
            "Accuracy:  0.7086614173228346\n",
            "------------------------------------------------\n",
            "4/4 [==============================] - 0s 4ms/step\n",
            "Hyperparameters:  (20, 20, 'adam', 'binary_crossentropy', 55, 22, 12, 0.01, 1)\n",
            "Accuracy:  0.6771653543307087\n",
            "------------------------------------------------\n",
            "4/4 [==============================] - 0s 3ms/step\n",
            "Hyperparameters:  (20, 20, 'adam', 'binary_crossentropy', 55, 22, 22, 0.01, 0)\n",
            "Accuracy:  0.6456692913385826\n",
            "------------------------------------------------\n",
            "4/4 [==============================] - 0s 4ms/step\n",
            "Hyperparameters:  (20, 20, 'adam', 'binary_crossentropy', 55, 22, 22, 0.01, 1)\n",
            "Accuracy:  0.6771653543307087\n",
            "------------------------------------------------\n",
            "4/4 [==============================] - 0s 4ms/step\n",
            "Hyperparameters:  (20, 25, 'adam', 'binary_crossentropy', 55, 22, 12, 0.01, 0)\n",
            "Accuracy:  0.7007874015748031\n",
            "------------------------------------------------\n",
            "4/4 [==============================] - 0s 4ms/step\n",
            "Hyperparameters:  (20, 25, 'adam', 'binary_crossentropy', 55, 22, 12, 0.01, 1)\n",
            "Accuracy:  0.6771653543307087\n",
            "------------------------------------------------\n",
            "4/4 [==============================] - 0s 4ms/step\n",
            "Hyperparameters:  (20, 25, 'adam', 'binary_crossentropy', 55, 22, 22, 0.01, 0)\n",
            "Accuracy:  0.6929133858267716\n",
            "------------------------------------------------\n",
            "4/4 [==============================] - 0s 4ms/step\n",
            "Hyperparameters:  (20, 25, 'adam', 'binary_crossentropy', 55, 22, 22, 0.01, 1)\n",
            "Accuracy:  0.6850393700787402\n",
            "------------------------------------------------\n",
            "4/4 [==============================] - 0s 4ms/step\n",
            "Hyperparameters:  (20, 30, 'adam', 'binary_crossentropy', 55, 22, 12, 0.01, 0)\n",
            "Accuracy:  0.7086614173228346\n",
            "------------------------------------------------\n",
            "4/4 [==============================] - 0s 4ms/step\n",
            "Hyperparameters:  (20, 30, 'adam', 'binary_crossentropy', 55, 22, 12, 0.01, 1)\n",
            "Accuracy:  0.6220472440944882\n",
            "------------------------------------------------\n",
            "4/4 [==============================] - 0s 4ms/step\n",
            "Hyperparameters:  (20, 30, 'adam', 'binary_crossentropy', 55, 22, 22, 0.01, 0)\n",
            "Accuracy:  0.7165354330708661\n",
            "------------------------------------------------\n",
            "4/4 [==============================] - 0s 4ms/step\n",
            "Hyperparameters:  (20, 30, 'adam', 'binary_crossentropy', 55, 22, 22, 0.01, 1)\n",
            "Accuracy:  0.6614173228346457\n",
            "------------------------------------------------\n",
            "4/4 [==============================] - 0s 4ms/step\n",
            "Hyperparameters:  (25, 10, 'adam', 'binary_crossentropy', 55, 22, 12, 0.01, 0)\n",
            "Accuracy:  0.7007874015748031\n",
            "------------------------------------------------\n",
            "4/4 [==============================] - 0s 3ms/step\n",
            "Hyperparameters:  (25, 10, 'adam', 'binary_crossentropy', 55, 22, 12, 0.01, 1)\n",
            "Accuracy:  0.7244094488188977\n",
            "------------------------------------------------\n",
            "4/4 [==============================] - 0s 3ms/step\n",
            "Hyperparameters:  (25, 10, 'adam', 'binary_crossentropy', 55, 22, 22, 0.01, 0)\n",
            "Accuracy:  0.6929133858267716\n",
            "------------------------------------------------\n",
            "4/4 [==============================] - 0s 4ms/step\n",
            "Hyperparameters:  (25, 10, 'adam', 'binary_crossentropy', 55, 22, 22, 0.01, 1)\n",
            "Accuracy:  0.6456692913385826\n",
            "------------------------------------------------\n",
            "4/4 [==============================] - 0s 3ms/step\n",
            "Hyperparameters:  (25, 15, 'adam', 'binary_crossentropy', 55, 22, 12, 0.01, 0)\n",
            "Accuracy:  0.7086614173228346\n",
            "------------------------------------------------\n",
            "4/4 [==============================] - 0s 4ms/step\n",
            "Hyperparameters:  (25, 15, 'adam', 'binary_crossentropy', 55, 22, 12, 0.01, 1)\n",
            "Accuracy:  0.6929133858267716\n",
            "------------------------------------------------\n",
            "4/4 [==============================] - 0s 3ms/step\n",
            "Hyperparameters:  (25, 15, 'adam', 'binary_crossentropy', 55, 22, 22, 0.01, 0)\n",
            "Accuracy:  0.7007874015748031\n",
            "------------------------------------------------\n",
            "4/4 [==============================] - 0s 4ms/step\n",
            "Hyperparameters:  (25, 15, 'adam', 'binary_crossentropy', 55, 22, 22, 0.01, 1)\n",
            "Accuracy:  0.6692913385826772\n",
            "------------------------------------------------\n",
            "4/4 [==============================] - 0s 5ms/step\n",
            "Hyperparameters:  (25, 20, 'adam', 'binary_crossentropy', 55, 22, 12, 0.01, 0)\n",
            "Accuracy:  0.6692913385826772\n",
            "------------------------------------------------\n",
            "4/4 [==============================] - 0s 6ms/step\n",
            "Hyperparameters:  (25, 20, 'adam', 'binary_crossentropy', 55, 22, 12, 0.01, 1)\n",
            "Accuracy:  0.6614173228346457\n",
            "------------------------------------------------\n",
            "4/4 [==============================] - 0s 4ms/step\n",
            "Hyperparameters:  (25, 20, 'adam', 'binary_crossentropy', 55, 22, 22, 0.01, 0)\n",
            "Accuracy:  0.7165354330708661\n",
            "------------------------------------------------\n",
            "4/4 [==============================] - 0s 4ms/step\n",
            "Hyperparameters:  (25, 20, 'adam', 'binary_crossentropy', 55, 22, 22, 0.01, 1)\n",
            "Accuracy:  0.6456692913385826\n",
            "------------------------------------------------\n",
            "4/4 [==============================] - 0s 4ms/step\n",
            "Hyperparameters:  (25, 25, 'adam', 'binary_crossentropy', 55, 22, 12, 0.01, 0)\n",
            "Accuracy:  0.6929133858267716\n",
            "------------------------------------------------\n",
            "4/4 [==============================] - 0s 4ms/step\n",
            "Hyperparameters:  (25, 25, 'adam', 'binary_crossentropy', 55, 22, 12, 0.01, 1)\n",
            "Accuracy:  0.6929133858267716\n",
            "------------------------------------------------\n",
            "4/4 [==============================] - 0s 5ms/step\n",
            "Hyperparameters:  (25, 25, 'adam', 'binary_crossentropy', 55, 22, 22, 0.01, 0)\n",
            "Accuracy:  0.6614173228346457\n",
            "------------------------------------------------\n",
            "4/4 [==============================] - 0s 3ms/step\n",
            "Hyperparameters:  (25, 25, 'adam', 'binary_crossentropy', 55, 22, 22, 0.01, 1)\n",
            "Accuracy:  0.6929133858267716\n",
            "------------------------------------------------\n",
            "4/4 [==============================] - 0s 4ms/step\n",
            "Hyperparameters:  (25, 30, 'adam', 'binary_crossentropy', 55, 22, 12, 0.01, 0)\n",
            "Accuracy:  0.7401574803149606\n",
            "------------------------------------------------\n",
            "4/4 [==============================] - 0s 3ms/step\n",
            "Hyperparameters:  (25, 30, 'adam', 'binary_crossentropy', 55, 22, 12, 0.01, 1)\n",
            "Accuracy:  0.6771653543307087\n",
            "------------------------------------------------\n",
            "4/4 [==============================] - 0s 4ms/step\n",
            "Hyperparameters:  (25, 30, 'adam', 'binary_crossentropy', 55, 22, 22, 0.01, 0)\n",
            "Accuracy:  0.6850393700787402\n",
            "------------------------------------------------\n",
            "4/4 [==============================] - 0s 4ms/step\n",
            "Hyperparameters:  (25, 30, 'adam', 'binary_crossentropy', 55, 22, 22, 0.01, 1)\n",
            "Accuracy:  0.6929133858267716\n",
            "------------------------------------------------\n",
            "4/4 [==============================] - 0s 4ms/step\n",
            "Hyperparameters:  (30, 10, 'adam', 'binary_crossentropy', 55, 22, 12, 0.01, 0)\n",
            "Accuracy:  0.7165354330708661\n",
            "------------------------------------------------\n",
            "4/4 [==============================] - 0s 4ms/step\n",
            "Hyperparameters:  (30, 10, 'adam', 'binary_crossentropy', 55, 22, 12, 0.01, 1)\n",
            "Accuracy:  0.7007874015748031\n",
            "------------------------------------------------\n",
            "4/4 [==============================] - 0s 4ms/step\n",
            "Hyperparameters:  (30, 10, 'adam', 'binary_crossentropy', 55, 22, 22, 0.01, 0)\n",
            "Accuracy:  0.7165354330708661\n",
            "------------------------------------------------\n",
            "4/4 [==============================] - 0s 4ms/step\n",
            "Hyperparameters:  (30, 10, 'adam', 'binary_crossentropy', 55, 22, 22, 0.01, 1)\n",
            "Accuracy:  0.6850393700787402\n",
            "------------------------------------------------\n",
            "4/4 [==============================] - 0s 4ms/step\n",
            "Hyperparameters:  (30, 15, 'adam', 'binary_crossentropy', 55, 22, 12, 0.01, 0)\n",
            "Accuracy:  0.7244094488188977\n",
            "------------------------------------------------\n",
            "4/4 [==============================] - 0s 4ms/step\n",
            "Hyperparameters:  (30, 15, 'adam', 'binary_crossentropy', 55, 22, 12, 0.01, 1)\n",
            "Accuracy:  0.6614173228346457\n",
            "------------------------------------------------\n",
            "4/4 [==============================] - 0s 4ms/step\n",
            "Hyperparameters:  (30, 15, 'adam', 'binary_crossentropy', 55, 22, 22, 0.01, 0)\n",
            "Accuracy:  0.7086614173228346\n",
            "------------------------------------------------\n",
            "4/4 [==============================] - 0s 4ms/step\n",
            "Hyperparameters:  (30, 15, 'adam', 'binary_crossentropy', 55, 22, 22, 0.01, 1)\n",
            "Accuracy:  0.6614173228346457\n",
            "------------------------------------------------\n",
            "4/4 [==============================] - 0s 3ms/step\n",
            "Hyperparameters:  (30, 20, 'adam', 'binary_crossentropy', 55, 22, 12, 0.01, 0)\n",
            "Accuracy:  0.6771653543307087\n",
            "------------------------------------------------\n",
            "4/4 [==============================] - 0s 3ms/step\n",
            "Hyperparameters:  (30, 20, 'adam', 'binary_crossentropy', 55, 22, 12, 0.01, 1)\n",
            "Accuracy:  0.6614173228346457\n",
            "------------------------------------------------\n",
            "4/4 [==============================] - 0s 3ms/step\n",
            "Hyperparameters:  (30, 20, 'adam', 'binary_crossentropy', 55, 22, 22, 0.01, 0)\n",
            "Accuracy:  0.7165354330708661\n",
            "------------------------------------------------\n",
            "4/4 [==============================] - 0s 4ms/step\n",
            "Hyperparameters:  (30, 20, 'adam', 'binary_crossentropy', 55, 22, 22, 0.01, 1)\n",
            "Accuracy:  0.6850393700787402\n",
            "------------------------------------------------\n",
            "4/4 [==============================] - 0s 5ms/step\n",
            "Hyperparameters:  (30, 25, 'adam', 'binary_crossentropy', 55, 22, 12, 0.01, 0)\n",
            "Accuracy:  0.7007874015748031\n",
            "------------------------------------------------\n",
            "4/4 [==============================] - 0s 4ms/step\n",
            "Hyperparameters:  (30, 25, 'adam', 'binary_crossentropy', 55, 22, 12, 0.01, 1)\n",
            "Accuracy:  0.7007874015748031\n",
            "------------------------------------------------\n",
            "4/4 [==============================] - 0s 3ms/step\n",
            "Hyperparameters:  (30, 25, 'adam', 'binary_crossentropy', 55, 22, 22, 0.01, 0)\n",
            "Accuracy:  0.6771653543307087\n",
            "------------------------------------------------\n",
            "4/4 [==============================] - 0s 3ms/step\n",
            "Hyperparameters:  (30, 25, 'adam', 'binary_crossentropy', 55, 22, 22, 0.01, 1)\n",
            "Accuracy:  0.6929133858267716\n",
            "------------------------------------------------\n",
            "4/4 [==============================] - 0s 4ms/step\n",
            "Hyperparameters:  (30, 30, 'adam', 'binary_crossentropy', 55, 22, 12, 0.01, 0)\n",
            "Accuracy:  0.6614173228346457\n",
            "------------------------------------------------\n",
            "4/4 [==============================] - 0s 5ms/step\n",
            "Hyperparameters:  (30, 30, 'adam', 'binary_crossentropy', 55, 22, 12, 0.01, 1)\n",
            "Accuracy:  0.6692913385826772\n",
            "------------------------------------------------\n",
            "4/4 [==============================] - 0s 4ms/step\n",
            "Hyperparameters:  (30, 30, 'adam', 'binary_crossentropy', 55, 22, 22, 0.01, 0)\n",
            "Accuracy:  0.6535433070866141\n",
            "------------------------------------------------\n",
            "4/4 [==============================] - 0s 4ms/step\n",
            "Hyperparameters:  (30, 30, 'adam', 'binary_crossentropy', 55, 22, 22, 0.01, 1)\n",
            "Accuracy:  0.6850393700787402\n",
            "------------------------------------------------\n",
            "Best hyperparameters:  (20, 10, 'adam', 'binary_crossentropy', 55, 22, 22, 0.01, 0)\n",
            "Best accuracy:  0.7480314960629921\n"
          ]
        }
      ]
    },
    {
      "cell_type": "code",
      "source": [
        "y_test_first = firstValue(y_test)\n",
        "y_pred_first = firstValue(y_pred)"
      ],
      "metadata": {
        "id": "ft75Rxh9KfRp"
      },
      "execution_count": null,
      "outputs": []
    },
    {
      "cell_type": "code",
      "source": [
        "model = Sequential()\n",
        "model.add(Dense(55, input_dim=X_train.shape[1], activation='relu'))\n",
        "model.add(Dense(22, activation='relu'))\n",
        "#model.add(Dense(22, activation='relu'))\n",
        "model.add(Dense(2, activation='softmax'))\n",
        "model.compile(loss=\"binary_crossentropy\", optimizer=Adam(learning_rate=0.01), metrics='accuracy')"
      ],
      "metadata": {
        "id": "aq3Ts4I7BIWN"
      },
      "execution_count": 415,
      "outputs": []
    },
    {
      "cell_type": "code",
      "source": [
        "best_model.fit(X_train, y_train, batch_size=15, epochs=15, verbose=1)"
      ],
      "metadata": {
        "id": "CRUlTCa7KJf6",
        "outputId": "d87c81c2-8468-4d01-c71a-52611689ed5e",
        "colab": {
          "base_uri": "https://localhost:8080/"
        }
      },
      "execution_count": 430,
      "outputs": [
        {
          "output_type": "stream",
          "name": "stdout",
          "text": [
            "Epoch 1/15\n",
            "26/26 [==============================] - 0s 3ms/step - loss: 0.2144 - accuracy: 0.9072\n",
            "Epoch 2/15\n",
            "26/26 [==============================] - 0s 3ms/step - loss: 0.2411 - accuracy: 0.8966\n",
            "Epoch 3/15\n",
            "26/26 [==============================] - 0s 3ms/step - loss: 0.2165 - accuracy: 0.8939\n",
            "Epoch 4/15\n",
            "26/26 [==============================] - 0s 3ms/step - loss: 0.1972 - accuracy: 0.9151\n",
            "Epoch 5/15\n",
            "26/26 [==============================] - 0s 3ms/step - loss: 0.1835 - accuracy: 0.9390\n",
            "Epoch 6/15\n",
            "26/26 [==============================] - 0s 3ms/step - loss: 0.1924 - accuracy: 0.9284\n",
            "Epoch 7/15\n",
            "26/26 [==============================] - 0s 3ms/step - loss: 0.1991 - accuracy: 0.9204\n",
            "Epoch 8/15\n",
            "26/26 [==============================] - 0s 4ms/step - loss: 0.2404 - accuracy: 0.9072\n",
            "Epoch 9/15\n",
            "26/26 [==============================] - 0s 4ms/step - loss: 0.2082 - accuracy: 0.9045\n",
            "Epoch 10/15\n",
            "26/26 [==============================] - 0s 3ms/step - loss: 0.1813 - accuracy: 0.9231\n",
            "Epoch 11/15\n",
            "26/26 [==============================] - 0s 3ms/step - loss: 0.2087 - accuracy: 0.9178\n",
            "Epoch 12/15\n",
            "26/26 [==============================] - 0s 3ms/step - loss: 0.1673 - accuracy: 0.9310\n",
            "Epoch 13/15\n",
            "26/26 [==============================] - 0s 3ms/step - loss: 0.1718 - accuracy: 0.9204\n",
            "Epoch 14/15\n",
            "26/26 [==============================] - 0s 3ms/step - loss: 0.3086 - accuracy: 0.8833\n",
            "Epoch 15/15\n",
            "26/26 [==============================] - 0s 3ms/step - loss: 0.2706 - accuracy: 0.8833\n"
          ]
        },
        {
          "output_type": "execute_result",
          "data": {
            "text/plain": [
              "<keras.src.callbacks.History at 0x7bbbd652a290>"
            ]
          },
          "metadata": {},
          "execution_count": 430
        }
      ]
    },
    {
      "cell_type": "code",
      "source": [
        "y_pred = best_model.predict(X_test)\n",
        "y_pred = correctValue(y_pred)\n",
        "y_pred_first = firstValue(y_pred)\n",
        "accuracy = accuracy_score(y_test, y_pred)\n",
        "print(\"Accuracy: \", accuracy)"
      ],
      "metadata": {
        "id": "E_4nrSEtKw2c",
        "outputId": "2cc1142c-c84d-4fd0-d948-8abb164a2246",
        "colab": {
          "base_uri": "https://localhost:8080/"
        }
      },
      "execution_count": 431,
      "outputs": [
        {
          "output_type": "stream",
          "name": "stdout",
          "text": [
            "4/4 [==============================] - 0s 6ms/step\n",
            "Accuracy:  0.6692913385826772\n"
          ]
        }
      ]
    },
    {
      "cell_type": "code",
      "source": [
        "conf_matrix = confusion_matrix(y_test_first, y_pred_first, labels=None, sample_weight=None)\n",
        "sns.heatmap(conf_matrix, annot=True, fmt=\"d\", cmap=\"Blues\", annot_kws={\"size\": 16})\n",
        "plt.xlabel('Predicted labels')\n",
        "plt.ylabel('True labels')\n",
        "plt.title('Confusion Matrix')\n",
        "plt.show()"
      ],
      "metadata": {
        "id": "QwgknOQiimQv",
        "outputId": "f09afb73-0985-46c7-f9a0-1179633a5854",
        "colab": {
          "base_uri": "https://localhost:8080/",
          "height": 472
        }
      },
      "execution_count": 432,
      "outputs": [
        {
          "output_type": "display_data",
          "data": {
            "text/plain": [
              "<Figure size 640x480 with 2 Axes>"
            ],
            "image/png": "[encoded data removed]"
          },
          "metadata": {}
        }
      ]
    },
    {
      "cell_type": "code",
      "source": [
        "conf_matrix = confusion_matrix(y_test_first, y_pred_first, labels=None, sample_weight=None)\n",
        "sns.heatmap(conf_matrix, annot=True, fmt=\"d\", cmap=\"Blues\", annot_kws={\"size\": 16})\n",
        "plt.xlabel('Predicted labels')\n",
        "plt.ylabel('True labels')\n",
        "plt.title('Confusion Matrix')\n",
        "plt.show()"
      ],
      "metadata": {
        "id": "VGujrf46ISxj",
        "outputId": "81344d2c-796a-4ba1-ae25-1ae1616ff323",
        "colab": {
          "base_uri": "https://localhost:8080/",
          "height": 472
        }
      },
      "execution_count": 392,
      "outputs": [
        {
          "output_type": "display_data",
          "data": {
            "text/plain": [
              "<Figure size 640x480 with 2 Axes>"
            ],
            "image/png": "[encoded data removed]"
          },
          "metadata": {}
        }
      ]
    },
    {
      "cell_type": "code",
      "source": [
        "model = Sequential()\n",
        "model.add(Dense(32, input_dim=11, activation='relu'))\n",
        "model.add(Dense(16, activation='relu'))\n",
        "model.add(Dense(2, activation='sigmoid'))\n",
        "model.compile(loss='binary_crossentropy', optimizer='adam', metrics=['accuracy'])"
      ],
      "metadata": {
        "id": "N4qf0AENmS_Y"
      },
      "execution_count": 433,
      "outputs": []
    },
    {
      "cell_type": "code",
      "source": [
        "model.fit(X_train, y_train, batch_size=30, epochs=20, verbose=1)"
      ],
      "metadata": {
        "id": "kGOEa_cqm3MI",
        "outputId": "39598071-8132-4ae8-b1b1-b2eb0e2be9d7",
        "colab": {
          "base_uri": "https://localhost:8080/"
        }
      },
      "execution_count": 437,
      "outputs": [
        {
          "output_type": "stream",
          "name": "stdout",
          "text": [
            "Epoch 1/20\n",
            "13/13 [==============================] - 0s 4ms/step - loss: 0.4974 - accuracy: 0.7427\n",
            "Epoch 2/20\n",
            "13/13 [==============================] - 0s 3ms/step - loss: 0.4958 - accuracy: 0.7507\n",
            "Epoch 3/20\n",
            "13/13 [==============================] - 0s 3ms/step - loss: 0.4955 - accuracy: 0.7507\n",
            "Epoch 4/20\n",
            "13/13 [==============================] - 0s 3ms/step - loss: 0.4934 - accuracy: 0.7507\n",
            "Epoch 5/20\n",
            "13/13 [==============================] - 0s 3ms/step - loss: 0.4916 - accuracy: 0.7560\n",
            "Epoch 6/20\n",
            "13/13 [==============================] - 0s 3ms/step - loss: 0.4905 - accuracy: 0.7613\n",
            "Epoch 7/20\n",
            "13/13 [==============================] - 0s 3ms/step - loss: 0.4890 - accuracy: 0.7613\n",
            "Epoch 8/20\n",
            "13/13 [==============================] - 0s 3ms/step - loss: 0.4884 - accuracy: 0.7586\n",
            "Epoch 9/20\n",
            "13/13 [==============================] - 0s 3ms/step - loss: 0.4872 - accuracy: 0.7586\n",
            "Epoch 10/20\n",
            "13/13 [==============================] - 0s 2ms/step - loss: 0.4860 - accuracy: 0.7560\n",
            "Epoch 11/20\n",
            "13/13 [==============================] - 0s 3ms/step - loss: 0.4859 - accuracy: 0.7533\n",
            "Epoch 12/20\n",
            "13/13 [==============================] - 0s 3ms/step - loss: 0.4845 - accuracy: 0.7560\n",
            "Epoch 13/20\n",
            "13/13 [==============================] - 0s 3ms/step - loss: 0.4835 - accuracy: 0.7613\n",
            "Epoch 14/20\n",
            "13/13 [==============================] - 0s 3ms/step - loss: 0.4816 - accuracy: 0.7613\n",
            "Epoch 15/20\n",
            "13/13 [==============================] - 0s 3ms/step - loss: 0.4812 - accuracy: 0.7613\n",
            "Epoch 16/20\n",
            "13/13 [==============================] - 0s 3ms/step - loss: 0.4799 - accuracy: 0.7639\n",
            "Epoch 17/20\n",
            "13/13 [==============================] - 0s 3ms/step - loss: 0.4791 - accuracy: 0.7613\n",
            "Epoch 18/20\n",
            "13/13 [==============================] - 0s 3ms/step - loss: 0.4771 - accuracy: 0.7613\n",
            "Epoch 19/20\n",
            "13/13 [==============================] - 0s 3ms/step - loss: 0.4761 - accuracy: 0.7639\n",
            "Epoch 20/20\n",
            "13/13 [==============================] - 0s 3ms/step - loss: 0.4756 - accuracy: 0.7639\n"
          ]
        },
        {
          "output_type": "execute_result",
          "data": {
            "text/plain": [
              "<keras.src.callbacks.History at 0x7bbbd1a79ab0>"
            ]
          },
          "metadata": {},
          "execution_count": 437
        }
      ]
    },
    {
      "cell_type": "code",
      "source": [
        "y_pred = model.predict(X_test)\n",
        "y_pred = correctValue(y_pred)\n",
        "y_pred_first = firstValue(y_pred)"
      ],
      "metadata": {
        "id": "PyZkdR80nAng",
        "outputId": "6e4cac8f-c08b-488a-bb5d-c86100adc8f2",
        "colab": {
          "base_uri": "https://localhost:8080/"
        }
      },
      "execution_count": 438,
      "outputs": [
        {
          "output_type": "stream",
          "name": "stdout",
          "text": [
            "4/4 [==============================] - 0s 3ms/step\n"
          ]
        }
      ]
    },
    {
      "cell_type": "code",
      "source": [
        "conf_matrix = confusion_matrix(y_test_first, y_pred_first, labels=None, sample_weight=None)\n",
        "sns.heatmap(conf_matrix, annot=True, fmt=\"d\", cmap=\"Blues\", annot_kws={\"size\": 16})\n",
        "plt.xlabel('Predicted labels')\n",
        "plt.ylabel('True labels')\n",
        "plt.title('Confusion Matrix')\n",
        "plt.show()"
      ],
      "metadata": {
        "id": "722zATXinFTu",
        "outputId": "c8ff4400-5ddb-41af-9bea-c8c46748940d",
        "colab": {
          "base_uri": "https://localhost:8080/",
          "height": 472
        }
      },
      "execution_count": 439,
      "outputs": [
        {
          "output_type": "display_data",
          "data": {
            "text/plain": [
              "<Figure size 640x480 with 2 Axes>"
            ],
            "image/png": "[encoded data removed]"
          },
          "metadata": {}
        }
      ]
    },
    {
      "cell_type": "markdown",
      "source": [
        "tuning parametri"
      ],
      "metadata": {
        "id": "lbU6uZmGnW7t"
      }
    },
    {
      "cell_type": "code",
      "source": [
        "def create_model(optimizer='adam', init='glorot_uniform'):\n",
        "    model = Sequential()\n",
        "    model.add(Dense(10, input_dim=11, activation='relu'))\n",
        "    model.add(Dense(1, activation='sigmoid'))\n",
        "    model.compile(loss='binary_crossentropy', optimizer=optimizer, metrics=['accuracy'])\n",
        "    return model"
      ],
      "metadata": {
        "id": "yoYj8ZpXnWa0"
      },
      "execution_count": null,
      "outputs": []
    },
    {
      "cell_type": "code",
      "source": [
        "optimizers = ['adam', 'rmsprop']\n",
        "init_methods = ['glorot_uniform', 'he_normal', 'lecun_uniform']\n",
        "param_grid = dict(optimizer=optimizers, init=init_methods)"
      ],
      "metadata": {
        "id": "flGTjxTYnGlr"
      },
      "execution_count": null,
      "outputs": []
    },
    {
      "cell_type": "code",
      "source": [
        "model = KerasClassifier(build_fn=create_model, verbose=0)\n",
        "grid = GridSearchCV(estimator=model, param_grid=param_grid, n_jobs=-1)\n",
        "#X_train, X_test, y_train, y_test = train_test_split(X, Y, test_size=0.2, random_state=42)\n",
        "grid_result = grid.fit(X_train, y_train)"
      ],
      "metadata": {
        "id": "Ip-h6-eMndWk",
        "outputId": "d2b193a3-3bfa-4be7-d066-4f9c7e8d1a3f",
        "colab": {
          "base_uri": "https://localhost:8080/",
          "height": 190
        }
      },
      "execution_count": null,
      "outputs": [
        {
          "output_type": "error",
          "ename": "NameError",
          "evalue": "name 'KerasClassifier' is not defined",
          "traceback": [
            "\u001b[0;31m---------------------------------------------------------------------------\u001b[0m",
            "\u001b[0;31mNameError\u001b[0m                                 Traceback (most recent call last)",
            "\u001b[0;32m<ipython-input-53-38f0f8975b7c>\u001b[0m in \u001b[0;36m<cell line: 1>\u001b[0;34m()\u001b[0m\n\u001b[0;32m----> 1\u001b[0;31m \u001b[0mmodel\u001b[0m \u001b[0;34m=\u001b[0m \u001b[0mKerasClassifier\u001b[0m\u001b[0;34m(\u001b[0m\u001b[0mbuild_fn\u001b[0m\u001b[0;34m=\u001b[0m\u001b[0mcreate_model\u001b[0m\u001b[0;34m,\u001b[0m \u001b[0mverbose\u001b[0m\u001b[0;34m=\u001b[0m\u001b[0;36m0\u001b[0m\u001b[0;34m)\u001b[0m\u001b[0;34m\u001b[0m\u001b[0;34m\u001b[0m\u001b[0m\n\u001b[0m\u001b[1;32m      2\u001b[0m \u001b[0mgrid\u001b[0m \u001b[0;34m=\u001b[0m \u001b[0mGridSearchCV\u001b[0m\u001b[0;34m(\u001b[0m\u001b[0mestimator\u001b[0m\u001b[0;34m=\u001b[0m\u001b[0mmodel\u001b[0m\u001b[0;34m,\u001b[0m \u001b[0mparam_grid\u001b[0m\u001b[0;34m=\u001b[0m\u001b[0mparam_grid\u001b[0m\u001b[0;34m,\u001b[0m \u001b[0mn_jobs\u001b[0m\u001b[0;34m=\u001b[0m\u001b[0;34m-\u001b[0m\u001b[0;36m1\u001b[0m\u001b[0;34m)\u001b[0m\u001b[0;34m\u001b[0m\u001b[0;34m\u001b[0m\u001b[0m\n\u001b[1;32m      3\u001b[0m \u001b[0;31m#X_train, X_test, y_train, y_test = train_test_split(X, Y, test_size=0.2, random_state=42)\u001b[0m\u001b[0;34m\u001b[0m\u001b[0;34m\u001b[0m\u001b[0m\n\u001b[1;32m      4\u001b[0m \u001b[0mgrid_result\u001b[0m \u001b[0;34m=\u001b[0m \u001b[0mgrid\u001b[0m\u001b[0;34m.\u001b[0m\u001b[0mfit\u001b[0m\u001b[0;34m(\u001b[0m\u001b[0mX_train\u001b[0m\u001b[0;34m,\u001b[0m \u001b[0my_train\u001b[0m\u001b[0;34m)\u001b[0m\u001b[0;34m\u001b[0m\u001b[0;34m\u001b[0m\u001b[0m\n",
            "\u001b[0;31mNameError\u001b[0m: name 'KerasClassifier' is not defined"
          ]
        }
      ]
    },
    {
      "cell_type": "code",
      "source": [
        "print(\"Best: %f using %s\" % (grid_result.best_score_, grid_result.best_params_))\n",
        "means = grid_result.cv_results_['mean_test_score']\n",
        "stds = grid_result.cv_results_['std_test_score']\n",
        "params = grid_result.param_grid\n",
        "for mean, std, param in zip(means, stds, params):\n",
        "    print(\"%f (%f) with: %r\" % (mean, std, param))"
      ],
      "metadata": {
        "id": "Te1fJwe4nmGj"
      },
      "execution_count": null,
      "outputs": []
    },
    {
      "cell_type": "markdown",
      "source": [
        "Grid search"
      ],
      "metadata": {
        "id": "pjvXOc0qq_RW"
      }
    },
    {
      "cell_type": "code",
      "source": [
        "# Funzione per creare il modello\n",
        "def create_model(optimizer='adam', activation='relu', neurons=10):\n",
        "    model = Sequential()\n",
        "    model.add(Dense(neurons, input_dim=X_train.shape[1], activation=activation))\n",
        "    model.add(Dense(neurons, activation=activation))\n",
        "    model.add(Dense(2, activation='Softmax'))  # Per problemi di classificazione binaria\n",
        "    model.compile(loss='binary_crossentropy', optimizer=optimizer, metrics=['accuracy'])\n",
        "    return model\n",
        "\n",
        "# Creare il modello KerasClassifier\n",
        "model = KerasClassifier(build_fn=create_model, verbose=0)\n",
        "\n",
        "# Definire il parametro della griglia\n",
        "param_grid = {\n",
        "    'batch_size': [10, 20, 30],\n",
        "    'epochs': [10, 20, 30],\n",
        "    'optimizer': ['adam', 'rmsprop'],\n",
        "    'activation': ['relu', 'tanh', 'sigmoid'],\n",
        "    'neurons': [11, 50, 100]\n",
        "}\n",
        "\n",
        "# Definire la grid search\n",
        "grid_search = GridSearchCV(estimator=model, param_grid=param_grid, cv=3, scoring='accuracy')\n",
        "\n",
        "# Addestrare la grid search sui dati di addestramento\n",
        "grid_result = grid_search.fit(X_train, y_train)\n",
        "\n",
        "# Stampare i risultati\n",
        "print(\"Migliori parametri:\", grid_result.best_params_)\n",
        "print(\"Accuratezza migliore combinazione:\", grid_result.best_score_)"
      ],
      "metadata": {
        "id": "FupRx4bCq81G"
      },
      "execution_count": null,
      "outputs": []
    },
    {
      "cell_type": "markdown",
      "source": [
        "ROC"
      ],
      "metadata": {
        "id": "YGmU16NIUF7J"
      }
    },
    {
      "cell_type": "code",
      "source": [
        "import matplotlib.pyplot as plt\n",
        "from sklearn.metrics import roc_curve, auc\n",
        "\n",
        "# Calcolare le probabilità delle classi per i dati di test\n",
        "y_pred_prob = y_pred\n",
        "\n",
        "# Calcolare la curva ROC per la classe positiva (indice 1)\n",
        "fpr, tpr, thresholds = roc_curve(y_test_first, y_pred_first)\n",
        "\n",
        "# Calcolare l'area sotto la curva ROC (AUC)\n",
        "roc_auc = auc(fpr, tpr)\n",
        "\n",
        "# Plot della curva ROC\n",
        "plt.figure(figsize=(8, 6))\n",
        "plt.plot(fpr, tpr, color='blue', lw=2, label='ROC curve (area = %0.2f)' % roc_auc)\n",
        "plt.plot([0, 1], [0, 1], color='gray', linestyle='--')\n",
        "plt.xlim([0.0, 1.0])\n",
        "plt.ylim([0.0, 1.0])\n",
        "plt.xlabel('False Positive Rate')\n",
        "plt.ylabel('True Positive Rate')\n",
        "plt.title('Receiver Operating Characteristic (ROC)')\n",
        "plt.legend(loc=\"lower right\")\n",
        "plt.show()\n"
      ],
      "metadata": {
        "id": "_gsbgWn9UXJ8",
        "outputId": "83362774-3c26-4a83-c6be-f3bb0080a104",
        "colab": {
          "base_uri": "https://localhost:8080/",
          "height": 564
        }
      },
      "execution_count": null,
      "outputs": [
        {
          "output_type": "display_data",
          "data": {
            "text/plain": [
              "<Figure size 800x600 with 1 Axes>"
            ],
            "image/png": "[encoded data removed]"
          },
          "metadata": {}
        }
      ]
    },
    {
      "cell_type": "code",
      "source": [
        "# Imposta i limiti per il numero di livelli nascosti e il numero di neuroni in ogni livello\n",
        "num_hidden_layers_min = 1\n",
        "num_hidden_layers_max = 4\n",
        "num_neurons_min = 22\n",
        "num_neurons_max = 100\n",
        "best_accuracy = 0\n",
        "best_params = \"\"\n",
        "\n",
        "# Esegui la ricerca casuale\n",
        "for i in range(100):\n",
        "    neurons = []\n",
        "    # Genera un numero casuale di livelli nascosti\n",
        "    num_hidden_layers = np.random.randint(num_hidden_layers_min, num_hidden_layers_max + 1)\n",
        "\n",
        "    # Crea la rete neurale\n",
        "    model = Sequential()\n",
        "\n",
        "    # Aggiungi il livello di input\n",
        "    num_neurons = np.random.randint(num_neurons_min, num_neurons_max + 1)\n",
        "    model.add(Dense(num_neurons, input_dim=X_train.shape[1], activation='relu'))\n",
        "    neurons.append(num_neurons)\n",
        "\n",
        "    # Aggiungi i livelli nascosti\n",
        "    for _ in range(num_hidden_layers):\n",
        "        # Genera un numero casuale di neuroni per questo livello nascosto\n",
        "        num_neurons = np.random.randint(num_neurons_min, num_neurons_max + 1)\n",
        "        model.add(Dense(num_neurons, activation='relu'))\n",
        "        neurons.append(num_neurons)\n",
        "\n",
        "    # Aggiungi il livello di output\n",
        "    model.add(Dense(2, activation='softmax'))\n",
        "\n",
        "    # Compila la rete neurale\n",
        "    model.compile(loss='mse', optimizer=Adam(learning_rate=0.01))\n",
        "\n",
        "    # Addestra la rete neurale\n",
        "    model.fit(X_train, y_train, epochs=30, batch_size=3, verbose=0)\n",
        "\n",
        "    y_pred = model.predict(X_test)\n",
        "    y_pred = correctValue(y_pred)\n",
        "\n",
        "    # Calcola l'errore di previsione sulla parte di dati di test\n",
        "    mse = np.mean((y_test - y_pred) ** 2)\n",
        "\n",
        "    accuracy = accuracy_score(y_test, y_pred)\n",
        "\n",
        "    if accuracy > best_accuracy:\n",
        "      best_accuracy = accuracy\n",
        "      best_params = \"Migliori parametri: livelli nascosti = \", num_hidden_layers, \", neuroni = \", neurons, \", accuratezza = \", best_accuracy\n",
        "\n",
        "    # Stampa i risultati\n",
        "    print(f'Esempio {i+1}: {num_hidden_layers} livelli, {neurons} neuroni, MSE={mse:.2f},  accuracy={accuracy}')\n",
        "\n",
        "print(best_params)"
      ],
      "metadata": {
        "id": "X8Xa9Gk7UXrb",
        "colab": {
          "base_uri": "https://localhost:8080/"
        },
        "outputId": "8adc8ffd-fa99-4879-eb95-1020c85179fd"
      },
      "execution_count": 40,
      "outputs": [
        {
          "output_type": "stream",
          "name": "stdout",
          "text": [
            "4/4 [==============================] - 0s 3ms/step\n",
            "Esempio 1: 4 livelli, [66, 51, 46, 73, 97] neuroni, MSE=0.50,  accuracy=0.5039370078740157\n",
            "4/4 [==============================] - 0s 3ms/step\n",
            "Esempio 2: 4 livelli, [26, 81, 48, 60, 24] neuroni, MSE=0.31,  accuracy=0.6929133858267716\n",
            "4/4 [==============================] - 0s 4ms/step\n",
            "Esempio 3: 4 livelli, [49, 89, 93, 39, 97] neuroni, MSE=0.33,  accuracy=0.6692913385826772\n",
            "4/4 [==============================] - 0s 4ms/step\n",
            "Esempio 4: 3 livelli, [41, 76, 88, 71] neuroni, MSE=0.31,  accuracy=0.6929133858267716\n",
            "4/4 [==============================] - 0s 3ms/step\n",
            "Esempio 5: 1 livelli, [81, 61] neuroni, MSE=0.35,  accuracy=0.6535433070866141\n",
            "4/4 [==============================] - 0s 3ms/step\n",
            "Esempio 6: 2 livelli, [78, 32, 92] neuroni, MSE=0.33,  accuracy=0.6692913385826772\n",
            "4/4 [==============================] - 0s 3ms/step\n",
            "Esempio 7: 4 livelli, [73, 43, 31, 71, 64] neuroni, MSE=0.34,  accuracy=0.6614173228346457\n",
            "4/4 [==============================] - 0s 3ms/step\n",
            "Esempio 8: 3 livelli, [63, 56, 64, 22] neuroni, MSE=0.28,  accuracy=0.7165354330708661\n",
            "4/4 [==============================] - 0s 3ms/step\n",
            "Esempio 9: 3 livelli, [59, 61, 57, 32] neuroni, MSE=0.32,  accuracy=0.6771653543307087\n",
            "4/4 [==============================] - 0s 4ms/step\n",
            "Esempio 10: 3 livelli, [77, 54, 32, 46] neuroni, MSE=0.31,  accuracy=0.6850393700787402\n",
            "4/4 [==============================] - 0s 4ms/step\n",
            "Esempio 11: 4 livelli, [52, 62, 82, 77, 29] neuroni, MSE=0.36,  accuracy=0.6377952755905512\n",
            "4/4 [==============================] - 0s 4ms/step\n",
            "Esempio 12: 4 livelli, [83, 70, 91, 80, 86] neuroni, MSE=0.34,  accuracy=0.6614173228346457\n",
            "4/4 [==============================] - 0s 4ms/step\n",
            "Esempio 13: 2 livelli, [85, 52, 50] neuroni, MSE=0.32,  accuracy=0.6771653543307087\n",
            "4/4 [==============================] - 0s 3ms/step\n",
            "Esempio 14: 3 livelli, [93, 31, 95, 86] neuroni, MSE=0.31,  accuracy=0.6929133858267716\n",
            "4/4 [==============================] - 0s 3ms/step\n",
            "Esempio 15: 2 livelli, [58, 70, 54] neuroni, MSE=0.28,  accuracy=0.7165354330708661\n",
            "4/4 [==============================] - 0s 3ms/step\n",
            "Esempio 16: 3 livelli, [69, 29, 69, 32] neuroni, MSE=0.31,  accuracy=0.6850393700787402\n",
            "4/4 [==============================] - 0s 6ms/step\n",
            "Esempio 17: 2 livelli, [93, 55, 76] neuroni, MSE=0.31,  accuracy=0.6929133858267716\n",
            "4/4 [==============================] - 0s 5ms/step\n",
            "Esempio 18: 4 livelli, [23, 66, 71, 100, 33] neuroni, MSE=0.31,  accuracy=0.6929133858267716\n",
            "4/4 [==============================] - 0s 3ms/step\n",
            "Esempio 19: 3 livelli, [45, 84, 87, 53] neuroni, MSE=0.35,  accuracy=0.6535433070866141\n",
            "4/4 [==============================] - 0s 5ms/step\n",
            "Esempio 20: 4 livelli, [33, 88, 57, 26, 96] neuroni, MSE=0.50,  accuracy=0.49606299212598426\n",
            "4/4 [==============================] - 0s 3ms/step\n",
            "Esempio 21: 4 livelli, [62, 69, 52, 67, 75] neuroni, MSE=0.32,  accuracy=0.6771653543307087\n",
            "4/4 [==============================] - 0s 5ms/step\n",
            "Esempio 22: 3 livelli, [47, 85, 32, 47] neuroni, MSE=0.33,  accuracy=0.6692913385826772\n",
            "4/4 [==============================] - 0s 3ms/step\n",
            "Esempio 23: 2 livelli, [53, 87, 61] neuroni, MSE=0.31,  accuracy=0.6850393700787402\n",
            "4/4 [==============================] - 0s 3ms/step\n",
            "Esempio 24: 1 livelli, [46, 83] neuroni, MSE=0.33,  accuracy=0.6692913385826772\n",
            "4/4 [==============================] - 0s 4ms/step\n",
            "Esempio 25: 4 livelli, [64, 54, 25, 44, 48] neuroni, MSE=0.34,  accuracy=0.6614173228346457\n",
            "4/4 [==============================] - 0s 4ms/step\n",
            "Esempio 26: 4 livelli, [61, 88, 71, 63, 90] neuroni, MSE=0.49,  accuracy=0.5118110236220472\n",
            "4/4 [==============================] - 0s 3ms/step\n",
            "Esempio 27: 3 livelli, [71, 94, 52, 59] neuroni, MSE=0.31,  accuracy=0.6929133858267716\n",
            "4/4 [==============================] - 0s 4ms/step\n",
            "Esempio 28: 3 livelli, [41, 24, 71, 52] neuroni, MSE=0.34,  accuracy=0.6614173228346457\n",
            "4/4 [==============================] - 0s 3ms/step\n",
            "Esempio 29: 3 livelli, [81, 29, 40, 74] neuroni, MSE=0.31,  accuracy=0.6850393700787402\n",
            "4/4 [==============================] - 0s 3ms/step\n",
            "Esempio 30: 4 livelli, [85, 56, 51, 75, 24] neuroni, MSE=0.50,  accuracy=0.5039370078740157\n",
            "4/4 [==============================] - 0s 4ms/step\n",
            "Esempio 31: 4 livelli, [62, 91, 76, 34, 71] neuroni, MSE=0.32,  accuracy=0.6771653543307087\n",
            "4/4 [==============================] - 0s 3ms/step\n",
            "Esempio 32: 4 livelli, [73, 54, 41, 75, 63] neuroni, MSE=0.32,  accuracy=0.6771653543307087\n",
            "4/4 [==============================] - 0s 3ms/step\n",
            "Esempio 33: 2 livelli, [46, 56, 44] neuroni, MSE=0.32,  accuracy=0.6771653543307087\n",
            "4/4 [==============================] - 0s 4ms/step\n",
            "Esempio 34: 2 livelli, [80, 39, 80] neuroni, MSE=0.33,  accuracy=0.6692913385826772\n",
            "4/4 [==============================] - 0s 3ms/step\n",
            "Esempio 35: 1 livelli, [28, 88] neuroni, MSE=0.31,  accuracy=0.6850393700787402\n",
            "4/4 [==============================] - 0s 4ms/step\n",
            "Esempio 36: 3 livelli, [85, 35, 90, 87] neuroni, MSE=0.32,  accuracy=0.6771653543307087\n",
            "4/4 [==============================] - 0s 4ms/step\n",
            "Esempio 37: 2 livelli, [35, 32, 50] neuroni, MSE=0.36,  accuracy=0.6377952755905512\n",
            "4/4 [==============================] - 0s 3ms/step\n",
            "Esempio 38: 4 livelli, [57, 48, 55, 88, 62] neuroni, MSE=0.32,  accuracy=0.6771653543307087\n",
            "4/4 [==============================] - 0s 3ms/step\n",
            "Esempio 39: 2 livelli, [76, 87, 85] neuroni, MSE=0.31,  accuracy=0.6929133858267716\n",
            "4/4 [==============================] - 0s 4ms/step\n",
            "Esempio 40: 2 livelli, [36, 66, 54] neuroni, MSE=0.33,  accuracy=0.6692913385826772\n",
            "4/4 [==============================] - 0s 3ms/step\n",
            "Esempio 41: 3 livelli, [97, 41, 23, 70] neuroni, MSE=0.32,  accuracy=0.6771653543307087\n",
            "4/4 [==============================] - 0s 4ms/step\n",
            "Esempio 42: 4 livelli, [33, 57, 82, 93, 64] neuroni, MSE=0.27,  accuracy=0.7322834645669292\n",
            "4/4 [==============================] - 0s 3ms/step\n",
            "Esempio 43: 1 livelli, [73, 62] neuroni, MSE=0.31,  accuracy=0.6850393700787402\n",
            "4/4 [==============================] - 0s 3ms/step\n",
            "Esempio 44: 1 livelli, [53, 36] neuroni, MSE=0.30,  accuracy=0.7007874015748031\n",
            "4/4 [==============================] - 0s 4ms/step\n",
            "Esempio 45: 1 livelli, [32, 80] neuroni, MSE=0.26,  accuracy=0.7401574803149606\n",
            "4/4 [==============================] - 0s 3ms/step\n",
            "Esempio 46: 1 livelli, [72, 98] neuroni, MSE=0.39,  accuracy=0.6141732283464567\n",
            "4/4 [==============================] - 0s 3ms/step\n",
            "Esempio 47: 3 livelli, [73, 33, 31, 72] neuroni, MSE=0.31,  accuracy=0.6850393700787402\n",
            "4/4 [==============================] - 0s 4ms/step\n",
            "Esempio 48: 2 livelli, [53, 33, 39] neuroni, MSE=0.34,  accuracy=0.6614173228346457\n",
            "4/4 [==============================] - 0s 3ms/step\n",
            "Esempio 49: 3 livelli, [55, 70, 93, 88] neuroni, MSE=0.35,  accuracy=0.6535433070866141\n",
            "4/4 [==============================] - 0s 3ms/step\n",
            "Esempio 50: 4 livelli, [62, 34, 40, 22, 92] neuroni, MSE=0.30,  accuracy=0.7007874015748031\n",
            "4/4 [==============================] - 0s 4ms/step\n",
            "Esempio 51: 2 livelli, [73, 83, 96] neuroni, MSE=0.30,  accuracy=0.7007874015748031\n",
            "4/4 [==============================] - 0s 3ms/step\n",
            "Esempio 52: 1 livelli, [57, 100] neuroni, MSE=0.31,  accuracy=0.6929133858267716\n",
            "4/4 [==============================] - 0s 3ms/step\n",
            "Esempio 53: 2 livelli, [88, 88, 44] neuroni, MSE=0.31,  accuracy=0.6850393700787402\n",
            "4/4 [==============================] - 0s 3ms/step\n",
            "Esempio 54: 4 livelli, [32, 93, 31, 24, 57] neuroni, MSE=0.31,  accuracy=0.6929133858267716\n",
            "4/4 [==============================] - 0s 3ms/step\n",
            "Esempio 55: 2 livelli, [92, 94, 36] neuroni, MSE=0.31,  accuracy=0.6929133858267716\n",
            "4/4 [==============================] - 0s 3ms/step\n",
            "Esempio 56: 4 livelli, [34, 88, 59, 44, 46] neuroni, MSE=0.31,  accuracy=0.6850393700787402\n",
            "4/4 [==============================] - 0s 3ms/step\n",
            "Esempio 57: 4 livelli, [75, 22, 68, 34, 100] neuroni, MSE=0.30,  accuracy=0.7007874015748031\n",
            "4/4 [==============================] - 0s 3ms/step\n",
            "Esempio 58: 4 livelli, [85, 75, 30, 25, 91] neuroni, MSE=0.31,  accuracy=0.6929133858267716\n",
            "4/4 [==============================] - 0s 3ms/step\n",
            "Esempio 59: 2 livelli, [44, 65, 79] neuroni, MSE=0.33,  accuracy=0.6692913385826772\n",
            "4/4 [==============================] - 0s 3ms/step\n",
            "Esempio 60: 4 livelli, [61, 36, 94, 31, 85] neuroni, MSE=0.50,  accuracy=0.5039370078740157\n",
            "4/4 [==============================] - 0s 3ms/step\n",
            "Esempio 61: 2 livelli, [89, 84, 74] neuroni, MSE=0.30,  accuracy=0.7007874015748031\n",
            "4/4 [==============================] - 0s 3ms/step\n",
            "Esempio 62: 2 livelli, [68, 48, 66] neuroni, MSE=0.31,  accuracy=0.6929133858267716\n",
            "4/4 [==============================] - 0s 3ms/step\n",
            "Esempio 63: 1 livelli, [69, 89] neuroni, MSE=0.31,  accuracy=0.6850393700787402\n",
            "4/4 [==============================] - 0s 3ms/step\n",
            "Esempio 64: 1 livelli, [28, 30] neuroni, MSE=0.32,  accuracy=0.6771653543307087\n",
            "4/4 [==============================] - 0s 3ms/step\n",
            "Esempio 65: 1 livelli, [88, 60] neuroni, MSE=0.34,  accuracy=0.6614173228346457\n",
            "4/4 [==============================] - 0s 5ms/step\n",
            "Esempio 66: 3 livelli, [100, 93, 41, 100] neuroni, MSE=0.50,  accuracy=0.49606299212598426\n",
            "4/4 [==============================] - 0s 4ms/step\n",
            "Esempio 67: 1 livelli, [90, 26] neuroni, MSE=0.34,  accuracy=0.6614173228346457\n",
            "4/4 [==============================] - 0s 3ms/step\n",
            "Esempio 68: 3 livelli, [77, 78, 54, 39] neuroni, MSE=0.33,  accuracy=0.6692913385826772\n",
            "4/4 [==============================] - 0s 4ms/step\n",
            "Esempio 69: 2 livelli, [82, 23, 55] neuroni, MSE=0.33,  accuracy=0.6692913385826772\n",
            "4/4 [==============================] - 0s 3ms/step\n",
            "Esempio 70: 4 livelli, [24, 86, 56, 23, 85] neuroni, MSE=0.28,  accuracy=0.7165354330708661\n",
            "4/4 [==============================] - 0s 3ms/step\n",
            "Esempio 71: 3 livelli, [57, 45, 94, 59] neuroni, MSE=0.32,  accuracy=0.6771653543307087\n",
            "4/4 [==============================] - 0s 3ms/step\n",
            "Esempio 72: 1 livelli, [42, 88] neuroni, MSE=0.35,  accuracy=0.6535433070866141\n",
            "4/4 [==============================] - 0s 3ms/step\n",
            "Esempio 73: 3 livelli, [89, 37, 46, 53] neuroni, MSE=0.33,  accuracy=0.6692913385826772\n",
            "4/4 [==============================] - 0s 4ms/step\n",
            "Esempio 74: 1 livelli, [35, 45] neuroni, MSE=0.35,  accuracy=0.6535433070866141\n",
            "4/4 [==============================] - 0s 3ms/step\n",
            "Esempio 75: 1 livelli, [93, 56] neuroni, MSE=0.30,  accuracy=0.7007874015748031\n",
            "4/4 [==============================] - 0s 4ms/step\n",
            "Esempio 76: 4 livelli, [38, 29, 54, 98, 44] neuroni, MSE=0.28,  accuracy=0.7244094488188977\n",
            "4/4 [==============================] - 0s 3ms/step\n",
            "Esempio 77: 4 livelli, [70, 29, 65, 32, 33] neuroni, MSE=0.33,  accuracy=0.6692913385826772\n",
            "4/4 [==============================] - 0s 4ms/step\n",
            "Esempio 78: 2 livelli, [77, 100, 99] neuroni, MSE=0.34,  accuracy=0.6614173228346457\n",
            "4/4 [==============================] - 0s 3ms/step\n",
            "Esempio 79: 1 livelli, [72, 47] neuroni, MSE=0.34,  accuracy=0.6614173228346457\n",
            "4/4 [==============================] - 0s 3ms/step\n",
            "Esempio 80: 4 livelli, [34, 73, 92, 34, 49] neuroni, MSE=0.34,  accuracy=0.6614173228346457\n",
            "4/4 [==============================] - 0s 3ms/step\n",
            "Esempio 81: 4 livelli, [55, 99, 60, 48, 99] neuroni, MSE=0.28,  accuracy=0.7165354330708661\n",
            "4/4 [==============================] - 0s 4ms/step\n",
            "Esempio 82: 4 livelli, [66, 100, 100, 36, 98] neuroni, MSE=0.33,  accuracy=0.6692913385826772\n",
            "4/4 [==============================] - 0s 8ms/step\n",
            "Esempio 83: 4 livelli, [49, 80, 51, 71, 78] neuroni, MSE=0.35,  accuracy=0.6535433070866141\n",
            "4/4 [==============================] - 0s 3ms/step\n",
            "Esempio 84: 1 livelli, [40, 72] neuroni, MSE=0.36,  accuracy=0.6377952755905512\n",
            "4/4 [==============================] - 0s 4ms/step\n",
            "Esempio 85: 3 livelli, [33, 93, 31, 98] neuroni, MSE=0.33,  accuracy=0.6692913385826772\n",
            "4/4 [==============================] - 0s 3ms/step\n",
            "Esempio 86: 3 livelli, [73, 59, 76, 35] neuroni, MSE=0.33,  accuracy=0.6692913385826772\n",
            "4/4 [==============================] - 0s 3ms/step\n",
            "Esempio 87: 3 livelli, [32, 27, 85, 49] neuroni, MSE=0.32,  accuracy=0.6771653543307087\n",
            "4/4 [==============================] - 0s 4ms/step\n",
            "Esempio 88: 4 livelli, [61, 25, 65, 52, 81] neuroni, MSE=0.35,  accuracy=0.6535433070866141\n",
            "4/4 [==============================] - 0s 4ms/step\n",
            "Esempio 89: 4 livelli, [52, 42, 68, 36, 54] neuroni, MSE=0.37,  accuracy=0.6299212598425197\n",
            "4/4 [==============================] - 0s 3ms/step\n",
            "Esempio 90: 3 livelli, [91, 87, 54, 37] neuroni, MSE=0.33,  accuracy=0.6692913385826772\n",
            "4/4 [==============================] - 0s 4ms/step\n",
            "Esempio 91: 2 livelli, [97, 93, 23] neuroni, MSE=0.31,  accuracy=0.6929133858267716\n",
            "4/4 [==============================] - 0s 5ms/step\n",
            "Esempio 92: 3 livelli, [88, 31, 99, 24] neuroni, MSE=0.31,  accuracy=0.6929133858267716\n",
            "4/4 [==============================] - 0s 3ms/step\n",
            "Esempio 93: 2 livelli, [45, 100, 34] neuroni, MSE=0.35,  accuracy=0.6535433070866141\n",
            "4/4 [==============================] - 0s 3ms/step\n",
            "Esempio 94: 3 livelli, [28, 53, 39, 55] neuroni, MSE=0.32,  accuracy=0.6771653543307087\n",
            "4/4 [==============================] - 0s 3ms/step\n",
            "Esempio 95: 1 livelli, [62, 90] neuroni, MSE=0.29,  accuracy=0.7086614173228346\n",
            "4/4 [==============================] - 0s 4ms/step\n",
            "Esempio 96: 2 livelli, [87, 78, 58] neuroni, MSE=0.35,  accuracy=0.6535433070866141\n",
            "4/4 [==============================] - 0s 4ms/step\n",
            "Esempio 97: 2 livelli, [63, 72, 44] neuroni, MSE=0.31,  accuracy=0.6929133858267716\n",
            "4/4 [==============================] - 0s 4ms/step\n",
            "Esempio 98: 3 livelli, [45, 58, 30, 31] neuroni, MSE=0.33,  accuracy=0.6692913385826772\n",
            "4/4 [==============================] - 0s 3ms/step\n",
            "Esempio 99: 1 livelli, [22, 57] neuroni, MSE=0.32,  accuracy=0.6771653543307087\n",
            "4/4 [==============================] - 0s 4ms/step\n",
            "Esempio 100: 2 livelli, [56, 96, 68] neuroni, MSE=0.31,  accuracy=0.6929133858267716\n",
            "('Migliori parametri: livelli nascosti = ', 1, ', neuroni = ', [32, 80], ', accuratezza = ', 0.7401574803149606)\n"
          ]
        }
      ]
    },
    {
      "cell_type": "code",
      "source": [
        "model = Sequential()\n",
        "model.add(Dense(X_train.shape[1], input_dim=X_train.shape[1], activation=\"relu\"))\n",
        "model.add(Dense(100, activation=\"relu\"))\n",
        "model.add(Dense(65, activation=\"relu\"))\n",
        "model.add(Dense(60, activation=\"relu\"))\n",
        "model.add(Dense(50, activation=\"relu\"))\n",
        "model.add(Dense(2, activation='Softmax'))  # Per problemi di classificazione binaria\n",
        "model.compile(loss='binary_crossentropy', optimizer=Adam(learning_rate=0.01), metrics=['accuracy'])"
      ],
      "metadata": {
        "id": "vjlRMmQDoRdB",
        "outputId": "4f3025f9-823a-4037-cf40-e2e4a3cff2fc",
        "colab": {
          "base_uri": "https://localhost:8080/"
        }
      },
      "execution_count": 31,
      "outputs": [
        {
          "output_type": "execute_result",
          "data": {
            "text/plain": [
              "<keras.src.callbacks.History at 0x7bbd7135a7a0>"
            ]
          },
          "metadata": {},
          "execution_count": 31
        }
      ]
    },
    {
      "cell_type": "code",
      "source": [
        "model.fit(X_train, y_train, epochs=30, batch_size=30, verbose=0)"
      ],
      "metadata": {
        "id": "4_IEgP1os1gF",
        "outputId": "18b07eb3-e51b-4dfd-bfdb-96fb76cdf18e",
        "colab": {
          "base_uri": "https://localhost:8080/"
        }
      },
      "execution_count": 36,
      "outputs": [
        {
          "output_type": "execute_result",
          "data": {
            "text/plain": [
              "<keras.src.callbacks.History at 0x7bbd67bf5720>"
            ]
          },
          "metadata": {},
          "execution_count": 36
        }
      ]
    },
    {
      "cell_type": "code",
      "source": [
        "y_pred = model.predict(X_test)\n",
        "y_pred = correctValue(y_pred)\n",
        "y_pred_first = firstValue(y_pred)"
      ],
      "metadata": {
        "id": "upzC0s5DsVnC",
        "outputId": "a26f495c-0324-45cc-f349-67ea72cab923",
        "colab": {
          "base_uri": "https://localhost:8080/"
        }
      },
      "execution_count": 37,
      "outputs": [
        {
          "output_type": "stream",
          "name": "stdout",
          "text": [
            "4/4 [==============================] - 0s 3ms/step\n"
          ]
        }
      ]
    },
    {
      "cell_type": "code",
      "source": [
        "conf_matrix = confusion_matrix(y_test_first, y_pred_first, labels=None, sample_weight=None)\n",
        "sns.heatmap(conf_matrix, annot=True, fmt=\"d\", cmap=\"Blues\", annot_kws={\"size\": 16})\n",
        "plt.xlabel('Predicted labels')\n",
        "plt.ylabel('True labels')\n",
        "plt.title('Confusion Matrix')\n",
        "plt.show()"
      ],
      "metadata": {
        "id": "Gr2JrmVPsg8B",
        "outputId": "92654051-383d-4175-e37a-1ad194e7c6f7",
        "colab": {
          "base_uri": "https://localhost:8080/",
          "height": 472
        }
      },
      "execution_count": 38,
      "outputs": [
        {
          "output_type": "display_data",
          "data": {
            "text/plain": [
              "<Figure size 640x480 with 2 Axes>"
            ],
            "image/png": "[encoded data removed]"
          },
          "metadata": {}
        }
      ]
    },
    {
      "cell_type": "code",
      "source": [],
      "metadata": {
        "id": "209ClLTJsj0R"
      },
      "execution_count": null,
      "outputs": []
    }
  ]
}