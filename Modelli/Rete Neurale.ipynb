{
  "nbformat": 4,
  "nbformat_minor": 0,
  "metadata": {
    "colab": {
      "provenance": [],
      "authorship_tag": "ABX9TyO5eEqyqEBJw3f4aZcA1W2a",
      "include_colab_link": true
    },
    "kernelspec": {
      "name": "python3",
      "display_name": "Python 3"
    },
    "language_info": {
      "name": "python"
    },
    "accelerator": "TPU"
  },
  "cells": [
    {
      "cell_type": "markdown",
      "metadata": {
        "id": "view-in-github",
        "colab_type": "text"
      },
      "source": [
        "<a href=\"https://colab.research.google.com/github/Martipetti/MachineLearning/blob/develop-martipetti/Modelli/Rete%20Neurale.ipynb\" target=\"_parent\"><img src=\"https://colab.research.google.com/assets/colab-badge.svg\" alt=\"Open In Colab\"/></a>"
      ]
    },
    {
      "cell_type": "markdown",
      "source": [
        "# Neural Network"
      ],
      "metadata": {
        "id": "kJmRNKAHmLTR"
      }
    },
    {
      "cell_type": "code",
      "execution_count": 1,
      "metadata": {
        "id": "VNlvHA9smANn"
      },
      "outputs": [],
      "source": [
        "import pandas as pd\n",
        "import numpy as np\n",
        "import seaborn as sns\n",
        "import keras\n",
        "from keras.models import Sequential\n",
        "from keras.layers import Dense\n",
        "from keras.optimizers import Adam, RMSprop\n",
        "#from keras.wrappers.scikit_learn import KerasClassifier\n",
        "from sklearn.utils import shuffle\n",
        "from sklearn.model_selection import GridSearchCV\n",
        "from sklearn.preprocessing import LabelEncoder\n",
        "from sklearn.neural_network import MLPClassifier\n",
        "from sklearn.decomposition import PCA\n",
        "from sklearn.preprocessing import StandardScaler\n",
        "from sklearn.metrics import confusion_matrix, accuracy_score\n",
        "import matplotlib.pyplot as plt\n",
        "from sklearn.model_selection import train_test_split\n",
        "from itertools import product"
      ]
    },
    {
      "cell_type": "markdown",
      "source": [
        "Download the data"
      ],
      "metadata": {
        "id": "kpByNVQfOXk8"
      }
    },
    {
      "cell_type": "code",
      "source": [
        "link = 'http://tennis-data.co.uk/2023/2023.xlsx'\n",
        "totalData = pd.read_excel(link)"
      ],
      "metadata": {
        "id": "ZRYI62wSmJTT"
      },
      "execution_count": 2,
      "outputs": []
    },
    {
      "cell_type": "markdown",
      "source": [
        "Cleaning DataSet"
      ],
      "metadata": {
        "id": "TdCageKCmlqc"
      }
    },
    {
      "cell_type": "code",
      "source": [
        "totalData = totalData[totalData['Series'] == 'Grand Slam']"
      ],
      "metadata": {
        "id": "umm3aRJrwCBC"
      },
      "execution_count": 3,
      "outputs": []
    },
    {
      "cell_type": "code",
      "source": [
        "trainingSet = totalData[[\"Tournament\", \"Surface\", \"Round\", \"Winner\", \"Loser\", \"WRank\", \"LRank\", \"B365W\", \"B365L\", \"PSW\", \"PSL\"]]"
      ],
      "metadata": {
        "id": "9j4rM7vBwQtg"
      },
      "execution_count": 4,
      "outputs": []
    },
    {
      "cell_type": "code",
      "source": [
        "for column in trainingSet:\n",
        "  trainingSet.dropna(subset=[column], inplace=True)"
      ],
      "metadata": {
        "colab": {
          "base_uri": "https://localhost:8080/"
        },
        "id": "USWzNjqo05JY",
        "outputId": "65f3d3b8-c1e6-442c-d083-cdf2e2a7cbce"
      },
      "execution_count": 5,
      "outputs": [
        {
          "output_type": "stream",
          "name": "stderr",
          "text": [
            "<ipython-input-5-ce7461797c1b>:2: SettingWithCopyWarning: \n",
            "A value is trying to be set on a copy of a slice from a DataFrame\n",
            "\n",
            "See the caveats in the documentation: https://pandas.pydata.org/pandas-docs/stable/user_guide/indexing.html#returning-a-view-versus-a-copy\n",
            "  trainingSet.dropna(subset=[column], inplace=True)\n",
            "<ipython-input-5-ce7461797c1b>:2: SettingWithCopyWarning: \n",
            "A value is trying to be set on a copy of a slice from a DataFrame\n",
            "\n",
            "See the caveats in the documentation: https://pandas.pydata.org/pandas-docs/stable/user_guide/indexing.html#returning-a-view-versus-a-copy\n",
            "  trainingSet.dropna(subset=[column], inplace=True)\n",
            "<ipython-input-5-ce7461797c1b>:2: SettingWithCopyWarning: \n",
            "A value is trying to be set on a copy of a slice from a DataFrame\n",
            "\n",
            "See the caveats in the documentation: https://pandas.pydata.org/pandas-docs/stable/user_guide/indexing.html#returning-a-view-versus-a-copy\n",
            "  trainingSet.dropna(subset=[column], inplace=True)\n",
            "<ipython-input-5-ce7461797c1b>:2: SettingWithCopyWarning: \n",
            "A value is trying to be set on a copy of a slice from a DataFrame\n",
            "\n",
            "See the caveats in the documentation: https://pandas.pydata.org/pandas-docs/stable/user_guide/indexing.html#returning-a-view-versus-a-copy\n",
            "  trainingSet.dropna(subset=[column], inplace=True)\n",
            "<ipython-input-5-ce7461797c1b>:2: SettingWithCopyWarning: \n",
            "A value is trying to be set on a copy of a slice from a DataFrame\n",
            "\n",
            "See the caveats in the documentation: https://pandas.pydata.org/pandas-docs/stable/user_guide/indexing.html#returning-a-view-versus-a-copy\n",
            "  trainingSet.dropna(subset=[column], inplace=True)\n",
            "<ipython-input-5-ce7461797c1b>:2: SettingWithCopyWarning: \n",
            "A value is trying to be set on a copy of a slice from a DataFrame\n",
            "\n",
            "See the caveats in the documentation: https://pandas.pydata.org/pandas-docs/stable/user_guide/indexing.html#returning-a-view-versus-a-copy\n",
            "  trainingSet.dropna(subset=[column], inplace=True)\n",
            "<ipython-input-5-ce7461797c1b>:2: SettingWithCopyWarning: \n",
            "A value is trying to be set on a copy of a slice from a DataFrame\n",
            "\n",
            "See the caveats in the documentation: https://pandas.pydata.org/pandas-docs/stable/user_guide/indexing.html#returning-a-view-versus-a-copy\n",
            "  trainingSet.dropna(subset=[column], inplace=True)\n",
            "<ipython-input-5-ce7461797c1b>:2: SettingWithCopyWarning: \n",
            "A value is trying to be set on a copy of a slice from a DataFrame\n",
            "\n",
            "See the caveats in the documentation: https://pandas.pydata.org/pandas-docs/stable/user_guide/indexing.html#returning-a-view-versus-a-copy\n",
            "  trainingSet.dropna(subset=[column], inplace=True)\n",
            "<ipython-input-5-ce7461797c1b>:2: SettingWithCopyWarning: \n",
            "A value is trying to be set on a copy of a slice from a DataFrame\n",
            "\n",
            "See the caveats in the documentation: https://pandas.pydata.org/pandas-docs/stable/user_guide/indexing.html#returning-a-view-versus-a-copy\n",
            "  trainingSet.dropna(subset=[column], inplace=True)\n",
            "<ipython-input-5-ce7461797c1b>:2: SettingWithCopyWarning: \n",
            "A value is trying to be set on a copy of a slice from a DataFrame\n",
            "\n",
            "See the caveats in the documentation: https://pandas.pydata.org/pandas-docs/stable/user_guide/indexing.html#returning-a-view-versus-a-copy\n",
            "  trainingSet.dropna(subset=[column], inplace=True)\n",
            "<ipython-input-5-ce7461797c1b>:2: SettingWithCopyWarning: \n",
            "A value is trying to be set on a copy of a slice from a DataFrame\n",
            "\n",
            "See the caveats in the documentation: https://pandas.pydata.org/pandas-docs/stable/user_guide/indexing.html#returning-a-view-versus-a-copy\n",
            "  trainingSet.dropna(subset=[column], inplace=True)\n"
          ]
        }
      ]
    },
    {
      "cell_type": "code",
      "source": [
        "trainingSet.reset_index(drop=True, inplace=True)\n",
        "trainingSet.index = range(1, len(trainingSet) + 1)"
      ],
      "metadata": {
        "id": "sKWT9uSd0lKI"
      },
      "execution_count": 6,
      "outputs": []
    },
    {
      "cell_type": "code",
      "source": [
        "nuovi_nomi_colonne = [\"Tournament\",\"Surface\", \"Round\", \"Player1\", \"Player2\", \"Rank1\", \"Rank2\", \"B1\", \"B2\", \"PS1\", \"PS2\"]\n",
        "trainingSet.columns = nuovi_nomi_colonne"
      ],
      "metadata": {
        "id": "e3fqfA201hR-"
      },
      "execution_count": 7,
      "outputs": []
    },
    {
      "cell_type": "code",
      "source": [
        "trainingSet[\"target\"] = 0"
      ],
      "metadata": {
        "id": "BwgFng9O2XoQ",
        "outputId": "6839e0a6-5fa0-463f-c2b9-44ed2ccb6931",
        "colab": {
          "base_uri": "https://localhost:8080/"
        }
      },
      "execution_count": 8,
      "outputs": [
        {
          "output_type": "stream",
          "name": "stderr",
          "text": [
            "<ipython-input-8-60ba1f42b5c8>:1: SettingWithCopyWarning: \n",
            "A value is trying to be set on a copy of a slice from a DataFrame.\n",
            "Try using .loc[row_indexer,col_indexer] = value instead\n",
            "\n",
            "See the caveats in the documentation: https://pandas.pydata.org/pandas-docs/stable/user_guide/indexing.html#returning-a-view-versus-a-copy\n",
            "  trainingSet[\"target\"] = 0\n"
          ]
        }
      ]
    },
    {
      "cell_type": "markdown",
      "source": [
        "Mapping string to integer"
      ],
      "metadata": {
        "id": "UFY29Wi6PZg3"
      }
    },
    {
      "cell_type": "code",
      "source": [
        "trainingSet[\"Tournament\"] = trainingSet[\"Tournament\"].astype(\"category\")\n",
        "trainingSet[\"Surface\"] = trainingSet[\"Surface\"].astype(\"category\")\n",
        "trainingSet[\"Round\"] = trainingSet[\"Round\"].astype(\"category\")\n",
        "trainingSet[\"Player1\"] = trainingSet[\"Player1\"].astype(\"category\")\n",
        "trainingSet[\"Player2\"] = trainingSet[\"Player2\"].astype(\"category\")"
      ],
      "metadata": {
        "id": "K_1SYnkX2rX1",
        "outputId": "223ebe14-1831-42c0-e595-74e6aa4d9f87",
        "colab": {
          "base_uri": "https://localhost:8080/"
        }
      },
      "execution_count": 9,
      "outputs": [
        {
          "output_type": "stream",
          "name": "stderr",
          "text": [
            "<ipython-input-9-1d9e29e86b61>:1: SettingWithCopyWarning: \n",
            "A value is trying to be set on a copy of a slice from a DataFrame.\n",
            "Try using .loc[row_indexer,col_indexer] = value instead\n",
            "\n",
            "See the caveats in the documentation: https://pandas.pydata.org/pandas-docs/stable/user_guide/indexing.html#returning-a-view-versus-a-copy\n",
            "  trainingSet[\"Tournament\"] = trainingSet[\"Tournament\"].astype(\"category\")\n",
            "<ipython-input-9-1d9e29e86b61>:2: SettingWithCopyWarning: \n",
            "A value is trying to be set on a copy of a slice from a DataFrame.\n",
            "Try using .loc[row_indexer,col_indexer] = value instead\n",
            "\n",
            "See the caveats in the documentation: https://pandas.pydata.org/pandas-docs/stable/user_guide/indexing.html#returning-a-view-versus-a-copy\n",
            "  trainingSet[\"Surface\"] = trainingSet[\"Surface\"].astype(\"category\")\n",
            "<ipython-input-9-1d9e29e86b61>:3: SettingWithCopyWarning: \n",
            "A value is trying to be set on a copy of a slice from a DataFrame.\n",
            "Try using .loc[row_indexer,col_indexer] = value instead\n",
            "\n",
            "See the caveats in the documentation: https://pandas.pydata.org/pandas-docs/stable/user_guide/indexing.html#returning-a-view-versus-a-copy\n",
            "  trainingSet[\"Round\"] = trainingSet[\"Round\"].astype(\"category\")\n",
            "<ipython-input-9-1d9e29e86b61>:4: SettingWithCopyWarning: \n",
            "A value is trying to be set on a copy of a slice from a DataFrame.\n",
            "Try using .loc[row_indexer,col_indexer] = value instead\n",
            "\n",
            "See the caveats in the documentation: https://pandas.pydata.org/pandas-docs/stable/user_guide/indexing.html#returning-a-view-versus-a-copy\n",
            "  trainingSet[\"Player1\"] = trainingSet[\"Player1\"].astype(\"category\")\n",
            "<ipython-input-9-1d9e29e86b61>:5: SettingWithCopyWarning: \n",
            "A value is trying to be set on a copy of a slice from a DataFrame.\n",
            "Try using .loc[row_indexer,col_indexer] = value instead\n",
            "\n",
            "See the caveats in the documentation: https://pandas.pydata.org/pandas-docs/stable/user_guide/indexing.html#returning-a-view-versus-a-copy\n",
            "  trainingSet[\"Player2\"] = trainingSet[\"Player2\"].astype(\"category\")\n"
          ]
        }
      ]
    },
    {
      "cell_type": "code",
      "source": [
        "trainingSet.dtypes"
      ],
      "metadata": {
        "colab": {
          "base_uri": "https://localhost:8080/"
        },
        "id": "Amtt9jIN3wTy",
        "outputId": "bdbaa17b-b4de-4768-9956-fce2f38abb77"
      },
      "execution_count": 10,
      "outputs": [
        {
          "output_type": "execute_result",
          "data": {
            "text/plain": [
              "Tournament    category\n",
              "Surface       category\n",
              "Round         category\n",
              "Player1       category\n",
              "Player2       category\n",
              "Rank1          float64\n",
              "Rank2          float64\n",
              "B1             float64\n",
              "B2             float64\n",
              "PS1            float64\n",
              "PS2            float64\n",
              "target           int64\n",
              "dtype: object"
            ]
          },
          "metadata": {},
          "execution_count": 10
        }
      ]
    },
    {
      "cell_type": "code",
      "source": [
        "label_encoder = LabelEncoder()\n",
        "trainingSet[\"Tournament\"] = label_encoder.fit_transform(trainingSet[\"Tournament\"])\n",
        "trainingSet[\"Surface\"] = label_encoder.fit_transform(trainingSet[\"Surface\"])\n",
        "trainingSet[\"Round\"] = label_encoder.fit_transform(trainingSet[\"Round\"])"
      ],
      "metadata": {
        "id": "gSksSsvl4kQY",
        "outputId": "a29c0ff8-6988-4add-f1db-c392f38b5e89",
        "colab": {
          "base_uri": "https://localhost:8080/"
        }
      },
      "execution_count": 11,
      "outputs": [
        {
          "output_type": "stream",
          "name": "stderr",
          "text": [
            "<ipython-input-11-be19e985f5d6>:2: SettingWithCopyWarning: \n",
            "A value is trying to be set on a copy of a slice from a DataFrame.\n",
            "Try using .loc[row_indexer,col_indexer] = value instead\n",
            "\n",
            "See the caveats in the documentation: https://pandas.pydata.org/pandas-docs/stable/user_guide/indexing.html#returning-a-view-versus-a-copy\n",
            "  trainingSet[\"Tournament\"] = label_encoder.fit_transform(trainingSet[\"Tournament\"])\n",
            "<ipython-input-11-be19e985f5d6>:3: SettingWithCopyWarning: \n",
            "A value is trying to be set on a copy of a slice from a DataFrame.\n",
            "Try using .loc[row_indexer,col_indexer] = value instead\n",
            "\n",
            "See the caveats in the documentation: https://pandas.pydata.org/pandas-docs/stable/user_guide/indexing.html#returning-a-view-versus-a-copy\n",
            "  trainingSet[\"Surface\"] = label_encoder.fit_transform(trainingSet[\"Surface\"])\n",
            "<ipython-input-11-be19e985f5d6>:4: SettingWithCopyWarning: \n",
            "A value is trying to be set on a copy of a slice from a DataFrame.\n",
            "Try using .loc[row_indexer,col_indexer] = value instead\n",
            "\n",
            "See the caveats in the documentation: https://pandas.pydata.org/pandas-docs/stable/user_guide/indexing.html#returning-a-view-versus-a-copy\n",
            "  trainingSet[\"Round\"] = label_encoder.fit_transform(trainingSet[\"Round\"])\n"
          ]
        }
      ]
    },
    {
      "cell_type": "code",
      "source": [
        "label_encoder = LabelEncoder()\n",
        "label_encoder.fit(trainingSet[\"Player2\"].append(trainingSet[\"Player1\"]))\n",
        "tmp_1 = label_encoder.transform(trainingSet[\"Player1\"])\n",
        "tmp_2 = label_encoder.transform(trainingSet[\"Player2\"])\n",
        "trainingSet[\"Player1Code\"], trainingSet[\"Player2Code\"] = tmp_1, tmp_2"
      ],
      "metadata": {
        "colab": {
          "base_uri": "https://localhost:8080/"
        },
        "id": "wfWUjcerOJI5",
        "outputId": "47f10a71-1891-4d1b-d676-dcf3d7997d4c"
      },
      "execution_count": 12,
      "outputs": [
        {
          "output_type": "stream",
          "name": "stderr",
          "text": [
            "<ipython-input-12-98cfb96ab1d4>:2: FutureWarning: The series.append method is deprecated and will be removed from pandas in a future version. Use pandas.concat instead.\n",
            "  label_encoder.fit(trainingSet[\"Player2\"].append(trainingSet[\"Player1\"]))\n",
            "<ipython-input-12-98cfb96ab1d4>:5: SettingWithCopyWarning: \n",
            "A value is trying to be set on a copy of a slice from a DataFrame.\n",
            "Try using .loc[row_indexer,col_indexer] = value instead\n",
            "\n",
            "See the caveats in the documentation: https://pandas.pydata.org/pandas-docs/stable/user_guide/indexing.html#returning-a-view-versus-a-copy\n",
            "  trainingSet[\"Player1Code\"], trainingSet[\"Player2Code\"] = tmp_1, tmp_2\n",
            "<ipython-input-12-98cfb96ab1d4>:5: SettingWithCopyWarning: \n",
            "A value is trying to be set on a copy of a slice from a DataFrame.\n",
            "Try using .loc[row_indexer,col_indexer] = value instead\n",
            "\n",
            "See the caveats in the documentation: https://pandas.pydata.org/pandas-docs/stable/user_guide/indexing.html#returning-a-view-versus-a-copy\n",
            "  trainingSet[\"Player1Code\"], trainingSet[\"Player2Code\"] = tmp_1, tmp_2\n"
          ]
        }
      ]
    },
    {
      "cell_type": "markdown",
      "source": [
        "Mixing the player to avoid the pattern with the winner on the first columns and the loser on the second one"
      ],
      "metadata": {
        "id": "wmRDn1GlPdUD"
      }
    },
    {
      "cell_type": "code",
      "source": [
        "trainingSet"
      ],
      "metadata": {
        "colab": {
          "base_uri": "https://localhost:8080/",
          "height": 419
        },
        "id": "YNQbwwB9LAsz",
        "outputId": "ca051f65-239c-46af-f84f-233a81a997e5"
      },
      "execution_count": 13,
      "outputs": [
        {
          "output_type": "execute_result",
          "data": {
            "text/plain": [
              "     Tournament  Surface  Round               Player1         Player2  Rank1  \\\n",
              "1             0        2      0             Moutet C.           Wu Y.   62.0   \n",
              "2             0        2      0           Watanuki Y.  Rinderknech A.  138.0   \n",
              "3             0        2      0  Van De Zandschulp B.      Ivashka I.   34.0   \n",
              "4             0        2      0         Etcheverry T.      Barrere G.   79.0   \n",
              "5             0        2      0             Sinner J.       Edmund K.   16.0   \n",
              "..          ...      ...    ...                   ...             ...    ...   \n",
              "500           2        2      4           Medvedev D.       Rublev A.    3.0   \n",
              "501           2        2      4            Alcaraz C.       Zverev A.    1.0   \n",
              "502           2        2      5           Djokovic N.      Shelton B.    2.0   \n",
              "503           2        2      5           Medvedev D.      Alcaraz C.    3.0   \n",
              "504           2        2      6           Djokovic N.     Medvedev D.    2.0   \n",
              "\n",
              "     Rank2    B1     B2   PS1    PS2  target  Player1Code  Player2Code  \n",
              "1    114.0  2.38   1.57  2.40   1.65       0          116          184  \n",
              "2     59.0  2.30   1.62  2.18   1.77       0          181          143  \n",
              "3     73.0  1.36   3.20  1.47   2.91       0          174           75  \n",
              "4     83.0  2.30   1.62  2.43   1.63       0           48            7  \n",
              "5    581.0  1.06  10.00  1.05  15.72       0          157           46  \n",
              "..     ...   ...    ...   ...    ...     ...          ...          ...  \n",
              "500    8.0  1.36   3.20  1.39   3.30       0          105          145  \n",
              "501   12.0  1.20   4.50  1.22   4.90       0            1          190  \n",
              "502   47.0  1.06  10.00  1.09   9.76       0           42          154  \n",
              "503    1.0  4.33   1.22  4.13   1.28       0          105            1  \n",
              "504    3.0  1.44   2.88  1.46   2.95       0           42          105  \n",
              "\n",
              "[504 rows x 14 columns]"
            ],
            "text/html": [
              "\n",
              "  <div id=\"df-2a6c8b14-37fa-4117-b5d3-d6d8583114a6\" class=\"colab-df-container\">\n",
              "    <div>\n",
              "<style scoped>\n",
              "    .dataframe tbody tr th:only-of-type {\n",
              "        vertical-align: middle;\n",
              "    }\n",
              "\n",
              "    .dataframe tbody tr th {\n",
              "        vertical-align: top;\n",
              "    }\n",
              "\n",
              "    .dataframe thead th {\n",
              "        text-align: right;\n",
              "    }\n",
              "</style>\n",
              "<table border=\"1\" class=\"dataframe\">\n",
              "  <thead>\n",
              "    <tr style=\"text-align: right;\">\n",
              "      <th></th>\n",
              "      <th>Tournament</th>\n",
              "      <th>Surface</th>\n",
              "      <th>Round</th>\n",
              "      <th>Player1</th>\n",
              "      <th>Player2</th>\n",
              "      <th>Rank1</th>\n",
              "      <th>Rank2</th>\n",
              "      <th>B1</th>\n",
              "      <th>B2</th>\n",
              "      <th>PS1</th>\n",
              "      <th>PS2</th>\n",
              "      <th>target</th>\n",
              "      <th>Player1Code</th>\n",
              "      <th>Player2Code</th>\n",
              "    </tr>\n",
              "  </thead>\n",
              "  <tbody>\n",
              "    <tr>\n",
              "      <th>1</th>\n",
              "      <td>0</td>\n",
              "      <td>2</td>\n",
              "      <td>0</td>\n",
              "      <td>Moutet C.</td>\n",
              "      <td>Wu Y.</td>\n",
              "      <td>62.0</td>\n",
              "      <td>114.0</td>\n",
              "      <td>2.38</td>\n",
              "      <td>1.57</td>\n",
              "      <td>2.40</td>\n",
              "      <td>1.65</td>\n",
              "      <td>0</td>\n",
              "      <td>116</td>\n",
              "      <td>184</td>\n",
              "    </tr>\n",
              "    <tr>\n",
              "      <th>2</th>\n",
              "      <td>0</td>\n",
              "      <td>2</td>\n",
              "      <td>0</td>\n",
              "      <td>Watanuki Y.</td>\n",
              "      <td>Rinderknech A.</td>\n",
              "      <td>138.0</td>\n",
              "      <td>59.0</td>\n",
              "      <td>2.30</td>\n",
              "      <td>1.62</td>\n",
              "      <td>2.18</td>\n",
              "      <td>1.77</td>\n",
              "      <td>0</td>\n",
              "      <td>181</td>\n",
              "      <td>143</td>\n",
              "    </tr>\n",
              "    <tr>\n",
              "      <th>3</th>\n",
              "      <td>0</td>\n",
              "      <td>2</td>\n",
              "      <td>0</td>\n",
              "      <td>Van De Zandschulp B.</td>\n",
              "      <td>Ivashka I.</td>\n",
              "      <td>34.0</td>\n",
              "      <td>73.0</td>\n",
              "      <td>1.36</td>\n",
              "      <td>3.20</td>\n",
              "      <td>1.47</td>\n",
              "      <td>2.91</td>\n",
              "      <td>0</td>\n",
              "      <td>174</td>\n",
              "      <td>75</td>\n",
              "    </tr>\n",
              "    <tr>\n",
              "      <th>4</th>\n",
              "      <td>0</td>\n",
              "      <td>2</td>\n",
              "      <td>0</td>\n",
              "      <td>Etcheverry T.</td>\n",
              "      <td>Barrere G.</td>\n",
              "      <td>79.0</td>\n",
              "      <td>83.0</td>\n",
              "      <td>2.30</td>\n",
              "      <td>1.62</td>\n",
              "      <td>2.43</td>\n",
              "      <td>1.63</td>\n",
              "      <td>0</td>\n",
              "      <td>48</td>\n",
              "      <td>7</td>\n",
              "    </tr>\n",
              "    <tr>\n",
              "      <th>5</th>\n",
              "      <td>0</td>\n",
              "      <td>2</td>\n",
              "      <td>0</td>\n",
              "      <td>Sinner J.</td>\n",
              "      <td>Edmund K.</td>\n",
              "      <td>16.0</td>\n",
              "      <td>581.0</td>\n",
              "      <td>1.06</td>\n",
              "      <td>10.00</td>\n",
              "      <td>1.05</td>\n",
              "      <td>15.72</td>\n",
              "      <td>0</td>\n",
              "      <td>157</td>\n",
              "      <td>46</td>\n",
              "    </tr>\n",
              "    <tr>\n",
              "      <th>...</th>\n",
              "      <td>...</td>\n",
              "      <td>...</td>\n",
              "      <td>...</td>\n",
              "      <td>...</td>\n",
              "      <td>...</td>\n",
              "      <td>...</td>\n",
              "      <td>...</td>\n",
              "      <td>...</td>\n",
              "      <td>...</td>\n",
              "      <td>...</td>\n",
              "      <td>...</td>\n",
              "      <td>...</td>\n",
              "      <td>...</td>\n",
              "      <td>...</td>\n",
              "    </tr>\n",
              "    <tr>\n",
              "      <th>500</th>\n",
              "      <td>2</td>\n",
              "      <td>2</td>\n",
              "      <td>4</td>\n",
              "      <td>Medvedev D.</td>\n",
              "      <td>Rublev A.</td>\n",
              "      <td>3.0</td>\n",
              "      <td>8.0</td>\n",
              "      <td>1.36</td>\n",
              "      <td>3.20</td>\n",
              "      <td>1.39</td>\n",
              "      <td>3.30</td>\n",
              "      <td>0</td>\n",
              "      <td>105</td>\n",
              "      <td>145</td>\n",
              "    </tr>\n",
              "    <tr>\n",
              "      <th>501</th>\n",
              "      <td>2</td>\n",
              "      <td>2</td>\n",
              "      <td>4</td>\n",
              "      <td>Alcaraz C.</td>\n",
              "      <td>Zverev A.</td>\n",
              "      <td>1.0</td>\n",
              "      <td>12.0</td>\n",
              "      <td>1.20</td>\n",
              "      <td>4.50</td>\n",
              "      <td>1.22</td>\n",
              "      <td>4.90</td>\n",
              "      <td>0</td>\n",
              "      <td>1</td>\n",
              "      <td>190</td>\n",
              "    </tr>\n",
              "    <tr>\n",
              "      <th>502</th>\n",
              "      <td>2</td>\n",
              "      <td>2</td>\n",
              "      <td>5</td>\n",
              "      <td>Djokovic N.</td>\n",
              "      <td>Shelton B.</td>\n",
              "      <td>2.0</td>\n",
              "      <td>47.0</td>\n",
              "      <td>1.06</td>\n",
              "      <td>10.00</td>\n",
              "      <td>1.09</td>\n",
              "      <td>9.76</td>\n",
              "      <td>0</td>\n",
              "      <td>42</td>\n",
              "      <td>154</td>\n",
              "    </tr>\n",
              "    <tr>\n",
              "      <th>503</th>\n",
              "      <td>2</td>\n",
              "      <td>2</td>\n",
              "      <td>5</td>\n",
              "      <td>Medvedev D.</td>\n",
              "      <td>Alcaraz C.</td>\n",
              "      <td>3.0</td>\n",
              "      <td>1.0</td>\n",
              "      <td>4.33</td>\n",
              "      <td>1.22</td>\n",
              "      <td>4.13</td>\n",
              "      <td>1.28</td>\n",
              "      <td>0</td>\n",
              "      <td>105</td>\n",
              "      <td>1</td>\n",
              "    </tr>\n",
              "    <tr>\n",
              "      <th>504</th>\n",
              "      <td>2</td>\n",
              "      <td>2</td>\n",
              "      <td>6</td>\n",
              "      <td>Djokovic N.</td>\n",
              "      <td>Medvedev D.</td>\n",
              "      <td>2.0</td>\n",
              "      <td>3.0</td>\n",
              "      <td>1.44</td>\n",
              "      <td>2.88</td>\n",
              "      <td>1.46</td>\n",
              "      <td>2.95</td>\n",
              "      <td>0</td>\n",
              "      <td>42</td>\n",
              "      <td>105</td>\n",
              "    </tr>\n",
              "  </tbody>\n",
              "</table>\n",
              "<p>504 rows × 14 columns</p>\n",
              "</div>\n",
              "    <div class=\"colab-df-buttons\">\n",
              "\n",
              "  <div class=\"colab-df-container\">\n",
              "    <button class=\"colab-df-convert\" onclick=\"convertToInteractive('df-2a6c8b14-37fa-4117-b5d3-d6d8583114a6')\"\n",
              "            title=\"Convert this dataframe to an interactive table.\"\n",
              "            style=\"display:none;\">\n",
              "\n",
              "  <svg xmlns=\"http://www.w3.org/2000/svg\" height=\"24px\" viewBox=\"0 -960 960 960\">\n",
              "    <path d=\"M120-120v-720h720v720H120Zm60-500h600v-160H180v160Zm220 220h160v-160H400v160Zm0 220h160v-160H400v160ZM180-400h160v-160H180v160Zm440 0h160v-160H620v160ZM180-180h160v-160H180v160Zm440 0h160v-160H620v160Z\"/>\n",
              "  </svg>\n",
              "    </button>\n",
              "\n",
              "  <style>\n",
              "    .colab-df-container {\n",
              "      display:flex;\n",
              "      gap: 12px;\n",
              "    }\n",
              "\n",
              "    .colab-df-convert {\n",
              "      background-color: #E8F0FE;\n",
              "      border: none;\n",
              "      border-radius: 50%;\n",
              "      cursor: pointer;\n",
              "      display: none;\n",
              "      fill: #1967D2;\n",
              "      height: 32px;\n",
              "      padding: 0 0 0 0;\n",
              "      width: 32px;\n",
              "    }\n",
              "\n",
              "    .colab-df-convert:hover {\n",
              "      background-color: #E2EBFA;\n",
              "      box-shadow: 0px 1px 2px rgba(60, 64, 67, 0.3), 0px 1px 3px 1px rgba(60, 64, 67, 0.15);\n",
              "      fill: #174EA6;\n",
              "    }\n",
              "\n",
              "    .colab-df-buttons div {\n",
              "      margin-bottom: 4px;\n",
              "    }\n",
              "\n",
              "    [theme=dark] .colab-df-convert {\n",
              "      background-color: #3B4455;\n",
              "      fill: #D2E3FC;\n",
              "    }\n",
              "\n",
              "    [theme=dark] .colab-df-convert:hover {\n",
              "      background-color: #434B5C;\n",
              "      box-shadow: 0px 1px 3px 1px rgba(0, 0, 0, 0.15);\n",
              "      filter: drop-shadow(0px 1px 2px rgba(0, 0, 0, 0.3));\n",
              "      fill: #FFFFFF;\n",
              "    }\n",
              "  </style>\n",
              "\n",
              "    <script>\n",
              "      const buttonEl =\n",
              "        document.querySelector('#df-2a6c8b14-37fa-4117-b5d3-d6d8583114a6 button.colab-df-convert');\n",
              "      buttonEl.style.display =\n",
              "        google.colab.kernel.accessAllowed ? 'block' : 'none';\n",
              "\n",
              "      async function convertToInteractive(key) {\n",
              "        const element = document.querySelector('#df-2a6c8b14-37fa-4117-b5d3-d6d8583114a6');\n",
              "        const dataTable =\n",
              "          await google.colab.kernel.invokeFunction('convertToInteractive',\n",
              "                                                    [key], {});\n",
              "        if (!dataTable) return;\n",
              "\n",
              "        const docLinkHtml = 'Like what you see? Visit the ' +\n",
              "          '<a target=\"_blank\" href=https://colab.research.google.com/notebooks/data_table.ipynb>data table notebook</a>'\n",
              "          + ' to learn more about interactive tables.';\n",
              "        element.innerHTML = '';\n",
              "        dataTable['output_type'] = 'display_data';\n",
              "        await google.colab.output.renderOutput(dataTable, element);\n",
              "        const docLink = document.createElement('div');\n",
              "        docLink.innerHTML = docLinkHtml;\n",
              "        element.appendChild(docLink);\n",
              "      }\n",
              "    </script>\n",
              "  </div>\n",
              "\n",
              "\n",
              "<div id=\"df-73cbed72-a12b-4080-81b7-4aae382e98d1\">\n",
              "  <button class=\"colab-df-quickchart\" onclick=\"quickchart('df-73cbed72-a12b-4080-81b7-4aae382e98d1')\"\n",
              "            title=\"Suggest charts\"\n",
              "            style=\"display:none;\">\n",
              "\n",
              "<svg xmlns=\"http://www.w3.org/2000/svg\" height=\"24px\"viewBox=\"0 0 24 24\"\n",
              "     width=\"24px\">\n",
              "    <g>\n",
              "        <path d=\"M19 3H5c-1.1 0-2 .9-2 2v14c0 1.1.9 2 2 2h14c1.1 0 2-.9 2-2V5c0-1.1-.9-2-2-2zM9 17H7v-7h2v7zm4 0h-2V7h2v10zm4 0h-2v-4h2v4z\"/>\n",
              "    </g>\n",
              "</svg>\n",
              "  </button>\n",
              "\n",
              "<style>\n",
              "  .colab-df-quickchart {\n",
              "      --bg-color: #E8F0FE;\n",
              "      --fill-color: #1967D2;\n",
              "      --hover-bg-color: #E2EBFA;\n",
              "      --hover-fill-color: #174EA6;\n",
              "      --disabled-fill-color: #AAA;\n",
              "      --disabled-bg-color: #DDD;\n",
              "  }\n",
              "\n",
              "  [theme=dark] .colab-df-quickchart {\n",
              "      --bg-color: #3B4455;\n",
              "      --fill-color: #D2E3FC;\n",
              "      --hover-bg-color: #434B5C;\n",
              "      --hover-fill-color: #FFFFFF;\n",
              "      --disabled-bg-color: #3B4455;\n",
              "      --disabled-fill-color: #666;\n",
              "  }\n",
              "\n",
              "  .colab-df-quickchart {\n",
              "    background-color: var(--bg-color);\n",
              "    border: none;\n",
              "    border-radius: 50%;\n",
              "    cursor: pointer;\n",
              "    display: none;\n",
              "    fill: var(--fill-color);\n",
              "    height: 32px;\n",
              "    padding: 0;\n",
              "    width: 32px;\n",
              "  }\n",
              "\n",
              "  .colab-df-quickchart:hover {\n",
              "    background-color: var(--hover-bg-color);\n",
              "    box-shadow: 0 1px 2px rgba(60, 64, 67, 0.3), 0 1px 3px 1px rgba(60, 64, 67, 0.15);\n",
              "    fill: var(--button-hover-fill-color);\n",
              "  }\n",
              "\n",
              "  .colab-df-quickchart-complete:disabled,\n",
              "  .colab-df-quickchart-complete:disabled:hover {\n",
              "    background-color: var(--disabled-bg-color);\n",
              "    fill: var(--disabled-fill-color);\n",
              "    box-shadow: none;\n",
              "  }\n",
              "\n",
              "  .colab-df-spinner {\n",
              "    border: 2px solid var(--fill-color);\n",
              "    border-color: transparent;\n",
              "    border-bottom-color: var(--fill-color);\n",
              "    animation:\n",
              "      spin 1s steps(1) infinite;\n",
              "  }\n",
              "\n",
              "  @keyframes spin {\n",
              "    0% {\n",
              "      border-color: transparent;\n",
              "      border-bottom-color: var(--fill-color);\n",
              "      border-left-color: var(--fill-color);\n",
              "    }\n",
              "    20% {\n",
              "      border-color: transparent;\n",
              "      border-left-color: var(--fill-color);\n",
              "      border-top-color: var(--fill-color);\n",
              "    }\n",
              "    30% {\n",
              "      border-color: transparent;\n",
              "      border-left-color: var(--fill-color);\n",
              "      border-top-color: var(--fill-color);\n",
              "      border-right-color: var(--fill-color);\n",
              "    }\n",
              "    40% {\n",
              "      border-color: transparent;\n",
              "      border-right-color: var(--fill-color);\n",
              "      border-top-color: var(--fill-color);\n",
              "    }\n",
              "    60% {\n",
              "      border-color: transparent;\n",
              "      border-right-color: var(--fill-color);\n",
              "    }\n",
              "    80% {\n",
              "      border-color: transparent;\n",
              "      border-right-color: var(--fill-color);\n",
              "      border-bottom-color: var(--fill-color);\n",
              "    }\n",
              "    90% {\n",
              "      border-color: transparent;\n",
              "      border-bottom-color: var(--fill-color);\n",
              "    }\n",
              "  }\n",
              "</style>\n",
              "\n",
              "  <script>\n",
              "    async function quickchart(key) {\n",
              "      const quickchartButtonEl =\n",
              "        document.querySelector('#' + key + ' button');\n",
              "      quickchartButtonEl.disabled = true;  // To prevent multiple clicks.\n",
              "      quickchartButtonEl.classList.add('colab-df-spinner');\n",
              "      try {\n",
              "        const charts = await google.colab.kernel.invokeFunction(\n",
              "            'suggestCharts', [key], {});\n",
              "      } catch (error) {\n",
              "        console.error('Error during call to suggestCharts:', error);\n",
              "      }\n",
              "      quickchartButtonEl.classList.remove('colab-df-spinner');\n",
              "      quickchartButtonEl.classList.add('colab-df-quickchart-complete');\n",
              "    }\n",
              "    (() => {\n",
              "      let quickchartButtonEl =\n",
              "        document.querySelector('#df-73cbed72-a12b-4080-81b7-4aae382e98d1 button');\n",
              "      quickchartButtonEl.style.display =\n",
              "        google.colab.kernel.accessAllowed ? 'block' : 'none';\n",
              "    })();\n",
              "  </script>\n",
              "</div>\n",
              "    </div>\n",
              "  </div>\n"
            ],
            "application/vnd.google.colaboratory.intrinsic+json": {
              "type": "dataframe",
              "variable_name": "trainingSet",
              "summary": "{\n  \"name\": \"trainingSet\",\n  \"rows\": 504,\n  \"fields\": [\n    {\n      \"column\": \"Tournament\",\n      \"properties\": {\n        \"dtype\": \"number\",\n        \"std\": 1,\n        \"min\": 0,\n        \"max\": 3,\n        \"samples\": [\n          1,\n          2,\n          0\n        ],\n        \"num_unique_values\": 4,\n        \"semantic_type\": \"\",\n        \"description\": \"\"\n      }\n    },\n    {\n      \"column\": \"Surface\",\n      \"properties\": {\n        \"dtype\": \"number\",\n        \"std\": 0,\n        \"min\": 0,\n        \"max\": 2,\n        \"samples\": [\n          2,\n          0,\n          1\n        ],\n        \"num_unique_values\": 3,\n        \"semantic_type\": \"\",\n        \"description\": \"\"\n      }\n    },\n    {\n      \"column\": \"Round\",\n      \"properties\": {\n        \"dtype\": \"number\",\n        \"std\": 1,\n        \"min\": 0,\n        \"max\": 6,\n        \"samples\": [\n          0,\n          1,\n          5\n        ],\n        \"num_unique_values\": 7,\n        \"semantic_type\": \"\",\n        \"description\": \"\"\n      }\n    },\n    {\n      \"column\": \"Player1\",\n      \"properties\": {\n        \"dtype\": \"category\",\n        \"samples\": [\n          \"Kudla D.\",\n          \"Carreno Busta P.\",\n          \"Kubler J.\"\n        ],\n        \"num_unique_values\": 131,\n        \"semantic_type\": \"\",\n        \"description\": \"\"\n      }\n    },\n    {\n      \"column\": \"Player2\",\n      \"properties\": {\n        \"dtype\": \"category\",\n        \"samples\": [\n          \"Monfils G.\",\n          \"Van De Zandschulp B.\",\n          \"Gojo B.\"\n        ],\n        \"num_unique_values\": 191,\n        \"semantic_type\": \"\",\n        \"description\": \"\"\n      }\n    },\n    {\n      \"column\": \"Rank1\",\n      \"properties\": {\n        \"dtype\": \"number\",\n        \"std\": 78.64851757834332,\n        \"min\": 1.0,\n        \"max\": 849.0,\n        \"samples\": [\n          57.0,\n          849.0,\n          8.0\n        ],\n        \"num_unique_values\": 141,\n        \"semantic_type\": \"\",\n        \"description\": \"\"\n      }\n    },\n    {\n      \"column\": \"Rank2\",\n      \"properties\": {\n        \"dtype\": \"number\",\n        \"std\": 93.86933075688376,\n        \"min\": 1.0,\n        \"max\": 849.0,\n        \"samples\": [\n          194.0,\n          10.0,\n          313.0\n        ],\n        \"num_unique_values\": 198,\n        \"semantic_type\": \"\",\n        \"description\": \"\"\n      }\n    },\n    {\n      \"column\": \"B1\",\n      \"properties\": {\n        \"dtype\": \"number\",\n        \"std\": 1.103216764109598,\n        \"min\": 1.01,\n        \"max\": 11.0,\n        \"samples\": [\n          2.1,\n          4.5,\n          1.62\n        ],\n        \"num_unique_values\": 53,\n        \"semantic_type\": \"\",\n        \"description\": \"\"\n      }\n    },\n    {\n      \"column\": \"B2\",\n      \"properties\": {\n        \"dtype\": \"number\",\n        \"std\": 5.297218333011623,\n        \"min\": 1.05,\n        \"max\": 34.0,\n        \"samples\": [\n          1.57,\n          1.44,\n          3.75\n        ],\n        \"num_unique_values\": 60,\n        \"semantic_type\": \"\",\n        \"description\": \"\"\n      }\n    },\n    {\n      \"column\": \"PS1\",\n      \"properties\": {\n        \"dtype\": \"number\",\n        \"std\": 1.2084291953865365,\n        \"min\": 1.01,\n        \"max\": 10.69,\n        \"samples\": [\n          3.47,\n          4.38,\n          2.0\n        ],\n        \"num_unique_values\": 193,\n        \"semantic_type\": \"\",\n        \"description\": \"\"\n      }\n    },\n    {\n      \"column\": \"PS2\",\n      \"properties\": {\n        \"dtype\": \"number\",\n        \"std\": 6.5996884341171445,\n        \"min\": 1.08,\n        \"max\": 53.65,\n        \"samples\": [\n          5.09,\n          16.86,\n          2.42\n        ],\n        \"num_unique_values\": 355,\n        \"semantic_type\": \"\",\n        \"description\": \"\"\n      }\n    },\n    {\n      \"column\": \"target\",\n      \"properties\": {\n        \"dtype\": \"number\",\n        \"std\": 0,\n        \"min\": 0,\n        \"max\": 0,\n        \"samples\": [\n          0\n        ],\n        \"num_unique_values\": 1,\n        \"semantic_type\": \"\",\n        \"description\": \"\"\n      }\n    },\n    {\n      \"column\": \"Player1Code\",\n      \"properties\": {\n        \"dtype\": \"number\",\n        \"std\": 57,\n        \"min\": 0,\n        \"max\": 190,\n        \"samples\": [\n          89\n        ],\n        \"num_unique_values\": 131,\n        \"semantic_type\": \"\",\n        \"description\": \"\"\n      }\n    },\n    {\n      \"column\": \"Player2Code\",\n      \"properties\": {\n        \"dtype\": \"number\",\n        \"std\": 55,\n        \"min\": 0,\n        \"max\": 190,\n        \"samples\": [\n          113\n        ],\n        \"num_unique_values\": 191,\n        \"semantic_type\": \"\",\n        \"description\": \"\"\n      }\n    }\n  ]\n}"
            }
          },
          "metadata": {},
          "execution_count": 13
        }
      ]
    },
    {
      "cell_type": "code",
      "source": [
        "swap_rows = trainingSet.index[::2]\n",
        "\n",
        "df_swapped = trainingSet.loc[swap_rows]\n",
        "df_swapped['Player1Code'], df_swapped['Player2Code'] = df_swapped['Player2Code'], df_swapped['Player1Code']\n",
        "df_swapped['target'] = 1\n",
        "df_swapped['Rank1'], df_swapped['Rank2'] = df_swapped['Rank2'], df_swapped['Rank1']\n",
        "df_swapped['B1'], df_swapped['B2'] = df_swapped['B2'], df_swapped['B1']\n",
        "df_swapped['PS1'], df_swapped['PS2'] = df_swapped['PS2'], df_swapped['PS1']\n",
        "\n",
        "trainingSet = pd.concat([trainingSet.loc[~trainingSet.index.isin(swap_rows)], df_swapped])"
      ],
      "metadata": {
        "id": "0NUGPyS-LHNX"
      },
      "execution_count": 14,
      "outputs": []
    },
    {
      "cell_type": "code",
      "source": [
        "trainingSet = trainingSet.drop([\"Player1\", \"Player2\"], axis=1)"
      ],
      "metadata": {
        "id": "MLcgGAt2U2XN"
      },
      "execution_count": 15,
      "outputs": []
    },
    {
      "cell_type": "markdown",
      "source": [
        "Scaling and splitting the data and rename the data set"
      ],
      "metadata": {
        "id": "xz0MLFEAUbzL"
      }
    },
    {
      "cell_type": "code",
      "source": [
        "trainingSet = shuffle(trainingSet)"
      ],
      "metadata": {
        "id": "sITOQbj7Y3D-"
      },
      "execution_count": 16,
      "outputs": []
    },
    {
      "cell_type": "code",
      "source": [
        "X_train = trainingSet[trainingSet[\"Tournament\"] != 3]\n",
        "X_test = trainingSet[trainingSet[\"Tournament\"] == 3]"
      ],
      "metadata": {
        "id": "sjj5sibHYPYv"
      },
      "execution_count": 17,
      "outputs": []
    },
    {
      "cell_type": "code",
      "source": [
        "y_train = X_train[\"target\"]\n",
        "y_test = X_test[\"target\"]"
      ],
      "metadata": {
        "id": "EcSQSCApYTgT"
      },
      "execution_count": 18,
      "outputs": []
    },
    {
      "cell_type": "code",
      "source": [
        "X_train = X_train.drop(columns=[\"target\"])\n",
        "X_test = X_test.drop(columns=[\"target\"])"
      ],
      "metadata": {
        "id": "4B0837eUZxTQ"
      },
      "execution_count": 19,
      "outputs": []
    },
    {
      "cell_type": "code",
      "source": [
        "standardScaler = StandardScaler()\n",
        "X_train = pd.DataFrame(standardScaler.fit_transform(X_train), columns = X_train.columns)\n",
        "X_test = pd.DataFrame(standardScaler.fit_transform(X_test), columns = X_test.columns)"
      ],
      "metadata": {
        "id": "M1uzxlaaFnbf"
      },
      "execution_count": 20,
      "outputs": []
    },
    {
      "cell_type": "code",
      "source": [
        "y_train = keras.utils.to_categorical(y_train)\n",
        "y_test = keras.utils.to_categorical(y_test)"
      ],
      "metadata": {
        "id": "mcKsWxstggzs"
      },
      "execution_count": 21,
      "outputs": []
    },
    {
      "cell_type": "markdown",
      "source": [
        "Creating the neural network model"
      ],
      "metadata": {
        "id": "_nB6HvFka5Hm"
      }
    },
    {
      "cell_type": "code",
      "source": [
        "model = Sequential([\n",
        "    Dense(units=56, input_shape=(11,), activation='relu'),\n",
        "    Dense(units=112, activation='relu'),\n",
        "    Dense(units=2, activation='softmax')\n",
        "])"
      ],
      "metadata": {
        "id": "IUYlsiX4Qlmn"
      },
      "execution_count": 22,
      "outputs": []
    },
    {
      "cell_type": "code",
      "source": [
        "model.compile(loss='categorical_crossentropy', optimizer='adam', metrics=['accuracy'])"
      ],
      "metadata": {
        "id": "l3O6wMoGavx8"
      },
      "execution_count": 23,
      "outputs": []
    },
    {
      "cell_type": "code",
      "source": [
        "model.fit(x=X_train, y=y_train, epochs=10, batch_size=50, verbose=1, validation_split=0.1)"
      ],
      "metadata": {
        "colab": {
          "base_uri": "https://localhost:8080/"
        },
        "id": "zsB03-YPbidM",
        "outputId": "0a69f948-44b9-4e85-e462-8ae72e83e0b7"
      },
      "execution_count": 24,
      "outputs": [
        {
          "output_type": "stream",
          "name": "stdout",
          "text": [
            "Epoch 1/10\n",
            "7/7 [==============================] - 1s 42ms/step - loss: 0.6898 - accuracy: 0.5251 - val_loss: 0.6421 - val_accuracy: 0.6842\n",
            "Epoch 2/10\n",
            "7/7 [==============================] - 0s 6ms/step - loss: 0.6075 - accuracy: 0.6549 - val_loss: 0.6111 - val_accuracy: 0.6842\n",
            "Epoch 3/10\n",
            "7/7 [==============================] - 0s 6ms/step - loss: 0.5660 - accuracy: 0.6932 - val_loss: 0.6065 - val_accuracy: 0.6842\n",
            "Epoch 4/10\n",
            "7/7 [==============================] - 0s 6ms/step - loss: 0.5419 - accuracy: 0.7080 - val_loss: 0.6104 - val_accuracy: 0.6579\n",
            "Epoch 5/10\n",
            "7/7 [==============================] - 0s 6ms/step - loss: 0.5283 - accuracy: 0.7021 - val_loss: 0.6198 - val_accuracy: 0.6842\n",
            "Epoch 6/10\n",
            "7/7 [==============================] - 0s 6ms/step - loss: 0.5159 - accuracy: 0.7168 - val_loss: 0.6215 - val_accuracy: 0.6316\n",
            "Epoch 7/10\n",
            "7/7 [==============================] - 0s 6ms/step - loss: 0.5062 - accuracy: 0.7286 - val_loss: 0.6301 - val_accuracy: 0.6316\n",
            "Epoch 8/10\n",
            "7/7 [==============================] - 0s 7ms/step - loss: 0.4996 - accuracy: 0.7316 - val_loss: 0.6437 - val_accuracy: 0.6316\n",
            "Epoch 9/10\n",
            "7/7 [==============================] - 0s 7ms/step - loss: 0.4924 - accuracy: 0.7404 - val_loss: 0.6487 - val_accuracy: 0.6316\n",
            "Epoch 10/10\n",
            "7/7 [==============================] - 0s 6ms/step - loss: 0.4877 - accuracy: 0.7463 - val_loss: 0.6494 - val_accuracy: 0.6316\n"
          ]
        },
        {
          "output_type": "execute_result",
          "data": {
            "text/plain": [
              "<keras.src.callbacks.History at 0x7d3358d31ea0>"
            ]
          },
          "metadata": {},
          "execution_count": 24
        }
      ]
    },
    {
      "cell_type": "code",
      "source": [
        "y_pred = model.predict(X_test)"
      ],
      "metadata": {
        "colab": {
          "base_uri": "https://localhost:8080/"
        },
        "id": "yJy8XkC0aS5X",
        "outputId": "1bcd58a9-6ab3-4b17-f0ae-e1ddcc27c773"
      },
      "execution_count": 25,
      "outputs": [
        {
          "output_type": "stream",
          "name": "stdout",
          "text": [
            "4/4 [==============================] - 0s 3ms/step\n"
          ]
        }
      ]
    },
    {
      "cell_type": "code",
      "source": [
        "def correctValue(pred):\n",
        "  for i in range(pred.shape[0]):\n",
        "    value = pred[i]\n",
        "    if (value[0]>value[1]):\n",
        "      pred[i] = [1,0]\n",
        "    else:\n",
        "      pred[i] = [0,1]\n",
        "  return pred"
      ],
      "metadata": {
        "id": "XaYEbGndQ9uw"
      },
      "execution_count": 26,
      "outputs": []
    },
    {
      "cell_type": "code",
      "source": [
        "y_pred"
      ],
      "metadata": {
        "colab": {
          "base_uri": "https://localhost:8080/"
        },
        "id": "XulcvzY-Zkzk",
        "outputId": "e5d9f344-f4de-49e5-87d6-4402b6736554"
      },
      "execution_count": 27,
      "outputs": [
        {
          "output_type": "execute_result",
          "data": {
            "text/plain": [
              "array([[6.1372966e-01, 3.8627034e-01],\n",
              "       [8.2163644e-01, 1.7836346e-01],\n",
              "       [2.3552722e-01, 7.6447278e-01],\n",
              "       [9.4997483e-01, 5.0025221e-02],\n",
              "       [7.7734327e-01, 2.2265664e-01],\n",
              "       [8.2501215e-01, 1.7498781e-01],\n",
              "       [5.7541144e-01, 4.2458859e-01],\n",
              "       [2.1187860e-01, 7.8812140e-01],\n",
              "       [1.8930897e-02, 9.8106915e-01],\n",
              "       [2.2020599e-01, 7.7979398e-01],\n",
              "       [2.4245702e-02, 9.7575438e-01],\n",
              "       [5.0404549e-01, 4.9595445e-01],\n",
              "       [6.0662335e-01, 3.9337665e-01],\n",
              "       [1.7406169e-01, 8.2593834e-01],\n",
              "       [1.3269734e-01, 8.6730266e-01],\n",
              "       [5.4932189e-01, 4.5067814e-01],\n",
              "       [9.9897575e-01, 1.0242508e-03],\n",
              "       [3.0048570e-04, 9.9969959e-01],\n",
              "       [1.0873350e-01, 8.9126647e-01],\n",
              "       [5.5716234e-01, 4.4283754e-01],\n",
              "       [9.8343126e-02, 9.0165693e-01],\n",
              "       [8.1809956e-01, 1.8190044e-01],\n",
              "       [4.7872347e-01, 5.2127659e-01],\n",
              "       [5.0445789e-01, 4.9554211e-01],\n",
              "       [4.8622245e-01, 5.1377761e-01],\n",
              "       [5.4348236e-01, 4.5651764e-01],\n",
              "       [4.9347052e-01, 5.0652945e-01],\n",
              "       [5.0081581e-01, 4.9918416e-01],\n",
              "       [4.5173183e-01, 5.4826820e-01],\n",
              "       [5.1645374e-01, 4.8354620e-01],\n",
              "       [1.7931193e-01, 8.2068813e-01],\n",
              "       [1.9520326e-02, 9.8047966e-01],\n",
              "       [3.1748801e-01, 6.8251187e-01],\n",
              "       [6.3177854e-01, 3.6822149e-01],\n",
              "       [5.9409314e-01, 4.0590683e-01],\n",
              "       [8.9062989e-01, 1.0937016e-01],\n",
              "       [2.5442037e-01, 7.4557960e-01],\n",
              "       [8.9213872e-01, 1.0786124e-01],\n",
              "       [9.7931713e-01, 2.0682940e-02],\n",
              "       [6.0505408e-01, 3.9494592e-01],\n",
              "       [9.7191274e-01, 2.8087229e-02],\n",
              "       [5.9664261e-01, 4.0335733e-01],\n",
              "       [5.9561360e-01, 4.0438640e-01],\n",
              "       [6.8489105e-01, 3.1510893e-01],\n",
              "       [2.2738983e-01, 7.7261019e-01],\n",
              "       [4.9251914e-01, 5.0748074e-01],\n",
              "       [4.6089649e-01, 5.3910351e-01],\n",
              "       [3.0208161e-01, 6.9791842e-01],\n",
              "       [5.0058478e-01, 4.9941519e-01],\n",
              "       [8.4474570e-01, 1.5525442e-01],\n",
              "       [5.3806561e-01, 4.6193439e-01],\n",
              "       [5.1520592e-01, 4.8479399e-01],\n",
              "       [4.8672956e-01, 5.1327044e-01],\n",
              "       [9.0717727e-01, 9.2822812e-02],\n",
              "       [9.9430168e-01, 5.6983484e-03],\n",
              "       [2.8097203e-01, 7.1902794e-01],\n",
              "       [7.9712409e-01, 2.0287587e-01],\n",
              "       [6.8340689e-01, 3.1659305e-01],\n",
              "       [9.1961890e-02, 9.0803820e-01],\n",
              "       [1.0618031e-02, 9.8938197e-01],\n",
              "       [5.3323263e-01, 4.6676743e-01],\n",
              "       [2.8789020e-01, 7.1210974e-01],\n",
              "       [5.3318733e-01, 4.6681267e-01],\n",
              "       [9.6560788e-01, 3.4392066e-02],\n",
              "       [5.6695735e-06, 9.9999422e-01],\n",
              "       [8.9405727e-01, 1.0594268e-01],\n",
              "       [4.8147658e-01, 5.1852345e-01],\n",
              "       [4.3860576e-01, 5.6139416e-01],\n",
              "       [4.1592875e-01, 5.8407122e-01],\n",
              "       [1.2035787e-02, 9.8796421e-01],\n",
              "       [6.5423530e-01, 3.4576473e-01],\n",
              "       [1.8225998e-02, 9.8177403e-01],\n",
              "       [5.4913270e-01, 4.5086727e-01],\n",
              "       [9.1853783e-02, 9.0814614e-01],\n",
              "       [5.0893807e-01, 4.9106184e-01],\n",
              "       [5.5509722e-01, 4.4490275e-01],\n",
              "       [6.9359797e-01, 3.0640197e-01],\n",
              "       [5.2774721e-01, 4.7225282e-01],\n",
              "       [7.5976074e-01, 2.4023928e-01],\n",
              "       [7.1741271e-01, 2.8258723e-01],\n",
              "       [6.6297811e-01, 3.3702180e-01],\n",
              "       [5.2355480e-01, 4.7644511e-01],\n",
              "       [5.4272759e-01, 4.5727244e-01],\n",
              "       [6.9894153e-01, 3.0105853e-01],\n",
              "       [5.2629077e-01, 4.7370923e-01],\n",
              "       [6.6524988e-01, 3.3475012e-01],\n",
              "       [5.3862673e-01, 4.6137327e-01],\n",
              "       [5.4353839e-01, 4.5646149e-01],\n",
              "       [4.9259371e-01, 5.0740635e-01],\n",
              "       [1.9635488e-03, 9.9803632e-01],\n",
              "       [6.6527295e-01, 3.3472705e-01],\n",
              "       [6.9091332e-01, 3.0908671e-01],\n",
              "       [6.8050450e-01, 3.1949547e-01],\n",
              "       [7.1307760e-01, 2.8692237e-01],\n",
              "       [5.5441046e-01, 4.4558960e-01],\n",
              "       [4.1870138e-01, 5.8129865e-01],\n",
              "       [6.0508823e-01, 3.9491174e-01],\n",
              "       [7.6697463e-01, 2.3302537e-01],\n",
              "       [7.9584658e-01, 2.0415342e-01],\n",
              "       [2.4117225e-01, 7.5882775e-01],\n",
              "       [6.0568363e-03, 9.9394315e-01],\n",
              "       [8.9218247e-01, 1.0781755e-01],\n",
              "       [4.6916515e-01, 5.3083473e-01],\n",
              "       [5.3639996e-01, 4.6360007e-01],\n",
              "       [7.5127178e-01, 2.4872819e-01],\n",
              "       [5.6750077e-01, 4.3249926e-01],\n",
              "       [1.2675850e-01, 8.7324160e-01],\n",
              "       [5.0207902e-02, 9.4979203e-01],\n",
              "       [6.3271242e-01, 3.6728761e-01],\n",
              "       [2.4632075e-01, 7.5367916e-01],\n",
              "       [3.2562718e-01, 6.7437279e-01],\n",
              "       [8.6468256e-01, 1.3531737e-01],\n",
              "       [5.2630270e-01, 4.7369722e-01],\n",
              "       [6.0220573e-02, 9.3977940e-01],\n",
              "       [5.2336884e-01, 4.7663116e-01],\n",
              "       [3.9272568e-01, 6.0727429e-01],\n",
              "       [1.2092111e-01, 8.7907881e-01],\n",
              "       [1.9058479e-01, 8.0941522e-01],\n",
              "       [5.8566213e-01, 4.1433775e-01],\n",
              "       [8.5645878e-01, 1.4354117e-01],\n",
              "       [5.1070833e-01, 4.8929167e-01],\n",
              "       [4.7428209e-01, 5.2571797e-01],\n",
              "       [5.2730477e-01, 4.7269529e-01],\n",
              "       [3.6638606e-01, 6.3361394e-01],\n",
              "       [5.0456214e-01, 4.9543786e-01],\n",
              "       [6.4097571e-01, 3.5902435e-01],\n",
              "       [9.9769849e-01, 2.3014904e-03]], dtype=float32)"
            ]
          },
          "metadata": {},
          "execution_count": 27
        }
      ]
    },
    {
      "cell_type": "code",
      "source": [
        "score = model.evaluate(X_test, y_test, verbose=0)\n",
        "print('Test loss:', score[0])\n",
        "print('Test accuracy:', score[1])"
      ],
      "metadata": {
        "colab": {
          "base_uri": "https://localhost:8080/"
        },
        "id": "enpN9QTkR53C",
        "outputId": "80657bbb-c61e-43ee-b9c7-cecb5b708a5d"
      },
      "execution_count": 28,
      "outputs": [
        {
          "output_type": "stream",
          "name": "stdout",
          "text": [
            "Test loss: 0.5019007921218872\n",
            "Test accuracy: 0.6929134130477905\n"
          ]
        }
      ]
    },
    {
      "cell_type": "code",
      "source": [
        "score\n",
        "print('Test loss:', score[0])\n",
        "print('Test accuracy:', score[1])"
      ],
      "metadata": {
        "colab": {
          "base_uri": "https://localhost:8080/"
        },
        "id": "BJwJF4JuVMVR",
        "outputId": "a4f7f5dd-b9f0-4a1b-c8fd-3d21e7634a8e"
      },
      "execution_count": 29,
      "outputs": [
        {
          "output_type": "stream",
          "name": "stdout",
          "text": [
            "Test loss: 0.5019007921218872\n",
            "Test accuracy: 0.6929134130477905\n"
          ]
        }
      ]
    },
    {
      "cell_type": "code",
      "source": [
        "y_pred"
      ],
      "metadata": {
        "colab": {
          "base_uri": "https://localhost:8080/"
        },
        "id": "WRTsA3c0RCeU",
        "outputId": "c24696a4-b314-46ea-c186-8d1b905200d2"
      },
      "execution_count": 30,
      "outputs": [
        {
          "output_type": "execute_result",
          "data": {
            "text/plain": [
              "array([[6.1372966e-01, 3.8627034e-01],\n",
              "       [8.2163644e-01, 1.7836346e-01],\n",
              "       [2.3552722e-01, 7.6447278e-01],\n",
              "       [9.4997483e-01, 5.0025221e-02],\n",
              "       [7.7734327e-01, 2.2265664e-01],\n",
              "       [8.2501215e-01, 1.7498781e-01],\n",
              "       [5.7541144e-01, 4.2458859e-01],\n",
              "       [2.1187860e-01, 7.8812140e-01],\n",
              "       [1.8930897e-02, 9.8106915e-01],\n",
              "       [2.2020599e-01, 7.7979398e-01],\n",
              "       [2.4245702e-02, 9.7575438e-01],\n",
              "       [5.0404549e-01, 4.9595445e-01],\n",
              "       [6.0662335e-01, 3.9337665e-01],\n",
              "       [1.7406169e-01, 8.2593834e-01],\n",
              "       [1.3269734e-01, 8.6730266e-01],\n",
              "       [5.4932189e-01, 4.5067814e-01],\n",
              "       [9.9897575e-01, 1.0242508e-03],\n",
              "       [3.0048570e-04, 9.9969959e-01],\n",
              "       [1.0873350e-01, 8.9126647e-01],\n",
              "       [5.5716234e-01, 4.4283754e-01],\n",
              "       [9.8343126e-02, 9.0165693e-01],\n",
              "       [8.1809956e-01, 1.8190044e-01],\n",
              "       [4.7872347e-01, 5.2127659e-01],\n",
              "       [5.0445789e-01, 4.9554211e-01],\n",
              "       [4.8622245e-01, 5.1377761e-01],\n",
              "       [5.4348236e-01, 4.5651764e-01],\n",
              "       [4.9347052e-01, 5.0652945e-01],\n",
              "       [5.0081581e-01, 4.9918416e-01],\n",
              "       [4.5173183e-01, 5.4826820e-01],\n",
              "       [5.1645374e-01, 4.8354620e-01],\n",
              "       [1.7931193e-01, 8.2068813e-01],\n",
              "       [1.9520326e-02, 9.8047966e-01],\n",
              "       [3.1748801e-01, 6.8251187e-01],\n",
              "       [6.3177854e-01, 3.6822149e-01],\n",
              "       [5.9409314e-01, 4.0590683e-01],\n",
              "       [8.9062989e-01, 1.0937016e-01],\n",
              "       [2.5442037e-01, 7.4557960e-01],\n",
              "       [8.9213872e-01, 1.0786124e-01],\n",
              "       [9.7931713e-01, 2.0682940e-02],\n",
              "       [6.0505408e-01, 3.9494592e-01],\n",
              "       [9.7191274e-01, 2.8087229e-02],\n",
              "       [5.9664261e-01, 4.0335733e-01],\n",
              "       [5.9561360e-01, 4.0438640e-01],\n",
              "       [6.8489105e-01, 3.1510893e-01],\n",
              "       [2.2738983e-01, 7.7261019e-01],\n",
              "       [4.9251914e-01, 5.0748074e-01],\n",
              "       [4.6089649e-01, 5.3910351e-01],\n",
              "       [3.0208161e-01, 6.9791842e-01],\n",
              "       [5.0058478e-01, 4.9941519e-01],\n",
              "       [8.4474570e-01, 1.5525442e-01],\n",
              "       [5.3806561e-01, 4.6193439e-01],\n",
              "       [5.1520592e-01, 4.8479399e-01],\n",
              "       [4.8672956e-01, 5.1327044e-01],\n",
              "       [9.0717727e-01, 9.2822812e-02],\n",
              "       [9.9430168e-01, 5.6983484e-03],\n",
              "       [2.8097203e-01, 7.1902794e-01],\n",
              "       [7.9712409e-01, 2.0287587e-01],\n",
              "       [6.8340689e-01, 3.1659305e-01],\n",
              "       [9.1961890e-02, 9.0803820e-01],\n",
              "       [1.0618031e-02, 9.8938197e-01],\n",
              "       [5.3323263e-01, 4.6676743e-01],\n",
              "       [2.8789020e-01, 7.1210974e-01],\n",
              "       [5.3318733e-01, 4.6681267e-01],\n",
              "       [9.6560788e-01, 3.4392066e-02],\n",
              "       [5.6695735e-06, 9.9999422e-01],\n",
              "       [8.9405727e-01, 1.0594268e-01],\n",
              "       [4.8147658e-01, 5.1852345e-01],\n",
              "       [4.3860576e-01, 5.6139416e-01],\n",
              "       [4.1592875e-01, 5.8407122e-01],\n",
              "       [1.2035787e-02, 9.8796421e-01],\n",
              "       [6.5423530e-01, 3.4576473e-01],\n",
              "       [1.8225998e-02, 9.8177403e-01],\n",
              "       [5.4913270e-01, 4.5086727e-01],\n",
              "       [9.1853783e-02, 9.0814614e-01],\n",
              "       [5.0893807e-01, 4.9106184e-01],\n",
              "       [5.5509722e-01, 4.4490275e-01],\n",
              "       [6.9359797e-01, 3.0640197e-01],\n",
              "       [5.2774721e-01, 4.7225282e-01],\n",
              "       [7.5976074e-01, 2.4023928e-01],\n",
              "       [7.1741271e-01, 2.8258723e-01],\n",
              "       [6.6297811e-01, 3.3702180e-01],\n",
              "       [5.2355480e-01, 4.7644511e-01],\n",
              "       [5.4272759e-01, 4.5727244e-01],\n",
              "       [6.9894153e-01, 3.0105853e-01],\n",
              "       [5.2629077e-01, 4.7370923e-01],\n",
              "       [6.6524988e-01, 3.3475012e-01],\n",
              "       [5.3862673e-01, 4.6137327e-01],\n",
              "       [5.4353839e-01, 4.5646149e-01],\n",
              "       [4.9259371e-01, 5.0740635e-01],\n",
              "       [1.9635488e-03, 9.9803632e-01],\n",
              "       [6.6527295e-01, 3.3472705e-01],\n",
              "       [6.9091332e-01, 3.0908671e-01],\n",
              "       [6.8050450e-01, 3.1949547e-01],\n",
              "       [7.1307760e-01, 2.8692237e-01],\n",
              "       [5.5441046e-01, 4.4558960e-01],\n",
              "       [4.1870138e-01, 5.8129865e-01],\n",
              "       [6.0508823e-01, 3.9491174e-01],\n",
              "       [7.6697463e-01, 2.3302537e-01],\n",
              "       [7.9584658e-01, 2.0415342e-01],\n",
              "       [2.4117225e-01, 7.5882775e-01],\n",
              "       [6.0568363e-03, 9.9394315e-01],\n",
              "       [8.9218247e-01, 1.0781755e-01],\n",
              "       [4.6916515e-01, 5.3083473e-01],\n",
              "       [5.3639996e-01, 4.6360007e-01],\n",
              "       [7.5127178e-01, 2.4872819e-01],\n",
              "       [5.6750077e-01, 4.3249926e-01],\n",
              "       [1.2675850e-01, 8.7324160e-01],\n",
              "       [5.0207902e-02, 9.4979203e-01],\n",
              "       [6.3271242e-01, 3.6728761e-01],\n",
              "       [2.4632075e-01, 7.5367916e-01],\n",
              "       [3.2562718e-01, 6.7437279e-01],\n",
              "       [8.6468256e-01, 1.3531737e-01],\n",
              "       [5.2630270e-01, 4.7369722e-01],\n",
              "       [6.0220573e-02, 9.3977940e-01],\n",
              "       [5.2336884e-01, 4.7663116e-01],\n",
              "       [3.9272568e-01, 6.0727429e-01],\n",
              "       [1.2092111e-01, 8.7907881e-01],\n",
              "       [1.9058479e-01, 8.0941522e-01],\n",
              "       [5.8566213e-01, 4.1433775e-01],\n",
              "       [8.5645878e-01, 1.4354117e-01],\n",
              "       [5.1070833e-01, 4.8929167e-01],\n",
              "       [4.7428209e-01, 5.2571797e-01],\n",
              "       [5.2730477e-01, 4.7269529e-01],\n",
              "       [3.6638606e-01, 6.3361394e-01],\n",
              "       [5.0456214e-01, 4.9543786e-01],\n",
              "       [6.4097571e-01, 3.5902435e-01],\n",
              "       [9.9769849e-01, 2.3014904e-03]], dtype=float32)"
            ]
          },
          "metadata": {},
          "execution_count": 30
        }
      ]
    },
    {
      "cell_type": "code",
      "source": [
        "y_pred = correctValue(y_pred)"
      ],
      "metadata": {
        "id": "yeqP-c0SbUWx"
      },
      "execution_count": 31,
      "outputs": []
    },
    {
      "cell_type": "code",
      "source": [
        "y_test_first = np.array([tmp[0] for tmp in y_test])"
      ],
      "metadata": {
        "id": "kj_fT3YdRLs1"
      },
      "execution_count": 32,
      "outputs": []
    },
    {
      "cell_type": "code",
      "source": [
        "y_pred_first = np.array([tmp[0] for tmp in y_pred])"
      ],
      "metadata": {
        "id": "1S8Ezki-5Deh"
      },
      "execution_count": 33,
      "outputs": []
    },
    {
      "cell_type": "code",
      "source": [
        "def firstValue(pred):\n",
        "  return np.array([tmp[0] for tmp in pred])"
      ],
      "metadata": {
        "id": "pBcaBzqCam18"
      },
      "execution_count": 34,
      "outputs": []
    },
    {
      "cell_type": "code",
      "source": [
        "conf_matrix = confusion_matrix(y_test_first, y_pred_first, labels=None, sample_weight=None)\n",
        "sns.heatmap(conf_matrix, annot=True, fmt=\"d\", cmap=\"Blues\", annot_kws={\"size\": 16})\n",
        "plt.xlabel('Predicted labels')\n",
        "plt.ylabel('True labels')\n",
        "plt.title('Confusion Matrix')\n",
        "plt.show()"
      ],
      "metadata": {
        "id": "2eqPVOQhb16A",
        "outputId": "3f898b1c-b8f9-4709-b83c-9e706b5db968",
        "colab": {
          "base_uri": "https://localhost:8080/",
          "height": 472
        }
      },
      "execution_count": 35,
      "outputs": [
        {
          "output_type": "display_data",
          "data": {
            "text/plain": [
              "<Figure size 640x480 with 2 Axes>"
            ],
            "image/png": "[encoded data removed]"
          },
          "metadata": {}
        }
      ]
    },
    {
      "cell_type": "code",
      "source": [
        "'''\n",
        "# Define the neural network model\n",
        "def create_model(optimizer='adam', loss='binary_crossentropy', firstLayer=11, secondLayer=11, learning_rate=0.1):\n",
        "    if optimizer == 'adam':\n",
        "        opt = Adam(learning_rate=learning_rate)\n",
        "    elif optimizer == 'rmsprop':\n",
        "        opt = RMSprop(learning_rate=learning_rate)\n",
        "    else:\n",
        "        raise ValueError(\"Invalid optimizer\")\n",
        "\n",
        "    model = Sequential()\n",
        "    model.add(Dense(firstLayer, input_dim=11, activation='relu'))\n",
        "    model.add(Dense(secondLayer, activation='relu'))\n",
        "    model.add(Dense(2, activation='softmax'))\n",
        "    model.compile(loss=loss, optimizer=opt, metrics=['accuracy'])\n",
        "    return model\n",
        "\n",
        "\n",
        "# Define the hyperparameter grid\n",
        "param_grid = {#'batch_size': [10, 20, 40, 50],\n",
        "              'batch_size': [10, 20, 30],\n",
        "              #'epochs': [ 20, 40, 50],\n",
        "              'epochs': [10, 20, 30],\n",
        "              'optimizer': ['adam', 'rmsprop'],\n",
        "              #'loss': ['binary_crossentropy','categorical_crossentropy', 'hinge'],\n",
        "              'loss': ['categorical_crossentropy'],\n",
        "              'firstLayer': [11, 22, 50, 100],\n",
        "              'secondLayer': [11, 22, 50, 100],\n",
        "              'learning_rate': [0.001, 0.01, 0.1]}\n",
        "\n",
        "\n",
        "# Initialize the best accuracy and the best hyperparameters\n",
        "best_accuracy = 0\n",
        "best_params = {}\n",
        "\n",
        "# Loop over the hyperparameter grid\n",
        "for params in product(*param_grid.values()):\n",
        "    # Create the neural network model with the current hyperparameters\n",
        "    model = create_model(params[2], params[3], params[4], params[5], params[6])\n",
        "\n",
        "    # Train the model\n",
        "    model.fit(X_train, y_train, batch_size=params[0], epochs=params[1], verbose=0)\n",
        "\n",
        "    # Evaluate the model on the testing set\n",
        "    y_pred = model.predict(X_test)\n",
        "    y_pred = correctValue(y_pred)\n",
        "    accuracy = accuracy_score(y_test, y_pred)\n",
        "\n",
        "    print(\"Hyperparameters: \", best_params)\n",
        "    print(\"Accuracy: \", best_accuracy)\n",
        "    print(\"------------------------------------------------\")\n",
        "\n",
        "    # Update the best accuracy and the best hyperparameters\n",
        "    if accuracy > best_accuracy:\n",
        "        best_accuracy = accuracy\n",
        "        best_params = params\n",
        "\n",
        "# Print the best hyperparameters\n",
        "print(\"Best hyperparameters: \", best_params)\n",
        "print(\"Best accuracy: \", best_accuracy)\n",
        "'''"
      ],
      "metadata": {
        "colab": {
          "base_uri": "https://localhost:8080/",
          "height": 86
        },
        "id": "8gUM3OnLWDMv",
        "outputId": "bc275f7f-58a9-43d0-f375-d14f731c7f17"
      },
      "execution_count": 36,
      "outputs": [
        {
          "output_type": "execute_result",
          "data": {
            "text/plain": [
              "'\\n# Define the neural network model\\ndef create_model(optimizer=\\'adam\\', loss=\\'binary_crossentropy\\', firstLayer=11, secondLayer=11, learning_rate=0.1):\\n    if optimizer == \\'adam\\':\\n        opt = Adam(learning_rate=learning_rate)\\n    elif optimizer == \\'rmsprop\\':\\n        opt = RMSprop(learning_rate=learning_rate)\\n    else:\\n        raise ValueError(\"Invalid optimizer\")\\n\\n    model = Sequential()\\n    model.add(Dense(firstLayer, input_dim=11, activation=\\'relu\\'))\\n    model.add(Dense(secondLayer, activation=\\'relu\\'))\\n    model.add(Dense(2, activation=\\'softmax\\'))\\n    model.compile(loss=loss, optimizer=opt, metrics=[\\'accuracy\\'])\\n    return model\\n\\n\\n# Define the hyperparameter grid\\nparam_grid = {#\\'batch_size\\': [10, 20, 40, 50],\\n              \\'batch_size\\': [10, 20, 30],\\n              #\\'epochs\\': [ 20, 40, 50],\\n              \\'epochs\\': [10, 20, 30],\\n              \\'optimizer\\': [\\'adam\\', \\'rmsprop\\'],\\n              #\\'loss\\': [\\'binary_crossentropy\\',\\'categorical_crossentropy\\', \\'hinge\\'],\\n              \\'loss\\': [\\'categorical_crossentropy\\'],\\n              \\'firstLayer\\': [11, 22, 50, 100],\\n              \\'secondLayer\\': [11, 22, 50, 100],\\n              \\'learning_rate\\': [0.001, 0.01, 0.1]}\\n\\n\\n# Initialize the best accuracy and the best hyperparameters\\nbest_accuracy = 0\\nbest_params = {}\\n\\n# Loop over the hyperparameter grid\\nfor params in product(*param_grid.values()):\\n    # Create the neural network model with the current hyperparameters\\n    model = create_model(params[2], params[3], params[4], params[5], params[6])\\n\\n    # Train the model\\n    model.fit(X_train, y_train, batch_size=params[0], epochs=params[1], verbose=0)\\n\\n    # Evaluate the model on the testing set\\n    y_pred = model.predict(X_test)\\n    y_pred = correctValue(y_pred)\\n    accuracy = accuracy_score(y_test, y_pred)\\n\\n    print(\"Hyperparameters: \", best_params)\\n    print(\"Accuracy: \", best_accuracy)\\n    print(\"------------------------------------------------\")\\n\\n    # Update the best accuracy and the best hyperparameters\\n    if accuracy > best_accuracy:\\n        best_accuracy = accuracy\\n        best_params = params\\n\\n# Print the best hyperparameters\\nprint(\"Best hyperparameters: \", best_params)\\nprint(\"Best accuracy: \", best_accuracy)\\n'"
            ],
            "application/vnd.google.colaboratory.intrinsic+json": {
              "type": "string"
            }
          },
          "metadata": {},
          "execution_count": 36
        }
      ]
    },
    {
      "cell_type": "code",
      "source": [
        "# Define the neural network model\n",
        "def create_model(optimizer='adam', loss='binary_crossentropy', firstLayer=11, secondLayer=11, thirdLayer=11, learning_rate=0.1):\n",
        "    if optimizer == 'adam':\n",
        "        opt = Adam(learning_rate=learning_rate)\n",
        "    elif optimizer == 'rmsprop':\n",
        "        opt = RMSprop(learning_rate=learning_rate)\n",
        "    else:\n",
        "        raise ValueError(\"Invalid optimizer\")\n",
        "\n",
        "    model = Sequential()\n",
        "    model.add(Dense(firstLayer, input_dim=X_train.shape[1], activation='relu'))\n",
        "    model.add(Dense(secondLayer, activation='relu'))\n",
        "    model.add(Dense(thirdLayer, activation='relu'))\n",
        "    model.add(Dense(2, activation='softmax'))\n",
        "    model.compile(loss=loss, optimizer=opt, metrics=['accuracy'])\n",
        "    return model\n",
        "\n",
        "\n",
        "# Define the hyperparameter grid\n",
        "param_grid = {\n",
        "              #'batch_size': [10, 20, 30, 40],\n",
        "              #'epochs': [10, 20, 30, 40],\n",
        "              'batch_size': [20],\n",
        "              'epochs': [10],\n",
        "              'optimizer': ['adam'],\n",
        "              'loss': [ \"binary_crossentropy\"],\n",
        "              'firstLayer': [16, 22, 32, 50, 100],\n",
        "              'secondLayer': [16, 22, 32, 50, 100],\n",
        "              \"thirdLayer\": [16, 22, 32, 50, 100],\n",
        "              'learning_rate': [0.1]}\n",
        "\n",
        "\n",
        "# Initialize the best accuracy and the best hyperparameters\n",
        "best_accuracy = 0\n",
        "best_params = {}\n",
        "\n",
        "# Loop over the hyperparameter grid\n",
        "for params in product(*param_grid.values()):\n",
        "  # Create the neural network model with the current hyperparameters\n",
        "  model = create_model(params[2], params[3], params[4], params[5], params[6])\n",
        "\n",
        "  # Train the model\n",
        "  model.fit(X_train, y_train, batch_size=params[0], epochs=params[1], verbose=0)\n",
        "\n",
        "  # Evaluate the model on the testing set\n",
        "  y_pred = model.predict(X_test)\n",
        "  y_pred = correctValue(y_pred)\n",
        "  accuracy = accuracy_score(y_test, y_pred)\n",
        "\n",
        "  print(\"Hyperparameters: \", params)\n",
        "  print(\"Accuracy: \", accuracy)\n",
        "  print(\"------------------------------------------------\")\n",
        "\n",
        "  # Update the best accuracy and the best hyperparameters\n",
        "  if accuracy > best_accuracy:\n",
        "      best_accuracy = accuracy\n",
        "      best_params = params\n",
        "\n",
        "# Print the best hyperparameters\n",
        "print(\"Best hyperparameters: \", best_params)\n",
        "print(\"Best accuracy: \", best_accuracy)"
      ],
      "metadata": {
        "id": "-5V5zWOUJc6u",
        "outputId": "99bb8692-2b03-47b8-f36d-0df454e5e25d",
        "colab": {
          "base_uri": "https://localhost:8080/"
        }
      },
      "execution_count": null,
      "outputs": [
        {
          "output_type": "stream",
          "name": "stdout",
          "text": [
            "4/4 [==============================] - 0s 3ms/step\n",
            "Hyperparameters:  (20, 10, 'adam', 'binary_crossentropy', 16, 16, 16, 0.1)\n",
            "Accuracy:  0.6692913385826772\n",
            "------------------------------------------------\n",
            "4/4 [==============================] - 0s 3ms/step\n",
            "Hyperparameters:  (20, 10, 'adam', 'binary_crossentropy', 16, 16, 22, 0.1)\n",
            "Accuracy:  0.6535433070866141\n",
            "------------------------------------------------\n",
            "4/4 [==============================] - 0s 3ms/step\n",
            "Hyperparameters:  (20, 10, 'adam', 'binary_crossentropy', 16, 16, 32, 0.1)\n",
            "Accuracy:  0.6614173228346457\n",
            "------------------------------------------------\n",
            "4/4 [==============================] - 0s 3ms/step\n",
            "Hyperparameters:  (20, 10, 'adam', 'binary_crossentropy', 16, 16, 50, 0.1)\n",
            "Accuracy:  0.7322834645669292\n",
            "------------------------------------------------\n",
            "4/4 [==============================] - 0s 4ms/step\n",
            "Hyperparameters:  (20, 10, 'adam', 'binary_crossentropy', 16, 16, 100, 0.1)\n",
            "Accuracy:  0.6456692913385826\n",
            "------------------------------------------------\n",
            "4/4 [==============================] - 0s 3ms/step\n",
            "Hyperparameters:  (20, 10, 'adam', 'binary_crossentropy', 16, 22, 16, 0.1)\n",
            "Accuracy:  0.6614173228346457\n",
            "------------------------------------------------\n",
            "4/4 [==============================] - 0s 3ms/step\n",
            "Hyperparameters:  (20, 10, 'adam', 'binary_crossentropy', 16, 22, 22, 0.1)\n",
            "Accuracy:  0.6377952755905512\n",
            "------------------------------------------------\n",
            "4/4 [==============================] - 0s 3ms/step\n",
            "Hyperparameters:  (20, 10, 'adam', 'binary_crossentropy', 16, 22, 32, 0.1)\n",
            "Accuracy:  0.6692913385826772\n",
            "------------------------------------------------\n",
            "4/4 [==============================] - 0s 3ms/step\n",
            "Hyperparameters:  (20, 10, 'adam', 'binary_crossentropy', 16, 22, 50, 0.1)\n",
            "Accuracy:  0.6535433070866141\n",
            "------------------------------------------------\n",
            "4/4 [==============================] - 0s 3ms/step\n",
            "Hyperparameters:  (20, 10, 'adam', 'binary_crossentropy', 16, 22, 100, 0.1)\n",
            "Accuracy:  0.7086614173228346\n",
            "------------------------------------------------\n",
            "4/4 [==============================] - 0s 4ms/step\n",
            "Hyperparameters:  (20, 10, 'adam', 'binary_crossentropy', 16, 32, 16, 0.1)\n",
            "Accuracy:  0.6771653543307087\n",
            "------------------------------------------------\n",
            "1/4 [======>.......................] - ETA: 0s"
          ]
        }
      ]
    },
    {
      "cell_type": "code",
      "source": [
        "y_test_first = firstValue(y_test)\n",
        "y_pred_first = firstValue(y_pred)"
      ],
      "metadata": {
        "id": "ft75Rxh9KfRp"
      },
      "execution_count": null,
      "outputs": []
    },
    {
      "cell_type": "code",
      "source": [
        "\n",
        "model = Sequential()\n",
        "model.add(Dense(22, input_dim=11, activation='relu'))\n",
        "model.add(Dense(22, activation='relu'))\n",
        "model.add(Dense(2, activation='softmax'))\n",
        "model.compile(loss='binary_crossentropy', optimizer=Adam(learning_rate=0.01), metrics='accuracy')\n"
      ],
      "metadata": {
        "id": "KSI_gHXTJkgy"
      },
      "execution_count": null,
      "outputs": []
    },
    {
      "cell_type": "code",
      "source": [
        "model = Sequential()\n",
        "model.add(Dense(16, input_dim=11, activation='relu'))\n",
        "model.add(Dense(32, activation='relu'))\n",
        "model.add(Dense(2, activation='softmax'))\n",
        "model.compile(loss='binary_crossentropy', optimizer=Adam(learning_rate=0.01), metrics='accuracy')"
      ],
      "metadata": {
        "id": "V73FpI7aVznn"
      },
      "execution_count": null,
      "outputs": []
    },
    {
      "cell_type": "code",
      "source": [
        "model.fit(X_train, y_train, batch_size=30, epochs=30, verbose=1)"
      ],
      "metadata": {
        "id": "CRUlTCa7KJf6"
      },
      "execution_count": null,
      "outputs": []
    },
    {
      "cell_type": "code",
      "source": [
        "y_pred = model.predict(X_test)\n",
        "y_pred = correctValue(y_pred)"
      ],
      "metadata": {
        "id": "E_4nrSEtKw2c"
      },
      "execution_count": null,
      "outputs": []
    },
    {
      "cell_type": "code",
      "source": [
        "y_pred_first = firstValue(y_pred)"
      ],
      "metadata": {
        "id": "uFnAPwO_Lg6e"
      },
      "execution_count": null,
      "outputs": []
    },
    {
      "cell_type": "code",
      "source": [
        " accuracy = accuracy_score(y_test, y_pred)\n",
        " print(\"Accuracy: \", accuracy)"
      ],
      "metadata": {
        "id": "e7GyIblw3PGI"
      },
      "execution_count": null,
      "outputs": []
    },
    {
      "cell_type": "code",
      "source": [
        "conf_matrix = confusion_matrix(y_test_first, y_pred_first, labels=None, sample_weight=None)\n",
        "sns.heatmap(conf_matrix, annot=True, fmt=\"d\", cmap=\"Blues\", annot_kws={\"size\": 16})\n",
        "plt.xlabel('Predicted labels')\n",
        "plt.ylabel('True labels')\n",
        "plt.title('Confusion Matrix')\n",
        "plt.show()"
      ],
      "metadata": {
        "id": "QwgknOQiimQv"
      },
      "execution_count": null,
      "outputs": []
    },
    {
      "cell_type": "code",
      "source": [
        "conf_matrix = confusion_matrix(y_test_first, y_pred_first, labels=None, sample_weight=None)\n",
        "sns.heatmap(conf_matrix, annot=True, fmt=\"d\", cmap=\"Blues\", annot_kws={\"size\": 16})\n",
        "plt.xlabel('Predicted labels')\n",
        "plt.ylabel('True labels')\n",
        "plt.title('Confusion Matrix')\n",
        "plt.show()"
      ],
      "metadata": {
        "id": "VGujrf46ISxj"
      },
      "execution_count": null,
      "outputs": []
    },
    {
      "cell_type": "code",
      "source": [
        "model = Sequential()\n",
        "model.add(Dense(16, input_dim=11, activation='relu'))\n",
        "model.add(Dense(32, activation='relu'))\n",
        "model.add(Dense(2, activation='sigmoid'))\n",
        "model.compile(loss='binary_crossentropy', optimizer='adam', metrics=['accuracy'])"
      ],
      "metadata": {
        "id": "N4qf0AENmS_Y"
      },
      "execution_count": null,
      "outputs": []
    },
    {
      "cell_type": "code",
      "source": [
        "model.fit(X_train, y_train, batch_size=30, epochs=30, verbose=1)"
      ],
      "metadata": {
        "id": "kGOEa_cqm3MI"
      },
      "execution_count": null,
      "outputs": []
    },
    {
      "cell_type": "code",
      "source": [
        "y_pred = model.predict(X_test)\n",
        "y_pred = correctValue(y_pred)\n",
        "y_pred_first = firstValue(y_pred)"
      ],
      "metadata": {
        "id": "PyZkdR80nAng"
      },
      "execution_count": null,
      "outputs": []
    },
    {
      "cell_type": "code",
      "source": [
        "conf_matrix = confusion_matrix(y_test_first, y_pred_first, labels=None, sample_weight=None)\n",
        "sns.heatmap(conf_matrix, annot=True, fmt=\"d\", cmap=\"Blues\", annot_kws={\"size\": 16})\n",
        "plt.xlabel('Predicted labels')\n",
        "plt.ylabel('True labels')\n",
        "plt.title('Confusion Matrix')\n",
        "plt.show()"
      ],
      "metadata": {
        "id": "722zATXinFTu"
      },
      "execution_count": null,
      "outputs": []
    },
    {
      "cell_type": "markdown",
      "source": [
        "tuning parametri"
      ],
      "metadata": {
        "id": "lbU6uZmGnW7t"
      }
    },
    {
      "cell_type": "code",
      "source": [
        "def create_model(optimizer='adam', init='glorot_uniform'):\n",
        "    model = Sequential()\n",
        "    model.add(Dense(10, input_dim=11, activation='relu'))\n",
        "    model.add(Dense(1, activation='sigmoid'))\n",
        "    model.compile(loss='binary_crossentropy', optimizer=optimizer, metrics=['accuracy'])\n",
        "    return model"
      ],
      "metadata": {
        "id": "yoYj8ZpXnWa0"
      },
      "execution_count": null,
      "outputs": []
    },
    {
      "cell_type": "code",
      "source": [
        "optimizers = ['adam', 'rmsprop']\n",
        "init_methods = ['glorot_uniform', 'he_normal', 'lecun_uniform']\n",
        "param_grid = dict(optimizer=optimizers, init=init_methods)"
      ],
      "metadata": {
        "id": "flGTjxTYnGlr"
      },
      "execution_count": null,
      "outputs": []
    },
    {
      "cell_type": "code",
      "source": [
        "model = KerasClassifier(build_fn=create_model, verbose=0)\n",
        "grid = GridSearchCV(estimator=model, param_grid=param_grid, n_jobs=-1)\n",
        "#X_train, X_test, y_train, y_test = train_test_split(X, Y, test_size=0.2, random_state=42)\n",
        "grid_result = grid.fit(X_train, y_train)"
      ],
      "metadata": {
        "id": "Ip-h6-eMndWk"
      },
      "execution_count": null,
      "outputs": []
    },
    {
      "cell_type": "code",
      "source": [
        "print(\"Best: %f using %s\" % (grid_result.best_score_, grid_result.best_params_))\n",
        "means = grid_result.cv_results_['mean_test_score']\n",
        "stds = grid_result.cv_results_['std_test_score']\n",
        "params = grid_result.param_grid\n",
        "for mean, std, param in zip(means, stds, params):\n",
        "    print(\"%f (%f) with: %r\" % (mean, std, param))"
      ],
      "metadata": {
        "id": "Te1fJwe4nmGj"
      },
      "execution_count": null,
      "outputs": []
    },
    {
      "cell_type": "markdown",
      "source": [
        "Grid search"
      ],
      "metadata": {
        "id": "pjvXOc0qq_RW"
      }
    },
    {
      "cell_type": "code",
      "source": [
        "# Funzione per creare il modello\n",
        "def create_model(optimizer='adam', activation='relu', neurons=10):\n",
        "    model = Sequential()\n",
        "    model.add(Dense(neurons, input_dim=X_train.shape[1], activation=activation))\n",
        "    model.add(Dense(neurons, activation=activation))\n",
        "    model.add(Dense(2, activation='Softmax'))  # Per problemi di classificazione binaria\n",
        "    model.compile(loss='binary_crossentropy', optimizer=optimizer, metrics=['accuracy'])\n",
        "    return model\n",
        "\n",
        "# Creare il modello KerasClassifier\n",
        "model = KerasClassifier(build_fn=create_model, verbose=0)\n",
        "\n",
        "# Definire il parametro della griglia\n",
        "param_grid = {\n",
        "    'batch_size': [10, 20, 30],\n",
        "    'epochs': [10, 20, 30],\n",
        "    'optimizer': ['adam', 'rmsprop'],\n",
        "    'activation': ['relu', 'tanh', 'sigmoid'],\n",
        "    'neurons': [11, 50, 100]\n",
        "}\n",
        "\n",
        "# Definire la grid search\n",
        "grid_search = GridSearchCV(estimator=model, param_grid=param_grid, cv=3, scoring='accuracy')\n",
        "\n",
        "# Addestrare la grid search sui dati di addestramento\n",
        "grid_result = grid_search.fit(X_train, y_train)\n",
        "\n",
        "# Stampare i risultati\n",
        "print(\"Migliori parametri:\", grid_result.best_params_)\n",
        "print(\"Accuratezza migliore combinazione:\", grid_result.best_score_)"
      ],
      "metadata": {
        "id": "FupRx4bCq81G"
      },
      "execution_count": null,
      "outputs": []
    }
  ]
}