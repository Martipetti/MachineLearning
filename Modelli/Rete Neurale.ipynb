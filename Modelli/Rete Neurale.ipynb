{
  "nbformat": 4,
  "nbformat_minor": 0,
  "metadata": {
    "colab": {
      "provenance": [],
      "authorship_tag": "ABX9TyO72wDby43CIgO8DTgYNUmy",
      "include_colab_link": true
    },
    "kernelspec": {
      "name": "python3",
      "display_name": "Python 3"
    },
    "language_info": {
      "name": "python"
    }
  },
  "cells": [
    {
      "cell_type": "markdown",
      "metadata": {
        "id": "view-in-github",
        "colab_type": "text"
      },
      "source": [
        "<a href=\"https://colab.research.google.com/github/Martipetti/MachineLearning/blob/develop-martipetti/NN.ipynb\" target=\"_parent\"><img src=\"https://colab.research.google.com/assets/colab-badge.svg\" alt=\"Open In Colab\"/></a>"
      ]
    },
    {
      "cell_type": "markdown",
      "source": [
        "# Neural Network"
      ],
      "metadata": {
        "id": "kJmRNKAHmLTR"
      }
    },
    {
      "cell_type": "code",
      "execution_count": 118,
      "metadata": {
        "id": "VNlvHA9smANn"
      },
      "outputs": [],
      "source": [
        "import pandas as pd\n",
        "import keras\n",
        "from keras.models import Sequential\n",
        "from keras.layers import Dense\n",
        "from sklearn.utils import shuffle\n",
        "from sklearn.preprocessing import LabelEncoder\n",
        "from sklearn.decomposition import PCA\n",
        "from sklearn.preprocessing import StandardScaler\n",
        "from sklearn.metrics import confusion_matrix"
      ]
    },
    {
      "cell_type": "markdown",
      "source": [
        "Download the data"
      ],
      "metadata": {
        "id": "kpByNVQfOXk8"
      }
    },
    {
      "cell_type": "code",
      "source": [
        "link = 'http://tennis-data.co.uk/2023/2023.xlsx'\n",
        "totalData = pd.read_excel(link)"
      ],
      "metadata": {
        "id": "ZRYI62wSmJTT"
      },
      "execution_count": 85,
      "outputs": []
    },
    {
      "cell_type": "markdown",
      "source": [
        "Removing null value"
      ],
      "metadata": {
        "id": "NuP0SXIeLaqZ"
      }
    },
    {
      "cell_type": "code",
      "source": [
        "for column in totalData:\n",
        "  totalData.dropna(subset=[column], inplace=True)"
      ],
      "metadata": {
        "id": "wvARdicGLZ6b"
      },
      "execution_count": 86,
      "outputs": []
    },
    {
      "cell_type": "markdown",
      "source": [
        "Cleaning DataSet"
      ],
      "metadata": {
        "id": "TdCageKCmlqc"
      }
    },
    {
      "cell_type": "code",
      "source": [
        "totalData = totalData[totalData['Series'] == 'Grand Slam']"
      ],
      "metadata": {
        "id": "umm3aRJrwCBC"
      },
      "execution_count": 87,
      "outputs": []
    },
    {
      "cell_type": "code",
      "source": [
        "trainingSet = totalData[[\"Tournament\", \"Surface\", \"Round\", \"Winner\", \"Loser\", \"WRank\", \"LRank\", \"Wsets\", \"Lsets\", \"B365W\", \"B365L\", \"PSW\", \"PSL\"]]"
      ],
      "metadata": {
        "id": "9j4rM7vBwQtg"
      },
      "execution_count": 88,
      "outputs": []
    },
    {
      "cell_type": "code",
      "source": [
        "trainingSet.reset_index(drop=True, inplace=True)\n",
        "trainingSet.index = range(1, len(trainingSet) + 1)"
      ],
      "metadata": {
        "id": "sKWT9uSd0lKI"
      },
      "execution_count": 89,
      "outputs": []
    },
    {
      "cell_type": "code",
      "source": [
        "nuovi_nomi_colonne = [\"Tournament\",\"Surface\", \"Round\", \"Player1\", \"Player2\", \"Rank1\", \"Rank2\", \"Sets1\", \"Sets2\", \"B1\", \"B2\", \"PS1\", \"PS2\"]\n",
        "trainingSet.columns = nuovi_nomi_colonne"
      ],
      "metadata": {
        "id": "e3fqfA201hR-"
      },
      "execution_count": 90,
      "outputs": []
    },
    {
      "cell_type": "code",
      "source": [
        "trainingSet[\"target\"] = 0"
      ],
      "metadata": {
        "id": "BwgFng9O2XoQ",
        "outputId": "593c601a-553d-483f-a400-48fb7a4c0cfe",
        "colab": {
          "base_uri": "https://localhost:8080/"
        }
      },
      "execution_count": 91,
      "outputs": [
        {
          "output_type": "stream",
          "name": "stderr",
          "text": [
            "<ipython-input-91-60ba1f42b5c8>:1: SettingWithCopyWarning: \n",
            "A value is trying to be set on a copy of a slice from a DataFrame.\n",
            "Try using .loc[row_indexer,col_indexer] = value instead\n",
            "\n",
            "See the caveats in the documentation: https://pandas.pydata.org/pandas-docs/stable/user_guide/indexing.html#returning-a-view-versus-a-copy\n",
            "  trainingSet[\"target\"] = 0\n"
          ]
        }
      ]
    },
    {
      "cell_type": "markdown",
      "source": [
        "Mapping string to integer"
      ],
      "metadata": {
        "id": "UFY29Wi6PZg3"
      }
    },
    {
      "cell_type": "code",
      "source": [
        "trainingSet[\"Tournament\"] = trainingSet[\"Tournament\"].astype(\"category\")\n",
        "trainingSet[\"Surface\"] = trainingSet[\"Surface\"].astype(\"category\")\n",
        "trainingSet[\"Round\"] = trainingSet[\"Round\"].astype(\"category\")\n",
        "trainingSet[\"Player1\"] = trainingSet[\"Player1\"].astype(\"category\")\n",
        "trainingSet[\"Player2\"] = trainingSet[\"Player2\"].astype(\"category\")"
      ],
      "metadata": {
        "id": "K_1SYnkX2rX1",
        "outputId": "73ad8f32-664c-4c92-a51b-1d54df1ffb61",
        "colab": {
          "base_uri": "https://localhost:8080/"
        }
      },
      "execution_count": 92,
      "outputs": [
        {
          "output_type": "stream",
          "name": "stderr",
          "text": [
            "<ipython-input-92-1d9e29e86b61>:1: SettingWithCopyWarning: \n",
            "A value is trying to be set on a copy of a slice from a DataFrame.\n",
            "Try using .loc[row_indexer,col_indexer] = value instead\n",
            "\n",
            "See the caveats in the documentation: https://pandas.pydata.org/pandas-docs/stable/user_guide/indexing.html#returning-a-view-versus-a-copy\n",
            "  trainingSet[\"Tournament\"] = trainingSet[\"Tournament\"].astype(\"category\")\n",
            "<ipython-input-92-1d9e29e86b61>:2: SettingWithCopyWarning: \n",
            "A value is trying to be set on a copy of a slice from a DataFrame.\n",
            "Try using .loc[row_indexer,col_indexer] = value instead\n",
            "\n",
            "See the caveats in the documentation: https://pandas.pydata.org/pandas-docs/stable/user_guide/indexing.html#returning-a-view-versus-a-copy\n",
            "  trainingSet[\"Surface\"] = trainingSet[\"Surface\"].astype(\"category\")\n",
            "<ipython-input-92-1d9e29e86b61>:3: SettingWithCopyWarning: \n",
            "A value is trying to be set on a copy of a slice from a DataFrame.\n",
            "Try using .loc[row_indexer,col_indexer] = value instead\n",
            "\n",
            "See the caveats in the documentation: https://pandas.pydata.org/pandas-docs/stable/user_guide/indexing.html#returning-a-view-versus-a-copy\n",
            "  trainingSet[\"Round\"] = trainingSet[\"Round\"].astype(\"category\")\n",
            "<ipython-input-92-1d9e29e86b61>:4: SettingWithCopyWarning: \n",
            "A value is trying to be set on a copy of a slice from a DataFrame.\n",
            "Try using .loc[row_indexer,col_indexer] = value instead\n",
            "\n",
            "See the caveats in the documentation: https://pandas.pydata.org/pandas-docs/stable/user_guide/indexing.html#returning-a-view-versus-a-copy\n",
            "  trainingSet[\"Player1\"] = trainingSet[\"Player1\"].astype(\"category\")\n",
            "<ipython-input-92-1d9e29e86b61>:5: SettingWithCopyWarning: \n",
            "A value is trying to be set on a copy of a slice from a DataFrame.\n",
            "Try using .loc[row_indexer,col_indexer] = value instead\n",
            "\n",
            "See the caveats in the documentation: https://pandas.pydata.org/pandas-docs/stable/user_guide/indexing.html#returning-a-view-versus-a-copy\n",
            "  trainingSet[\"Player2\"] = trainingSet[\"Player2\"].astype(\"category\")\n"
          ]
        }
      ]
    },
    {
      "cell_type": "code",
      "source": [
        "trainingSet.dtypes"
      ],
      "metadata": {
        "colab": {
          "base_uri": "https://localhost:8080/"
        },
        "id": "Amtt9jIN3wTy",
        "outputId": "f4460c34-8360-4ab2-8db9-bbbd6187643e"
      },
      "execution_count": 93,
      "outputs": [
        {
          "output_type": "execute_result",
          "data": {
            "text/plain": [
              "Tournament    category\n",
              "Surface       category\n",
              "Round         category\n",
              "Player1       category\n",
              "Player2       category\n",
              "Rank1          float64\n",
              "Rank2          float64\n",
              "Sets1          float64\n",
              "Sets2          float64\n",
              "B1             float64\n",
              "B2             float64\n",
              "PS1            float64\n",
              "PS2            float64\n",
              "target           int64\n",
              "dtype: object"
            ]
          },
          "metadata": {},
          "execution_count": 93
        }
      ]
    },
    {
      "cell_type": "code",
      "source": [
        "label_encoder = LabelEncoder()\n",
        "trainingSet[\"Tournament\"] = label_encoder.fit_transform(trainingSet[\"Tournament\"])\n",
        "trainingSet[\"Surface\"] = label_encoder.fit_transform(trainingSet[\"Surface\"])\n",
        "trainingSet[\"Round\"] = label_encoder.fit_transform(trainingSet[\"Round\"])"
      ],
      "metadata": {
        "id": "gSksSsvl4kQY",
        "outputId": "af54970f-04d0-4517-dbbc-fa627be09b8b",
        "colab": {
          "base_uri": "https://localhost:8080/"
        }
      },
      "execution_count": 94,
      "outputs": [
        {
          "output_type": "stream",
          "name": "stderr",
          "text": [
            "<ipython-input-94-be19e985f5d6>:2: SettingWithCopyWarning: \n",
            "A value is trying to be set on a copy of a slice from a DataFrame.\n",
            "Try using .loc[row_indexer,col_indexer] = value instead\n",
            "\n",
            "See the caveats in the documentation: https://pandas.pydata.org/pandas-docs/stable/user_guide/indexing.html#returning-a-view-versus-a-copy\n",
            "  trainingSet[\"Tournament\"] = label_encoder.fit_transform(trainingSet[\"Tournament\"])\n",
            "<ipython-input-94-be19e985f5d6>:3: SettingWithCopyWarning: \n",
            "A value is trying to be set on a copy of a slice from a DataFrame.\n",
            "Try using .loc[row_indexer,col_indexer] = value instead\n",
            "\n",
            "See the caveats in the documentation: https://pandas.pydata.org/pandas-docs/stable/user_guide/indexing.html#returning-a-view-versus-a-copy\n",
            "  trainingSet[\"Surface\"] = label_encoder.fit_transform(trainingSet[\"Surface\"])\n",
            "<ipython-input-94-be19e985f5d6>:4: SettingWithCopyWarning: \n",
            "A value is trying to be set on a copy of a slice from a DataFrame.\n",
            "Try using .loc[row_indexer,col_indexer] = value instead\n",
            "\n",
            "See the caveats in the documentation: https://pandas.pydata.org/pandas-docs/stable/user_guide/indexing.html#returning-a-view-versus-a-copy\n",
            "  trainingSet[\"Round\"] = label_encoder.fit_transform(trainingSet[\"Round\"])\n"
          ]
        }
      ]
    },
    {
      "cell_type": "code",
      "source": [
        "label_encoder = LabelEncoder()\n",
        "label_encoder.fit(trainingSet[\"Player2\"].append(trainingSet[\"Player1\"]))\n",
        "tmp_1 = label_encoder2.transform(trainingSet[\"Player1\"])\n",
        "tmp_2 = label_encoder2.transform(trainingSet[\"Player2\"])\n",
        "trainingSet[\"Player1Code\"], trainingSet[\"Player2Code\"] = tmp_1, tmp_2"
      ],
      "metadata": {
        "colab": {
          "base_uri": "https://localhost:8080/"
        },
        "id": "wfWUjcerOJI5",
        "outputId": "5acb3ec5-973a-42de-c812-dfb710652a21"
      },
      "execution_count": 107,
      "outputs": [
        {
          "output_type": "stream",
          "name": "stderr",
          "text": [
            "<ipython-input-107-1f3382934ff7>:2: FutureWarning: The series.append method is deprecated and will be removed from pandas in a future version. Use pandas.concat instead.\n",
            "  label_encoder.fit(trainingSet[\"Player2\"].append(trainingSet[\"Player1\"]))\n",
            "<ipython-input-107-1f3382934ff7>:5: SettingWithCopyWarning: \n",
            "A value is trying to be set on a copy of a slice from a DataFrame.\n",
            "Try using .loc[row_indexer,col_indexer] = value instead\n",
            "\n",
            "See the caveats in the documentation: https://pandas.pydata.org/pandas-docs/stable/user_guide/indexing.html#returning-a-view-versus-a-copy\n",
            "  trainingSet[\"Player1Code\"], trainingSet[\"Player2Code\"] = tmp_1, tmp_2\n"
          ]
        }
      ]
    },
    {
      "cell_type": "markdown",
      "source": [
        "Mixing the player to avoid the pattern with the winner on the first columns and the loser on the second one"
      ],
      "metadata": {
        "id": "wmRDn1GlPdUD"
      }
    },
    {
      "cell_type": "code",
      "source": [
        "trainingSet"
      ],
      "metadata": {
        "colab": {
          "base_uri": "https://localhost:8080/",
          "height": 672
        },
        "id": "YNQbwwB9LAsz",
        "outputId": "402ac4d7-f971-4ffc-f972-c32933cafbf9"
      },
      "execution_count": 106,
      "outputs": [
        {
          "output_type": "execute_result",
          "data": {
            "text/plain": [
              "     Tournament  Surface  Round       Player1       Player2  Rank1  Rank2  \\\n",
              "1             0        2      0     Moutet C.         Wu Y.   62.0  114.0   \n",
              "2             0        2      0   Mcdonald M.  Nakashima B.   65.0   49.0   \n",
              "3             0        2      0    Millman J.  Huesler M.A.  140.0   51.0   \n",
              "4             0        2      0    Eubanks C.     Kwon S.W.  116.0   52.0   \n",
              "5             0        2      0  Fucsovics M.      Coria F.   78.0   76.0   \n",
              "..          ...      ...    ...           ...           ...    ...    ...   \n",
              "96            2        2      1       Mmoh M.      Isner J.   89.0  157.0   \n",
              "97            2        2      1    Arnaldi M.       Fils A.   61.0   48.0   \n",
              "98            2        2      2   Stricker D.      Bonzi B.  128.0  108.0   \n",
              "99            2        2      2   Djokovic N.      Djere L.    2.0   38.0   \n",
              "100           2        2      3     Zverev A.     Sinner J.   12.0    6.0   \n",
              "\n",
              "     Sets1  Sets2    B1     B2   PS1    PS2  target  Player1Code  Player2Code  \n",
              "1      3.0    2.0  2.38   1.57  2.40   1.65       0           64          106  \n",
              "2      3.0    2.0  2.50   1.53  2.59   1.56       0           57           68  \n",
              "3      3.0    2.0  2.20   1.67  2.25   1.72       0           59           41  \n",
              "4      3.0    2.0  2.38   1.57  2.65   1.55       0           27           51  \n",
              "5      3.0    2.0  1.14   5.50  1.17   5.96       0           31           16  \n",
              "..     ...    ...   ...    ...   ...    ...     ...          ...          ...  \n",
              "96     3.0    2.0  1.80   2.00  1.83   2.09       0           60           44  \n",
              "97     3.0    2.0  2.30   1.62  2.54   1.58       0            2           28  \n",
              "98     3.0    2.0  1.67   2.20  1.66   2.38       0           90            8  \n",
              "99     3.0    2.0  1.01  26.00  1.02  30.68       0           24           23  \n",
              "100    3.0    2.0  2.38   1.57  2.69   1.53       0          111           88  \n",
              "\n",
              "[100 rows x 16 columns]"
            ],
            "text/html": [
              "\n",
              "  <div id=\"df-a7853691-b423-4c39-b753-f183540d798f\" class=\"colab-df-container\">\n",
              "    <div>\n",
              "<style scoped>\n",
              "    .dataframe tbody tr th:only-of-type {\n",
              "        vertical-align: middle;\n",
              "    }\n",
              "\n",
              "    .dataframe tbody tr th {\n",
              "        vertical-align: top;\n",
              "    }\n",
              "\n",
              "    .dataframe thead th {\n",
              "        text-align: right;\n",
              "    }\n",
              "</style>\n",
              "<table border=\"1\" class=\"dataframe\">\n",
              "  <thead>\n",
              "    <tr style=\"text-align: right;\">\n",
              "      <th></th>\n",
              "      <th>Tournament</th>\n",
              "      <th>Surface</th>\n",
              "      <th>Round</th>\n",
              "      <th>Player1</th>\n",
              "      <th>Player2</th>\n",
              "      <th>Rank1</th>\n",
              "      <th>Rank2</th>\n",
              "      <th>Sets1</th>\n",
              "      <th>Sets2</th>\n",
              "      <th>B1</th>\n",
              "      <th>B2</th>\n",
              "      <th>PS1</th>\n",
              "      <th>PS2</th>\n",
              "      <th>target</th>\n",
              "      <th>Player1Code</th>\n",
              "      <th>Player2Code</th>\n",
              "    </tr>\n",
              "  </thead>\n",
              "  <tbody>\n",
              "    <tr>\n",
              "      <th>1</th>\n",
              "      <td>0</td>\n",
              "      <td>2</td>\n",
              "      <td>0</td>\n",
              "      <td>Moutet C.</td>\n",
              "      <td>Wu Y.</td>\n",
              "      <td>62.0</td>\n",
              "      <td>114.0</td>\n",
              "      <td>3.0</td>\n",
              "      <td>2.0</td>\n",
              "      <td>2.38</td>\n",
              "      <td>1.57</td>\n",
              "      <td>2.40</td>\n",
              "      <td>1.65</td>\n",
              "      <td>0</td>\n",
              "      <td>64</td>\n",
              "      <td>106</td>\n",
              "    </tr>\n",
              "    <tr>\n",
              "      <th>2</th>\n",
              "      <td>0</td>\n",
              "      <td>2</td>\n",
              "      <td>0</td>\n",
              "      <td>Mcdonald M.</td>\n",
              "      <td>Nakashima B.</td>\n",
              "      <td>65.0</td>\n",
              "      <td>49.0</td>\n",
              "      <td>3.0</td>\n",
              "      <td>2.0</td>\n",
              "      <td>2.50</td>\n",
              "      <td>1.53</td>\n",
              "      <td>2.59</td>\n",
              "      <td>1.56</td>\n",
              "      <td>0</td>\n",
              "      <td>57</td>\n",
              "      <td>68</td>\n",
              "    </tr>\n",
              "    <tr>\n",
              "      <th>3</th>\n",
              "      <td>0</td>\n",
              "      <td>2</td>\n",
              "      <td>0</td>\n",
              "      <td>Millman J.</td>\n",
              "      <td>Huesler M.A.</td>\n",
              "      <td>140.0</td>\n",
              "      <td>51.0</td>\n",
              "      <td>3.0</td>\n",
              "      <td>2.0</td>\n",
              "      <td>2.20</td>\n",
              "      <td>1.67</td>\n",
              "      <td>2.25</td>\n",
              "      <td>1.72</td>\n",
              "      <td>0</td>\n",
              "      <td>59</td>\n",
              "      <td>41</td>\n",
              "    </tr>\n",
              "    <tr>\n",
              "      <th>4</th>\n",
              "      <td>0</td>\n",
              "      <td>2</td>\n",
              "      <td>0</td>\n",
              "      <td>Eubanks C.</td>\n",
              "      <td>Kwon S.W.</td>\n",
              "      <td>116.0</td>\n",
              "      <td>52.0</td>\n",
              "      <td>3.0</td>\n",
              "      <td>2.0</td>\n",
              "      <td>2.38</td>\n",
              "      <td>1.57</td>\n",
              "      <td>2.65</td>\n",
              "      <td>1.55</td>\n",
              "      <td>0</td>\n",
              "      <td>27</td>\n",
              "      <td>51</td>\n",
              "    </tr>\n",
              "    <tr>\n",
              "      <th>5</th>\n",
              "      <td>0</td>\n",
              "      <td>2</td>\n",
              "      <td>0</td>\n",
              "      <td>Fucsovics M.</td>\n",
              "      <td>Coria F.</td>\n",
              "      <td>78.0</td>\n",
              "      <td>76.0</td>\n",
              "      <td>3.0</td>\n",
              "      <td>2.0</td>\n",
              "      <td>1.14</td>\n",
              "      <td>5.50</td>\n",
              "      <td>1.17</td>\n",
              "      <td>5.96</td>\n",
              "      <td>0</td>\n",
              "      <td>31</td>\n",
              "      <td>16</td>\n",
              "    </tr>\n",
              "    <tr>\n",
              "      <th>...</th>\n",
              "      <td>...</td>\n",
              "      <td>...</td>\n",
              "      <td>...</td>\n",
              "      <td>...</td>\n",
              "      <td>...</td>\n",
              "      <td>...</td>\n",
              "      <td>...</td>\n",
              "      <td>...</td>\n",
              "      <td>...</td>\n",
              "      <td>...</td>\n",
              "      <td>...</td>\n",
              "      <td>...</td>\n",
              "      <td>...</td>\n",
              "      <td>...</td>\n",
              "      <td>...</td>\n",
              "      <td>...</td>\n",
              "    </tr>\n",
              "    <tr>\n",
              "      <th>96</th>\n",
              "      <td>2</td>\n",
              "      <td>2</td>\n",
              "      <td>1</td>\n",
              "      <td>Mmoh M.</td>\n",
              "      <td>Isner J.</td>\n",
              "      <td>89.0</td>\n",
              "      <td>157.0</td>\n",
              "      <td>3.0</td>\n",
              "      <td>2.0</td>\n",
              "      <td>1.80</td>\n",
              "      <td>2.00</td>\n",
              "      <td>1.83</td>\n",
              "      <td>2.09</td>\n",
              "      <td>0</td>\n",
              "      <td>60</td>\n",
              "      <td>44</td>\n",
              "    </tr>\n",
              "    <tr>\n",
              "      <th>97</th>\n",
              "      <td>2</td>\n",
              "      <td>2</td>\n",
              "      <td>1</td>\n",
              "      <td>Arnaldi M.</td>\n",
              "      <td>Fils A.</td>\n",
              "      <td>61.0</td>\n",
              "      <td>48.0</td>\n",
              "      <td>3.0</td>\n",
              "      <td>2.0</td>\n",
              "      <td>2.30</td>\n",
              "      <td>1.62</td>\n",
              "      <td>2.54</td>\n",
              "      <td>1.58</td>\n",
              "      <td>0</td>\n",
              "      <td>2</td>\n",
              "      <td>28</td>\n",
              "    </tr>\n",
              "    <tr>\n",
              "      <th>98</th>\n",
              "      <td>2</td>\n",
              "      <td>2</td>\n",
              "      <td>2</td>\n",
              "      <td>Stricker D.</td>\n",
              "      <td>Bonzi B.</td>\n",
              "      <td>128.0</td>\n",
              "      <td>108.0</td>\n",
              "      <td>3.0</td>\n",
              "      <td>2.0</td>\n",
              "      <td>1.67</td>\n",
              "      <td>2.20</td>\n",
              "      <td>1.66</td>\n",
              "      <td>2.38</td>\n",
              "      <td>0</td>\n",
              "      <td>90</td>\n",
              "      <td>8</td>\n",
              "    </tr>\n",
              "    <tr>\n",
              "      <th>99</th>\n",
              "      <td>2</td>\n",
              "      <td>2</td>\n",
              "      <td>2</td>\n",
              "      <td>Djokovic N.</td>\n",
              "      <td>Djere L.</td>\n",
              "      <td>2.0</td>\n",
              "      <td>38.0</td>\n",
              "      <td>3.0</td>\n",
              "      <td>2.0</td>\n",
              "      <td>1.01</td>\n",
              "      <td>26.00</td>\n",
              "      <td>1.02</td>\n",
              "      <td>30.68</td>\n",
              "      <td>0</td>\n",
              "      <td>24</td>\n",
              "      <td>23</td>\n",
              "    </tr>\n",
              "    <tr>\n",
              "      <th>100</th>\n",
              "      <td>2</td>\n",
              "      <td>2</td>\n",
              "      <td>3</td>\n",
              "      <td>Zverev A.</td>\n",
              "      <td>Sinner J.</td>\n",
              "      <td>12.0</td>\n",
              "      <td>6.0</td>\n",
              "      <td>3.0</td>\n",
              "      <td>2.0</td>\n",
              "      <td>2.38</td>\n",
              "      <td>1.57</td>\n",
              "      <td>2.69</td>\n",
              "      <td>1.53</td>\n",
              "      <td>0</td>\n",
              "      <td>111</td>\n",
              "      <td>88</td>\n",
              "    </tr>\n",
              "  </tbody>\n",
              "</table>\n",
              "<p>100 rows × 16 columns</p>\n",
              "</div>\n",
              "    <div class=\"colab-df-buttons\">\n",
              "\n",
              "  <div class=\"colab-df-container\">\n",
              "    <button class=\"colab-df-convert\" onclick=\"convertToInteractive('df-a7853691-b423-4c39-b753-f183540d798f')\"\n",
              "            title=\"Convert this dataframe to an interactive table.\"\n",
              "            style=\"display:none;\">\n",
              "\n",
              "  <svg xmlns=\"http://www.w3.org/2000/svg\" height=\"24px\" viewBox=\"0 -960 960 960\">\n",
              "    <path d=\"M120-120v-720h720v720H120Zm60-500h600v-160H180v160Zm220 220h160v-160H400v160Zm0 220h160v-160H400v160ZM180-400h160v-160H180v160Zm440 0h160v-160H620v160ZM180-180h160v-160H180v160Zm440 0h160v-160H620v160Z\"/>\n",
              "  </svg>\n",
              "    </button>\n",
              "\n",
              "  <style>\n",
              "    .colab-df-container {\n",
              "      display:flex;\n",
              "      gap: 12px;\n",
              "    }\n",
              "\n",
              "    .colab-df-convert {\n",
              "      background-color: #E8F0FE;\n",
              "      border: none;\n",
              "      border-radius: 50%;\n",
              "      cursor: pointer;\n",
              "      display: none;\n",
              "      fill: #1967D2;\n",
              "      height: 32px;\n",
              "      padding: 0 0 0 0;\n",
              "      width: 32px;\n",
              "    }\n",
              "\n",
              "    .colab-df-convert:hover {\n",
              "      background-color: #E2EBFA;\n",
              "      box-shadow: 0px 1px 2px rgba(60, 64, 67, 0.3), 0px 1px 3px 1px rgba(60, 64, 67, 0.15);\n",
              "      fill: #174EA6;\n",
              "    }\n",
              "\n",
              "    .colab-df-buttons div {\n",
              "      margin-bottom: 4px;\n",
              "    }\n",
              "\n",
              "    [theme=dark] .colab-df-convert {\n",
              "      background-color: #3B4455;\n",
              "      fill: #D2E3FC;\n",
              "    }\n",
              "\n",
              "    [theme=dark] .colab-df-convert:hover {\n",
              "      background-color: #434B5C;\n",
              "      box-shadow: 0px 1px 3px 1px rgba(0, 0, 0, 0.15);\n",
              "      filter: drop-shadow(0px 1px 2px rgba(0, 0, 0, 0.3));\n",
              "      fill: #FFFFFF;\n",
              "    }\n",
              "  </style>\n",
              "\n",
              "    <script>\n",
              "      const buttonEl =\n",
              "        document.querySelector('#df-a7853691-b423-4c39-b753-f183540d798f button.colab-df-convert');\n",
              "      buttonEl.style.display =\n",
              "        google.colab.kernel.accessAllowed ? 'block' : 'none';\n",
              "\n",
              "      async function convertToInteractive(key) {\n",
              "        const element = document.querySelector('#df-a7853691-b423-4c39-b753-f183540d798f');\n",
              "        const dataTable =\n",
              "          await google.colab.kernel.invokeFunction('convertToInteractive',\n",
              "                                                    [key], {});\n",
              "        if (!dataTable) return;\n",
              "\n",
              "        const docLinkHtml = 'Like what you see? Visit the ' +\n",
              "          '<a target=\"_blank\" href=https://colab.research.google.com/notebooks/data_table.ipynb>data table notebook</a>'\n",
              "          + ' to learn more about interactive tables.';\n",
              "        element.innerHTML = '';\n",
              "        dataTable['output_type'] = 'display_data';\n",
              "        await google.colab.output.renderOutput(dataTable, element);\n",
              "        const docLink = document.createElement('div');\n",
              "        docLink.innerHTML = docLinkHtml;\n",
              "        element.appendChild(docLink);\n",
              "      }\n",
              "    </script>\n",
              "  </div>\n",
              "\n",
              "\n",
              "<div id=\"df-15bee6b0-146b-4c76-84ae-7c8a4925a2f9\">\n",
              "  <button class=\"colab-df-quickchart\" onclick=\"quickchart('df-15bee6b0-146b-4c76-84ae-7c8a4925a2f9')\"\n",
              "            title=\"Suggest charts\"\n",
              "            style=\"display:none;\">\n",
              "\n",
              "<svg xmlns=\"http://www.w3.org/2000/svg\" height=\"24px\"viewBox=\"0 0 24 24\"\n",
              "     width=\"24px\">\n",
              "    <g>\n",
              "        <path d=\"M19 3H5c-1.1 0-2 .9-2 2v14c0 1.1.9 2 2 2h14c1.1 0 2-.9 2-2V5c0-1.1-.9-2-2-2zM9 17H7v-7h2v7zm4 0h-2V7h2v10zm4 0h-2v-4h2v4z\"/>\n",
              "    </g>\n",
              "</svg>\n",
              "  </button>\n",
              "\n",
              "<style>\n",
              "  .colab-df-quickchart {\n",
              "      --bg-color: #E8F0FE;\n",
              "      --fill-color: #1967D2;\n",
              "      --hover-bg-color: #E2EBFA;\n",
              "      --hover-fill-color: #174EA6;\n",
              "      --disabled-fill-color: #AAA;\n",
              "      --disabled-bg-color: #DDD;\n",
              "  }\n",
              "\n",
              "  [theme=dark] .colab-df-quickchart {\n",
              "      --bg-color: #3B4455;\n",
              "      --fill-color: #D2E3FC;\n",
              "      --hover-bg-color: #434B5C;\n",
              "      --hover-fill-color: #FFFFFF;\n",
              "      --disabled-bg-color: #3B4455;\n",
              "      --disabled-fill-color: #666;\n",
              "  }\n",
              "\n",
              "  .colab-df-quickchart {\n",
              "    background-color: var(--bg-color);\n",
              "    border: none;\n",
              "    border-radius: 50%;\n",
              "    cursor: pointer;\n",
              "    display: none;\n",
              "    fill: var(--fill-color);\n",
              "    height: 32px;\n",
              "    padding: 0;\n",
              "    width: 32px;\n",
              "  }\n",
              "\n",
              "  .colab-df-quickchart:hover {\n",
              "    background-color: var(--hover-bg-color);\n",
              "    box-shadow: 0 1px 2px rgba(60, 64, 67, 0.3), 0 1px 3px 1px rgba(60, 64, 67, 0.15);\n",
              "    fill: var(--button-hover-fill-color);\n",
              "  }\n",
              "\n",
              "  .colab-df-quickchart-complete:disabled,\n",
              "  .colab-df-quickchart-complete:disabled:hover {\n",
              "    background-color: var(--disabled-bg-color);\n",
              "    fill: var(--disabled-fill-color);\n",
              "    box-shadow: none;\n",
              "  }\n",
              "\n",
              "  .colab-df-spinner {\n",
              "    border: 2px solid var(--fill-color);\n",
              "    border-color: transparent;\n",
              "    border-bottom-color: var(--fill-color);\n",
              "    animation:\n",
              "      spin 1s steps(1) infinite;\n",
              "  }\n",
              "\n",
              "  @keyframes spin {\n",
              "    0% {\n",
              "      border-color: transparent;\n",
              "      border-bottom-color: var(--fill-color);\n",
              "      border-left-color: var(--fill-color);\n",
              "    }\n",
              "    20% {\n",
              "      border-color: transparent;\n",
              "      border-left-color: var(--fill-color);\n",
              "      border-top-color: var(--fill-color);\n",
              "    }\n",
              "    30% {\n",
              "      border-color: transparent;\n",
              "      border-left-color: var(--fill-color);\n",
              "      border-top-color: var(--fill-color);\n",
              "      border-right-color: var(--fill-color);\n",
              "    }\n",
              "    40% {\n",
              "      border-color: transparent;\n",
              "      border-right-color: var(--fill-color);\n",
              "      border-top-color: var(--fill-color);\n",
              "    }\n",
              "    60% {\n",
              "      border-color: transparent;\n",
              "      border-right-color: var(--fill-color);\n",
              "    }\n",
              "    80% {\n",
              "      border-color: transparent;\n",
              "      border-right-color: var(--fill-color);\n",
              "      border-bottom-color: var(--fill-color);\n",
              "    }\n",
              "    90% {\n",
              "      border-color: transparent;\n",
              "      border-bottom-color: var(--fill-color);\n",
              "    }\n",
              "  }\n",
              "</style>\n",
              "\n",
              "  <script>\n",
              "    async function quickchart(key) {\n",
              "      const quickchartButtonEl =\n",
              "        document.querySelector('#' + key + ' button');\n",
              "      quickchartButtonEl.disabled = true;  // To prevent multiple clicks.\n",
              "      quickchartButtonEl.classList.add('colab-df-spinner');\n",
              "      try {\n",
              "        const charts = await google.colab.kernel.invokeFunction(\n",
              "            'suggestCharts', [key], {});\n",
              "      } catch (error) {\n",
              "        console.error('Error during call to suggestCharts:', error);\n",
              "      }\n",
              "      quickchartButtonEl.classList.remove('colab-df-spinner');\n",
              "      quickchartButtonEl.classList.add('colab-df-quickchart-complete');\n",
              "    }\n",
              "    (() => {\n",
              "      let quickchartButtonEl =\n",
              "        document.querySelector('#df-15bee6b0-146b-4c76-84ae-7c8a4925a2f9 button');\n",
              "      quickchartButtonEl.style.display =\n",
              "        google.colab.kernel.accessAllowed ? 'block' : 'none';\n",
              "    })();\n",
              "  </script>\n",
              "</div>\n",
              "    </div>\n",
              "  </div>\n"
            ]
          },
          "metadata": {},
          "execution_count": 106
        }
      ]
    },
    {
      "cell_type": "code",
      "source": [
        "swap_rows = trainingSet.index[::2]\n",
        "\n",
        "df_swapped = trainingSet.loc[swap_rows]\n",
        "df_swapped['Player1Code'], df_swapped['Player2Code'] = df_swapped['Player2Code'], df_swapped['Player1Code']\n",
        "df_swapped['target'] = 1\n",
        "df_swapped['Rank1'], df_swapped['Rank2'] = df_swapped['Rank2'], df_swapped['Rank1']\n",
        "df_swapped['Sets1'], df_swapped['Sets2'] = df_swapped['Sets2'], df_swapped['Sets1']\n",
        "df_swapped['B1'], df_swapped['B2'] = df_swapped['B2'], df_swapped['B1']\n",
        "df_swapped['PS1'], df_swapped['PS2'] = df_swapped['PS2'], df_swapped['PS1']\n",
        "\n",
        "trainingSet = pd.concat([trainingSet.loc[~trainingSet.index.isin(swap_rows)], df_swapped])"
      ],
      "metadata": {
        "id": "0NUGPyS-LHNX"
      },
      "execution_count": 108,
      "outputs": []
    },
    {
      "cell_type": "code",
      "source": [
        "trainingSet = trainingSet.drop([\"Player1\", \"Player2\"], axis=1)"
      ],
      "metadata": {
        "id": "MLcgGAt2U2XN"
      },
      "execution_count": 109,
      "outputs": []
    },
    {
      "cell_type": "markdown",
      "source": [
        "Scaling and splitting the data and rename the data set"
      ],
      "metadata": {
        "id": "xz0MLFEAUbzL"
      }
    },
    {
      "cell_type": "code",
      "source": [
        "trainingSet = shuffle(trainingSet)"
      ],
      "metadata": {
        "id": "sITOQbj7Y3D-"
      },
      "execution_count": 138,
      "outputs": []
    },
    {
      "cell_type": "code",
      "source": [
        "X_train = trainingSet[trainingSet[\"Tournament\"] != 3]\n",
        "X_test = trainingSet[trainingSet[\"Tournament\"] == 3]"
      ],
      "metadata": {
        "id": "sjj5sibHYPYv"
      },
      "execution_count": 139,
      "outputs": []
    },
    {
      "cell_type": "code",
      "source": [
        "y_train = X_train[\"target\"]\n",
        "y_test = X_test[\"target\"]"
      ],
      "metadata": {
        "id": "EcSQSCApYTgT"
      },
      "execution_count": 140,
      "outputs": []
    },
    {
      "cell_type": "code",
      "source": [
        "X_train = X_train.drop(columns=[\"target\"])\n",
        "X_test = X_test.drop(columns=[\"target\"])"
      ],
      "metadata": {
        "id": "4B0837eUZxTQ"
      },
      "execution_count": 141,
      "outputs": []
    },
    {
      "cell_type": "code",
      "source": [
        "standardScaler = StandardScaler()\n",
        "X_train = pd.DataFrame(standardScaler.fit_transform(X_train), columns = X_train.columns)\n",
        "X_test = pd.DataFrame(standardScaler.fit_transform(X_test), columns = X_test.columns)"
      ],
      "metadata": {
        "id": "M1uzxlaaFnbf"
      },
      "execution_count": 142,
      "outputs": []
    },
    {
      "cell_type": "code",
      "source": [
        "y_train = keras.utils.to_categorical(y_train)\n",
        "y_test = keras.utils.to_categorical(y_test)"
      ],
      "metadata": {
        "id": "mcKsWxstggzs"
      },
      "execution_count": 143,
      "outputs": []
    },
    {
      "cell_type": "markdown",
      "source": [
        "Creating the neural network model"
      ],
      "metadata": {
        "id": "_nB6HvFka5Hm"
      }
    },
    {
      "cell_type": "code",
      "source": [
        "model = Sequential([\n",
        "    Dense(units=56, input_shape=(13,), activation='relu'),\n",
        "    Dense(units=112, activation='relu'),\n",
        "    Dense(units=2, activation='softmax')\n",
        "])"
      ],
      "metadata": {
        "id": "IUYlsiX4Qlmn"
      },
      "execution_count": 155,
      "outputs": []
    },
    {
      "cell_type": "code",
      "source": [
        "model.compile(loss='categorical_crossentropy', optimizer='adam', metrics=['accuracy'])"
      ],
      "metadata": {
        "id": "l3O6wMoGavx8"
      },
      "execution_count": 156,
      "outputs": []
    },
    {
      "cell_type": "code",
      "source": [
        "model.fit(x=X_train, y=y_train, epochs=10, batch_size=50, verbose=1, validation_split=0.1)"
      ],
      "metadata": {
        "colab": {
          "base_uri": "https://localhost:8080/"
        },
        "id": "zsB03-YPbidM",
        "outputId": "d1f1c2d2-6c08-49c2-9fb2-a70a135e78ab"
      },
      "execution_count": 157,
      "outputs": [
        {
          "output_type": "stream",
          "name": "stdout",
          "text": [
            "Epoch 1/10\n",
            "2/2 [==============================] - 2s 224ms/step - loss: 0.7692 - accuracy: 0.3662 - val_loss: 0.6477 - val_accuracy: 0.5000\n",
            "Epoch 2/10\n",
            "2/2 [==============================] - 0s 55ms/step - loss: 0.6991 - accuracy: 0.5070 - val_loss: 0.5901 - val_accuracy: 0.7500\n",
            "Epoch 3/10\n",
            "2/2 [==============================] - 0s 40ms/step - loss: 0.6411 - accuracy: 0.6761 - val_loss: 0.5376 - val_accuracy: 0.8750\n",
            "Epoch 4/10\n",
            "2/2 [==============================] - 0s 35ms/step - loss: 0.5860 - accuracy: 0.7606 - val_loss: 0.4934 - val_accuracy: 1.0000\n",
            "Epoch 5/10\n",
            "2/2 [==============================] - 0s 54ms/step - loss: 0.5372 - accuracy: 0.8873 - val_loss: 0.4551 - val_accuracy: 1.0000\n",
            "Epoch 6/10\n",
            "2/2 [==============================] - 0s 39ms/step - loss: 0.4896 - accuracy: 0.9577 - val_loss: 0.4209 - val_accuracy: 1.0000\n",
            "Epoch 7/10\n",
            "2/2 [==============================] - 0s 55ms/step - loss: 0.4461 - accuracy: 0.9577 - val_loss: 0.3891 - val_accuracy: 1.0000\n",
            "Epoch 8/10\n",
            "2/2 [==============================] - 0s 36ms/step - loss: 0.4036 - accuracy: 1.0000 - val_loss: 0.3587 - val_accuracy: 1.0000\n",
            "Epoch 9/10\n",
            "2/2 [==============================] - 0s 56ms/step - loss: 0.3643 - accuracy: 1.0000 - val_loss: 0.3294 - val_accuracy: 1.0000\n",
            "Epoch 10/10\n",
            "2/2 [==============================] - 0s 35ms/step - loss: 0.3277 - accuracy: 1.0000 - val_loss: 0.3025 - val_accuracy: 1.0000\n"
          ]
        },
        {
          "output_type": "execute_result",
          "data": {
            "text/plain": [
              "<keras.src.callbacks.History at 0x7cc869d13e50>"
            ]
          },
          "metadata": {},
          "execution_count": 157
        }
      ]
    },
    {
      "cell_type": "code",
      "source": [
        "y_pred = model.predict(X_test)\n",
        "for i in range(y_pred.shape[0]):\n",
        "  value = y_pred[i]\n",
        "  if (value[0]>value[1]):\n",
        "    y_pred[i] = [1,0]\n",
        "  else:\n",
        "    y_pred[i] = [0,1]"
      ],
      "metadata": {
        "colab": {
          "base_uri": "https://localhost:8080/"
        },
        "id": "XaYEbGndQ9uw",
        "outputId": "0399f5a2-7f43-44a0-b284-f5fc667d8696"
      },
      "execution_count": 173,
      "outputs": [
        {
          "output_type": "stream",
          "name": "stdout",
          "text": [
            "1/1 [==============================] - 0s 58ms/step\n"
          ]
        }
      ]
    },
    {
      "cell_type": "code",
      "source": [
        "y_pred"
      ],
      "metadata": {
        "colab": {
          "base_uri": "https://localhost:8080/"
        },
        "id": "XulcvzY-Zkzk",
        "outputId": "ffa34b33-34da-40b9-974e-4d761023ce9a"
      },
      "execution_count": 175,
      "outputs": [
        {
          "output_type": "execute_result",
          "data": {
            "text/plain": [
              "array([[0., 1.],\n",
              "       [1., 0.],\n",
              "       [1., 0.],\n",
              "       [1., 0.],\n",
              "       [1., 0.],\n",
              "       [0., 1.],\n",
              "       [1., 0.],\n",
              "       [0., 1.],\n",
              "       [0., 1.],\n",
              "       [1., 0.],\n",
              "       [0., 1.],\n",
              "       [1., 0.],\n",
              "       [0., 1.],\n",
              "       [0., 1.],\n",
              "       [1., 0.],\n",
              "       [1., 0.],\n",
              "       [0., 1.],\n",
              "       [1., 0.],\n",
              "       [1., 0.],\n",
              "       [0., 1.],\n",
              "       [0., 1.]], dtype=float32)"
            ]
          },
          "metadata": {},
          "execution_count": 175
        }
      ]
    },
    {
      "cell_type": "code",
      "source": [
        "score = model.evaluate(X_test, y_test, verbose=0)\n",
        "print('Test loss:', score[0])\n",
        "print('Test accuracy:', score[1])"
      ],
      "metadata": {
        "colab": {
          "base_uri": "https://localhost:8080/"
        },
        "id": "enpN9QTkR53C",
        "outputId": "154da189-903c-4cbc-b04c-f9946509b25d"
      },
      "execution_count": 169,
      "outputs": [
        {
          "output_type": "stream",
          "name": "stdout",
          "text": [
            "Test loss: 0.3062339127063751\n",
            "Test accuracy: 1.0\n"
          ]
        }
      ]
    },
    {
      "cell_type": "code",
      "source": [
        "score\n",
        "print('Test loss:', score[0])\n",
        "print('Test accuracy:', score[1])"
      ],
      "metadata": {
        "colab": {
          "base_uri": "https://localhost:8080/"
        },
        "id": "BJwJF4JuVMVR",
        "outputId": "e708aab2-304c-4acd-eda6-a4dc21f1e3a5"
      },
      "execution_count": 167,
      "outputs": [
        {
          "output_type": "stream",
          "name": "stdout",
          "text": [
            "Test loss: 0.3062339127063751\n",
            "Test accuracy: 1.0\n"
          ]
        }
      ]
    },
    {
      "cell_type": "code",
      "source": [
        "y_pred"
      ],
      "metadata": {
        "colab": {
          "base_uri": "https://localhost:8080/"
        },
        "id": "WRTsA3c0RCeU",
        "outputId": "715405ef-1590-45de-b93a-b2999b797c90"
      },
      "execution_count": 159,
      "outputs": [
        {
          "output_type": "execute_result",
          "data": {
            "text/plain": [
              "array([[0.16106312, 0.83893687],\n",
              "       [0.67744184, 0.3225582 ],\n",
              "       [0.74972147, 0.2502786 ],\n",
              "       [0.72172314, 0.27827692],\n",
              "       [0.6110218 , 0.3889781 ],\n",
              "       [0.29502207, 0.7049779 ],\n",
              "       [0.74382514, 0.25617495],\n",
              "       [0.25343183, 0.7465681 ],\n",
              "       [0.12776946, 0.8722306 ],\n",
              "       [0.6802719 , 0.3197281 ],\n",
              "       [0.18105935, 0.81894064],\n",
              "       [0.7498928 , 0.25010726],\n",
              "       [0.26741812, 0.7325819 ],\n",
              "       [0.1923177 , 0.80768234],\n",
              "       [0.7170374 , 0.28296265],\n",
              "       [0.68230945, 0.31769064],\n",
              "       [0.36372787, 0.63627213],\n",
              "       [0.81404054, 0.1859595 ],\n",
              "       [0.6864638 , 0.31353617],\n",
              "       [0.18305448, 0.8169455 ],\n",
              "       [0.28523847, 0.71476156]], dtype=float32)"
            ]
          },
          "metadata": {},
          "execution_count": 159
        }
      ]
    },
    {
      "cell_type": "code",
      "source": [
        "testTarget"
      ],
      "metadata": {
        "colab": {
          "base_uri": "https://localhost:8080/"
        },
        "id": "kj_fT3YdRLs1",
        "outputId": "2e60e41c-9eed-458a-828a-f5aadc56bdcc"
      },
      "execution_count": 125,
      "outputs": [
        {
          "output_type": "execute_result",
          "data": {
            "text/plain": [
              "array([[0., 1.],\n",
              "       [0., 1.],\n",
              "       [1., 0.],\n",
              "       [1., 0.],\n",
              "       [1., 0.],\n",
              "       [0., 1.],\n",
              "       [1., 0.],\n",
              "       [0., 1.],\n",
              "       [1., 0.],\n",
              "       [1., 0.],\n",
              "       [0., 1.],\n",
              "       [1., 0.],\n",
              "       [0., 1.],\n",
              "       [0., 1.],\n",
              "       [1., 0.],\n",
              "       [0., 1.],\n",
              "       [1., 0.],\n",
              "       [1., 0.],\n",
              "       [0., 1.],\n",
              "       [1., 0.],\n",
              "       [0., 1.]], dtype=float32)"
            ]
          },
          "metadata": {},
          "execution_count": 125
        }
      ]
    },
    {
      "cell_type": "code",
      "source": [],
      "metadata": {
        "id": "2eqPVOQhb16A"
      },
      "execution_count": null,
      "outputs": []
    },
    {
      "cell_type": "code",
      "source": [
        "cm = confusion_matrix(y_test, y_pred)\n",
        "\n",
        "print(\"Confusion matrix:\\n\", cm)\n",
        "print(\"\\nAccuracy:\", cm.diagonal().sum() / cm.sum())"
      ],
      "metadata": {
        "id": "CdBCxky0cFdf",
        "colab": {
          "base_uri": "https://localhost:8080/",
          "height": 344
        },
        "outputId": "69138df7-7a4b-4bb6-cd8c-4c14241f8c47"
      },
      "execution_count": 176,
      "outputs": [
        {
          "output_type": "error",
          "ename": "ValueError",
          "evalue": "multilabel-indicator is not supported",
          "traceback": [
            "\u001b[0;31m---------------------------------------------------------------------------\u001b[0m",
            "\u001b[0;31mValueError\u001b[0m                                Traceback (most recent call last)",
            "\u001b[0;32m<ipython-input-176-3a591c59000c>\u001b[0m in \u001b[0;36m<cell line: 1>\u001b[0;34m()\u001b[0m\n\u001b[0;32m----> 1\u001b[0;31m \u001b[0mcm\u001b[0m \u001b[0;34m=\u001b[0m \u001b[0mconfusion_matrix\u001b[0m\u001b[0;34m(\u001b[0m\u001b[0my_test\u001b[0m\u001b[0;34m,\u001b[0m \u001b[0my_pred\u001b[0m\u001b[0;34m)\u001b[0m\u001b[0;34m\u001b[0m\u001b[0;34m\u001b[0m\u001b[0m\n\u001b[0m\u001b[1;32m      2\u001b[0m \u001b[0;34m\u001b[0m\u001b[0m\n\u001b[1;32m      3\u001b[0m \u001b[0mprint\u001b[0m\u001b[0;34m(\u001b[0m\u001b[0;34m\"Confusion matrix:\\n\"\u001b[0m\u001b[0;34m,\u001b[0m \u001b[0mcm\u001b[0m\u001b[0;34m)\u001b[0m\u001b[0;34m\u001b[0m\u001b[0;34m\u001b[0m\u001b[0m\n\u001b[1;32m      4\u001b[0m \u001b[0mprint\u001b[0m\u001b[0;34m(\u001b[0m\u001b[0;34m\"\\nAccuracy:\"\u001b[0m\u001b[0;34m,\u001b[0m \u001b[0mcm\u001b[0m\u001b[0;34m.\u001b[0m\u001b[0mdiagonal\u001b[0m\u001b[0;34m(\u001b[0m\u001b[0;34m)\u001b[0m\u001b[0;34m.\u001b[0m\u001b[0msum\u001b[0m\u001b[0;34m(\u001b[0m\u001b[0;34m)\u001b[0m \u001b[0;34m/\u001b[0m \u001b[0mcm\u001b[0m\u001b[0;34m.\u001b[0m\u001b[0msum\u001b[0m\u001b[0;34m(\u001b[0m\u001b[0;34m)\u001b[0m\u001b[0;34m)\u001b[0m\u001b[0;34m\u001b[0m\u001b[0;34m\u001b[0m\u001b[0m\n",
            "\u001b[0;32m/usr/local/lib/python3.10/dist-packages/sklearn/metrics/_classification.py\u001b[0m in \u001b[0;36mconfusion_matrix\u001b[0;34m(y_true, y_pred, labels, sample_weight, normalize)\u001b[0m\n\u001b[1;32m    317\u001b[0m     \u001b[0my_type\u001b[0m\u001b[0;34m,\u001b[0m \u001b[0my_true\u001b[0m\u001b[0;34m,\u001b[0m \u001b[0my_pred\u001b[0m \u001b[0;34m=\u001b[0m \u001b[0m_check_targets\u001b[0m\u001b[0;34m(\u001b[0m\u001b[0my_true\u001b[0m\u001b[0;34m,\u001b[0m \u001b[0my_pred\u001b[0m\u001b[0;34m)\u001b[0m\u001b[0;34m\u001b[0m\u001b[0;34m\u001b[0m\u001b[0m\n\u001b[1;32m    318\u001b[0m     \u001b[0;32mif\u001b[0m \u001b[0my_type\u001b[0m \u001b[0;32mnot\u001b[0m \u001b[0;32min\u001b[0m \u001b[0;34m(\u001b[0m\u001b[0;34m\"binary\"\u001b[0m\u001b[0;34m,\u001b[0m \u001b[0;34m\"multiclass\"\u001b[0m\u001b[0;34m)\u001b[0m\u001b[0;34m:\u001b[0m\u001b[0;34m\u001b[0m\u001b[0;34m\u001b[0m\u001b[0m\n\u001b[0;32m--> 319\u001b[0;31m         \u001b[0;32mraise\u001b[0m \u001b[0mValueError\u001b[0m\u001b[0;34m(\u001b[0m\u001b[0;34m\"%s is not supported\"\u001b[0m \u001b[0;34m%\u001b[0m \u001b[0my_type\u001b[0m\u001b[0;34m)\u001b[0m\u001b[0;34m\u001b[0m\u001b[0;34m\u001b[0m\u001b[0m\n\u001b[0m\u001b[1;32m    320\u001b[0m \u001b[0;34m\u001b[0m\u001b[0m\n\u001b[1;32m    321\u001b[0m     \u001b[0;32mif\u001b[0m \u001b[0mlabels\u001b[0m \u001b[0;32mis\u001b[0m \u001b[0;32mNone\u001b[0m\u001b[0;34m:\u001b[0m\u001b[0;34m\u001b[0m\u001b[0;34m\u001b[0m\u001b[0m\n",
            "\u001b[0;31mValueError\u001b[0m: multilabel-indicator is not supported"
          ]
        }
      ]
    },
    {
      "cell_type": "code",
      "source": [],
      "metadata": {
        "colab": {
          "base_uri": "https://localhost:8080/"
        },
        "id": "8gUM3OnLWDMv",
        "outputId": "141ab590-e8c2-43a7-8cd6-2499a0532973"
      },
      "execution_count": 166,
      "outputs": [
        {
          "output_type": "execute_result",
          "data": {
            "text/plain": [
              "array([0., 1.], dtype=float32)"
            ]
          },
          "metadata": {},
          "execution_count": 166
        }
      ]
    },
    {
      "cell_type": "code",
      "source": [],
      "metadata": {
        "id": "dcwhK4INWKFH"
      },
      "execution_count": null,
      "outputs": []
    }
  ]
}